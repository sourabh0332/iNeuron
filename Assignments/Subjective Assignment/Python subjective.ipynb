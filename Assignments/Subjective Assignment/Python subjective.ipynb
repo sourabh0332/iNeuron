{
 "cells": [
  {
   "cell_type": "markdown",
   "metadata": {},
   "source": [
    "# Practice subjective questions\n",
    "Due date: 15th December 2019"
   ]
  },
  {
   "cell_type": "markdown",
   "metadata": {},
   "source": [
    "__Question 1:__<br>\n",
    "Write a Python program to get the string from the given string where all the occurrence of its first char has been changed to '$,' except first char itself?\n",
    "\n",
    "Sample String: 'prospect'<br>\n",
    "Expected Result : 'pros$ect'"
   ]
  },
  {
   "cell_type": "markdown",
   "metadata": {},
   "source": [
    "__Solution:__"
   ]
  },
  {
   "cell_type": "code",
   "execution_count": 5,
   "metadata": {},
   "outputs": [
    {
     "name": "stdout",
     "output_type": "stream",
     "text": [
      "prospect\n",
      "pros$ect\n"
     ]
    }
   ],
   "source": [
    "\"\"\"\n",
    "Use string slicing to get the first character of the entered string and the remainig part of the string separately\n",
    "Use the replace function on the remaining part of string to replace \"s\" with \"$\"\n",
    "Concatenate first charater of original string with replaced string\n",
    "\"\"\"\n",
    "\n",
    "userString = input()\n",
    "first = True\n",
    "userString = userString[0] + userString[1:].replace(userString[0], \"$\")\n",
    "print(userString)"
   ]
  },
  {
   "cell_type": "markdown",
   "metadata": {},
   "source": [
    "__Question 2:__<br>\n",
    "Write a Python program to get the single string from the two given strings, and separated by the space and swap the first two characters of each string?\n",
    "\n",
    "Sample String : 'abc', 'xyz'.<br>\n",
    "Expected Result: 'xyc abz'"
   ]
  },
  {
   "cell_type": "markdown",
   "metadata": {},
   "source": [
    "__Solution:__"
   ]
  },
  {
   "cell_type": "code",
   "execution_count": 2,
   "metadata": {},
   "outputs": [
    {
     "name": "stdout",
     "output_type": "stream",
     "text": [
      "Enter first string: abc\n",
      "Enter second string: xyz\n",
      "xyc abz\n"
     ]
    }
   ],
   "source": [
    "string1 = input(\"Enter first string: \")\n",
    "string2 = input(\"Enter second string: \")\n",
    "\n",
    "print(string2[0:2]+string1[2:], string1[0:2]+string2[2:])"
   ]
  },
  {
   "cell_type": "markdown",
   "metadata": {},
   "source": [
    "__Question 3:__<br>\n",
    "Write the Python program to add 'ing' at the end of the given string (length of the string should be at least 3). If given string already ends with 'ing,' then add 'ly' instead. If string length of the given string is less than 3,leave it unchanged?\n",
    "\n",
    "Sample string: ' abc '<br>\n",
    "Expectedresult: 'abcing' <br>\n",
    "Samplestring: 'string'<br>\n",
    "Expectedresult: 'stringly'"
   ]
  },
  {
   "cell_type": "markdown",
   "metadata": {},
   "source": [
    "__Solution:__"
   ]
  },
  {
   "cell_type": "code",
   "execution_count": 26,
   "metadata": {},
   "outputs": [
    {
     "name": "stdout",
     "output_type": "stream",
     "text": [
      "No of strings you would like to enter?: 4\n",
      "Enter string: Bit\n",
      "Biting\n",
      "Enter string: Using\n",
      "Usly\n",
      "Enter string: Hi\n",
      "Hi\n",
      "Enter string: User String\n",
      "User Strly\n"
     ]
    }
   ],
   "source": [
    "noOfInputs = int(input(\"No of strings you would like to enter?: \"))\n",
    "\n",
    "for _ in range(noOfInputs):\n",
    "    userString = input(\"Enter string: \")\n",
    "    if len(userString) < 3:\n",
    "        print(userString)\n",
    "    else:\n",
    "        if userString[len(userString)-3:] == \"ing\":\n",
    "            print(userString[:-3]+\"ly\")\n",
    "        else:\n",
    "            print(userString+\"ing\")"
   ]
  },
  {
   "cell_type": "markdown",
   "metadata": {},
   "source": [
    "__Question 4:__<br>\n",
    "Write the Python program to find the first appearance of the substring 'not' and 'poor' from the given string, if 'not' follows the 'poor', replace the whole 'not'...' poor' substring with 'good'.Return the resulting\n",
    "string.\n",
    "\n",
    "Sample string: 'The lyrics are not that poor!'\n",
    " \n",
    "'The lyrics are poor!'\n",
    " \n",
    "Expected Result: 'The lyrics are good!'\n",
    " \n",
    "'The lyrics are poor!'"
   ]
  },
  {
   "cell_type": "markdown",
   "metadata": {},
   "source": [
    "__Solution:__"
   ]
  },
  {
   "cell_type": "code",
   "execution_count": 18,
   "metadata": {},
   "outputs": [
    {
     "name": "stdout",
     "output_type": "stream",
     "text": [
      "Enter string: The lyrics are not that poor, the song is not that poor and the crowd was not poor either!\n",
      "Output: The lyrics are good the song is good and the crowd was good \n"
     ]
    }
   ],
   "source": [
    "\"\"\"\n",
    "Use cases to consider:\n",
    "Words starting with upper and lower cases - checked in if condition \n",
    "Punctuations at end of word - using rstrip to remove all punctuations from word before comparing\n",
    "\n",
    "Find the position of not, store it, find the position of poor, stoer it. \n",
    "If position of not comes before position of poor then store these two positions as a list\n",
    "So, basically the above tast stores all occurances of not...poor in the entered string\n",
    "\n",
    "Now, remove all occurances of not...poor and replace them with good.\n",
    "\"\"\"\n",
    "\n",
    "import string\n",
    "userString = input(\"Enter string: \")\n",
    "userStringList = userString.split()\n",
    "foundNot = False\n",
    "notPosition = 0\n",
    "foundPoor = False\n",
    "poorPosition = 0\n",
    "i = 0\n",
    "\n",
    "locations = []\n",
    "\n",
    "for word in userStringList:\n",
    "    word = word.rstrip(string.punctuation)\n",
    "    if word == \"not\" or word == \"Not\":\n",
    "        foundNot = True\n",
    "        notPosition = i\n",
    "    if word == \"poor\" or word == \"Poor\":\n",
    "        foundPoor = True\n",
    "        poorPosition = i\n",
    "    if notPosition < poorPosition:\n",
    "        locations.append([notPosition, poorPosition])\n",
    "        notPosition = 0\n",
    "        poorPosition = 0\n",
    "    i += 1\n",
    "start = 0\n",
    "outString = \"\"\n",
    "for locationSet in locations:\n",
    "    outString += \" \".join(userStringList[start:locationSet[0]]) +\" good \"\n",
    "    start = locationSet[1]+1\n",
    "print(\"Output:\", outString)"
   ]
  },
  {
   "cell_type": "markdown",
   "metadata": {},
   "source": [
    "__Question 5:__<br>\n",
    "Write the Python program to remove the characters which have odd index values of a given string."
   ]
  },
  {
   "cell_type": "markdown",
   "metadata": {},
   "source": [
    "__Solution:__"
   ]
  },
  {
   "cell_type": "code",
   "execution_count": 25,
   "metadata": {},
   "outputs": [
    {
     "name": "stdout",
     "output_type": "stream",
     "text": [
      "Enter string: I love Python\n",
      "Ilv yhn\n"
     ]
    }
   ],
   "source": [
    "userString = input(\"Enter string: \") \n",
    "\n",
    "print(userString[0::2])"
   ]
  },
  {
   "cell_type": "markdown",
   "metadata": {},
   "source": [
    "__Question 6:__<br>\n",
    "Write the Python function to get a string made of 4 copies of the last two characters of the specified string (length must be at least 2).\n",
    "\n",
    "Sample function and result :<br>\n",
    "insert-end ('Python') -> onononon<br>\n",
    "insert-end('Exercises') -> eseseses"
   ]
  },
  {
   "cell_type": "markdown",
   "metadata": {},
   "source": [
    "__Solution:__"
   ]
  },
  {
   "cell_type": "code",
   "execution_count": 160,
   "metadata": {},
   "outputs": [
    {
     "name": "stdout",
     "output_type": "stream",
     "text": [
      "Enter string: Raghu\n",
      "huhuhuhu\n"
     ]
    }
   ],
   "source": [
    "def insertEnd(s):\n",
    "    \"\"\"\n",
    "    A method that repeats the last 2 elements of a user entered string for 4 times\n",
    "    \n",
    "    Arguments:\n",
    "    A single string of any length\n",
    "    \n",
    "    Output:\n",
    "    Last 2 elements of string repeated 4 times.\n",
    "    \"\"\"\n",
    "    if len(s) >= 2:\n",
    "        return s[-2:]*4\n",
    "    else:\n",
    "        return \"Length of string smaller than 2\"\n",
    "\n",
    "userString = input(\"Enter string: \")\n",
    "\n",
    "print(insertEnd(userString))"
   ]
  },
  {
   "cell_type": "markdown",
   "metadata": {},
   "source": [
    "__Question 7:__<br>\n",
    "Write the python function to get a string made of its first three characters of a specified string. If\n",
    "the length of the string is less than 3 then return the original string.\n",
    "\n",
    "Sample function and result:<br>\n",
    "first-three('ipy') -> ipy<br>\n",
    "first-three('python') -> pyt"
   ]
  },
  {
   "cell_type": "markdown",
   "metadata": {},
   "source": [
    "__Solution:__"
   ]
  },
  {
   "cell_type": "code",
   "execution_count": 161,
   "metadata": {},
   "outputs": [
    {
     "name": "stdout",
     "output_type": "stream",
     "text": [
      "Enter string: Raghu Chandra\n",
      "Rag\n"
     ]
    }
   ],
   "source": [
    "def firstThree(s):\n",
    "    \"\"\"\n",
    "    A method that slices and prints only the first three characters of the entered string\n",
    "    \n",
    "    Arguments:\n",
    "    A single string of any length\n",
    "    \n",
    "    Output:\n",
    "    First 3 characters of string if lenght of string not less than 3, else the whole string.\n",
    "    \"\"\"\n",
    "    if len(s) < 3:\n",
    "        return s\n",
    "    else:\n",
    "        return s[0:3]\n",
    "    \n",
    "userString = input(\"Enter string: \")\n",
    "print(firstThree(userString))"
   ]
  },
  {
   "cell_type": "markdown",
   "metadata": {},
   "source": [
    "__Question 8:__<br>\n",
    "Write the python program to print the following floating numbers up to 2 decimal places?"
   ]
  },
  {
   "cell_type": "markdown",
   "metadata": {},
   "source": [
    "__Solution:__"
   ]
  },
  {
   "cell_type": "code",
   "execution_count": 35,
   "metadata": {},
   "outputs": [
    {
     "name": "stdout",
     "output_type": "stream",
     "text": [
      "Enter a float number: 3.1456\n",
      "Formatted Number: 3.15\n"
     ]
    }
   ],
   "source": [
    "userFloat = float(input(\"Enter a float number: \"))\n",
    "print(\"Formatted Number:\",\"{:.2f}\".format(userFloat))"
   ]
  },
  {
   "cell_type": "markdown",
   "metadata": {},
   "source": [
    "__Question 9:__<br>\n",
    "Write the Python program to format a number with a percentage?"
   ]
  },
  {
   "cell_type": "markdown",
   "metadata": {},
   "source": [
    "__Solution:__"
   ]
  },
  {
   "cell_type": "code",
   "execution_count": 40,
   "metadata": {},
   "outputs": [
    {
     "name": "stdout",
     "output_type": "stream",
     "text": [
      "Enter a float number less than 1: 0.5\n",
      "Formatted Number with percentage: 50.000000%\n"
     ]
    }
   ],
   "source": [
    "userFloat = float(input(\"Enter a float number less than 1: \"))\n",
    "print(\"Formatted Number with percentage: \"+\"{:%}\".format(userFloat))"
   ]
  },
  {
   "cell_type": "markdown",
   "metadata": {},
   "source": [
    "__Question 10:__<br>\n",
    "Write the Python program to count occurrences of a substring in a String?"
   ]
  },
  {
   "cell_type": "markdown",
   "metadata": {},
   "source": [
    "__Solution:__"
   ]
  },
  {
   "cell_type": "code",
   "execution_count": 10,
   "metadata": {},
   "outputs": [
    {
     "name": "stdout",
     "output_type": "stream",
     "text": [
      "Enter a string: Jade is an anxious person and one who is generally over assuming.\n",
      "Enter sub string to find in string: is\n",
      "Number of times \"is\" appeared in \"Jade is an anxious person and one who is generally over assuming.\" is 2\n"
     ]
    }
   ],
   "source": [
    "userString = input(\"Enter a string: \")\n",
    "subString = input(\"Enter sub string to find in string: \")\n",
    "\n",
    "print(f\"Number of times \\\"{subString}\\\" appeared in \\\"{userString}\\\" is {userString.count(subString)}\")"
   ]
  },
  {
   "cell_type": "markdown",
   "metadata": {},
   "source": [
    "__Question 11:__<br>\n",
    "Write the Python program to count repeated characters in a string.\n",
    "\n",
    "Sample string: ' thequickbrownjumpsoverthelazydog '\n",
    "\n",
    "Expected output:<br>\n",
    "o 3<br>\n",
    "e 3<br>\n",
    "u 2<br>\n",
    "h 2<br>\n",
    "r 2<br>\n",
    "t 2<br>"
   ]
  },
  {
   "cell_type": "markdown",
   "metadata": {},
   "source": [
    "__Solution:__"
   ]
  },
  {
   "cell_type": "code",
   "execution_count": 12,
   "metadata": {},
   "outputs": [
    {
     "name": "stdout",
     "output_type": "stream",
     "text": [
      "Enter string: thequickbrownjumpsoverthelazydog\n",
      "e 3\n",
      "o 3\n",
      "t 2\n",
      "h 2\n",
      "u 2\n",
      "r 2\n"
     ]
    }
   ],
   "source": [
    "import collections\n",
    "from collections import Counter\n",
    "\n",
    "userString = input(\"Enter string: \")\n",
    "stringDict = Counter(list(userString))\n",
    "sorted_x = sorted(stringDict.items(), key=lambda x: x[1], reverse = True)\n",
    "\n",
    "for item in sorted_x:\n",
    "    if item[1] >1:\n",
    "        print(item[0], item[1])"
   ]
  },
  {
   "cell_type": "markdown",
   "metadata": {},
   "source": [
    "__Question 12:__<br>\n",
    "Write the Python program to print the square and cube symbol in the area of a rectangle and volume of a cylinder?\n",
    "\n",
    "Sample output-<br>\n",
    "The area of the rectangle is 1256.66cm2<br>\n",
    "The volume of the cylinder is 1254.725cm3<br>"
   ]
  },
  {
   "cell_type": "markdown",
   "metadata": {},
   "source": [
    "__Solution:__"
   ]
  },
  {
   "cell_type": "code",
   "execution_count": 66,
   "metadata": {},
   "outputs": [
    {
     "name": "stdout",
     "output_type": "stream",
     "text": [
      "Enter side length in cm: 3\n",
      "We we consider the side length as radius of cube as well\n",
      "Enter length of cylinder in cm: 3\n",
      "The area of rectangle is 9cm2\n",
      "The volume of cylinder is 84.857cm3\n"
     ]
    }
   ],
   "source": [
    "side = int(input(\"Enter side length in cm: \"))\n",
    "print(\"We we consider the side length as radius of cube as well\")\n",
    "length = int(input(\"Enter length of cylinder in cm: \"))\n",
    "\n",
    "print(\"The area of rectangle is \"+str(side*side)+\"cm2\")\n",
    "print(\"The volume of cylinder is \"+str(round((22/7)*side*side*length,3))+\"cm3\")"
   ]
  },
  {
   "cell_type": "markdown",
   "metadata": {},
   "source": [
    "__Question 13:__<br>\n",
    "Write the Python program to check if a string contains all letters of the alphabet?"
   ]
  },
  {
   "cell_type": "markdown",
   "metadata": {},
   "source": [
    "__Solution:__"
   ]
  },
  {
   "cell_type": "code",
   "execution_count": 90,
   "metadata": {},
   "outputs": [
    {
     "name": "stdout",
     "output_type": "stream",
     "text": [
      "Enter a string: The quick brown fox jumps over the lazy dog\n",
      "True\n"
     ]
    }
   ],
   "source": [
    "from collections import Counter\n",
    "\n",
    "alphabets = \"abcdefghijklmnopqrstuvwxyz\"\n",
    "\n",
    "userString = input(\"Enter a string: \")\n",
    "userDict = {}\n",
    "\n",
    "for alphabet in userString:\n",
    "    alphabet = alphabet.lower()\n",
    "    if alphabet in alphabets:\n",
    "        userDict[alphabet] = userDict.get(alphabet, 0) + 1\n",
    "\n",
    "if len(userDict.keys()) == 26:\n",
    "    print(True)\n",
    "else:\n",
    "    print(False)\n"
   ]
  },
  {
   "cell_type": "markdown",
   "metadata": {},
   "source": [
    "__Question 14:__<br>\n",
    "Write the Python program to find the second most repeated word in a given string?   "
   ]
  },
  {
   "cell_type": "markdown",
   "metadata": {},
   "source": [
    "__Solution:__"
   ]
  },
  {
   "cell_type": "code",
   "execution_count": 13,
   "metadata": {},
   "outputs": [
    {
     "name": "stdout",
     "output_type": "stream",
     "text": [
      "Enter a string: n Saturday, Son Heung-min was presented with the AFC Asian International Player of the Year award by compatriot Park Ji-sung, and Tottenham Hotspur's South Korean star marked the momentous day by scoring arguably the best goal of his life -- a magical solo effort. Picking up the ball from close to his own box, the South Korean attacker zig-zagged his way past multiple Burnley players before coolly slotting past Nick Pope in the opposition goal. Twitter exploded with fans left in awe of Son's wonder-strike.\n",
      "Maximum frequency is 7 and second maximum frequency is 3\n",
      "Second most frequent words are:\n",
      "\n",
      "Word: of Frequency: 3\n",
      "Word: his Frequency: 3\n"
     ]
    }
   ],
   "source": [
    "import string\n",
    "from collections import Counter\n",
    "\n",
    "userStringList = input(\"Enter a string: \").split()\n",
    "userStringList = [x.rstrip(string.punctuation).lower() for x in userStringList]\n",
    "userStringDict = Counter(userStringList)\n",
    "\n",
    "valuesList = userStringDict.values()\n",
    "maxFreq = max(valuesList)\n",
    "secondMax = 0\n",
    "\n",
    "for value in valuesList:\n",
    "    if value > secondMax and value < maxFreq:\n",
    "        secondMax = value\n",
    "print(f\"Maximum frequency is {maxFreq} and second maximum frequency is {secondMax}\")\n",
    "\n",
    "print(\"Second most frequent words are:\\n\")\n",
    "for key, value in userStringDict.items():\n",
    "    if value == secondMax:\n",
    "        print(\"Word:\",key,\"Frequency:\", value)\n",
    "\n",
    "#print(userStringDict)"
   ]
  },
  {
   "cell_type": "markdown",
   "metadata": {},
   "source": [
    "__Question 15:__<br>\n",
    "Write the Python program to find the minimum window in the given string, which will contains all the characters of another given strings?\n",
    "\n",
    "Example 1\n",
    "\n",
    "Input : string1 = \" PRWSOERIUSFK \"\n",
    "\n",
    "string2 = \" OSU \"\n",
    "\n",
    "Output: Minimum window is \"OERIUS\""
   ]
  },
  {
   "cell_type": "markdown",
   "metadata": {},
   "source": [
    "__Solution:__"
   ]
  },
  {
   "cell_type": "code",
   "execution_count": 138,
   "metadata": {},
   "outputs": [
    {
     "name": "stdout",
     "output_type": "stream",
     "text": [
      "Enter 1st string: asdaewsqgtwwsa\n",
      "Enter 2nd string, the one to be found in 1st string: Daewsqgt\n",
      "Minimum window is daewsqgt\n"
     ]
    }
   ],
   "source": [
    "import itertools\n",
    "\n",
    "string1 = input(\"Enter 1st string: \").lower()\n",
    "string2 = input(\"Enter 2nd string, the one to be found in 1st string: \").lower()\n",
    "notFound = True\n",
    "failed = False\n",
    "\n",
    "string2Len = len(string2)\n",
    "i = string2Len\n",
    "\n",
    "while notFound == True:\n",
    "    for j in range(len(string1)-i):\n",
    "        subString = string1[j:j+i]\n",
    "        failed = False\n",
    "        for alphabet in string2:\n",
    "            if alphabet not in subString:\n",
    "                failed = True\n",
    "                break\n",
    "        if failed == False:\n",
    "            print(\"Minimum window is\",subString)\n",
    "            notFound = False\n",
    "            break\n",
    "        \n",
    "    i += 1\n",
    "       "
   ]
  },
  {
   "cell_type": "markdown",
   "metadata": {},
   "source": [
    "__Question 16:__<br>\n",
    "Write the Python program to find smallest window that contains all characters of the given string?\n",
    "\n",
    "Original Strings: \n",
    "\n",
    "asdaewsqgtwwsa\n",
    "\n",
    "Smallest window that contains all characters of the said string:\n",
    "\n",
    "Daewsqgt\n"
   ]
  },
  {
   "cell_type": "markdown",
   "metadata": {},
   "source": [
    "__Solution:__"
   ]
  },
  {
   "cell_type": "code",
   "execution_count": 146,
   "metadata": {},
   "outputs": [
    {
     "name": "stdout",
     "output_type": "stream",
     "text": [
      "Enter 1st string: asdaewsqgtwwsa\n",
      "Enter 2nd string, the one to be found in 1st string: Daewsqgt\n",
      "Minimum window is daewsqgt\n"
     ]
    }
   ],
   "source": [
    "#same as question 15. Once the assignment goes live, get clarifications on this\n",
    "\n",
    "string1 = input(\"Enter 1st string: \").lower()\n",
    "string2 = input(\"Enter 2nd string, the one to be found in 1st string: \").lower()\n",
    "notFound = True\n",
    "failed = False\n",
    "\n",
    "string2Len = len(string2)\n",
    "i = string2Len\n",
    "\n",
    "while notFound == True and i <= string2Len:\n",
    "    for j in range(len(string1)-i):\n",
    "        subString = string1[j:j+i]\n",
    "        failed = False\n",
    "        for alphabet in string2:\n",
    "            if alphabet not in subString:\n",
    "                failed = True\n",
    "                break\n",
    "        if failed == False:\n",
    "            print(\"Minimum window is\",subString)\n",
    "            notFound = False\n",
    "            break\n",
    "        \n",
    "    i += 1\n",
    "if notFound == True:\n",
    "    print(f\"{string2} not found in {string1}\")\n",
    "       "
   ]
  },
  {
   "cell_type": "markdown",
   "metadata": {},
   "source": [
    "__Question 17:__<br>\n",
    "Write the Python program to count number of substrings from a given string of lowercase alphabets with exactly k distinct (given) characters?\n",
    "\n",
    "Input a string (lowercase alphabets): wolf \n",
    "\n",
    "Input k: 4\n",
    "\n",
    "Number of substrings with exactly 4 distinct characters: 1"
   ]
  },
  {
   "cell_type": "markdown",
   "metadata": {},
   "source": [
    "__Solution:__"
   ]
  },
  {
   "cell_type": "code",
   "execution_count": 15,
   "metadata": {},
   "outputs": [
    {
     "name": "stdout",
     "output_type": "stream",
     "text": [
      "Enter string: wolf\n",
      "Enter length of subset: 4\n",
      "Number of substrings with exactly 4 distinct characters: 1\n"
     ]
    }
   ],
   "source": [
    "import itertools\n",
    "\n",
    "userString = input(\"Enter string: \").lower()\n",
    "k = int(input(\"Enter length of subset: \"))\n",
    "count = 0\n",
    "\n",
    "subStringsList = list(itertools.combinations(userString, k))\n",
    "\n",
    "for stringList in subStringsList:\n",
    "    if len(Counter(stringList)) == k:\n",
    "        count += 1\n",
    "print(f\"Number of substrings with exactly {k} distinct characters: {count}\")\n"
   ]
  },
  {
   "cell_type": "markdown",
   "metadata": {},
   "source": [
    "__Question 18:__<br>\n",
    "Write the Python program to count number of non-empty substrings of the given string?\n",
    "\n",
    "Input a string: w3resource\n",
    "\n",
    "Number of substrings:<br>\n",
    "55\n",
    " "
   ]
  },
  {
   "cell_type": "markdown",
   "metadata": {},
   "source": [
    "__Solution:__"
   ]
  },
  {
   "cell_type": "code",
   "execution_count": 172,
   "metadata": {},
   "outputs": [
    {
     "name": "stdout",
     "output_type": "stream",
     "text": [
      "w3resource\n",
      "Number of substrings:\n",
      "55\n"
     ]
    }
   ],
   "source": [
    "\"\"\"\n",
    "Number of substrings for a string of length n is\n",
    "\n",
    "n(n+1)/2 \n",
    "\n",
    "Example: \"Raghu\"\n",
    "Let's iterate from the first alphabet \"R\"\n",
    "R, Ra, Rag, Ragh, Raghu = 5 substrings = length of string\n",
    "\n",
    "Second alphabet \"a\"\n",
    "a, ag, agh, aghu = 4 substrings\n",
    "\n",
    "Third alphabet \"g\"\n",
    "g, gh, ghu = 3 substrings\n",
    "\n",
    "Fourth alphabet \"h\"\n",
    "h, hu = 2 substrings\n",
    "\n",
    "Fifth alphabet \"u\"\n",
    "u = 1 substring\n",
    "\n",
    "Total number of substrings = 5 + 4 + 3 + 2 + 1 = sum of first n natural numbers with n = length of string\n",
    "Formula for that is n*(n+1)/2 where n is length of string\n",
    "\n",
    "\"\"\"\n",
    "\n",
    "from itertools import combinations\n",
    "n = len(input())\n",
    "print(\"Number of substrings:\\n\"+str(int((n*(n+1))/2)))"
   ]
  },
  {
   "cell_type": "markdown",
   "metadata": {},
   "source": [
    "__Question 19:__<br>\n",
    "Write the Python program to count number of substrings with same first and last characters of the given string?\n",
    "\n",
    "Input a string: abcd\n",
    "\n",
    "4"
   ]
  },
  {
   "cell_type": "markdown",
   "metadata": {},
   "source": [
    "__Solution:__"
   ]
  },
  {
   "cell_type": "code",
   "execution_count": 182,
   "metadata": {},
   "outputs": [
    {
     "name": "stdout",
     "output_type": "stream",
     "text": [
      "Enter string: abcd\n",
      "4\n"
     ]
    }
   ],
   "source": [
    "import itertools\n",
    "\n",
    "userString = input(\"Enter string: \").lower()\n",
    "lenUserString = len(userString)\n",
    "count = 0\n",
    "\n",
    "for i in range(1, lenUserString+1):\n",
    "    subStrings = list(itertools.combinations(userString, i))\n",
    "    for string in subStrings:\n",
    "        if string[0] == userString[0] and string[-1] == userString[-1]:\n",
    "            count += 1\n",
    "print(count)"
   ]
  },
  {
   "cell_type": "markdown",
   "metadata": {},
   "source": [
    "__Question 20:__<br>\n",
    "Write the Python program to count the number of strings where the string length is 2 or more, and first and last character are same from a given list of strings.\n",
    "\n",
    " Sample List : ['abc', 'xyz', 'wxw', '1331']\n",
    " \n",
    " Expected Result: 2"
   ]
  },
  {
   "cell_type": "markdown",
   "metadata": {},
   "source": [
    "__Solution:__"
   ]
  },
  {
   "cell_type": "code",
   "execution_count": 17,
   "metadata": {},
   "outputs": [
    {
     "name": "stdout",
     "output_type": "stream",
     "text": [
      "How many string would you like to enter?: 5\n",
      "Enter string 1: abc\n",
      "Enter string 2: xyz\n",
      "Enter string 3: wxw\n",
      "Enter string 4: 1331\n",
      "Enter string 5: a\n",
      "2\n"
     ]
    }
   ],
   "source": [
    "noOfInputs = int(input(\"How many string would you like to enter?: \"))\n",
    "#userList = []\n",
    "count = 0\n",
    "\n",
    "for i in range(noOfInputs):\n",
    "    inputString = input(f\"Enter string {i+1}: \")\n",
    "    if (inputString[0].lower == inputString[-1].lower) and len(inputString)>=2:\n",
    "        count += 1\n",
    "    #userList.append(input(f\"Enter string{i+1}: \"))\n",
    "print(count)\n",
    "    "
   ]
  },
  {
   "cell_type": "markdown",
   "metadata": {},
   "source": [
    "__Question 21:__<br>\n",
    "Write the Python program to get a list, sorted in increasing order by the last element in each tuple from the given list of non-empty tuples?\n",
    "\n",
    "SampleList-[(2,5),(1,2),(4,4),(2,3),(2,1)]<br>\n",
    "Expected Result - [ (2, 1), (1, 2), (2, 3), (4, 4), (2, 5) ]"
   ]
  },
  {
   "cell_type": "markdown",
   "metadata": {},
   "source": [
    "__Solution:__"
   ]
  },
  {
   "cell_type": "code",
   "execution_count": 1,
   "metadata": {},
   "outputs": [
    {
     "name": "stdout",
     "output_type": "stream",
     "text": [
      "[(2, 1), (1, 2), (2, 3), (4, 4), (2, 5)]\n"
     ]
    }
   ],
   "source": [
    "userList = [(2,5),(1,2),(4,4),(2,3),(2,1)]\n",
    "\n",
    "print(sorted(userList, key = lambda x : x[-1]))"
   ]
  },
  {
   "cell_type": "markdown",
   "metadata": {},
   "source": [
    "__Question 22:__<br>\n",
    "Write the Python program to remove duplicates from a list?"
   ]
  },
  {
   "cell_type": "markdown",
   "metadata": {},
   "source": [
    "__Solution:__"
   ]
  },
  {
   "cell_type": "code",
   "execution_count": 18,
   "metadata": {},
   "outputs": [
    {
     "name": "stdout",
     "output_type": "stream",
     "text": [
      "[0, 1, 3, 4, 5, 6, 7, 9, 'raghu']\n"
     ]
    }
   ],
   "source": [
    "userList = [1,1,3,4,5,6,7,9,9,9,0,4,5,6,0,1,4,\"raghu\"]\n",
    "\n",
    "outList = list(set(userList))\n",
    "print(outList)"
   ]
  },
  {
   "cell_type": "markdown",
   "metadata": {},
   "source": [
    "__Question 23:__<br>\n",
    "Write the Python program to find the list of words that are longer than n from a given list of words?"
   ]
  },
  {
   "cell_type": "markdown",
   "metadata": {},
   "source": [
    "__Solution:__"
   ]
  },
  {
   "cell_type": "code",
   "execution_count": 2,
   "metadata": {},
   "outputs": [
    {
     "name": "stdout",
     "output_type": "stream",
     "text": [
      "Words greater than length 4 are:\n",
      "\n",
      "deeply, personal, honest, candid, interview, Ratan, reveals, defines, person, dreams, equal, opportunity, India, advice, young, generation, aspiring, Indians, Chairman, Emeritus, Chairman, Trusts."
     ]
    }
   ],
   "source": [
    "#strip all punctuations before computing word length and output words greater than certain length\n",
    "\n",
    "import string\n",
    "\n",
    "def filter_long_words(userInput, n):\n",
    "    \"\"\"\n",
    "    Method to filter out words with length small than a user defined length\n",
    "    \n",
    "    Arguments:\n",
    "    userInput - A user defined string\n",
    "    n - Words of length less than or equal to n are filtered out\n",
    "    \n",
    "    Output:\n",
    "    Comma separated list of words of lenght greater than n.\n",
    "    \"\"\"\n",
    "    outWords = []\n",
    "    for word in userInput.split():\n",
    "        word = word.rstrip(string.punctuation)\n",
    "        if len(word) > n:\n",
    "            outWords.append(word)\n",
    "    return outWords\n",
    "\n",
    "userInput = \"In a deeply personal, honest, and candid interview, Mr. Ratan Tata reveals what defines him as a person; his dreams for an equal opportunity India; and his advice for the young generation of aspiring Indians who look up to the Chairman Emeritus of Tata Sons and Chairman of the Tata Trusts.\"\n",
    "n = 4\n",
    "print(f\"Words greater than length {n} are:\\n\")\n",
    "print(*filter_long_words(userInput, n), sep=\", \", end =\".\")"
   ]
  },
  {
   "cell_type": "markdown",
   "metadata": {},
   "source": [
    "__Question 24:__<br>\n",
    "Write the Python program to print a specified list after removing the 0th, 4th, and 5th elements?\n",
    "\n",
    "Sample List - ['Red', 'Green', 'White', 'Black', 'Pink', 'Yellow']<br>\n",
    "Expected Output - ['Green', 'White', 'Black']"
   ]
  },
  {
   "cell_type": "markdown",
   "metadata": {},
   "source": [
    "__Solution:__"
   ]
  },
  {
   "cell_type": "code",
   "execution_count": 29,
   "metadata": {},
   "outputs": [
    {
     "name": "stdout",
     "output_type": "stream",
     "text": [
      "['Green', 'White', 'Black']\n"
     ]
    }
   ],
   "source": [
    "userList = ['Red', 'Green', 'White', 'Black', 'Pink', 'Yellow']\n",
    "#userList = ['red']\n",
    "\n",
    "try:\n",
    "    if len(userList) < 5:\n",
    "        pass\n",
    "    else:\n",
    "        del(userList[0])\n",
    "        del(userList[4-1])\n",
    "        del(userList[5-2])\n",
    "        print(userList)\n",
    "except:\n",
    "    print(\"A list of size less than 5 entered. Please try again with a list of size greater than or equal to 5\")"
   ]
  },
  {
   "cell_type": "markdown",
   "metadata": {},
   "source": [
    "__Question 25:__<br>\n",
    "Write the Python program to generate all permutations of a list in Python?"
   ]
  },
  {
   "cell_type": "markdown",
   "metadata": {},
   "source": [
    "Solution:"
   ]
  },
  {
   "cell_type": "code",
   "execution_count": 43,
   "metadata": {},
   "outputs": [
    {
     "name": "stdout",
     "output_type": "stream",
     "text": [
      "['Red', 'Green', 'White']\n",
      "['Red', 'White', 'Green']\n",
      "['Green', 'Red', 'White']\n",
      "['Green', 'White', 'Red']\n",
      "['White', 'Red', 'Green']\n",
      "['White', 'Green', 'Red']\n"
     ]
    }
   ],
   "source": [
    "from itertools import permutations\n",
    "\n",
    "userList = ['Red', 'Green', 'White']\n",
    "permutationsList = list(map(list, permutations(userList)))\n",
    "print(*permutationsList, sep = \"\\n\")\n"
   ]
  },
  {
   "cell_type": "markdown",
   "metadata": {},
   "source": [
    "__Question 26:__<br>\n",
    "Write the Python program to convert a pair of values into a sorted unique array?\n",
    "\n",
    "Original List- [ (1, 2), (3, 4), (1, 2), (5, 6), (7, 8), (1, 2), (3, 4), (3, 4), (7, 8), (9, 10) ]<br>\n",
    "Sorted Unique Data- [ 1, 2, 3, 4, 5, 6, 7, 8, 9, 10 ]\n"
   ]
  },
  {
   "cell_type": "markdown",
   "metadata": {},
   "source": [
    "Solution:"
   ]
  },
  {
   "cell_type": "code",
   "execution_count": 60,
   "metadata": {},
   "outputs": [
    {
     "name": "stdout",
     "output_type": "stream",
     "text": [
      "[1, 2, 3, 4, 5, 6, 7, 8, 9, 10]\n"
     ]
    }
   ],
   "source": [
    "userList = [ (1, 2), (3, 4), (1, 2), (5, 6), (7, 8), (1, 2), (3, 4), (3, 4), (7, 8), (9, 10), (9,8) ]\n",
    "\n",
    "userList1 = [x[0] for x in userList]\n",
    "userList2 = [x[1] for x in userList]\n",
    "\n",
    "print(list(set(userList1+userList2)))"
   ]
  },
  {
   "cell_type": "markdown",
   "metadata": {},
   "source": [
    "__Question 27:__<br>\n",
    "Write the Python class to convert an integer to a roman numeral?"
   ]
  },
  {
   "cell_type": "markdown",
   "metadata": {},
   "source": [
    "Solution:"
   ]
  },
  {
   "cell_type": "code",
   "execution_count": 15,
   "metadata": {
    "scrolled": true
   },
   "outputs": [
    {
     "name": "stdout",
     "output_type": "stream",
     "text": [
      "Decimal number 3054 is equivalent to MMMLIV in roman number format\n"
     ]
    }
   ],
   "source": [
    "class Roman(object):\n",
    "    \"\"\"\n",
    "    A class of object type Roman\n",
    "    \n",
    "    Class variables:\n",
    "    num - a decimal number\n",
    "    roman - the decimal number converted to Roman number format\n",
    "    \"\"\"\n",
    "    def __init__(self, num):\n",
    "        \"\"\"\n",
    "        Initialising values of num for object and pre-computing roman number for num.\n",
    "        \"\"\"\n",
    "        self.num = num\n",
    "        self.roman = Roman.getRoman(self)\n",
    "    \n",
    "    #implemented by myself. It works but a lengthy one\n",
    "    def getRoman1(self):\n",
    "        \"\"\"\n",
    "        A method that converts decimal number to roman number\n",
    "        \n",
    "        Arguments:\n",
    "        None\n",
    "        \n",
    "        Output:\n",
    "        A roman number\n",
    "        \"\"\"\n",
    "        dictRoman = {0:\"\",1:\"I\", 2:\"II\", 3:\"III\", 4:\"IV\", 5:\"V\", 6:\"VI\", 7:\"VII\", 8:\"VIII\", 9:\"IX\", 10:\"X\", 50:\"L\", 100:\"C\", 500:\"D\", 1000:\"M\"}\n",
    "        \n",
    "        if dictRoman.get(self.num, 0) != 0:\n",
    "            return dictRoman[self.num]\n",
    "        elif self.num <= 50:\n",
    "            units = self.num%10\n",
    "            tens = self.num//10\n",
    "            if tens <= 3:\n",
    "                return dictRoman[10]*tens + dictRoman[units]\n",
    "            else:\n",
    "                return dictRoman[10] + dictRoman[50] + dictRoman[units]\n",
    "        elif self.num <= 100:\n",
    "            units = self.num%10\n",
    "            tens = self.num//10\n",
    "            if tens <= 8:\n",
    "                return dictRoman[50] + dictRoman[10]*(tens-5) + dictRoman[units]\n",
    "            else:\n",
    "                return dictRoman[10] + dictRoman[100] + dictRoman[units]\n",
    "        elif self.num <= 500:\n",
    "            units = self.num%10\n",
    "            tens = (self.num//10)%10\n",
    "            hundreds = self.num//100\n",
    "            \n",
    "            if hundreds <= 3:\n",
    "                return dictRoman[100]*hundreds + Roman(tens*10).getRoman() + Roman(units).getRoman()\n",
    "            else:\n",
    "                return dictRoman[100] + dictRoman[500] + Roman(tens*10 + units).getRoman()\n",
    "        elif self.num <= 1000:\n",
    "            units = self.num%10\n",
    "            tens = (self.num//10)%10\n",
    "            hundreds = self.num//100\n",
    "            \n",
    "            if hundreds <= 8:\n",
    "                return dictRoman[500] + Roman(self.num-500).getRoman()\n",
    "            else:\n",
    "                return dictRoman[100] + dictRoman[1000] + Roman(tens*10).getRoman() + Roman(units).getRoman()\n",
    "    \n",
    "    #implemented with help of some website        \n",
    "    def getRoman(self):\n",
    "        \"\"\"\n",
    "        A method that converts decimal number to roman number\n",
    "        \n",
    "        Arguments:\n",
    "        None\n",
    "        \n",
    "        Output:\n",
    "        A roman number\n",
    "        \"\"\"\n",
    "        symbols = [\"M\", \"CM\", \"D\", \"CD\", \"C\", \"XC\",\"L\", \"XL\", \"X\", \"IX\", \"V\", \"IV\", \"I\"]\n",
    "        numbers = [1000, 900, 500, 400, 100, 90, 50, 40, 10, 9, 5, 4, 1]\n",
    "        toConvert = self.num\n",
    "        i = 0\n",
    "        roman = \"\"\n",
    "            \n",
    "        while toConvert > 0:\n",
    "            for _ in range(toConvert//numbers[i]):\n",
    "                roman += symbols[i]\n",
    "                toConvert -= numbers[i]\n",
    "            i += 1\n",
    "        return roman\n",
    "        \n",
    "decimal = 3054               \n",
    "        \n",
    "number = Roman(decimal)\n",
    "\n",
    "print(f\"Decimal number {decimal} is equivalent to {number.roman} in roman number format\")"
   ]
  },
  {
   "cell_type": "markdown",
   "metadata": {},
   "source": [
    "__Question 28:__\n",
    "Write the Python class to convert a Roman numeral to an integer?"
   ]
  },
  {
   "cell_type": "markdown",
   "metadata": {},
   "source": [
    "__Solution:__"
   ]
  },
  {
   "cell_type": "code",
   "execution_count": 165,
   "metadata": {},
   "outputs": [
    {
     "name": "stdout",
     "output_type": "stream",
     "text": [
      "Roman number DCCCLXXV is equivalent to 875 in decimal number format\n"
     ]
    }
   ],
   "source": [
    "class Decimal(object):\n",
    "    \"\"\"\n",
    "    A class of object type Decimal\n",
    "    \n",
    "    Class variables:\n",
    "    roman - a roman number\n",
    "    decimal - the roman number converted to decimal number format\n",
    "    \"\"\"\n",
    "    def __init__(self, roman):\n",
    "        \"\"\"\n",
    "        Initialising values of roman for object and pre-computing decimal number for decimal.\n",
    "        \"\"\"\n",
    "        self.roman = roman\n",
    "        self.decimal = Decimal.getDecimal(self)\n",
    "    \n",
    "    #implemented with help of some website        \n",
    "    def getDecimal(self):\n",
    "        \"\"\"\n",
    "        A method that converts roman number to decimal number\n",
    "        \n",
    "        Arguments:\n",
    "        None\n",
    "        \n",
    "        Output:\n",
    "        A decimal number\n",
    "        \"\"\"\n",
    "        dictConvert = {\"M\":1000, \"CM\":900, \"D\":500, \"CD\":400, \"C\":100, \"XC\":90, \"L\":50, \"XL\":40, \"X\":10, \"IX\":9, \"V\":5, \"IV\":4, \"I\":1}\n",
    "        toConvert = self.roman\n",
    "        i = 0\n",
    "        decimal = 0\n",
    "        getPrevious = False\n",
    "            \n",
    "        for i in range(len(toConvert)):\n",
    "            if getPrevious == True:\n",
    "                decimal += dictConvert[toConvert[i-1]+toConvert[i]]\n",
    "                getPrevious = False\n",
    "            else:\n",
    "                if i < len(toConvert)-1 and dictConvert[toConvert[i+1]] > dictConvert[toConvert[i]]:\n",
    "                    getPrevious = True\n",
    "                else:\n",
    "                    decimal += dictConvert[toConvert[i]]\n",
    "        return decimal\n",
    "                \n",
    "            \n",
    "roman = \"DCCCLXXV\"  \n",
    "        \n",
    "number = Decimal(roman)\n",
    "\n",
    "print(f\"Roman number {roman} is equivalent to {number.decimal} in decimal number format\")"
   ]
  },
  {
   "cell_type": "markdown",
   "metadata": {},
   "source": [
    "__Question 29:__<br>\n",
    "Write the Python class to find the validity of the string of the parentheses, '(', ')', '{', '}', '\\[' and '\\]' and the brackets must be closed in the correct order, example - \"()\" and \"()\\[\\]{}\" are valid but \"\\[)\", \"(\\{\\[)\\]\" and \"{{{\" are invalid."
   ]
  },
  {
   "cell_type": "markdown",
   "metadata": {},
   "source": [
    "__Solution:__"
   ]
  },
  {
   "cell_type": "code",
   "execution_count": 177,
   "metadata": {},
   "outputs": [
    {
     "name": "stdout",
     "output_type": "stream",
     "text": [
      "[[[1,2,3], [4,5,6]], [6,5,4]] is a valid string\n",
      "[[[1,2,3], [4,5,6]], [6,5,4] is an invalid string\n",
      "{1,2,3,4,5} is a valid string\n",
      "{1,2,3,4,5 is an invalid string\n",
      "[[[{]}]] is an invalid string\n"
     ]
    }
   ],
   "source": [
    "class StringValidation(object):\n",
    "    \"\"\"\n",
    "    A class of object type StringValidation\n",
    "    \n",
    "    Class variables:\n",
    "    string - a string of any length \n",
    "    isValid - a variable that stores information if the string variable is of valid format or not\n",
    "    \"\"\"\n",
    "    def __init__(self, string):\n",
    "        \"\"\"\n",
    "        A method to initialise string variable of class object and pre-compute if the string is a valid one.\n",
    "        \"\"\"\n",
    "        self.string = string\n",
    "        self.isValid = StringValidation.findValidity(self)\n",
    "\n",
    "    def findValidity(self):\n",
    "        \"\"\"\n",
    "        A method to validate brackets order and count\n",
    "    \n",
    "        Arguments:\n",
    "        A string of any length\n",
    "    \n",
    "        Output:\n",
    "        Returns a \"Valid string\" if the order and count of brackets and order is valid else \"Invalid string\"\n",
    "        \"\"\"\n",
    "        userString = self.string\n",
    "    \n",
    "        openSequence = \"\"\n",
    "        opens = \"[{(\"\n",
    "        closes = \"]})\"\n",
    "        dictBrackets = {\"{\":\"}\", \"[\":\"]\", \"(\":\")\"}\n",
    "    \n",
    "        for alphabet in userString:\n",
    "            if alphabet in opens:\n",
    "                openSequence += alphabet\n",
    "            if alphabet in closes:\n",
    "                if dictBrackets[openSequence[-1]] != alphabet:\n",
    "                    return f\"{userString} is an invalid string\"\n",
    "                else:\n",
    "                    openSequence = openSequence[:-1]\n",
    "        if openSequence == \"\":\n",
    "            return f\"{userString} is a valid string\"\n",
    "        return f\"{userString} is an invalid string\"\n",
    "\n",
    "                \n",
    "\n",
    "userString1 = StringValidation(\"[[[1,2,3], [4,5,6]], [6,5,4]]\")\n",
    "userString2 = StringValidation(\"[[[1,2,3], [4,5,6]], [6,5,4]\")\n",
    "userString3 = StringValidation(\"{1,2,3,4,5}\")\n",
    "userString4 = StringValidation(\"{1,2,3,4,5\")\n",
    "userString5 = StringValidation(\"[[[{]}]]\")\n",
    "\n",
    "print(userString1.isValid)\n",
    "print(userString2.isValid)\n",
    "print(userString3.isValid)\n",
    "print(userString4.isValid)\n",
    "print(userString5.isValid)\n"
   ]
  },
  {
   "cell_type": "markdown",
   "metadata": {},
   "source": [
    "__Question 30:__<br>\n",
    "Write the Python class to get all possible unique subsets from a set of distinct integers?\n",
    "\n",
    "Input - [4, 5, 6]<br>\n",
    "Output - [[], [6], [5], [5, 6], [4], [4, 6], [4, 5], [4, 5, 6]]"
   ]
  },
  {
   "cell_type": "markdown",
   "metadata": {},
   "source": [
    "Solution:"
   ]
  },
  {
   "cell_type": "code",
   "execution_count": 182,
   "metadata": {},
   "outputs": [
    {
     "name": "stdout",
     "output_type": "stream",
     "text": [
      "[[], [4], [5], [6], [4, 5], [4, 6], [5, 6], [4, 5, 6]]\n"
     ]
    }
   ],
   "source": [
    "from itertools import combinations\n",
    "\n",
    "class Subsets(object):\n",
    "    \"\"\"\n",
    "    A class of object type Subsets\n",
    "    \n",
    "    Class variables:\n",
    "    list - a list of any length \n",
    "    \"\"\"\n",
    "    def __init__(self, userList):\n",
    "        \"\"\"\n",
    "        A method to initialise list variable of class object.\n",
    "        \"\"\"\n",
    "        self.list = userList\n",
    "        \n",
    "    def getList(self):\n",
    "        \"\"\"\n",
    "        A method that returns the list variable\n",
    "        \"\"\"\n",
    "        return self.list\n",
    "    \n",
    "    def computeSubsets(self):\n",
    "        \"\"\"\n",
    "        A method that computes all possible subsets of a given list\n",
    "        \n",
    "        Arguments:\n",
    "        None passed to function\n",
    "        \n",
    "        Output:\n",
    "        A list of all possible subsets of list variable of class object\n",
    "        \"\"\"\n",
    "        userList = self.getList()\n",
    "        subsets = []\n",
    "        for i in range(len(userList)+1):\n",
    "            for list1 in list(map(list,combinations(userList,i))):\n",
    "                subsets.append(list1)\n",
    "        return subsets\n",
    "    \n",
    "list1 = Subsets([4, 5, 6])\n",
    "\n",
    "print(list1.computeSubsets())"
   ]
  },
  {
   "cell_type": "markdown",
   "metadata": {},
   "source": [
    "__Question 31:__<br>\n",
    "Write the Python class to find a pair of elements (indices of the two numbers) from a given array whose sum equals the specific target number?\n",
    "\n",
    "Input- numbers- [10,20,10,40,50,60,70], target=50<br>\n",
    "Output- 3, 4"
   ]
  },
  {
   "cell_type": "markdown",
   "metadata": {},
   "source": [
    "__Solution:__"
   ]
  },
  {
   "cell_type": "code",
   "execution_count": 215,
   "metadata": {},
   "outputs": [
    {
     "name": "stdout",
     "output_type": "stream",
     "text": [
      "Pairs of index numbers in [10, 10, 20, 40, 40, 50, 60, 70] that add up to 50 is [[0, 4], [1, 3]]\n"
     ]
    }
   ],
   "source": [
    "class SumPairs(object):\n",
    "    \"\"\"\n",
    "    A class of object type SumPairs\n",
    "    \n",
    "    Class variables:\n",
    "    list - a list of any length \n",
    "    \"\"\"\n",
    "    def __init__(self, userList):\n",
    "        \"\"\"\n",
    "        A method to initialise list variable of class object.\n",
    "        \"\"\"\n",
    "        self.list = userList\n",
    "        \n",
    "    def getList(self):\n",
    "        \"\"\"\n",
    "        A method that returns the list variable\n",
    "        \"\"\"\n",
    "        return self.list\n",
    "        \n",
    "    def findPairs(self, target):\n",
    "        \"\"\"\n",
    "        A method to find indexes of pairs of numbers that add up to a set target\n",
    "        \n",
    "        Arguments:\n",
    "        target - a target number to use so that a pair of numbers from list add up to this target number\n",
    "        \n",
    "        Output:\n",
    "        pairs of indexes of numbers in list variable\n",
    "        \"\"\"\n",
    "        userList = SumPairs.getList(self)\n",
    "        target = target\n",
    "        userList = sorted(userList)\n",
    "        results = []\n",
    "        found = False\n",
    "        taken = []\n",
    "        \n",
    "        for i in range(len(userList)-1,-1,-1):\n",
    "            for j in range(0, i):\n",
    "                if userList[i] > target:\n",
    "                    break\n",
    "                if userList[i] + userList[j] == target and i not in taken and j not in taken:\n",
    "                    results.append([j,i])\n",
    "                    taken.append(i)\n",
    "                    taken.append(j)\n",
    "                    found = True\n",
    "                    break\n",
    "            if found:\n",
    "                found = False\n",
    "        return results\n",
    "                \n",
    "list1 = SumPairs([10, 20, 10, 40, 50, 60, 40, 70])\n",
    "target = 50\n",
    "print(f\"Pairs of index numbers in {sorted(list1.getList())} that add up to {target} is {list1.findPairs(target)}\")\n"
   ]
  },
  {
   "cell_type": "markdown",
   "metadata": {},
   "source": [
    "__Question 32:__<br>\n",
    "Write the Python class to find the three elements that sum to zero from the set of n real numbers?\n",
    "\n",
    "Input array- [-25, -10, -7, -3, 2, 4, 8, 10]<br>\n",
    "Output - [[-10, 2, 8], [-7, -3, 10]]"
   ]
  },
  {
   "cell_type": "markdown",
   "metadata": {},
   "source": [
    "__Solution:__"
   ]
  },
  {
   "cell_type": "code",
   "execution_count": 226,
   "metadata": {},
   "outputs": [
    {
     "name": "stdout",
     "output_type": "stream",
     "text": [
      "[[-10, 2, 8], [10, -7, -3]]\n"
     ]
    }
   ],
   "source": [
    "class Triples(object):\n",
    "    \"\"\"\n",
    "    A class of object type Triples\n",
    "    \n",
    "    Class variables:\n",
    "    list - a list of any length \n",
    "    \"\"\"\n",
    "    def __init__(self, userList):\n",
    "        \"\"\"\n",
    "        A method to initialise list variable of class object.\n",
    "        \"\"\"\n",
    "        self.list = userList\n",
    "        \n",
    "    def getList(self):\n",
    "        \"\"\"\n",
    "        A method that returns the list variable\n",
    "        \"\"\"\n",
    "        return self.list\n",
    "        \n",
    "    def findTriples(self):\n",
    "        \"\"\"\n",
    "        A method to find three numbers that add up to 0.\n",
    "        \n",
    "        Arguments:\n",
    "        None\n",
    "        \n",
    "        Output:\n",
    "        A list of various lists of three numbers that each add up to 0\n",
    "        \"\"\"\n",
    "        userList = Triples.getList(self)\n",
    "        userListN = sorted([x for x in userList if x<0])\n",
    "        userList0 = [x for x in userList if x == 0]\n",
    "        userListP = sorted([x for x in userList if x>0])\n",
    "        pairs = []\n",
    "        removeNegatives = []\n",
    "        removePositives = []\n",
    "        \n",
    "        for element in userListN:\n",
    "            if len(userList0) > 0:\n",
    "                try:\n",
    "                    loc2 = userListP.index(abs(element))\n",
    "                    pairs.append([element, userListP[loc2], 0])\n",
    "                    userListP.remove(userListP[loc2])\n",
    "                    userList0.remove(0) \n",
    "                except:\n",
    "                    pass\n",
    "            else:\n",
    "                for positive in userListP:\n",
    "                    try:\n",
    "                        loc3 = userListP.index(abs(element+positive))\n",
    "                        pairs.append([element, positive, userListP[loc3]])\n",
    "                        userListP.remove(userListP[loc3])\n",
    "                        userListP.remove(positive)\n",
    "                        removeNegatives.append(element)\n",
    "                    except:\n",
    "                        pass\n",
    "        for negative in removeNegatives:\n",
    "            userListN.remove(negative)\n",
    "        for element in userListP:\n",
    "            for negative in userListN:\n",
    "                try:\n",
    "                    if (element + negative) > 0:\n",
    "                        loc3 = userListN.index(-(element+negative))\n",
    "                        pairs.append([element, negative, userListN[loc3]])\n",
    "                        userListN.remove(userListN[loc3])\n",
    "                        userListN.remove(negative)\n",
    "                        removePositives.append(element)\n",
    "                except:\n",
    "                    pass\n",
    "        for positive in removePositives:\n",
    "            userListP.remove(positive)   \n",
    "        return pairs\n",
    "    \n",
    "list1 = Triples([-25, -10, -7, -3, 2, 4, 8, 10])\n",
    "print(list1.findTriples())\n",
    "        \n"
   ]
  },
  {
   "cell_type": "markdown",
   "metadata": {},
   "source": [
    "__Question 33:__<br>\n",
    "Write the Python class to implement pow(x, n)?"
   ]
  },
  {
   "cell_type": "markdown",
   "metadata": {},
   "source": [
    "__Solution:__"
   ]
  },
  {
   "cell_type": "code",
   "execution_count": 230,
   "metadata": {},
   "outputs": [
    {
     "name": "stdout",
     "output_type": "stream",
     "text": [
      "81\n"
     ]
    }
   ],
   "source": [
    "class Power(object):\n",
    "    \"\"\"\n",
    "    A class of object type Power\n",
    "    \"\"\"\n",
    "   \n",
    "    def pow(self, x, n):\n",
    "        \"\"\"\n",
    "        A method that returns x^n \n",
    "        \"\"\"\n",
    "        return x**n\n",
    "    \n",
    "num1 = Power()\n",
    "print(num1.pow(3,4))"
   ]
  },
  {
   "cell_type": "markdown",
   "metadata": {},
   "source": [
    "__Question 34:__<br>\n",
    "Write the Python class which has two methods get_String and print_String. get_String accept the string from the user and print_String print the string in upper case."
   ]
  },
  {
   "cell_type": "markdown",
   "metadata": {},
   "source": [
    "__Solution:__"
   ]
  },
  {
   "cell_type": "code",
   "execution_count": 232,
   "metadata": {},
   "outputs": [
    {
     "name": "stdout",
     "output_type": "stream",
     "text": [
      "Enter a string: Raghu Chandra\n"
     ]
    },
    {
     "data": {
      "text/plain": [
       "'Raghu Chandra'"
      ]
     },
     "execution_count": 232,
     "metadata": {},
     "output_type": "execute_result"
    }
   ],
   "source": [
    "class String(object):\n",
    "    def __init__(self):\n",
    "        self.string = \"\"\n",
    "   \n",
    "    def get_String(self):\n",
    "        self.string = input(\"Enter a string: \")\n",
    "    \n",
    "    def print_String(self):\n",
    "        return self.string\n",
    "    \n",
    "s = String()\n",
    "\n",
    "s.get_String()\n",
    "s.print_String()\n",
    "        "
   ]
  },
  {
   "cell_type": "markdown",
   "metadata": {},
   "source": [
    "__Question 35:__<br>\n",
    "Write the Python class named Rectangle constructed by a length and width and the method which will compute the area of the rectangle?"
   ]
  },
  {
   "cell_type": "markdown",
   "metadata": {},
   "source": [
    "__Solution:__"
   ]
  },
  {
   "cell_type": "code",
   "execution_count": 1,
   "metadata": {},
   "outputs": [
    {
     "name": "stdout",
     "output_type": "stream",
     "text": [
      "Area of the rectangle with width 4 and length 3 is: 12\n"
     ]
    }
   ],
   "source": [
    "class Rectangle(object):\n",
    "    \"\"\"\n",
    "    A class of object type rectangle\n",
    "    \n",
    "    Class variables:\n",
    "    l - length of rectangle\n",
    "    w - width of rectangle\n",
    "    area - area of the rectangle c\n",
    "    \"\"\"\n",
    "    def __init__(self, l, w):\n",
    "        \"\"\"\n",
    "        Initialising values of length and width for object and pre-computing area of the rectangle\n",
    "        \"\"\"\n",
    "        self.length = l\n",
    "        self.width = w\n",
    "        self.area = Rectangle.findArea(self)\n",
    "    \n",
    "    def getWidth(self):\n",
    "        \"\"\"\n",
    "        Getter method for class variable width\n",
    "        \"\"\"\n",
    "        return self.width\n",
    "    \n",
    "    def getLength(self):\n",
    "        \"\"\"\n",
    "        Getter method for class variable length\n",
    "        \"\"\"\n",
    "        return self.length\n",
    "    \n",
    "    def getArea(self):\n",
    "        \"\"\"\n",
    "        Getter method for class variable area\n",
    "        \"\"\"\n",
    "        return self.area\n",
    "    \n",
    "    def setWidth(self, w):\n",
    "        \"\"\"\n",
    "        Setter method for class variable a\n",
    "        \"\"\"\n",
    "        self.width = w\n",
    "        \n",
    "    def setLength(self, l):\n",
    "        \"\"\"\n",
    "        Setter method for class variable a\n",
    "        \"\"\"\n",
    "        self.length = l\n",
    "        \n",
    "    def findArea(self):\n",
    "        \"\"\"\n",
    "        Metod to calculate area of the rectangle\n",
    "        \n",
    "        Arguments:\n",
    "        None. Automatically retrieves class variables width and length\n",
    "        \n",
    "        Output:\n",
    "        Area of the rectangle\n",
    "        \"\"\"\n",
    "        return self.getWidth()*self.getLength()\n",
    "        \n",
    "\n",
    "l = 3\n",
    "w = 4\n",
    "\n",
    "rectangle1 = Rectangle(l,w)\n",
    "print(f\"Area of the rectangle with width {w} and length {l} is:\",rectangle1.getArea())\n",
    "\n",
    "\n"
   ]
  },
  {
   "cell_type": "markdown",
   "metadata": {},
   "source": [
    "__Question 36:__<br>\n",
    "Write the Python class named Circle constructed by the radius and two methods which will compute the area and perimeter of the circle?"
   ]
  },
  {
   "cell_type": "markdown",
   "metadata": {},
   "source": [
    "__Solution:__"
   ]
  },
  {
   "cell_type": "code",
   "execution_count": 2,
   "metadata": {},
   "outputs": [
    {
     "name": "stdout",
     "output_type": "stream",
     "text": [
      "For a circle with radis 3, area is 28.27 and perimter is 18.85\n"
     ]
    }
   ],
   "source": [
    "import math\n",
    "\n",
    "class Circle(object):\n",
    "    \"\"\"\n",
    "    A class of object type circle\n",
    "    \n",
    "    Class variables:\n",
    "    r - radius of circle\n",
    "    \"\"\"\n",
    "    def __init__(self, r):\n",
    "        \"\"\"\n",
    "        Initialising values of radius for object and pre-computing area and perimeter of the circle\n",
    "        \"\"\"\n",
    "        self.radius = r\n",
    "        self.area = Circle.findArea(self)\n",
    "        self.perimeter = Circle.findPerimeter(self)\n",
    "    \n",
    "    def getRadius(self):\n",
    "        \"\"\"\n",
    "        Getter method for class variable radius\n",
    "        \"\"\"\n",
    "        return self.radius\n",
    "    \n",
    "    def getArea(self):\n",
    "        \"\"\"\n",
    "        Getter method for class variable area\n",
    "        \"\"\"\n",
    "        return self.area\n",
    "    \n",
    "    def getPerimeter(self):\n",
    "        \"\"\"\n",
    "        Getter method for class variable perimeter\n",
    "        \"\"\"\n",
    "        return self.perimeter\n",
    "    \n",
    "    def setWidth(self, r):\n",
    "        \"\"\"\n",
    "        Setter method for class variable r\n",
    "        \"\"\"\n",
    "        self.radius = r\n",
    "        \n",
    "    def findArea(self):\n",
    "        \"\"\"\n",
    "        Metod to calculate area of the circle\n",
    "        \n",
    "        Arguments:\n",
    "        None. Automatically retrieves class variables radius\n",
    "        \n",
    "        Output:\n",
    "        Area of the circle\n",
    "        \"\"\"\n",
    "        r = self.getRadius()\n",
    "        return round(math.pi*r*r,2)\n",
    "    \n",
    "    def findPerimeter(self):\n",
    "        \"\"\"\n",
    "        Metod to calculate perimeter of the circle\n",
    "        \n",
    "        Arguments:\n",
    "        None. Automatically retrieves class variables radius\n",
    "        \n",
    "        Output:\n",
    "        Perimeter of the circle\n",
    "        \"\"\"\n",
    "        return round(2*math.pi*r,2)\n",
    "        \n",
    "\n",
    "r = 3\n",
    "\n",
    "circle1 = Circle(r)\n",
    "print(f\"For a circle with radis {r}, area is {circle1.getArea()} and perimter is {circle1.getPerimeter()}\")\n"
   ]
  },
  {
   "cell_type": "markdown",
   "metadata": {},
   "source": [
    "__Question 37:__<br>\n",
    "Write the Python program to get the class name of an instance in Python?"
   ]
  },
  {
   "cell_type": "markdown",
   "metadata": {},
   "source": [
    "__Solution:__"
   ]
  },
  {
   "cell_type": "code",
   "execution_count": 241,
   "metadata": {},
   "outputs": [
    {
     "name": "stdout",
     "output_type": "stream",
     "text": [
      "Triangle\n",
      "Circle\n"
     ]
    }
   ],
   "source": [
    "class Triangle(object):\n",
    "    \"\"\"\n",
    "    A class of object type Triangle\n",
    "    \n",
    "    Class variables:\n",
    "    a - side of the equilateral triangle\n",
    "    \"\"\"\n",
    "    def __init__(self, a):\n",
    "        \"\"\"\n",
    "        Initialising values side of triangle a\n",
    "        \"\"\"\n",
    "        self.a = a\n",
    "    \n",
    "    def __str__(self):\n",
    "        \"\"\"\n",
    "        An inbuilt string method to edit class definition displayed to user\n",
    "        \"\"\"\n",
    "        return self.__class__.__name__\n",
    "    \n",
    "class Circle(object):\n",
    "    \"\"\"\n",
    "    A class of object type Circle\n",
    "    \n",
    "    Class variables:\n",
    "    r - radius of circle\n",
    "    \"\"\"\n",
    "    def __init__(self, r):\n",
    "        \"\"\"\n",
    "        Initialising values radius of circle, r\n",
    "        \"\"\"\n",
    "        self.r = r\n",
    "\n",
    "def type(object):\n",
    "    \"\"\"\n",
    "    A method overriding type method of Python to print class name \n",
    "    \"\"\"\n",
    "    return object.__class__.__name__\n",
    "\n",
    "#Implementation type 1\n",
    "triangle1 = Triangle(2)\n",
    "print(triangle1)\n",
    "\n",
    "#Implementation type 2\n",
    "circle1 = Circle(4)\n",
    "print(type(circle1))"
   ]
  },
  {
   "cell_type": "markdown",
   "metadata": {},
   "source": [
    "__Question 38:__<br>\n",
    "Write the Python program to count the number of students of individual class?\n",
    "\n",
    " Sample data-<br>\n",
    " classes = (<br>\n",
    " ('V', 1),<br>\n",
    " ('VI', 1),<br>\n",
    " ('V', 2),<br>\n",
    " ('VI', 2),<br>\n",
    " ('VI', 3),<br>\n",
    " ('VII', 1),<br>\n",
    ")\n",
    "\n",
    " Expected Output-<br>\n",
    " Counter({'VI': 3, 'V': 2, 'VII': 1})"
   ]
  },
  {
   "cell_type": "markdown",
   "metadata": {},
   "source": [
    "__Solution:__"
   ]
  },
  {
   "cell_type": "code",
   "execution_count": 4,
   "metadata": {},
   "outputs": [
    {
     "name": "stdout",
     "output_type": "stream",
     "text": [
      "Counter({'VI': 3, 'V': 2, 'VII': 1})\n"
     ]
    }
   ],
   "source": [
    "from collections import Counter\n",
    "classes = (('V', 1), ('VI', 1), ('V', 2), ('VI', 2), ('VI', 3), ('VII', 1))\n",
    "classesCounter = Counter([x[0] for x in classes])\n",
    "\n",
    "print(classesCounter)\n",
    "\n",
    "\n",
    "    "
   ]
  },
  {
   "cell_type": "markdown",
   "metadata": {},
   "source": [
    "__Question 39:__<br>\n",
    "Write the Python program to create an instance of an OrderedDict using the given dictionary and sort dictionary during the creation and print members of the dictionary in reverse order?\n",
    "\n",
    " Expected Output-<br>\n",
    " Angola 244.<br>\n",
    " Andorra 376.<br>\n",
    " Algeria 213.<br>\n",
    " Afghanistan 93.<br>\n",
    " Albania 355.<br>\n",
    " \n",
    " In reverse order-<br>\n",
    " Albania 355.<br>\n",
    " Afghanistan 93.<br>\n",
    " Algeria 213.<br>\n",
    " Andorra 376.<br>\n",
    " Angola 244.<br>"
   ]
  },
  {
   "cell_type": "markdown",
   "metadata": {},
   "source": [
    "__Solution:__"
   ]
  },
  {
   "cell_type": "code",
   "execution_count": 250,
   "metadata": {},
   "outputs": [
    {
     "name": "stdout",
     "output_type": "stream",
     "text": [
      "Albania 355\n",
      "Afghanistan 93\n",
      "Algeria 213\n",
      "Andorra 376\n",
      "Angola 244\n"
     ]
    }
   ],
   "source": [
    "from collections import OrderedDict \n",
    "\n",
    "userList = [[\"Angola\", 244], [\"Andorra\", 376], [\"Algeria\", 213], [\"Afghanistan\", 93], [\"Albania\", 355]]\n",
    "userOrderedDict = OrderedDict()\n",
    "\n",
    "for listElement in userList:\n",
    "    userOrderedDict[listElement[0]] = listElement[1]\n",
    "    \n",
    "for item in reversed(userOrderedDict):\n",
    "    print(item, userOrderedDict[item])\n",
    "    "
   ]
  },
  {
   "cell_type": "markdown",
   "metadata": {},
   "source": [
    "__Question 40:__<br>\n",
    "Write the Python program to compare two unordered lists (not sets)?\n",
    "\n",
    "Expected Output: False"
   ]
  },
  {
   "cell_type": "markdown",
   "metadata": {},
   "source": [
    "__Solution:__"
   ]
  },
  {
   "cell_type": "code",
   "execution_count": 254,
   "metadata": {},
   "outputs": [
    {
     "name": "stdout",
     "output_type": "stream",
     "text": [
      "True\n"
     ]
    }
   ],
   "source": [
    "def listCompare(list1, list2):\n",
    "    \"\"\"\n",
    "    A method that compares to lists \n",
    "    \n",
    "    Arguments:\n",
    "    list1 - a list of any length\n",
    "    list2 - a list of any length\n",
    "    \n",
    "    Output:\n",
    "    Returns a boolean value. True if both lists have similar elements in any order else False.\n",
    "    \"\"\"\n",
    "    if sorted(list1) == sorted(list2):\n",
    "        return True\n",
    "    return False\n",
    "\n",
    "list1 = [1,2,3]\n",
    "list2 = [1,2,3]\n",
    "list3 = [1,3,2]\n",
    "\n",
    "print(listCompare(list1, list3))"
   ]
  },
  {
   "cell_type": "markdown",
   "metadata": {},
   "source": [
    "__Question 41:__<br>\n",
    "Write the Python program to get an array buffer information?\n",
    "\n",
    "Expected Output-<br>\n",
    "Array buffer start address in memory and number of elements.<br>\n",
    "(25855056, 2)"
   ]
  },
  {
   "cell_type": "markdown",
   "metadata": {},
   "source": [
    "__Solution:__"
   ]
  },
  {
   "cell_type": "code",
   "execution_count": 25,
   "metadata": {},
   "outputs": [
    {
     "name": "stdout",
     "output_type": "stream",
     "text": [
      "Number of elements in array are 3 and starting address is 4409376912\n"
     ]
    }
   ],
   "source": [
    "import array as arr\n",
    "\n",
    "array1 = arr.array(\"i\", (1,2,3))\n",
    "address, noOfElements = array1.buffer_info()\n",
    "print(f\"Number of elements in array are {noOfElements} and starting address is {address}\")\n",
    "        "
   ]
  },
  {
   "cell_type": "markdown",
   "metadata": {},
   "source": [
    "__Question 42:__<br>\n",
    "Write the Python program to convert an array to an array of machine values and return the bytes representation?\n",
    "\n",
    "Expected Output-<br>\n",
    "Original array-<br>\n",
    "A1: array('i', [1, 2, 3, 4, 5, 6])<br>\n",
    "Array of bytes:<br>\n",
    "b'010000000200000003000000040000000500000006000000'<br>"
   ]
  },
  {
   "cell_type": "markdown",
   "metadata": {},
   "source": [
    "__Solution:__"
   ]
  },
  {
   "cell_type": "code",
   "execution_count": 4,
   "metadata": {},
   "outputs": [
    {
     "name": "stdout",
     "output_type": "stream",
     "text": [
      "b'010000000200000003000000040000000500000006000000'\n"
     ]
    }
   ],
   "source": [
    "from array import *\n",
    "import binascii\n",
    "x = array('i',  [1, 2, 3, 4, 5, 6])\n",
    "s = binascii.hexlify(x.tobytes())\n",
    "print(s)"
   ]
  },
  {
   "cell_type": "markdown",
   "metadata": {},
   "source": [
    "__Question 43:__<br>\n",
    "Write the Python program to read a string and interpreting the string as an array of machine values? \n",
    "\n",
    "Expected Output-<br>\n",
    "array1- array('i', [7, 8, 9, 10])<br>\n",
    "Bytes- b'0700000008000000090000000a000000'<br>\n",
    "array2- array('i', [7, 8, 9, 10])<br>"
   ]
  },
  {
   "cell_type": "markdown",
   "metadata": {},
   "source": [
    "__Solution:__"
   ]
  },
  {
   "cell_type": "code",
   "execution_count": 29,
   "metadata": {},
   "outputs": [
    {
     "name": "stdout",
     "output_type": "stream",
     "text": [
      "array1: array('i', [7, 8, 9, 10])\n",
      "Bytes: b'0700000008000000090000000a000000'\n",
      "array2: array('i', [7, 8, 9, 10])\n"
     ]
    }
   ],
   "source": [
    "from array import array\n",
    "import binascii\n",
    "array1 = array('i', [7, 8, 9, 10])\n",
    "print('array1:', array1)\n",
    "as_bytes = array1.tobytes()\n",
    "\n",
    "print('Bytes:', binascii.hexlify(as_bytes))\n",
    "array2 = array('i')\n",
    "array2.frombytes(as_bytes)\n",
    "print('array2:', array2)"
   ]
  },
  {
   "cell_type": "markdown",
   "metadata": {},
   "source": [
    "__Question 44:__<br>\n",
    "Write the Python program to push three items into the heap and return the smallest item from the heap. Also, return and pop the smallest item from the heap?\n",
    "\n",
    " Expected Output-<br>\n",
    " Items in the heap-<br>\n",
    " ('VI', 1).<br>\n",
    " ('VII', 3).<br>\n",
    " ('VII', 2).<br>\n",
    " ('VIII', 2).<br>\n",
    " \n",
    " The smallest item in the heap:<br>\n",
    " ('VI', 1).<br>\n",
    " \n",
    " Pop the smallest item in the heap:<br>\n",
    " ('VII', 2).\n",
    " "
   ]
  },
  {
   "cell_type": "markdown",
   "metadata": {},
   "source": [
    "__Solution:__"
   ]
  },
  {
   "cell_type": "code",
   "execution_count": 32,
   "metadata": {},
   "outputs": [
    {
     "name": "stdout",
     "output_type": "stream",
     "text": [
      "[('VI', 1), ('VII', 3), ('VII', 2), ('VIII', 2)]\n",
      "('VI', 1)\n",
      "('VII', 2)\n",
      "('VII', 3)\n",
      "('VIII', 2)\n"
     ]
    }
   ],
   "source": [
    "import heapq\n",
    "\n",
    "userList = [('VI', 1), ('VII', 3), ('VII', 2), ('VIII', 2)]\n",
    "#userList = [1,2,3,4]\n",
    "\n",
    "heapq.heapify(userList)\n",
    "print(userList)\n",
    "\n",
    "print(heapq.heappop(userList))\n",
    "print(heapq.heappop(userList))\n",
    "print(heapq.heappop(userList))\n",
    "print(heapq.heappop(userList))\n"
   ]
  },
  {
   "cell_type": "markdown",
   "metadata": {},
   "source": [
    "__Question 45:__<br>\n",
    "\n",
    "Write the Python program to locate the left insertion point for a specified value in sorted order?<br>\n",
    "array = [1, 2, 4, 5]\n",
    "\n",
    "Expected Output:<br>\n",
    "4 <br>\n",
    "2 <br>"
   ]
  },
  {
   "cell_type": "markdown",
   "metadata": {},
   "source": [
    "__Solution:__"
   ]
  },
  {
   "cell_type": "code",
   "execution_count": 17,
   "metadata": {},
   "outputs": [
    {
     "name": "stdout",
     "output_type": "stream",
     "text": [
      "4\n",
      "2\n"
     ]
    }
   ],
   "source": [
    "import bisect\n",
    "def index(a, x):\n",
    "    i = bisect.bisect_left(a, x)\n",
    "    return i\n",
    "    \n",
    "a = [1,2,4,5]\n",
    "print(index(a, 6))\n",
    "print(index(a, 3))"
   ]
  },
  {
   "cell_type": "markdown",
   "metadata": {},
   "source": [
    "__Question 46:__<br>\n",
    "Write the Python program to create the FIFO queue?\n",
    "\n",
    "Expected Output:<br>\n",
    "0 1 2 3"
   ]
  },
  {
   "cell_type": "markdown",
   "metadata": {},
   "source": [
    "__Solution:__"
   ]
  },
  {
   "cell_type": "code",
   "execution_count": 21,
   "metadata": {},
   "outputs": [
    {
     "name": "stdout",
     "output_type": "stream",
     "text": [
      "0 1 2 3 "
     ]
    }
   ],
   "source": [
    "import queue\n",
    "userQueue = queue.Queue()\n",
    "\n",
    "for x in range(4):\n",
    "    userQueue.put(str(x))\n",
    "\n",
    "while not userQueue.empty():\n",
    "    print(userQueue.get(), end=\" \")\n"
   ]
  },
  {
   "cell_type": "markdown",
   "metadata": {},
   "source": [
    "__Question 47:__<br>\n",
    "Write the Python program to calculate the harmonic sum of n-1. Note: The harmonic sum is the sum of reciprocals of the positive Integers?\n",
    "\n",
    "Example -<br>\n",
    "1 + 1/2 + 1/3 + 1/4 + 1/5 .... 1/n-1"
   ]
  },
  {
   "cell_type": "markdown",
   "metadata": {},
   "source": [
    "__Solution:__"
   ]
  },
  {
   "cell_type": "code",
   "execution_count": 3,
   "metadata": {},
   "outputs": [
    {
     "name": "stdout",
     "output_type": "stream",
     "text": [
      "Enter a number to find harmonic sum for: 10\n",
      "Harmonic sum of 10 is 2.9289682539682538\n"
     ]
    }
   ],
   "source": [
    "number = int(input('Enter a number to find harmonic sum for: '))\n",
    "hm = 0\n",
    "for i in range(1, number+1):\n",
    "    hm += 1/i\n",
    "print(f\"Harmonic sum of {number} is {hm}\")\n",
    "\n",
    "import np."
   ]
  },
  {
   "cell_type": "markdown",
   "metadata": {},
   "source": [
    "__Question 48:__<br>\n",
    "Write the NumPy program to create a 2d array with 6 on the border and 0 inside?\n",
    "\n",
    "Expected Output-<br>\n",
    "Original array-<br>\n",
    "[[66666]<br>\n",
    "[66666]<br>\n",
    "[66666]<br>\n",
    "[66666]<br>\n",
    " \n",
    "6 on the border and 0 inside in the array-<br>\n",
    "[[66666]<br>\n",
    "[60006]<br>\n",
    "[60006]<br>\n",
    "[60006]<br>\n",
    "[66666]]"
   ]
  },
  {
   "cell_type": "markdown",
   "metadata": {},
   "source": [
    "__Solution:__"
   ]
  },
  {
   "cell_type": "code",
   "execution_count": 7,
   "metadata": {},
   "outputs": [
    {
     "data": {
      "text/plain": [
       "array([[6, 6, 6, 6, 6, 6],\n",
       "       [6, 0, 0, 0, 0, 6],\n",
       "       [6, 0, 0, 0, 0, 6],\n",
       "       [6, 0, 0, 0, 0, 6],\n",
       "       [6, 0, 0, 0, 0, 6],\n",
       "       [6, 6, 6, 6, 6, 6]])"
      ]
     },
     "execution_count": 7,
     "metadata": {},
     "output_type": "execute_result"
    }
   ],
   "source": [
    "import numpy as np\n",
    "\n",
    "arr = np.full((6,6),6)\n",
    "arr[1:5, 1:5] = 0\n",
    "arr"
   ]
  },
  {
   "cell_type": "markdown",
   "metadata": {},
   "source": [
    "__Question 49:__<br>\n",
    "Write the NumPy program to create a 8x8 matrix and fill it with the checkerboard pattern?\n",
    "\n",
    "Checkerboard pattern-<br>\n",
    "[[39393939]<br>\n",
    "[93939393]<br>\n",
    "[39393939]<br>\n",
    "[93939393]<br>\n",
    "[39393939]<br>\n",
    "[93939393]<br>\n",
    "[39393939]<br>\n",
    "[93939393]]"
   ]
  },
  {
   "cell_type": "markdown",
   "metadata": {},
   "source": [
    "__Solution:__"
   ]
  },
  {
   "cell_type": "code",
   "execution_count": 19,
   "metadata": {},
   "outputs": [
    {
     "data": {
      "text/plain": [
       "array([[3, 9, 3, 9, 3, 9, 3, 9],\n",
       "       [9, 3, 9, 3, 9, 3, 9, 3],\n",
       "       [3, 9, 3, 9, 3, 9, 3, 9],\n",
       "       [9, 3, 9, 3, 9, 3, 9, 3],\n",
       "       [3, 9, 3, 9, 3, 9, 3, 9],\n",
       "       [9, 3, 9, 3, 9, 3, 9, 3],\n",
       "       [3, 9, 3, 9, 3, 9, 3, 9],\n",
       "       [9, 3, 9, 3, 9, 3, 9, 3]])"
      ]
     },
     "execution_count": 19,
     "metadata": {},
     "output_type": "execute_result"
    }
   ],
   "source": [
    "import numpy as np\n",
    "\n",
    "arr = np.full((8,8),9)\n",
    "arr[1::2,1::2] = 3\n",
    "arr[::2,::2] = 3\n",
    "arr"
   ]
  },
  {
   "cell_type": "markdown",
   "metadata": {},
   "source": [
    "__Question 50:__<br>\n",
    "Write the NumPy program to create an empty and a full array.\n",
    "\n",
    "Expected Output-\n",
    "[[4.45057637e-308 1.78021527e-306 8.45549797e-307 1.37962049e-306] [1.11260619e-306 1.78010255e-306 9.79054228e-307 4.45057637e-308] [8.45596650e-307 9.34602321e-307 4.94065646e-322 0.00000000e+000]]<br>\n",
    "[[6 6 6], [6 6 6], [6 6 6]]"
   ]
  },
  {
   "cell_type": "markdown",
   "metadata": {},
   "source": [
    "__Solution:__"
   ]
  },
  {
   "cell_type": "code",
   "execution_count": 23,
   "metadata": {},
   "outputs": [
    {
     "name": "stdout",
     "output_type": "stream",
     "text": [
      "[[ 0.00000000e+000  0.00000000e+000  0.00000000e+000  0.00000000e+000]\n",
      " [ 0.00000000e+000  0.00000000e+000  0.00000000e+000  0.00000000e+000]\n",
      " [-2.31584178e+077 -2.31584178e+077  4.44659081e-323  0.00000000e+000]\n",
      " [ 0.00000000e+000  0.00000000e+000  0.00000000e+000  0.00000000e+000]]\n",
      "[[6 6 6]\n",
      " [6 6 6]\n",
      " [6 6 6]]\n"
     ]
    }
   ],
   "source": [
    "import numpy as np\n",
    "\n",
    "arrEmpty = np.empty((4,4))\n",
    "arrFull = np.full((3,3), 6)\n",
    "print(arrEmpty)\n",
    "print(arrFull)"
   ]
  },
  {
   "cell_type": "markdown",
   "metadata": {},
   "source": [
    "__Question 51:__<br>\n",
    "Write the NumPy program to convert the values of Centigrade degrees into the Fahrenheit degrees and the centigrade values are stored in the NumPy array.\n",
    "\n",
    "Sample Array -[0, 12, 45.21 ,34, 99.91]<br>\n",
    "Expected Output-<br>\n",
    "Values in Fahrenheit degrees-<br>\n",
    "[ 0. 12. 45.21 34. 99.91]<br>\n",
    "Values in Centigrade degrees-<br>\n",
    "[-17.77777778 -11.11111111 7.33888889 1.11111111 37.72777778]"
   ]
  },
  {
   "cell_type": "markdown",
   "metadata": {},
   "source": [
    "__Solution:__"
   ]
  },
  {
   "cell_type": "code",
   "execution_count": 37,
   "metadata": {},
   "outputs": [
    {
     "name": "stdout",
     "output_type": "stream",
     "text": [
      "[-17.77777778 -11.11111111   7.22222222   1.11111111  37.22222222]\n"
     ]
    }
   ],
   "source": [
    "import numpy as np\n",
    "\n",
    "centigrade = np.array([0, 12, 45 ,34, 99])\n",
    "fahrenheit = 5*centigrade/9 - 5*32/9\n",
    "print(fahrenheit)"
   ]
  },
  {
   "cell_type": "markdown",
   "metadata": {},
   "source": [
    "__Question 52:__<br>\n",
    "\n",
    "Write the NumPy program to find the real and imaginary parts of an array of complex numbers?\n",
    "\n",
    "Expected Output-<br>\n",
    "Original array [ 1.00000000+0.j 0.70710678+0.70710678j]<br>\n",
    "Real part of the array-<br>\n",
    "[ 1. 0.70710678]<br>\n",
    "Imaginary part of the array-<br>\n",
    "[ 0. 0.70710678]<br>"
   ]
  },
  {
   "cell_type": "markdown",
   "metadata": {},
   "source": [
    "__Solution:__"
   ]
  },
  {
   "cell_type": "code",
   "execution_count": 42,
   "metadata": {},
   "outputs": [
    {
     "name": "stdout",
     "output_type": "stream",
     "text": [
      "[1.         0.70710678]\n",
      "[0.         0.70710678]\n"
     ]
    }
   ],
   "source": [
    "import numpy as np\n",
    "\n",
    "arr = np.array([ 1.00000000+0.j, 0.70710678+0.70710678j])\n",
    "\n",
    "print(arr.real)\n",
    "print(arr.imag)"
   ]
  },
  {
   "cell_type": "markdown",
   "metadata": {},
   "source": [
    "__Question 53:__<br>\n",
    "\n",
    "Write the NumPy program to test whether each element of a 1-D array is also present in the second array?\n",
    "\n",
    "Expected Output-<br>\n",
    "Array1:[0, 10, 20, 40, 60]<br>\n",
    "Array2: [0, 40]<br>\n",
    "Compare each element of array1 and array2<br>\n",
    "[ True False False True False]"
   ]
  },
  {
   "cell_type": "markdown",
   "metadata": {},
   "source": [
    "__Solution:__"
   ]
  },
  {
   "cell_type": "code",
   "execution_count": 50,
   "metadata": {},
   "outputs": [
    {
     "data": {
      "text/plain": [
       "array([ True, False, False,  True, False])"
      ]
     },
     "execution_count": 50,
     "metadata": {},
     "output_type": "execute_result"
    }
   ],
   "source": [
    "import numpy as np\n",
    "\n",
    "arr1 = np.array([0, 10, 20, 40, 60])\n",
    "arr2 = np.array([0, 40])\n",
    "np.isin(arr1,arr2)\n"
   ]
  },
  {
   "cell_type": "markdown",
   "metadata": {},
   "source": [
    "__Question 54:__<br>\n",
    "\n",
    "Write the NumPy program to find common values between two arrays?\n",
    "\n",
    "Expected Output-<br>\n",
    "Array1: [0, 10, 20, 40, 60]<br>\n",
    "Array2: [10, 30, 40]<br>\n",
    "Common values between two arrays-<br>\n",
    "[10 40]"
   ]
  },
  {
   "cell_type": "markdown",
   "metadata": {},
   "source": [
    "__Solution:__"
   ]
  },
  {
   "cell_type": "code",
   "execution_count": 55,
   "metadata": {},
   "outputs": [
    {
     "data": {
      "text/plain": [
       "array([10, 40])"
      ]
     },
     "execution_count": 55,
     "metadata": {},
     "output_type": "execute_result"
    }
   ],
   "source": [
    "import numpy as np\n",
    "\n",
    "arr1 = np.array([0, 10, 20, 40, 60])\n",
    "arr2 = np.array([10, 30, 40])\n",
    "arr1[np.isin(arr1,arr2)]\n",
    "#or\n",
    "np.intersect1d(arr1, arr2)"
   ]
  },
  {
   "cell_type": "markdown",
   "metadata": {},
   "source": [
    "__Question 55:__<br>\n",
    "\n",
    "Write the NumPy program to get the unique elements of an array?\n",
    "\n",
    "Expected Output-<br>\n",
    "Original array-<br>\n",
    "[10 10 20 20 30 30]<br>\n",
    "Unique elements of the above array-<br>\n",
    "[10 20 30]<br>\n",
    "\n",
    "Original array-<br>\n",
    "[[1 1] <br>\n",
    "[2 3]]<br>\n",
    "Unique elements of the above array-<br>\n",
    "[123]"
   ]
  },
  {
   "cell_type": "markdown",
   "metadata": {},
   "source": [
    "__Solution:__"
   ]
  },
  {
   "cell_type": "code",
   "execution_count": 57,
   "metadata": {},
   "outputs": [
    {
     "data": {
      "text/plain": [
       "array([10, 20, 30])"
      ]
     },
     "execution_count": 57,
     "metadata": {},
     "output_type": "execute_result"
    }
   ],
   "source": [
    "import numpy as np\n",
    "\n",
    "arr = np.array([10, 10, 20, 20, 30, 30])\n",
    "\n",
    "np.unique(arr)\n",
    "\n",
    "#reference: https://www.pydoc.io/pypi/numpy-1.9.3/autoapi/lib/arraysetops/index.html"
   ]
  },
  {
   "cell_type": "markdown",
   "metadata": {},
   "source": [
    "__Question 56:__<br>\n",
    "Write the NumPy program to find the set exclusive-or of two arrays. Set exclusive-or will return the sorted, unique values that are in only one (not both) of the input arrays?\n",
    "\n",
    "Array1-[0, 10, 20, 40, 60, 80]<br>\n",
    "Array2- [10, 30, 40, 50, 70]<br>\n",
    "Unique values that are in only one (not both) of the input arrays-<br>\n",
    "[0, 20, 30, 50, 60, 70, 80]<br>"
   ]
  },
  {
   "cell_type": "markdown",
   "metadata": {},
   "source": [
    "__Solution:__"
   ]
  },
  {
   "cell_type": "code",
   "execution_count": 61,
   "metadata": {},
   "outputs": [
    {
     "data": {
      "text/plain": [
       "array([ 0, 20, 30, 50, 60, 70, 80])"
      ]
     },
     "execution_count": 61,
     "metadata": {},
     "output_type": "execute_result"
    }
   ],
   "source": [
    "import numpy as np\n",
    "\n",
    "arr1 = np.array([0, 10, 20, 40, 60, 80])\n",
    "arr2 = np.array([10, 30, 40, 50, 70])\n",
    "\n",
    "np.setxor1d(arr1, arr2)\n",
    "\n",
    "#reference: https://www.pydoc.io/pypi/numpy-1.9.3/autoapi/lib/arraysetops/index.html"
   ]
  },
  {
   "cell_type": "markdown",
   "metadata": {},
   "source": [
    "__Question 57:__<br>\n",
    "Write the NumPy program to test if all elements in an array evaluate to True ?\n",
    "\n",
    "Note: 0 evaluates to False in NumPy.\n"
   ]
  },
  {
   "cell_type": "markdown",
   "metadata": {},
   "source": [
    "__Solution:__"
   ]
  },
  {
   "cell_type": "code",
   "execution_count": 65,
   "metadata": {},
   "outputs": [
    {
     "name": "stdout",
     "output_type": "stream",
     "text": [
      "True\n",
      "False\n",
      "True\n"
     ]
    }
   ],
   "source": [
    "import numpy as np\n",
    "\n",
    "print(np.all([1, 1, 1]))\n",
    "print(np.all([0, 1, 1]))\n",
    "print(np.all([True, 1, 1]))"
   ]
  },
  {
   "cell_type": "markdown",
   "metadata": {},
   "source": [
    "__Question 58:__<br>\n",
    "Write the NumPy program to test whether any array element along the given axis evaluates to True?\n",
    "\n",
    "Note: 0 evaluates to False in NumPy.\n"
   ]
  },
  {
   "cell_type": "markdown",
   "metadata": {},
   "source": [
    "__Solution:__"
   ]
  },
  {
   "cell_type": "code",
   "execution_count": 66,
   "metadata": {},
   "outputs": [
    {
     "name": "stdout",
     "output_type": "stream",
     "text": [
      "False\n",
      "True\n",
      "True\n"
     ]
    }
   ],
   "source": [
    "import numpy as np\n",
    "\n",
    "print(np.any([0, 0, 0]))\n",
    "print(np.any([0, 1, 1]))\n",
    "print(np.any([True, 1, 1]))"
   ]
  },
  {
   "cell_type": "markdown",
   "metadata": {},
   "source": [
    "__Question 59:__<br>\n",
    "Write the NumPy program to construct an array by repeating?\n",
    "  \n",
    "Sample array- [1, 2, 3, 4] <br>\n",
    "Expected Output- <br>\n",
    "Original array [1,2,3,4]<br>\n",
    "Repeating 2 times [12341234]<br>\n",
    "Repeating 3 times [123412341234]"
   ]
  },
  {
   "cell_type": "markdown",
   "metadata": {},
   "source": [
    "__Solution:__"
   ]
  },
  {
   "cell_type": "code",
   "execution_count": 78,
   "metadata": {},
   "outputs": [
    {
     "name": "stdout",
     "output_type": "stream",
     "text": [
      "Repeating 1 times\n",
      "[1 2 3 4] \n",
      "\n",
      "Repeating 2 times\n",
      "[1 2 3 4 1 2 3 4] \n",
      "\n",
      "Repeating 3 times\n",
      "[1 2 3 4 1 2 3 4 1 2 3 4] \n",
      "\n"
     ]
    }
   ],
   "source": [
    "import numpy as np\n",
    "\n",
    "arr =  np.array([1, 2, 3, 4])\n",
    "appendar = np.array([], dtype = int)\n",
    "for i in range(3):\n",
    "    print(f\"Repeating {i+1} times\")\n",
    "    appendar = np.append(appendar, arr)\n",
    "    print(appendar,\"\\n\")"
   ]
  },
  {
   "cell_type": "markdown",
   "metadata": {},
   "source": [
    "__Question 60:__<br>\n",
    "Write the NumPy program to find the indices of the maximum and minimum values with the given axis of an array?\n",
    "\n",
    "Original array- [1 2 3 4 5 6]<br>\n",
    "Maximum Values- 5<br>\n",
    "Minimum Values- 0<br>\n"
   ]
  },
  {
   "cell_type": "markdown",
   "metadata": {},
   "source": [
    "__Solution:__"
   ]
  },
  {
   "cell_type": "code",
   "execution_count": 82,
   "metadata": {},
   "outputs": [
    {
     "name": "stdout",
     "output_type": "stream",
     "text": [
      "5\n",
      "0\n"
     ]
    }
   ],
   "source": [
    "import numpy as np\n",
    "\n",
    "arr = np.array([1, 2, 3, 4, 5, 6])\n",
    "\n",
    "print(np.argmax(arr))\n",
    "print(np.argmin(arr))"
   ]
  },
  {
   "cell_type": "markdown",
   "metadata": {},
   "source": [
    "__Question 61:__<br>\n",
    "Write the NumPy program compare two arrays using numpy?\n",
    "\n",
    "Array a- [1 2]<br>\n",
    "Array b- [4 5]<br>\n",
    "a>b<br>\n",
    "[False False]<br>\n",
    "a >= b<br>\n",
    "[False False]<br>\n",
    "a<b<br>\n",
    "[ True True]<br>\n",
    "a <= b<br>\n",
    "[ True True]\n"
   ]
  },
  {
   "cell_type": "markdown",
   "metadata": {},
   "source": [
    "__Solution:__"
   ]
  },
  {
   "cell_type": "code",
   "execution_count": 2,
   "metadata": {},
   "outputs": [
    {
     "name": "stdout",
     "output_type": "stream",
     "text": [
      "[False False]\n",
      "[False False]\n",
      "[ True  True]\n",
      "[ True  True]\n"
     ]
    }
   ],
   "source": [
    "import numpy as np\n",
    "\n",
    "a = np.array([1, 2])\n",
    "b = np.array([4, 5])\n",
    "\n",
    "print(a > b)\n",
    "print(a >= b)\n",
    "print(a < b)\n",
    "print(a <= b)"
   ]
  },
  {
   "cell_type": "markdown",
   "metadata": {},
   "source": [
    "\n",
    "__Question 62:__<br>\n",
    "Write the NumPy program to sort an along the first, last axis of an array?\n",
    "\n",
    "Sample array- [[2,5],[4,4]]<br>\n",
    "Expected Output-<br>\n",
    "Original array:<br>\n",
    "[[4 6]<br>\n",
    "[2 1]]<br>\n",
    "Sort along the first axis: <br>\n",
    "[[2 1]<br>\n",
    "[4 6]]<br>\n",
    "Sort along the last axis-<br>\n",
    "[[1 2] <br>\n",
    "[4 6]]<br>\n",
    "\n"
   ]
  },
  {
   "cell_type": "markdown",
   "metadata": {},
   "source": [
    "__Solution:__"
   ]
  },
  {
   "cell_type": "code",
   "execution_count": 14,
   "metadata": {},
   "outputs": [
    {
     "name": "stdout",
     "output_type": "stream",
     "text": [
      "[[2 1]\n",
      " [4 6]]\n",
      "[[4 6]\n",
      " [1 2]]\n"
     ]
    }
   ],
   "source": [
    "import numpy as np\n",
    "\n",
    "arr = np.array([[4, 6], [2, 1]])\n",
    "\n",
    "print(np.sort(arr, axis = 0))\n",
    "print(np.sort(arr, axis = 1))\n"
   ]
  },
  {
   "cell_type": "markdown",
   "metadata": {},
   "source": [
    "__Question 63:__<br>\n",
    "Write the NumPy program to sort pairs of first name and last name return their indices (first by last name, then by first name).\n",
    "\n",
    "first_names - ('Margery', 'Betsey', 'Shelley', 'Lanell', 'Genesis')<br>\n",
    "last_names - ('Woolum', 'Battle', 'Plotner', 'Brien', 'Stahl')<br>\n",
    "Expected Output-<br>\n",
    "[1, 3, 2, 4, 0]\n"
   ]
  },
  {
   "cell_type": "markdown",
   "metadata": {},
   "source": [
    "__Solution:__"
   ]
  },
  {
   "cell_type": "code",
   "execution_count": 22,
   "metadata": {},
   "outputs": [
    {
     "data": {
      "text/plain": [
       "array([1, 3, 2, 4, 0])"
      ]
     },
     "execution_count": 22,
     "metadata": {},
     "output_type": "execute_result"
    }
   ],
   "source": [
    "import numpy as np\n",
    "\n",
    "firstNames = np.array(('Margery', 'Betsey', 'Shelley', 'Lanell', 'Genesis'))\n",
    "lastNames = np.array(('Woolum', 'Battle', 'Plotner', 'Brien', 'Stahl'))\n",
    "\n",
    "np.lexsort((firstNames, lastNames))\n",
    "#sorts by last key first, i. e. lastNames and returns indexes of the array in ascending order\n",
    "#if values are tied then the next key from last is considered and so on"
   ]
  },
  {
   "cell_type": "markdown",
   "metadata": {},
   "source": [
    "__Question 64:__<br>\n",
    "Write the NumPy program to get the values and indices of the elements that are bigger than 10 in the given array?\n",
    "\n",
    "Original array-<br>\n",
    "[[0, 10, 20]<br>\n",
    "[20, 30, 40]]<br>\n",
    "Values bigger than 10 = [20 20 30 40]<br>\n",
    "Their indices are (array([0, 1, 1, 1]), array([2, 0, 1, 2]))\n"
   ]
  },
  {
   "cell_type": "markdown",
   "metadata": {},
   "source": [
    "__Solution:__"
   ]
  },
  {
   "cell_type": "code",
   "execution_count": 30,
   "metadata": {},
   "outputs": [
    {
     "name": "stdout",
     "output_type": "stream",
     "text": [
      "[20 20 30 40]\n",
      "(array([0, 1, 1, 1]), array([2, 0, 1, 2]))\n"
     ]
    }
   ],
   "source": [
    "import numpy as np\n",
    "\n",
    "arr = np.array([[0, 10, 20], [20, 30, 40]])\n",
    "print(arr[np.nonzero(arr > 10)])\n",
    "print(np.nonzero(arr > 10))"
   ]
  },
  {
   "cell_type": "markdown",
   "metadata": {},
   "source": [
    "__Question 65:__<br>\n",
    "Write the NumPy program to find the memory size of a NumPy array?\n",
    "\n",
    "Expected Output-<br>\n",
    "48 bytes\n"
   ]
  },
  {
   "cell_type": "markdown",
   "metadata": {},
   "source": [
    "__Solution:__"
   ]
  },
  {
   "cell_type": "code",
   "execution_count": 33,
   "metadata": {},
   "outputs": [
    {
     "data": {
      "text/plain": [
       "48"
      ]
     },
     "execution_count": 33,
     "metadata": {},
     "output_type": "execute_result"
    }
   ],
   "source": [
    "import numpy as np\n",
    "\n",
    "arr = np.array([[0, 10, 20], [20, 30, 40]])\n",
    "\n",
    "arr.nbytes"
   ]
  },
  {
   "cell_type": "markdown",
   "metadata": {},
   "source": [
    "__Question 66:__<br>\n",
    "Write the NumPy program to create an array of ones and an array of zeros?\n",
    "\n",
    "Expected Output-<br>\n",
    "Create an array of zeros<br>\n",
    "Default type is float<br>\n",
    "[[ 0. 0.]]<br>\n",
    "Type changes to int<br>\n",
    "[[0 0]]<br>\n",
    "Create an array of ones<br>\n",
    "Default type is float<br>\n",
    "[[ 1. 1.]]<br>\n",
    "Type changes to int<br>\n",
    "[[1 1]]\n"
   ]
  },
  {
   "cell_type": "markdown",
   "metadata": {},
   "source": [
    "__Solution:__"
   ]
  },
  {
   "cell_type": "code",
   "execution_count": 39,
   "metadata": {},
   "outputs": [
    {
     "name": "stdout",
     "output_type": "stream",
     "text": [
      "[[0. 0.]\n",
      " [0. 0.]]\n",
      "[[0 0]\n",
      " [0 0]]\n",
      "[[1. 1.]\n",
      " [1. 1.]]\n",
      "[[1 1]\n",
      " [1 1]]\n"
     ]
    }
   ],
   "source": [
    "import numpy as np\n",
    "\n",
    "print(np.zeros((2,2), dtype = float))\n",
    "print(np.zeros((2,2), dtype = int))\n",
    "print(np.ones((2,2), dtype = float))\n",
    "print(np.ones((2,2), dtype = int))"
   ]
  },
  {
   "cell_type": "markdown",
   "metadata": {},
   "source": [
    "__Question 67:__<br>\n",
    "Write the NumPy program to change the dimension of an array?\n",
    "\n",
    "Expected Output-<br>\n",
    "6 rows and 0 columns<br>\n",
    "(6,)<br>\n",
    "(3, 3) -> 3 rows and 3 columns<br>\n",
    "[[123]<br>\n",
    "[456]<br>\n",
    "[789]]<br>\n",
    "Change array shape to (3, 3) -> 3 rows and 3 columns<br>\n",
    "[[123]<br>\n",
    "[456]<br>\n",
    "[789]]\n"
   ]
  },
  {
   "cell_type": "markdown",
   "metadata": {},
   "source": [
    "__Solution:__"
   ]
  },
  {
   "cell_type": "code",
   "execution_count": 47,
   "metadata": {},
   "outputs": [
    {
     "name": "stdout",
     "output_type": "stream",
     "text": [
      "[1 2 3 4 5 6]\n",
      "(6,)\n",
      "[[1 2 3]\n",
      " [4 5 6]\n",
      " [7 8 9]]\n",
      "(3, 3)\n"
     ]
    }
   ],
   "source": [
    "import numpy as np\n",
    "\n",
    "arr = np.array([1, 2, 3, 4, 5, 6])\n",
    "arr = arr.reshape(6,)\n",
    "print(arr)\n",
    "print(arr.shape)\n",
    "\n",
    "arr = np.array([1, 2, 3, 4, 5, 6, 7, 8, 9])\n",
    "arr = arr.reshape(3,3)\n",
    "print(arr)\n",
    "print(arr.shape)"
   ]
  },
  {
   "cell_type": "markdown",
   "metadata": {},
   "source": [
    "__Question 68:__<br>\n",
    "Write the NumPy program to create a new shape to an array without changing its data ?\n",
    "\n",
    "Reshape 3x2-<br>\n",
    "[[1 2]<br>\n",
    "[3 4]<br>\n",
    "[5 6]]<br>\n",
    "Reshape 2x3-<br>\n",
    "[[123]<br>\n",
    "[456]]\n"
   ]
  },
  {
   "cell_type": "markdown",
   "metadata": {},
   "source": [
    "__Solution:__"
   ]
  },
  {
   "cell_type": "code",
   "execution_count": 50,
   "metadata": {},
   "outputs": [
    {
     "data": {
      "text/plain": [
       "array([[1, 2, 3],\n",
       "       [4, 5, 6]])"
      ]
     },
     "execution_count": 50,
     "metadata": {},
     "output_type": "execute_result"
    }
   ],
   "source": [
    "import numpy as np\n",
    "\n",
    "arr = np.arange(1,7).reshape(3,2)\n",
    "arr = arr.reshape(2,3)\n",
    "arr"
   ]
  },
  {
   "cell_type": "markdown",
   "metadata": {},
   "source": [
    "__Question 69:__<br>\n",
    "Write the NumPy program to create a new array of 3*5, filled with\n",
    "2?\n",
    "\n",
    "Expected Output-<br>\n",
    "[[22222]<br>\n",
    "[22222]<br>\n",
    "[22222]]<br>\n",
    "\n"
   ]
  },
  {
   "cell_type": "markdown",
   "metadata": {},
   "source": [
    "__Solution:__"
   ]
  },
  {
   "cell_type": "code",
   "execution_count": 52,
   "metadata": {},
   "outputs": [
    {
     "data": {
      "text/plain": [
       "array([[2, 2, 2, 2, 2],\n",
       "       [2, 2, 2, 2, 2],\n",
       "       [2, 2, 2, 2, 2]])"
      ]
     },
     "execution_count": 52,
     "metadata": {},
     "output_type": "execute_result"
    }
   ],
   "source": [
    "import numpy as np\n",
    "\n",
    "arr = np.full((3,5), 2)\n",
    "arr"
   ]
  },
  {
   "cell_type": "markdown",
   "metadata": {},
   "source": [
    "__Question 70:__<br>\n",
    "Write the NumPy program to create a 3-D array with ones on a diagonal and zeros elsewhere?\n",
    "\n",
    "Expected Output-<br>\n",
    "[[1.0.0.]<br>\n",
    "[0.1.0.]<br>\n",
    "[0.0.1.]]\n"
   ]
  },
  {
   "cell_type": "markdown",
   "metadata": {},
   "source": [
    "__Solution:__"
   ]
  },
  {
   "cell_type": "code",
   "execution_count": 54,
   "metadata": {},
   "outputs": [
    {
     "data": {
      "text/plain": [
       "array([[1., 0., 0.],\n",
       "       [0., 1., 0.],\n",
       "       [0., 0., 1.]])"
      ]
     },
     "execution_count": 54,
     "metadata": {},
     "output_type": "execute_result"
    }
   ],
   "source": [
    "import numpy as np\n",
    "\n",
    "np.eye(3,3)"
   ]
  },
  {
   "cell_type": "markdown",
   "metadata": {},
   "source": [
    "__Question 71:__<br>\n",
    "Write the NumPy program to split an array of 14 elements into the 3 arrays and each of which has 2, 4, and 8 elements in original order?\n",
    "\n",
    "Expected Output-<br>\n",
    "Originalarray-[1234567891011121314]<br>\n",
    "After splitting-<br>\n",
    "[array([1, 2]), array([3, 4, 5, 6]), array([ 7, 8, 9, 10, 11, 12, 13, 14])]\n"
   ]
  },
  {
   "cell_type": "markdown",
   "metadata": {},
   "source": [
    "__Solution:__"
   ]
  },
  {
   "cell_type": "code",
   "execution_count": 7,
   "metadata": {},
   "outputs": [
    {
     "name": "stdout",
     "output_type": "stream",
     "text": [
      "[1 2] [3 4 5 6] [ 7  8  9 10 11 12 13 14]\n"
     ]
    }
   ],
   "source": [
    "import numpy as np\n",
    "\n",
    "arr = np.arange(1, 15)\n",
    "arr1, arr2, arr3 = np.split(arr, [2,6])\n",
    "print(arr1, arr2, arr3)"
   ]
  },
  {
   "cell_type": "markdown",
   "metadata": {},
   "source": [
    "__Question 72:__<br>\n",
    "Write the NumPy program to split of an array of shape 4x4 it into two arrays along the second axis ?\n",
    "\n",
    "Sample array -<br>\n",
    "[[0123]<br>\n",
    "[4567]<br>\n",
    "[891011]<br>\n",
    "[12 13 14 15]]<br>\n",
    "Expected Output-<br>\n",
    "[array([[ 0, 1],<br>\n",
    "[4,5],<br>\n",
    "[8,9],<br>\n",
    "[12, 13]]), array([[ 2, 3],<br>\n",
    "[6,7],<br>\n",
    "[10, 11],<br>\n",
    "[14, 15]]), array([], shape=(4, 0), dtype=int64)]"
   ]
  },
  {
   "cell_type": "markdown",
   "metadata": {},
   "source": [
    "__Solution:__"
   ]
  },
  {
   "cell_type": "code",
   "execution_count": 12,
   "metadata": {},
   "outputs": [
    {
     "name": "stdout",
     "output_type": "stream",
     "text": [
      "[array([[ 0,  1],\n",
      "       [ 4,  5],\n",
      "       [ 8,  9],\n",
      "       [12, 13]]), array([[ 2,  3],\n",
      "       [ 6,  7],\n",
      "       [10, 11],\n",
      "       [14, 15]])]\n"
     ]
    }
   ],
   "source": [
    "import numpy as np\n",
    "\n",
    "arr = np.arange(0,16).reshape(4,4)\n",
    "print(np.split(arr, 2, axis = 1))"
   ]
  },
  {
   "cell_type": "markdown",
   "metadata": {},
   "source": [
    "__Question 73:__<br>\n",
    "Write the NumPy program to create a 5x5 matrix with row values ranging from 0 to 4?\n",
    "\n",
    "Original array-<br>\n",
    "[[0.0.0.0.0.]<br>\n",
    "[0.0.0.0.0.]<br>\n",
    "[0.0.0.0.0.]<br>\n",
    "[0.0.0.0.0.]<br>\n",
    "[0.0.0.0.0.]]<br>\n",
    "Row values ranging from 0 to 4.<br>\n",
    "[[0.1.2.3.4.]<br>\n",
    "[0.1.2.3.4.]<br>\n",
    "[0.1.2.3.4.]<br>\n",
    "[0.1.2.3.4.]<br>\n",
    "[0.1.2.3.4.]]"
   ]
  },
  {
   "cell_type": "markdown",
   "metadata": {},
   "source": [
    "__Solution:__"
   ]
  },
  {
   "cell_type": "code",
   "execution_count": 22,
   "metadata": {},
   "outputs": [
    {
     "data": {
      "text/plain": [
       "array([[0., 1., 2., 3., 4.],\n",
       "       [0., 1., 2., 3., 4.],\n",
       "       [0., 1., 2., 3., 4.],\n",
       "       [0., 1., 2., 3., 4.],\n",
       "       [0., 1., 2., 3., 4.]])"
      ]
     },
     "execution_count": 22,
     "metadata": {},
     "output_type": "execute_result"
    }
   ],
   "source": [
    "import numpy as np\n",
    "\n",
    "arr = np.zeros((5, 5))\n",
    "arr += np.arange(5)\n",
    "arr\n",
    "\n",
    "#broadcasting 5x5 array with 1x5 array"
   ]
  },
  {
   "cell_type": "markdown",
   "metadata": {},
   "source": [
    "__Question 74:__<br>\n",
    "Write the NumPy program to create an array of zeros and three column types (integer, float, character)?\n",
    "\n",
    "Expected Output-<br>\n",
    "[(1, 2., b'Albert Einstein') (2, 2., b'Edmond Halley')<br>\n",
    "(3, 3., b'Gertrude B. Elion')]"
   ]
  },
  {
   "cell_type": "markdown",
   "metadata": {},
   "source": [
    "__Solution:__"
   ]
  },
  {
   "cell_type": "code",
   "execution_count": 34,
   "metadata": {},
   "outputs": [
    {
     "data": {
      "text/plain": [
       "array([(1, 2., b'Albert Einstein'), (2, 2., b'Edmond Halley'),\n",
       "       (3, 3., b'Gertrude B. Elion')],\n",
       "      dtype=[('f0', '<i4'), ('f1', '<f4'), ('f2', 'S40')])"
      ]
     },
     "execution_count": 34,
     "metadata": {},
     "output_type": "execute_result"
    }
   ],
   "source": [
    "import numpy as np\n",
    "\n",
    "arr = np.zeros((3,), dtype=('i4, f4, a40'))\n",
    "fill = [(1, 2., \"Albert Einstein\"), (2, 2., \"Edmond Halley\"), (3, 3., \"Gertrude B. Elion\")]\n",
    "arr[:] = fill\n",
    "arr"
   ]
  },
  {
   "cell_type": "markdown",
   "metadata": {},
   "source": [
    "__Question 75:__<br>\n",
    "Write the NumPy program to remove the negative values in the numpy array with 0?\n",
    "\n",
    "Expected Output-<br>\n",
    "Original array:<br>\n",
    "[-1 -4 0 2 3 4 5-6]<br>\n",
    "Replace the negative values of the said array with 0-<br>\n",
    "[0 0 0 2 3 4 5 0]"
   ]
  },
  {
   "cell_type": "markdown",
   "metadata": {},
   "source": [
    "__Solution:__"
   ]
  },
  {
   "cell_type": "code",
   "execution_count": 36,
   "metadata": {},
   "outputs": [
    {
     "data": {
      "text/plain": [
       "array([0, 0, 0, 2, 3, 4, 5, 0])"
      ]
     },
     "execution_count": 36,
     "metadata": {},
     "output_type": "execute_result"
    }
   ],
   "source": [
    "import numpy as np\n",
    "\n",
    "arr = np.array([-1, -4, 0, 2, 3, 4, 5, -6])\n",
    "arr[arr < 0] = 0\n",
    "arr"
   ]
  },
  {
   "cell_type": "markdown",
   "metadata": {},
   "source": [
    "__Question 76:__<br>\n",
    "Write the NumPy program to compute the histogram of a set of data?\n",
    "\n",
    "![image](https://imgbbb.com/images/2019/12/18/Screenshot-2019-12-18-at-11.40.12-AM.png)"
   ]
  },
  {
   "cell_type": "markdown",
   "metadata": {},
   "source": [
    "__Solution:__"
   ]
  },
  {
   "cell_type": "code",
   "execution_count": 25,
   "metadata": {},
   "outputs": [
    {
     "data": {
      "text/plain": [
       "(array([0., 2., 1., 0.]), array([0, 1, 2, 3, 5]), <a list of 4 Patch objects>)"
      ]
     },
     "execution_count": 25,
     "metadata": {},
     "output_type": "execute_result"
    },
    {
     "data": {
      "image/png": "[encoded data removed]",
      "text/plain": [
       "<Figure size 432x288 with 1 Axes>"
      ]
     },
     "metadata": {
      "needs_background": "light"
     },
     "output_type": "display_data"
    }
   ],
   "source": [
    "import matplotlib.pyplot as plt\n",
    "%matplotlib inline\n",
    "\n",
    "plt.hist([1, 1, 2], bins=[0, 1, 2, 3, 5])\n"
   ]
  },
  {
   "cell_type": "markdown",
   "metadata": {},
   "source": [
    "__Question 77:__<br>\n",
    "Write the NumPy program to compute the line graph of a set of data?\n",
    "\n",
    "![image](https://imgbbb.com/images/2019/12/18/Screenshot-2019-12-18-at-12.31.31-PM.png)"
   ]
  },
  {
   "cell_type": "markdown",
   "metadata": {},
   "source": [
    "__Solution:__"
   ]
  },
  {
   "cell_type": "code",
   "execution_count": 36,
   "metadata": {},
   "outputs": [
    {
     "name": "stderr",
     "output_type": "stream",
     "text": [
      "/Users/raghu/anaconda3/lib/python3.7/site-packages/ipykernel_launcher.py:11: UserWarning: Matplotlib is currently using module://ipykernel.pylab.backend_inline, which is a non-GUI backend, so cannot show the figure.\n",
      "  # This is added back by InteractiveShellApp.init_path()\n"
     ]
    },
    {
     "data": {
      "image/png": "[encoded data removed]",
      "text/plain": [
       "<Figure size 432x288 with 1 Axes>"
      ]
     },
     "metadata": {
      "needs_background": "light"
     },
     "output_type": "display_data"
    }
   ],
   "source": [
    "import numpy as np    \n",
    "import matplotlib.pyplot as plt\n",
    "%matplotlib inline\n",
    "\n",
    "arr = np.random.randint(1, 50, 10)\n",
    "\n",
    "y, x = np.histogram(arr, bins=np.arange(51))\n",
    "fig, ax = plt.subplots()\n",
    "\n",
    "ax.plot(x[:-1], y)\n",
    "fig.show()"
   ]
  },
  {
   "cell_type": "markdown",
   "metadata": {},
   "source": [
    "__Question 78:__<br>\n",
    "Write the NumPy program to extracts all the elements from second row from given (4x4) array?\n",
    "\n",
    "Sample Output-<br>\n",
    "Original array-<br>\n",
    "[[0123]<br>\n",
    "[4567]<br>\n",
    "[891011]<br>\n",
    "[12 13 14 15]]<br>\n",
    "Extracted data- Second row<br>\n",
    "[4567]"
   ]
  },
  {
   "cell_type": "markdown",
   "metadata": {},
   "source": [
    "__Solution:__"
   ]
  },
  {
   "cell_type": "code",
   "execution_count": 37,
   "metadata": {},
   "outputs": [
    {
     "data": {
      "text/plain": [
       "array([4, 5, 6, 7])"
      ]
     },
     "execution_count": 37,
     "metadata": {},
     "output_type": "execute_result"
    }
   ],
   "source": [
    "import numpy as np\n",
    "\n",
    "arr = np.arange(16).reshape(4, 4)\n",
    "arr[1]"
   ]
  },
  {
   "cell_type": "markdown",
   "metadata": {},
   "source": [
    "__Question 79:__<br>\n",
    "Write the NumPy program to extract first element of the second row and fourth element of fourth row from a given (4x4) array?\n",
    "\n",
    "Sample Output-<br>\n",
    "Original array-<br>\n",
    "[[0, 1, 2, 3],<br>\n",
    "[4, 5, 6, 7],<br>\n",
    "[8, 9, 10, 11],<br>\n",
    "[12, 13, 14, 15]]<br>\n",
    "Extracted data- First element of the second row and fourth element of fourth row<br>\n",
    "[4, 15]"
   ]
  },
  {
   "cell_type": "markdown",
   "metadata": {},
   "source": [
    "__Solution:__"
   ]
  },
  {
   "cell_type": "code",
   "execution_count": 39,
   "metadata": {},
   "outputs": [
    {
     "data": {
      "text/plain": [
       "array([ 4, 15])"
      ]
     },
     "execution_count": 39,
     "metadata": {},
     "output_type": "execute_result"
    }
   ],
   "source": [
    "import numpy as np\n",
    "\n",
    "arr = np.arange(16).reshape(4, 4)\n",
    "arr[[1, 3], [0, 3]]"
   ]
  },
  {
   "cell_type": "markdown",
   "metadata": {},
   "source": [
    "__Question 80:__<br>\n",
    "Write the NumPy program to add two arrays A and B of sizes (3,3) and (,3)?\n",
    "\n",
    "Sample Output-<br>\n",
    "Original array-<br>\n",
    "Array-1<br>\n",
    "[[111]<br>\n",
    "[111]<br>\n",
    "[111]]<br>\n",
    "Array-2<br>\n",
    "[012]<br>\n",
    "A+B:<br>\n",
    "[[1 2 3]<br>\n",
    "[1 2 3]<br>\n",
    "[1 2 3]]"
   ]
  },
  {
   "cell_type": "markdown",
   "metadata": {},
   "source": [
    "__Solution:__"
   ]
  },
  {
   "cell_type": "code",
   "execution_count": 42,
   "metadata": {},
   "outputs": [
    {
     "data": {
      "text/plain": [
       "array([[1., 2., 3.],\n",
       "       [1., 2., 3.],\n",
       "       [1., 2., 3.]])"
      ]
     },
     "execution_count": 42,
     "metadata": {},
     "output_type": "execute_result"
    }
   ],
   "source": [
    "import numpy as np\n",
    "\n",
    "arr1 = np.ones((3,3))\n",
    "arr2 = np.arange(3)\n",
    "\n",
    "arr1+arr2\n",
    "#broadcasting"
   ]
  },
  {
   "cell_type": "markdown",
   "metadata": {},
   "source": [
    "__Question 81:__<br>\n",
    "Write the NumPy program to copy data from a given array to another array?\n",
    "\n",
    "Sample Output-<br>\n",
    "Original array-<br>\n",
    "[24, 27, 30, 29, 18, 14]<br>\n",
    "Copy of the said array-<br>\n",
    "[24, 27, 30, 29, 18, 14]"
   ]
  },
  {
   "cell_type": "markdown",
   "metadata": {},
   "source": [
    "__Solution:__"
   ]
  },
  {
   "cell_type": "code",
   "execution_count": 43,
   "metadata": {},
   "outputs": [
    {
     "data": {
      "text/plain": [
       "array([24, 27, 30, 29, 18, 14])"
      ]
     },
     "execution_count": 43,
     "metadata": {},
     "output_type": "execute_result"
    }
   ],
   "source": [
    "import numpy as np\n",
    "\n",
    "arrO = np.array([24, 27, 30, 29, 18, 14])\n",
    "arrC = arrO.copy()\n",
    "arrC"
   ]
  },
  {
   "cell_type": "markdown",
   "metadata": {},
   "source": [
    "__Question 82:__<br>\n",
    "Write the NumPy program to calculate the sum of all columns of the 2D numpy array?\n",
    "\n",
    "Sample Output-<br>\n",
    "Original array-<br>\n",
    "[[0, 1, 2, 3, 4, 5, 6, 7, 8],<br>\n",
    "[9, 10, 11, 12, 13, 14, 15, 16, 17],<br>\n",
    "[18, 19, 20, 21, 22, 23, 24, 25, 26],<br>\n",
    "[27, 28, 29, 30, 31, 32, 33, 34, 35]]<br>\n",
    "Sum of all columns-<br>\n",
    "[54, 58, 62, 66, 70, 74, 78, 82, 86]"
   ]
  },
  {
   "cell_type": "markdown",
   "metadata": {},
   "source": [
    "__Solution:__"
   ]
  },
  {
   "cell_type": "code",
   "execution_count": 49,
   "metadata": {},
   "outputs": [
    {
     "name": "stdout",
     "output_type": "stream",
     "text": [
      "Sum of all columns -\n",
      " [54 58 62 66 70 74 78 82 86]\n"
     ]
    }
   ],
   "source": [
    "import numpy as np\n",
    "\n",
    "arr = np.arange(36).reshape(4,9)\n",
    "\n",
    "print(\"Sum of all columns -\\n\",arr.sum(axis = 0))"
   ]
  },
  {
   "cell_type": "markdown",
   "metadata": {},
   "source": [
    "__Question 83:__<br>\n",
    "Write the NumPy program to calculate averages without NaNs along the given array?\n",
    "\n",
    "Sample Output-<br>\n",
    "Original array-<br>\n",
    "[[10. 20. 30.]<br>\n",
    "[40. 50. nan]<br>\n",
    "[nan 6. nan]<br>\n",
    "[nan nan nan]]<br>\n",
    " \n",
    "Averages without NaNs along the said array-<br>\n",
    "[20. 45. 6. nan]"
   ]
  },
  {
   "cell_type": "markdown",
   "metadata": {},
   "source": [
    "__Solution:__"
   ]
  },
  {
   "cell_type": "code",
   "execution_count": 61,
   "metadata": {},
   "outputs": [
    {
     "name": "stderr",
     "output_type": "stream",
     "text": [
      "/Users/raghu/anaconda3/lib/python3.7/site-packages/ipykernel_launcher.py:5: RuntimeWarning: Mean of empty slice\n",
      "  \"\"\"\n"
     ]
    },
    {
     "data": {
      "text/plain": [
       "array([20., 45.,  6., nan])"
      ]
     },
     "execution_count": 61,
     "metadata": {},
     "output_type": "execute_result"
    }
   ],
   "source": [
    "import numpy as np\n",
    "\n",
    "arr1 = np.array([[10, 20 ,30], [40, 50, np.nan], [np.nan, 6, np.nan], [np.nan, np.nan, np.nan]])\n",
    "\n",
    "np.nanmean(arr1, axis = 1) \n"
   ]
  },
  {
   "cell_type": "markdown",
   "metadata": {},
   "source": [
    "__Question 84:__<br>\n",
    "Create two arrays of six elements. Write the NumPy program to count the number of instances of a value occurring in one array on the condition of another array.\n",
    "\n",
    "Sample Output-<br>\n",
    "Original arrays-<br>\n",
    "[10, -10, 10, -10, -10, 10]<br>\n",
    "[0.85, 0.45, 0.9, 0.8, 0.12, 0.6]<br>\n",
    "Number of instances of a value occurring in one array on the condition of another<br>\n",
    "array: 3"
   ]
  },
  {
   "cell_type": "markdown",
   "metadata": {},
   "source": [
    "__Solution:__"
   ]
  },
  {
   "cell_type": "code",
   "execution_count": 68,
   "metadata": {},
   "outputs": [
    {
     "data": {
      "text/plain": [
       "2"
      ]
     },
     "execution_count": 68,
     "metadata": {},
     "output_type": "execute_result"
    }
   ],
   "source": [
    "import numpy as np\n",
    "\n",
    "arr1 = np.array([10, -10, 10, -10, -10, 10])\n",
    "arr2 = np.array([0.85, 0.45, 0.9, 0.8, 0.12, 0.6])\n",
    "\n",
    "np.sum((arr1 > 0) & (arr2 >0.8))"
   ]
  },
  {
   "cell_type": "markdown",
   "metadata": {},
   "source": [
    "__Question 85:__<br>\n",
    "Write the NumPy program to convert a Python dictionary to a Numpy ndarray ?\n",
    "\n",
    "Original dictionary-<br>\n",
    "{'column0': {'a': 1, 'b': 0.0, 'c': 0.0, 'd': 2.0},<br>\n",
    "'column1': {'a': 3.0, 'b': 1, 'c': 0.0, 'd': -1.0},<br>\n",
    "'column2': {'a': 4, 'b': 1, 'c': 5.0, 'd': -1.0},<br>\n",
    "'column3': {'a': 3.0, 'b': -1.0, 'c': -1.0, 'd': -1.0}}<br>\n",
    "Type: <class 'dict'><br>\n",
    "ndarray-<br>\n",
    "[[1.0.0.2.]<br>\n",
    "[3.1.0.-1.]<br>\n",
    "[4.1.5.-1.]<br>\n",
    "[ 3. -1. -1. -1.]]<br>\n",
    "Type: <class 'numpy.ndarray'>"
   ]
  },
  {
   "cell_type": "markdown",
   "metadata": {},
   "source": [
    "__Solution:__"
   ]
  },
  {
   "cell_type": "code",
   "execution_count": 109,
   "metadata": {},
   "outputs": [
    {
     "data": {
      "text/plain": [
       "array([[ 1.,  0.,  0.,  2.],\n",
       "       [ 3.,  1.,  0., -1.],\n",
       "       [ 4.,  1.,  5., -1.],\n",
       "       [ 3., -1., -1., -1.]])"
      ]
     },
     "execution_count": 109,
     "metadata": {},
     "output_type": "execute_result"
    }
   ],
   "source": [
    "import numpy as np\n",
    "\n",
    "dict1 = {'column0': {'a': 1, 'b': 0.0, 'c': 0.0, 'd': 2.0},\n",
    "'column1': {'a': 3.0, 'b': 1, 'c': 0.0, 'd': -1.0},\n",
    "'column2': {'a': 4, 'b': 1, 'c': 5.0, 'd': -1.0},\n",
    "'column3': {'a': 3.0, 'b': -1.0, 'c': -1.0, 'd': -1.0}}\n",
    "\n",
    "list1 = np.array([list(x.values()) for x in [x for y, x in dict1.items()]])\n",
    "list1"
   ]
  },
  {
   "cell_type": "markdown",
   "metadata": {},
   "source": [
    "__Question 86:__<br>\n",
    "Write the Numpy program to find and store the non-zero unique rows in an array after comparing each row with other row in the given matrix?\n",
    "\n",
    "Original array-<br>\n",
    "[[1, 1, 0],<br>\n",
    "[0, 0, 0],<br>\n",
    "[0, 2, 3],<br>\n",
    "[0, 0, 0],<br>\n",
    "[0, -1, 1],<br>\n",
    "[0, 0, 0]]<br>\n",
    "Non-zero unique rows-<br>\n",
    "[[1, 1, 0],<br>\n",
    "[0, 2, 3],<br>\n",
    "[0, -1, 1]]"
   ]
  },
  {
   "cell_type": "markdown",
   "metadata": {},
   "source": [
    "__Solution:__"
   ]
  },
  {
   "cell_type": "code",
   "execution_count": 190,
   "metadata": {},
   "outputs": [
    {
     "data": {
      "text/plain": [
       "array([[ 1,  1,  0],\n",
       "       [ 0,  2,  3],\n",
       "       [ 0, -1,  1]])"
      ]
     },
     "execution_count": 190,
     "metadata": {},
     "output_type": "execute_result"
    }
   ],
   "source": [
    "import numpy as np\n",
    "\n",
    "arr = np.array([[1, 1, 0], [0, 0, 0], [0, 2, 3], [0, 0, 0], [0, -1, 1], [0, 0, 0]])\n",
    "result = []\n",
    "for index, row in enumerate(arr):\n",
    "    if list(row) != [0, 0, 0]:\n",
    "        result.append(index)\n",
    "\n",
    "arr[result]"
   ]
  },
  {
   "cell_type": "markdown",
   "metadata": {},
   "source": [
    "__Question 87:__<br>\n",
    "Write the NumPy program to multiply the matrix by another matrix of complex numbers and create a new matrix of complex numbers?\n",
    "\n",
    "Sample output-<br>\n",
    "First array-<br>\n",
    "[ 1.+2.j 3.+4.j]<br>\n",
    "Second array-<br>\n",
    "[ 5.+6.j 7.+8.j]<br>\n",
    "Product of above two arrays-<br>\n",
    "(70-8j)"
   ]
  },
  {
   "cell_type": "markdown",
   "metadata": {},
   "source": [
    "__Solution:__"
   ]
  },
  {
   "cell_type": "code",
   "execution_count": 195,
   "metadata": {},
   "outputs": [
    {
     "data": {
      "text/plain": [
       "(70-8j)"
      ]
     },
     "execution_count": 195,
     "metadata": {},
     "output_type": "execute_result"
    }
   ],
   "source": [
    "import numpy as np\n",
    "\n",
    "mat1 = np.array([ 1.+2.j, 3.+4.j])\n",
    "mat2 = np.array([ 5.+6.j, 7.+8.j])\n",
    "\n",
    "np.vdot(mat1, mat2)\n",
    "\n",
    "\n",
    "#ASK AS DOUBT"
   ]
  },
  {
   "cell_type": "markdown",
   "metadata": {},
   "source": [
    "__Question 88:__<br>\n",
    "Write a NumPy program to generate the matrix product of two Arrays?\n",
    "\n",
    "Sample Output-<br>\n",
    "Matrices and vectors.<br>\n",
    "x-<br>\n",
    "[[1, 0], [1, 1]]<br>\n",
    "y-<br>\n",
    "[[3, 1], [2, 2]]<br>\n",
    "Matrix product of above two arrays-<br>\n",
    "[[3 1]<br>\n",
    "[5 3]]"
   ]
  },
  {
   "cell_type": "markdown",
   "metadata": {},
   "source": [
    "__Solution:__"
   ]
  },
  {
   "cell_type": "code",
   "execution_count": 199,
   "metadata": {},
   "outputs": [
    {
     "data": {
      "text/plain": [
       "array([[3, 1],\n",
       "       [5, 3]])"
      ]
     },
     "execution_count": 199,
     "metadata": {},
     "output_type": "execute_result"
    }
   ],
   "source": [
    "import numpy as np\n",
    "\n",
    "arr1 = np.array([[1, 0], [1, 1]])\n",
    "arr2 = np.array([[3, 1], [2, 2]])\n",
    "np.matmul(arr1, arr2)\n",
    "\n",
    "#ASK AS DOUBT"
   ]
  },
  {
   "cell_type": "markdown",
   "metadata": {},
   "source": [
    "__Question 89:__<br>\n",
    "Write the NumPy program to find roots of the following Polynomials?\n",
    "\n",
    "a)(x2 -4x+7)<br>\n",
    "b)x4-11x3+9x2 +11x?10<br>\n",
    "Sample output-<br>\n",
    "Roots of the first polynomial-<br>\n",
    "[1.1.]<br>\n",
    "Roots of the second polynomial-<br>\n",
    "[ 11.04461946+0.j -0.87114210+0.j 0.91326132+0.4531004j<br>\n",
    "0.91326132-0.4531004j ]"
   ]
  },
  {
   "cell_type": "markdown",
   "metadata": {},
   "source": [
    "__Solution:__"
   ]
  },
  {
   "cell_type": "code",
   "execution_count": 207,
   "metadata": {},
   "outputs": [
    {
     "name": "stdout",
     "output_type": "stream",
     "text": [
      "[2.+1.73205081j 2.-1.73205081j]\n",
      "[ 9.97739366+0.j          1.9206355 +0.j         -0.44901458+0.56588568j\n",
      " -0.44901458-0.56588568j]\n"
     ]
    }
   ],
   "source": [
    "import numpy as np\n",
    "\n",
    "print(np.roots([1, -4, 7]))\n",
    "print(np.roots([1, -11, 9, 11, 10]))\n"
   ]
  },
  {
   "cell_type": "markdown",
   "metadata": {},
   "source": [
    "__Question 90:__<br>\n",
    "Write the NumPy program to calculate inverse of sine, cosine, and inverse tangent for all elements in a given array?\n",
    "[-1., 0, 1.]\n",
    "\n",
    "Sample output-<br>\n",
    "Inverse sine- [-1.57079633 0. 1.57079633]<br>\n",
    "Inverse cosine- [3.14159265 1.57079633 0. ]<br>\n",
    "Inverse tangent- [-0.78539816 0. 0.78539816]"
   ]
  },
  {
   "cell_type": "markdown",
   "metadata": {},
   "source": [
    "__Solution:__"
   ]
  },
  {
   "cell_type": "code",
   "execution_count": 210,
   "metadata": {},
   "outputs": [
    {
     "name": "stdout",
     "output_type": "stream",
     "text": [
      "[-1.57079633  0.          1.57079633]\n",
      "[3.14159265 1.57079633 0.        ]\n",
      "[-0.78539816  0.          0.78539816]\n"
     ]
    }
   ],
   "source": [
    "import numpy as np\n",
    "\n",
    "arr = np.array([-1., 0, 1.])\n",
    "\n",
    "print(np.arcsin(arr))\n",
    "print(np.arccos(arr))\n",
    "print(np.arctan(arr))"
   ]
  },
  {
   "cell_type": "markdown",
   "metadata": {},
   "source": [
    "__Question 91:__<br>\n",
    "Write the NumPy program to calculate the difference between in neighbouring elements, element-wise of a given array?\n",
    "\n",
    "Sample output-<br>\n",
    "Original array-<br>\n",
    "[1, 3, 5, 7, 0]<br>\n",
    "Difference between neighbouring elements, element-wise of the said array-<br>\n",
    "[2, 2, 2, -7]"
   ]
  },
  {
   "cell_type": "markdown",
   "metadata": {},
   "source": [
    "__Solution:__"
   ]
  },
  {
   "cell_type": "code",
   "execution_count": 7,
   "metadata": {},
   "outputs": [
    {
     "data": {
      "text/plain": [
       "array([ 2,  2,  2, -7])"
      ]
     },
     "execution_count": 7,
     "metadata": {},
     "output_type": "execute_result"
    }
   ],
   "source": [
    "import numpy as np\n",
    "\n",
    "arr = np.array([1, 3, 5, 7, 0])\n",
    "\n",
    "np.diff(arr, 1)"
   ]
  },
  {
   "cell_type": "markdown",
   "metadata": {},
   "source": [
    "__Question 92:__<br>\n",
    "Write the Python program to find the maximum and the minimum value of a given flattened array?\n",
    "\n",
    "Expected Output-<br>\n",
    "Original flattened array-<br>\n",
    "[[0 1]<br>\n",
    "[2 3]]<br>\n",
    "Maximum value of the above flattened array- <br>\n",
    "3<br>\n",
    "Minimum value of the above flattened array- <br>\n",
    "0"
   ]
  },
  {
   "cell_type": "markdown",
   "metadata": {},
   "source": [
    "__Solution:__"
   ]
  },
  {
   "cell_type": "code",
   "execution_count": 9,
   "metadata": {},
   "outputs": [
    {
     "name": "stdout",
     "output_type": "stream",
     "text": [
      "Maximum value of the above flattened array [[0 1]\n",
      " [2 3]] is 3\n",
      "Minimum value of the above flattened array [[0 1]\n",
      " [2 3]] is 0\n"
     ]
    }
   ],
   "source": [
    "import numpy as np\n",
    "\n",
    "arr = np.array([[0, 1], [2, 3]])\n",
    "\n",
    "print(f\"Maximum value of the above flattened array {arr} is {arr.max()}\")\n",
    "print(f\"Minimum value of the above flattened array {arr} is {arr.min()}\")"
   ]
  },
  {
   "cell_type": "markdown",
   "metadata": {},
   "source": [
    "__Question 93:__<br>\n",
    "Write the NumPy program to calculate the difference between in the maximum and the minimum values of a given array along the second axis ?\n",
    "\n",
    "Expected Output-<br>\n",
    "Original array-<br>\n",
    "[[0, 1, 2, 3, 4, 5],<br>\n",
    "[6, 7, 8, 9, 10, 11]]<br>\n",
    "Difference between the maximum and the minimum values of the said array-<br>\n",
    "[5, 5]"
   ]
  },
  {
   "cell_type": "markdown",
   "metadata": {},
   "source": [
    "__Solution:__"
   ]
  },
  {
   "cell_type": "code",
   "execution_count": 13,
   "metadata": {},
   "outputs": [
    {
     "name": "stdout",
     "output_type": "stream",
     "text": [
      "[5 5]\n",
      "\n",
      "\n"
     ]
    }
   ],
   "source": [
    "import numpy as np\n",
    "\n",
    "arr = np.array([[0, 1, 2, 3, 4, 5], [6, 7, 8, 9, 10, 11]])\n",
    "\n",
    "print(arr.max(axis = 1) - arr.min(axis = 1))"
   ]
  },
  {
   "cell_type": "markdown",
   "metadata": {},
   "source": [
    "__Question 94:__<br>\n",
    "Write the NumPy program to compute the weighted average of the given array ?\n",
    "\n",
    "Sample Output-<br>\n",
    "Original array-<br>\n",
    "[0, 1, 2, 3, 4]<br>\n",
    "Weighted average of the said array-<br>\n",
    "2.6666666666666665"
   ]
  },
  {
   "cell_type": "markdown",
   "metadata": {},
   "source": [
    "__Solution:__"
   ]
  },
  {
   "cell_type": "code",
   "execution_count": 17,
   "metadata": {},
   "outputs": [
    {
     "data": {
      "text/plain": [
       "1.8695652173913044"
      ]
     },
     "execution_count": 17,
     "metadata": {},
     "output_type": "execute_result"
    }
   ],
   "source": [
    "import numpy as np\n",
    "\n",
    "arr1 = np.array([0, 1, 2, 3, 4])\n",
    "arr2 = [5, 7, 2, 4, 5]\n",
    "\n",
    "np.average(arr, weights = arr2)"
   ]
  },
  {
   "cell_type": "markdown",
   "metadata": {},
   "source": [
    "__Question 95:__<br>\n",
    "Write the NumPy program to compute the mean, standard deviation, and the variance of a given array along the second axis?\n",
    "\n",
    "Sample output-<br>\n",
    "Original array-<br>\n",
    "[0, 1, 2, 3, 4, 5]<br>\n",
    "Mean- 2.5<br>\n",
    "std - 1<br>\n",
    "variance- 2.9166666666666665"
   ]
  },
  {
   "cell_type": "markdown",
   "metadata": {},
   "source": [
    "__Solution:__"
   ]
  },
  {
   "cell_type": "code",
   "execution_count": 32,
   "metadata": {},
   "outputs": [
    {
     "name": "stdout",
     "output_type": "stream",
     "text": [
      "Mean -  2.5\n",
      "Standard deviation -  1.707825127659933\n",
      "Variance -  2.9166666666666665\n"
     ]
    }
   ],
   "source": [
    "import numpy as np\n",
    "\n",
    "arr = np.arange(6)\n",
    "print(\"Mean - \", arr.mean())\n",
    "print(\"Standard deviation - \", arr.std())\n",
    "print(\"Variance - \", arr.var())\n"
   ]
  },
  {
   "cell_type": "markdown",
   "metadata": {},
   "source": [
    "__Question 96:__<br>\n",
    "Write the Numpy program to compute the covariance matrix of the two given arrays?\n",
    "\n",
    "Sample Output-<br>\n",
    "Original array1-<br>\n",
    "[012]<br>\n",
    "Original array1-<br>\n",
    "[210]<br>\n",
    "Covariance matrix of the said arrays-<br>\n",
    "[[ 1. -1.]\n",
    "[-1. 1.]]"
   ]
  },
  {
   "cell_type": "markdown",
   "metadata": {},
   "source": [
    "__Solution:__"
   ]
  },
  {
   "cell_type": "code",
   "execution_count": 34,
   "metadata": {},
   "outputs": [
    {
     "data": {
      "text/plain": [
       "array([[ 1., -1.],\n",
       "       [-1.,  1.]])"
      ]
     },
     "execution_count": 34,
     "metadata": {},
     "output_type": "execute_result"
    }
   ],
   "source": [
    "import numpy as np\n",
    "\n",
    "arr = np.array([[0, 1, 2], [2, 1, 0]])\n",
    "\n",
    "np.cov(arr)"
   ]
  },
  {
   "cell_type": "markdown",
   "metadata": {},
   "source": [
    "__Question 97:__<br>\n",
    "Write a NumPy program to compute the cross-correlation of two given arrays ?\n",
    "\n",
    "Sample Output-<br>\n",
    "Original array1-<br>\n",
    "[0 1 3]<br>\n",
    "Original array1-<br>\n",
    "[2 4 5]<br>\n",
    "Cross-correlation of the said arrays-<br>\n",
    "[ [ 2.33333333 2.16666667 ]<br>\n",
    "[ 2.16666667 2.33333333 ] ]"
   ]
  },
  {
   "cell_type": "markdown",
   "metadata": {},
   "source": [
    "__Solution:__"
   ]
  },
  {
   "cell_type": "code",
   "execution_count": 36,
   "metadata": {},
   "outputs": [
    {
     "data": {
      "text/plain": [
       "array([[2.33333333, 2.16666667],\n",
       "       [2.16666667, 2.33333333]])"
      ]
     },
     "execution_count": 36,
     "metadata": {},
     "output_type": "execute_result"
    }
   ],
   "source": [
    "import numpy as np\n",
    "\n",
    "arr1 = np.array([0, 1, 3])\n",
    "arr2 = np.array([2, 4, 5])\n",
    "\n",
    "np.cov(arr1, arr2)"
   ]
  },
  {
   "cell_type": "markdown",
   "metadata": {},
   "source": [
    "__Question 98:__<br>\n",
    "Write the NumPy program to compute Pearson product-moment correlation coefficients of two given arrays?\n",
    "\n",
    "Sample Output-<br>\n",
    "Original array1-<br>\n",
    "[0 1 3]<br>\n",
    "Original array1-<br>\n",
    "[2 4 5]<br>\n",
    "Pearson product-moment correlation coefficients of the said arrays-<br>\n",
    "[[1. 0.92857143]<br>\n",
    "[0.92857143 1. ]]"
   ]
  },
  {
   "cell_type": "markdown",
   "metadata": {},
   "source": [
    "__Solution:__"
   ]
  },
  {
   "cell_type": "code",
   "execution_count": 37,
   "metadata": {},
   "outputs": [
    {
     "data": {
      "text/plain": [
       "array([[1.        , 0.92857143],\n",
       "       [0.92857143, 1.        ]])"
      ]
     },
     "execution_count": 37,
     "metadata": {},
     "output_type": "execute_result"
    }
   ],
   "source": [
    "import numpy as np\n",
    "\n",
    "arr1 = np.array([0, 1, 3])\n",
    "arr2 = np.array([2, 4, 5])\n",
    "\n",
    "np.corrcoef(arr1, arr2)"
   ]
  },
  {
   "cell_type": "markdown",
   "metadata": {},
   "source": [
    "__Question 99:__<br>\n",
    "Write the python program to count the number of occurrences of each value in a given array of non-negative integers?<br>\n",
    "\n",
    "Note: bincount() Function- It count the occurrence of each value in an array of the\n",
    "non- negative integers in the range of the array between the minimum and maximum values including the values that did not occur.<br>\n",
    "\n",
    "Sample Output-<br>\n",
    "Original array-<br>\n",
    "[0, 1, 6, 1, 4, 1, 2, 2, 7]<br>\n",
    "Number of occurrences of each value in array-<br>\n",
    "[1 3 2 0 1 0 1 1]"
   ]
  },
  {
   "cell_type": "markdown",
   "metadata": {},
   "source": [
    "__Solution:__"
   ]
  },
  {
   "cell_type": "code",
   "execution_count": 41,
   "metadata": {},
   "outputs": [
    {
     "data": {
      "text/plain": [
       "array([0, 3, 2, 0, 1, 0, 1, 1])"
      ]
     },
     "execution_count": 41,
     "metadata": {},
     "output_type": "execute_result"
    }
   ],
   "source": [
    "import numpy as np\n",
    "\n",
    "arr = np.array([1, 6, 1, 4, 1, 2, 2, 7])\n",
    "np.bincount(arr)\n",
    "\n",
    "#gives a bin count in ascneding order of numbers from 0 to max number in array\n",
    "#here we have from 1 to 7\n",
    "#in results, it gives count starting from 0 up to 7 irrespective of where the number starts in array.\n",
    "#gives out count of each number occurance in ascending order irrespective of how the array is ordered\n",
    "#0 - 0 occurances\n",
    "#1 - 3 occurances\n",
    "#2 - 2 occurances\n",
    "#3 - 0 occurances\n",
    "#4 - 1 occurance\n",
    "#5 - 0 occurances\n",
    "#6 - 1 occurace\n",
    "#7 - 1 occurance"
   ]
  },
  {
   "cell_type": "markdown",
   "metadata": {},
   "source": [
    "__Question 100:__<br>\n",
    "Write a Numpy program to compute the histogram of nums against the bins?\n",
    "\n",
    "Sample Output-\n",
    "nums- [0.5 0.7 1. 1.2 1.3 2.1]\n",
    "bins-[0123]\n",
    "Result- (array([2, 3, 1], dtype=int64), array([0, 1, 2, 3]))\n",
    "\n",
    "![image](https://imgbbb.com/images/2019/12/18/Screenshot-2019-12-18-at-12.55.36-PM.png)"
   ]
  },
  {
   "cell_type": "markdown",
   "metadata": {},
   "source": [
    "__Solution:__"
   ]
  },
  {
   "cell_type": "code",
   "execution_count": 45,
   "metadata": {},
   "outputs": [
    {
     "data": {
      "text/plain": [
       "(array([2., 2., 3., 3., 1., 1.]),\n",
       " array([0. , 0.5, 1. , 1.5, 2. , 2.5, 3. ]),\n",
       " <a list of 6 Patch objects>)"
      ]
     },
     "execution_count": 45,
     "metadata": {},
     "output_type": "execute_result"
    },
    {
     "data": {
      "image/png": "[encoded data removed]",
      "text/plain": [
       "<Figure size 432x288 with 1 Axes>"
      ]
     },
     "metadata": {
      "needs_background": "light"
     },
     "output_type": "display_data"
    }
   ],
   "source": [
    "import matplotlib.pyplot as plt\n",
    "%matplotlib inline\n",
    "import numpy as np\n",
    "\n",
    "nums = np.array([0,0,0.5,0.5,1,1,1,1.5,1.5,1.5,2,2.5])\n",
    "\n",
    "plt.hist(nums, bins = np.arange(0,3.1, 0.5))"
   ]
  },
  {
   "cell_type": "markdown",
   "metadata": {},
   "source": [
    "__Question 101:__<br>\n",
    "Write the Python program to add, subtract, multiply and divide two pandas series ?\n",
    "\n",
    "Sample Series- [2, 4, 6, 8, 10], [1, 3, 5, 7, 9]"
   ]
  },
  {
   "cell_type": "markdown",
   "metadata": {},
   "source": [
    "__Solution:__"
   ]
  },
  {
   "cell_type": "code",
   "execution_count": 32,
   "metadata": {},
   "outputs": [
    {
     "name": "stdout",
     "output_type": "stream",
     "text": [
      "Addition of [2, 4, 6, 8, 10] and [1, 3, 5, 7, 9]\n",
      "0     3\n",
      "1     7\n",
      "2    11\n",
      "3    15\n",
      "4    19\n",
      "dtype: int64\n",
      "Subtraction of [2, 4, 6, 8, 10] and [1, 3, 5, 7, 9]\n",
      "0    1\n",
      "1    1\n",
      "2    1\n",
      "3    1\n",
      "4    1\n",
      "dtype: int64\n",
      "Multiplication of [2, 4, 6, 8, 10] and [1, 3, 5, 7, 9]\n",
      "0     2\n",
      "1    12\n",
      "2    30\n",
      "3    56\n",
      "4    90\n",
      "dtype: int64\n",
      "Division of [2, 4, 6, 8, 10] and [1, 3, 5, 7, 9]\n",
      "0    2.000000\n",
      "1    1.333333\n",
      "2    1.200000\n",
      "3    1.142857\n",
      "4    1.111111\n",
      "dtype: float64\n"
     ]
    }
   ],
   "source": [
    "import pandas as pd\n",
    "\n",
    "list1 = [2, 4, 6, 8, 10]\n",
    "list2 = [1, 3, 5, 7, 9]\n",
    "\n",
    "s1 = pd.Series(list1)\n",
    "s2 = pd.Series(list2)\n",
    "\n",
    "print(f\"Addition of {list1} and {list2}\")\n",
    "print(s1+s2)\n",
    "\n",
    "print(f\"Subtraction of {list1} and {list2}\")\n",
    "print(s1-s2)\n",
    "\n",
    "print(f\"Multiplication of {list1} and {list2}\")\n",
    "print(s1*s2)\n",
    "\n",
    "print(f\"Division of {list1} and {list2}\")\n",
    "print(s1/s2)"
   ]
  },
  {
   "cell_type": "markdown",
   "metadata": {},
   "source": [
    "__Question 102:__<br>\n",
    "Write a Python program to convert a dictionary to the Pandas Series?\n",
    "\n",
    "Sample Series-<br>\n",
    "Original dictionary-<br>\n",
    "{'a': 100, 'b': 200, 'c': 300, 'd': 400, 'e': 800}<br>\n",
    "Converted series -<br>\n",
    "a 100<br>\n",
    "b 200<br>\n",
    "c 300<br>\n",
    "d 400<br>\n",
    "e 800<br>\n",
    "dtype- int64"
   ]
  },
  {
   "cell_type": "markdown",
   "metadata": {},
   "source": [
    "__Solution:__"
   ]
  },
  {
   "cell_type": "code",
   "execution_count": 24,
   "metadata": {},
   "outputs": [
    {
     "name": "stdout",
     "output_type": "stream",
     "text": [
      "a    100\n",
      "b    200\n",
      "c    300\n",
      "d    400\n",
      "e    800\n",
      "dtype: int64\n"
     ]
    }
   ],
   "source": [
    "import pandas as pd\n",
    "\n",
    "dict1 = {'a': 100, 'b': 200, 'c': 300, 'd': 400, 'e': 800}\n",
    "\n",
    "results = pd.Series(dict1)\n",
    "\n",
    "print(results)"
   ]
  },
  {
   "cell_type": "markdown",
   "metadata": {},
   "source": [
    "__Question 103:__<br>\n",
    "Write a python program to change the data type of given a column or a Series?\n",
    "\n",
    "Sample Series-<br>\n",
    "Original Data Series-<br>\n",
    "0 100<br>\n",
    "1 200<br>\n",
    "2 python<br>\n",
    "3 300.12<br>\n",
    "4 400<br>\n",
    "dtype - object<br>\n",
    "Change the said data type to numeric-<br>\n",
    "0 100.00<br>\n",
    "1 200.00<br>\n",
    "2 NaN<br>\n",
    "3 300.12<br>\n",
    "4 400.00<br>\n",
    "dtype - float64"
   ]
  },
  {
   "cell_type": "markdown",
   "metadata": {},
   "source": [
    "__Solution:__"
   ]
  },
  {
   "cell_type": "code",
   "execution_count": 71,
   "metadata": {},
   "outputs": [
    {
     "data": {
      "text/plain": [
       "0    100.000000\n",
       "1    200.000000\n",
       "2           NaN\n",
       "3    300.119995\n",
       "4    400.000000\n",
       "dtype: float32"
      ]
     },
     "execution_count": 71,
     "metadata": {},
     "output_type": "execute_result"
    }
   ],
   "source": [
    "import pandas as pd\n",
    "import numpy as np\n",
    "\n",
    "df = pd.Series([100, 200, 'python', 300.12, 400])\n",
    "pd.to_numeric(df, errors='coerce', downcast = 'float')"
   ]
  },
  {
   "cell_type": "markdown",
   "metadata": {},
   "source": [
    "__Question 104:__<br>\n",
    "Write the python pandas program to convert the first column of a DataFrame as a Series?\n",
    "\n",
    "Sample Output-<br>\n",
    "Original DataFrame-<br>\n",
    "col1 col2 col3<br>\n",
    "0 1 4 7<br>\n",
    "1 2 5 5<br>\n",
    "2 3 6 8<br>\n",
    "3 4 9 12<br>\n",
    "4 7 5 1<br>\n",
    "5 11 0 11<br>\n",
    "1st column as a Series-\n",
    "0 1<br>\n",
    "1 2<br>\n",
    "2 3<br> \n",
    "3 4<br>\n",
    "4 7<br>\n",
    "5 11<br>\n",
    "Name- col1, dtype- int64<br>\n",
    "<class 'pandas.core.series.Series'>"
   ]
  },
  {
   "cell_type": "markdown",
   "metadata": {},
   "source": [
    "__Solution:__"
   ]
  },
  {
   "cell_type": "code",
   "execution_count": 37,
   "metadata": {},
   "outputs": [
    {
     "name": "stdout",
     "output_type": "stream",
     "text": [
      "0     1\n",
      "1     2\n",
      "2     3\n",
      "3     4\n",
      "4     7\n",
      "5    11\n",
      "Name: col1, dtype: int64\n"
     ]
    }
   ],
   "source": [
    "import pandas as pd\n",
    "\n",
    "list1 = [[1, 4, 7], [2, 5, 5], [3, 6, 8], [4, 9, 12], [7, 5, 1], [11, 0, 11]]\n",
    "df = pd.DataFrame(list1, columns= [\"col1\", \"col2\", \"col3\"])\n",
    "series1 = pd.Series(df[\"col1\"])\n",
    "print(series1)"
   ]
  },
  {
   "cell_type": "markdown",
   "metadata": {},
   "source": [
    "__Question 105:__<br>\n",
    "Write a pandas program to create the mean and standard deviation of the data of a given Series?\n",
    "\n",
    "Sample Output-<br>\n",
    "Original Data Series-<br>\n",
    "0 1<br>\n",
    "1 2<br>\n",
    "2 3<br>\n",
    "3 4<br>\n",
    "4 5<br>\n",
    "5 6<br>\n",
    "6 7<br>\n",
    "7 8<br>\n",
    "8 9<br>\n",
    "9 5<br>\n",
    "10 3<br>\n",
    "dtype- int64<br>\n",
    "Mean of the said Data Series-<br>\n",
    "4.81818181818<br>\n",
    "Standard deviation of the said Data Series-<br>\n",
    "2.52262489555"
   ]
  },
  {
   "cell_type": "markdown",
   "metadata": {},
   "source": [
    "__Solution:__"
   ]
  },
  {
   "cell_type": "code",
   "execution_count": 40,
   "metadata": {},
   "outputs": [
    {
     "name": "stdout",
     "output_type": "stream",
     "text": [
      "count    11.000000\n",
      "mean      4.818182\n",
      "std       2.522625\n",
      "min       1.000000\n",
      "25%       3.000000\n",
      "50%       5.000000\n",
      "75%       6.500000\n",
      "max       9.000000\n",
      "dtype: float64\n",
      "Mean of the said Data Series-\n",
      "4.818181818181818\n",
      "Standard deviation of the said Data Series-\n",
      "2.522624895547565\n"
     ]
    }
   ],
   "source": [
    "import pandas as pd\n",
    "\n",
    "series1 = pd.Series([1, 2, 3, 4, 5, 6, 7, 8, 9, 5, 3])\n",
    "description = series1.describe()\n",
    "\n",
    "print(series1.describe())\n",
    "print(\"Mean of the said Data Series-\")\n",
    "print(description[1])\n",
    "print(\"Standard deviation of the said Data Series-\")\n",
    "print(description[2])"
   ]
  },
  {
   "cell_type": "markdown",
   "metadata": {},
   "source": [
    "__Question 106:__<br>\n",
    "Write a pandas program to get powers of an array values element-wise?\n",
    "\n",
    "Note First array elements raised the powers from the second array.\n",
    "\n",
    "Sample data: {'X ':[78,85,96,80,86], ' Y ':[84,94,89,83,86],'Z':[86,97,96,72,83]}<br>\n",
    "Expected Output:<br>\n",
    "X Y Z<br>\n",
    "0 78 84 86<br>\n",
    "1 85 94 97<br>\n",
    "2 96 89 96<br>\n",
    "3 80 83 72<br>\n",
    "4 86 86 83"
   ]
  },
  {
   "cell_type": "markdown",
   "metadata": {},
   "source": [
    "__Solution:__"
   ]
  },
  {
   "cell_type": "code",
   "execution_count": 5,
   "metadata": {},
   "outputs": [
    {
     "data": {
      "text/html": [
       "<div>\n",
       "<style scoped>\n",
       "    .dataframe tbody tr th:only-of-type {\n",
       "        vertical-align: middle;\n",
       "    }\n",
       "\n",
       "    .dataframe tbody tr th {\n",
       "        vertical-align: top;\n",
       "    }\n",
       "\n",
       "    .dataframe thead th {\n",
       "        text-align: right;\n",
       "    }\n",
       "</style>\n",
       "<table border=\"1\" class=\"dataframe\">\n",
       "  <thead>\n",
       "    <tr style=\"text-align: right;\">\n",
       "      <th></th>\n",
       "      <th>X</th>\n",
       "      <th>Y</th>\n",
       "      <th>Z</th>\n",
       "    </tr>\n",
       "  </thead>\n",
       "  <tbody>\n",
       "    <tr>\n",
       "      <th>0</th>\n",
       "      <td>78</td>\n",
       "      <td>84</td>\n",
       "      <td>86</td>\n",
       "    </tr>\n",
       "    <tr>\n",
       "      <th>1</th>\n",
       "      <td>85</td>\n",
       "      <td>94</td>\n",
       "      <td>97</td>\n",
       "    </tr>\n",
       "    <tr>\n",
       "      <th>2</th>\n",
       "      <td>96</td>\n",
       "      <td>89</td>\n",
       "      <td>96</td>\n",
       "    </tr>\n",
       "    <tr>\n",
       "      <th>3</th>\n",
       "      <td>80</td>\n",
       "      <td>83</td>\n",
       "      <td>72</td>\n",
       "    </tr>\n",
       "    <tr>\n",
       "      <th>4</th>\n",
       "      <td>86</td>\n",
       "      <td>86</td>\n",
       "      <td>83</td>\n",
       "    </tr>\n",
       "  </tbody>\n",
       "</table>\n",
       "</div>"
      ],
      "text/plain": [
       "   X    Y    Z\n",
       "0  78   84  86\n",
       "1  85   94  97\n",
       "2  96   89  96\n",
       "3  80   83  72\n",
       "4  86   86  83"
      ]
     },
     "execution_count": 5,
     "metadata": {},
     "output_type": "execute_result"
    }
   ],
   "source": [
    "import pandas as pd\n",
    "import numpy as np\n",
    "\n",
    "df = pd.DataFrame({'X ':[78,85,96,80,86], ' Y ':[84,94,89,83,86],'Z':[86,97,96,72,83]})\n",
    "df\n",
    "\n",
    "#arr = np.array([2, 1, 3])\n",
    "\n",
    "#df.pow(arr, axis = 1)"
   ]
  },
  {
   "cell_type": "markdown",
   "metadata": {},
   "source": [
    "__Question 107:__<br>\n",
    "Write the pandas program to get the first 3 rows of a given DataFrame?\n",
    "\n",
    "Sample Python dictionary data and list labels-<br>\n",
    "exam_data = {'name': ['Anastasia', 'Dima', 'Katherine', 'James', 'Emily', 'Michael',<br>\n",
    "'Matthew', 'Laura', 'Kevin', 'Jonas'],<br>\n",
    "'score': [12.5, 9, 16.5, np.nan, 9, 20, 14.5, np.nan, 8, 19],<br>\n",
    "'attempts': [1, 3, 2, 3, 2, 3, 1, 1, 2, 1],<br>\n",
    "'qualify': [ 'yes', 'no', 'yes' , 'no', ' no ', ' yes ', 'yes', 'no', 'no', 'yes' ] }<br>\n",
    "index = ['a', 'b', 'c', 'd', 'e', 'f', 'g', 'h', 'i', 'j' ]<br>\n",
    "Expected Output-<br>\n",
    "First three rows of the data frame-<br>\n",
    "attempts name qualify score<br>\n",
    "a 1 Anastasia yes 12.5<br>\n",
    "b 3 Dima no 9.0<br>\n",
    "c 2 Katherine yes 16.5"
   ]
  },
  {
   "cell_type": "markdown",
   "metadata": {},
   "source": [
    "__Solution:__"
   ]
  },
  {
   "cell_type": "code",
   "execution_count": 17,
   "metadata": {},
   "outputs": [
    {
     "data": {
      "text/html": [
       "<div>\n",
       "<style scoped>\n",
       "    .dataframe tbody tr th:only-of-type {\n",
       "        vertical-align: middle;\n",
       "    }\n",
       "\n",
       "    .dataframe tbody tr th {\n",
       "        vertical-align: top;\n",
       "    }\n",
       "\n",
       "    .dataframe thead th {\n",
       "        text-align: right;\n",
       "    }\n",
       "</style>\n",
       "<table border=\"1\" class=\"dataframe\">\n",
       "  <thead>\n",
       "    <tr style=\"text-align: right;\">\n",
       "      <th></th>\n",
       "      <th>attempts</th>\n",
       "      <th>name</th>\n",
       "      <th>qualify</th>\n",
       "      <th>score</th>\n",
       "    </tr>\n",
       "  </thead>\n",
       "  <tbody>\n",
       "    <tr>\n",
       "      <th>a</th>\n",
       "      <td>1</td>\n",
       "      <td>Anastasia</td>\n",
       "      <td>yes</td>\n",
       "      <td>12.5</td>\n",
       "    </tr>\n",
       "    <tr>\n",
       "      <th>b</th>\n",
       "      <td>3</td>\n",
       "      <td>Dima</td>\n",
       "      <td>no</td>\n",
       "      <td>9.0</td>\n",
       "    </tr>\n",
       "    <tr>\n",
       "      <th>c</th>\n",
       "      <td>2</td>\n",
       "      <td>Katherine</td>\n",
       "      <td>yes</td>\n",
       "      <td>16.5</td>\n",
       "    </tr>\n",
       "  </tbody>\n",
       "</table>\n",
       "</div>"
      ],
      "text/plain": [
       "   attempts       name qualify  score\n",
       "a         1  Anastasia     yes   12.5\n",
       "b         3       Dima      no    9.0\n",
       "c         2  Katherine     yes   16.5"
      ]
     },
     "execution_count": 17,
     "metadata": {},
     "output_type": "execute_result"
    }
   ],
   "source": [
    "import pandas as pd\n",
    "\n",
    "df = pd.DataFrame(data = {'attempts': [1, 3, 2, 3, 2, 3, 1, 1, 2, 1],\n",
    "                          'name': ['Anastasia', 'Dima', 'Katherine', 'James', 'Emily', 'Michael',\n",
    "'Matthew', 'Laura', 'Kevin', 'Jonas'],\n",
    "                          'qualify': [ 'yes', 'no', 'yes' , 'no', ' no ', ' yes ', 'yes', 'no', 'no', 'yes' ],\n",
    "                            'score': [12.5, 9, 16.5, np.nan, 9, 20, 14.5, np.nan, 8, 19]},\n",
    "                  index = ['a', 'b', 'c', 'd', 'e', 'f', 'g', 'h', 'i', 'j' ])\n",
    "\n",
    "df.iloc[0:3]"
   ]
  },
  {
   "cell_type": "markdown",
   "metadata": {},
   "source": [
    "__Question 108:__<br>\n",
    "Write the pandas program to select the specified columns and the rows from a given data frame?\n",
    "\n",
    "Sample Python dictionary data and list labels-<br>\n",
    "Select 'name' and 'score' columns in rows 1, 3, 5, 6 from the following data frame.<br>\n",
    "exam_data = {'name ': [ 'Anastasia', 'Dima', 'Katherine', 'James', 'Emily', 'Michael',<br>\n",
    "'Matthew', 'Laura', 'Kevin', 'Jonas'],<br>\n",
    "'score'- [12.5, 9, 16.5, np.nan, 9, 20, 14.5, np.nan, 8, 19],<br>\n",
    "'attempts'- [1, 3, 2, 3, 2, 3, 1, 1, 2, 1],<br>\n",
    "'qualify'- ['yes', 'no', 'yes', 'no', 'no', 'yes', 'yes', 'no', 'no', 'yes'] }<br>\n",
    "labels=['a','b','c','d','e','f','g','h','i','j']<br>\n",
    "Expected Output-<br>\n",
    "Select specific columns and rows-<br>\n",
    "name score<br>\n",
    "b Dima 9.0<br>\n",
    "d James NaN<br>\n",
    "f Michael 20.0<br>\n",
    "g Matthew 14.5"
   ]
  },
  {
   "cell_type": "markdown",
   "metadata": {},
   "source": [
    "__Solution:__"
   ]
  },
  {
   "cell_type": "code",
   "execution_count": 22,
   "metadata": {},
   "outputs": [
    {
     "data": {
      "text/html": [
       "<div>\n",
       "<style scoped>\n",
       "    .dataframe tbody tr th:only-of-type {\n",
       "        vertical-align: middle;\n",
       "    }\n",
       "\n",
       "    .dataframe tbody tr th {\n",
       "        vertical-align: top;\n",
       "    }\n",
       "\n",
       "    .dataframe thead th {\n",
       "        text-align: right;\n",
       "    }\n",
       "</style>\n",
       "<table border=\"1\" class=\"dataframe\">\n",
       "  <thead>\n",
       "    <tr style=\"text-align: right;\">\n",
       "      <th></th>\n",
       "      <th>name</th>\n",
       "      <th>score</th>\n",
       "    </tr>\n",
       "  </thead>\n",
       "  <tbody>\n",
       "    <tr>\n",
       "      <th>b</th>\n",
       "      <td>Dima</td>\n",
       "      <td>9.0</td>\n",
       "    </tr>\n",
       "    <tr>\n",
       "      <th>d</th>\n",
       "      <td>James</td>\n",
       "      <td>NaN</td>\n",
       "    </tr>\n",
       "    <tr>\n",
       "      <th>f</th>\n",
       "      <td>Michael</td>\n",
       "      <td>20.0</td>\n",
       "    </tr>\n",
       "    <tr>\n",
       "      <th>g</th>\n",
       "      <td>Matthew</td>\n",
       "      <td>14.5</td>\n",
       "    </tr>\n",
       "  </tbody>\n",
       "</table>\n",
       "</div>"
      ],
      "text/plain": [
       "      name  score\n",
       "b     Dima    9.0\n",
       "d    James    NaN\n",
       "f  Michael   20.0\n",
       "g  Matthew   14.5"
      ]
     },
     "execution_count": 22,
     "metadata": {},
     "output_type": "execute_result"
    }
   ],
   "source": [
    "import pandas as pd\n",
    "\n",
    "df = pd.DataFrame(data = {'attempts': [1, 3, 2, 3, 2, 3, 1, 1, 2, 1],\n",
    "                          'name': ['Anastasia', 'Dima', 'Katherine', 'James', 'Emily', 'Michael',\n",
    "'Matthew', 'Laura', 'Kevin', 'Jonas'],\n",
    "                          'qualify': [ 'yes', 'no', 'yes' , 'no', ' no ', ' yes ', 'yes', 'no', 'no', 'yes' ],\n",
    "                            'score': [12.5, 9, 16.5, np.nan, 9, 20, 14.5, np.nan, 8, 19]},\n",
    "                  index = ['a', 'b', 'c', 'd', 'e', 'f', 'g', 'h', 'i', 'j' ])\n",
    "\n",
    "df.loc[['b', 'd', 'f', 'g'], ['name', 'score']]"
   ]
  },
  {
   "cell_type": "markdown",
   "metadata": {},
   "source": [
    "__Question 109:__<br>\n",
    "Write the pandas program to calculate mean score for each different student in DataFrame?\n",
    "\n",
    "Sample Python dictionary data and list labels-<br>\n",
    "exam_data = {'name': ['Anastasia', 'Dima', 'Katherine', 'James', 'Emily', 'Michael',<br>\n",
    "'Matthew', 'Laura', 'Kevin', 'Jonas'],<br>\n",
    "'score': [12.5, 9, 16.5, np.nan, 9, 20, 14.5, np.nan, 8, 19],<br>\n",
    "'attempts'- [1, 3, 2, 3, 2, 3, 1, 1, 2, 1],<br>\n",
    "'qualify'-['yes','no','yes','no','no','yes','yes','no','no','yes']}<br>\n",
    "labels = ['a', 'b', 'c', 'd', 'e', 'f', 'g', 'h', 'i', 'j']<br>\n",
    "Expected Output-<br>\n",
    "Mean score for each different student in data frame:<br>\n",
    "13.5625"
   ]
  },
  {
   "cell_type": "markdown",
   "metadata": {},
   "source": [
    "__Solution:__"
   ]
  },
  {
   "cell_type": "code",
   "execution_count": 25,
   "metadata": {},
   "outputs": [
    {
     "data": {
      "text/plain": [
       "13.5625"
      ]
     },
     "execution_count": 25,
     "metadata": {},
     "output_type": "execute_result"
    }
   ],
   "source": [
    "import pandas as pd\n",
    "\n",
    "df = pd.DataFrame(data = {'attempts': [1, 3, 2, 3, 2, 3, 1, 1, 2, 1],\n",
    "                          'name': ['Anastasia', 'Dima', 'Katherine', 'James', 'Emily', 'Michael',\n",
    "'Matthew', 'Laura', 'Kevin', 'Jonas'],\n",
    "                          'qualify': [ 'yes', 'no', 'yes' , 'no', ' no ', ' yes ', 'yes', 'no', 'no', 'yes' ],\n",
    "                            'score': [12.5, 9, 16.5, np.nan, 9, 20, 14.5, np.nan, 8, 19]},\n",
    "                  index = ['a', 'b', 'c', 'd', 'e', 'f', 'g', 'h', 'i', 'j' ])\n",
    "\n",
    "df['score'].mean()"
   ]
  },
  {
   "cell_type": "markdown",
   "metadata": {},
   "source": [
    "__Question 110:__<br>\n",
    "Write the Pandas program to rename columns of a given DataFrame ?\n",
    "\n",
    "Sample data-<br>\n",
    "Original data frame<br>\n",
    "col1 col2 col3<br>\n",
    "0 1 4 7<br>\n",
    "1 2 5 8<br>\n",
    "2 3 6 9<br>\n",
    "New data frame after renaming columns:<br>\n",
    "Column1 Column2 Column3<br>\n",
    "0 1 4 7<br>\n",
    "1 2 5 8<br>\n",
    "2 3 6 9"
   ]
  },
  {
   "cell_type": "markdown",
   "metadata": {},
   "source": [
    "__Solution:__"
   ]
  },
  {
   "cell_type": "code",
   "execution_count": 31,
   "metadata": {},
   "outputs": [
    {
     "data": {
      "text/html": [
       "<div>\n",
       "<style scoped>\n",
       "    .dataframe tbody tr th:only-of-type {\n",
       "        vertical-align: middle;\n",
       "    }\n",
       "\n",
       "    .dataframe tbody tr th {\n",
       "        vertical-align: top;\n",
       "    }\n",
       "\n",
       "    .dataframe thead th {\n",
       "        text-align: right;\n",
       "    }\n",
       "</style>\n",
       "<table border=\"1\" class=\"dataframe\">\n",
       "  <thead>\n",
       "    <tr style=\"text-align: right;\">\n",
       "      <th></th>\n",
       "      <th>Column1</th>\n",
       "      <th>Column2</th>\n",
       "      <th>Column3</th>\n",
       "    </tr>\n",
       "  </thead>\n",
       "  <tbody>\n",
       "    <tr>\n",
       "      <th>0</th>\n",
       "      <td>1</td>\n",
       "      <td>4</td>\n",
       "      <td>7</td>\n",
       "    </tr>\n",
       "    <tr>\n",
       "      <th>1</th>\n",
       "      <td>2</td>\n",
       "      <td>5</td>\n",
       "      <td>8</td>\n",
       "    </tr>\n",
       "    <tr>\n",
       "      <th>2</th>\n",
       "      <td>3</td>\n",
       "      <td>6</td>\n",
       "      <td>9</td>\n",
       "    </tr>\n",
       "  </tbody>\n",
       "</table>\n",
       "</div>"
      ],
      "text/plain": [
       "   Column1  Column2  Column3\n",
       "0        1        4        7\n",
       "1        2        5        8\n",
       "2        3        6        9"
      ]
     },
     "execution_count": 31,
     "metadata": {},
     "output_type": "execute_result"
    }
   ],
   "source": [
    "import pandas as pd\n",
    "\n",
    "df = pd.DataFrame(data = [[1, 4, 7], [2, 5, 8], [3, 6, 9]], columns = ['col1', 'col2', 'col3'])\n",
    "df.columns = ['Column1', 'Column2', 'Column3']\n",
    "df"
   ]
  },
  {
   "cell_type": "markdown",
   "metadata": {},
   "source": [
    "__Question 111:__<br>\n",
    "Write a pandas program to count city-wise number of people from a given of data set (city, name of the person)?\n",
    "\n",
    "Sample data-<br>\n",
    "city Number of people<br>\n",
    "0 California 4<br>\n",
    "1 Georgia 2<br>\n",
    "2 Los Angeles 4<br>"
   ]
  },
  {
   "cell_type": "markdown",
   "metadata": {},
   "source": [
    "__Solution:__"
   ]
  },
  {
   "cell_type": "code",
   "execution_count": 57,
   "metadata": {},
   "outputs": [
    {
     "data": {
      "text/html": [
       "<div>\n",
       "<style scoped>\n",
       "    .dataframe tbody tr th:only-of-type {\n",
       "        vertical-align: middle;\n",
       "    }\n",
       "\n",
       "    .dataframe tbody tr th {\n",
       "        vertical-align: top;\n",
       "    }\n",
       "\n",
       "    .dataframe thead th {\n",
       "        text-align: right;\n",
       "    }\n",
       "</style>\n",
       "<table border=\"1\" class=\"dataframe\">\n",
       "  <thead>\n",
       "    <tr style=\"text-align: right;\">\n",
       "      <th></th>\n",
       "      <th>city</th>\n",
       "      <th>Number of people</th>\n",
       "    </tr>\n",
       "  </thead>\n",
       "  <tbody>\n",
       "    <tr>\n",
       "      <th>0</th>\n",
       "      <td>California</td>\n",
       "      <td>4</td>\n",
       "    </tr>\n",
       "    <tr>\n",
       "      <th>1</th>\n",
       "      <td>Georgia</td>\n",
       "      <td>2</td>\n",
       "    </tr>\n",
       "    <tr>\n",
       "      <th>2</th>\n",
       "      <td>Los Angeles</td>\n",
       "      <td>4</td>\n",
       "    </tr>\n",
       "  </tbody>\n",
       "</table>\n",
       "</div>"
      ],
      "text/plain": [
       "          city  Number of people\n",
       "0   California                 4\n",
       "1      Georgia                 2\n",
       "2  Los Angeles                 4"
      ]
     },
     "execution_count": 57,
     "metadata": {},
     "output_type": "execute_result"
    }
   ],
   "source": [
    "import pandas as pd\n",
    "df1 = pd.DataFrame({'name': ['Anastasia', 'Dima', 'Katherine', 'James', 'Emily', 'Michael', 'Matthew', 'Laura', 'Kevin', 'Jonas'],\n",
    "'city': ['California', 'Los Angeles', 'California', 'California', 'California', 'Los Angeles', 'Los Angeles', 'Georgia', 'Georgia', 'Los Angeles']})\n",
    "g1 = df1.groupby([\"city\"]).size()\n",
    "\n",
    "g1.reset_index(name='Number of people')\n"
   ]
  },
  {
   "cell_type": "markdown",
   "metadata": {},
   "source": [
    "__Question 112:__<br>\n",
    "Write a pandas program to widen output display to see more columns?\n",
    "\n",
    "Sample data-<br>\n",
    "Original data frame<br>\n",
    "col1 col2 col3<br>\n",
    "0 1 4 7<br>\n",
    "1 4 5 8<br>\n",
    "2 3 6 9<br>\n",
    "3 4 7 0<br>\n",
    "4 5 8 1"
   ]
  },
  {
   "cell_type": "markdown",
   "metadata": {},
   "source": [
    "__Solution:__"
   ]
  },
  {
   "cell_type": "code",
   "execution_count": 58,
   "metadata": {},
   "outputs": [
    {
     "data": {
      "text/html": [
       "<div>\n",
       "<style scoped>\n",
       "    .dataframe tbody tr th:only-of-type {\n",
       "        vertical-align: middle;\n",
       "    }\n",
       "\n",
       "    .dataframe tbody tr th {\n",
       "        vertical-align: top;\n",
       "    }\n",
       "\n",
       "    .dataframe thead th {\n",
       "        text-align: right;\n",
       "    }\n",
       "</style>\n",
       "<table border=\"1\" class=\"dataframe\">\n",
       "  <thead>\n",
       "    <tr style=\"text-align: right;\">\n",
       "      <th></th>\n",
       "      <th>col1</th>\n",
       "      <th>col2</th>\n",
       "      <th>col3</th>\n",
       "    </tr>\n",
       "  </thead>\n",
       "  <tbody>\n",
       "    <tr>\n",
       "      <th>0</th>\n",
       "      <td>1</td>\n",
       "      <td>4</td>\n",
       "      <td>7</td>\n",
       "    </tr>\n",
       "    <tr>\n",
       "      <th>1</th>\n",
       "      <td>4</td>\n",
       "      <td>5</td>\n",
       "      <td>8</td>\n",
       "    </tr>\n",
       "    <tr>\n",
       "      <th>2</th>\n",
       "      <td>3</td>\n",
       "      <td>6</td>\n",
       "      <td>9</td>\n",
       "    </tr>\n",
       "    <tr>\n",
       "      <th>3</th>\n",
       "      <td>4</td>\n",
       "      <td>7</td>\n",
       "      <td>0</td>\n",
       "    </tr>\n",
       "    <tr>\n",
       "      <th>4</th>\n",
       "      <td>5</td>\n",
       "      <td>8</td>\n",
       "      <td>1</td>\n",
       "    </tr>\n",
       "  </tbody>\n",
       "</table>\n",
       "</div>"
      ],
      "text/plain": [
       "   col1  col2  col3\n",
       "0     1     4     7\n",
       "1     4     5     8\n",
       "2     3     6     9\n",
       "3     4     7     0\n",
       "4     5     8     1"
      ]
     },
     "execution_count": 58,
     "metadata": {},
     "output_type": "execute_result"
    }
   ],
   "source": [
    "import pandas as pd\n",
    "import numpy as np\n",
    "d = {'col1': [1, 4, 3, 4, 5], 'col2': [4, 5, 6, 7, 8], 'col3': [7, 8, 9, 0, 1]}\n",
    "df = pd.DataFrame(data=d)\n",
    "pd.set_option('display.max_columns', 500)\n",
    "df"
   ]
  },
  {
   "cell_type": "markdown",
   "metadata": {},
   "source": [
    "__Question 113:__<br>\n",
    "Write a pandas program to convert the data frame column type from string to DateTime?\n",
    "\n",
    "Sample data-<br>\n",
    "String Date-<br>\n",
    "0 3/11/2000<br>\n",
    "1 3/12/2000<br>\n",
    "2 3/13/2000<br>\n",
    "dtype- object<br>\n",
    "Original DataFrame (string to datetime)-<br>\n",
    "0<br>\n",
    "0 2000-03-11<br>\n",
    "1 2000-03-12<br>\n",
    "2 2000-03-13<br>"
   ]
  },
  {
   "cell_type": "markdown",
   "metadata": {},
   "source": [
    "__Solution:__"
   ]
  },
  {
   "cell_type": "code",
   "execution_count": 87,
   "metadata": {},
   "outputs": [
    {
     "data": {
      "text/plain": [
       "0    datetime64[ns]\n",
       "dtype: object"
      ]
     },
     "execution_count": 87,
     "metadata": {},
     "output_type": "execute_result"
    }
   ],
   "source": [
    "import pandas as pd\n",
    "\n",
    "s = pd.DataFrame(['3/11/2000', '3/12/2000', '3/13/2000'])\n",
    "r = pd.to_datetime(s[0])\n",
    "df.dtypes"
   ]
  },
  {
   "cell_type": "markdown",
   "metadata": {},
   "source": [
    "__Question 114:__<br>\n",
    "Write a pandas program to append the data to an empty DataFrame?\n",
    "\n",
    "Sample data-<br>\n",
    "Original DataFrame- After appending some data: col1 col2 0 0 0 1 1 1 2 2 2"
   ]
  },
  {
   "cell_type": "markdown",
   "metadata": {},
   "source": [
    "__Solution:__"
   ]
  },
  {
   "cell_type": "code",
   "execution_count": 98,
   "metadata": {},
   "outputs": [
    {
     "data": {
      "text/html": [
       "<div>\n",
       "<style scoped>\n",
       "    .dataframe tbody tr th:only-of-type {\n",
       "        vertical-align: middle;\n",
       "    }\n",
       "\n",
       "    .dataframe tbody tr th {\n",
       "        vertical-align: top;\n",
       "    }\n",
       "\n",
       "    .dataframe thead th {\n",
       "        text-align: right;\n",
       "    }\n",
       "</style>\n",
       "<table border=\"1\" class=\"dataframe\">\n",
       "  <thead>\n",
       "    <tr style=\"text-align: right;\">\n",
       "      <th></th>\n",
       "      <th>col1</th>\n",
       "      <th>col2</th>\n",
       "    </tr>\n",
       "  </thead>\n",
       "  <tbody>\n",
       "    <tr>\n",
       "      <th>0</th>\n",
       "      <td>0</td>\n",
       "      <td>0</td>\n",
       "    </tr>\n",
       "    <tr>\n",
       "      <th>1</th>\n",
       "      <td>1</td>\n",
       "      <td>1</td>\n",
       "    </tr>\n",
       "    <tr>\n",
       "      <th>2</th>\n",
       "      <td>2</td>\n",
       "      <td>2</td>\n",
       "    </tr>\n",
       "  </tbody>\n",
       "</table>\n",
       "</div>"
      ],
      "text/plain": [
       "   col1  col2\n",
       "0     0     0\n",
       "1     1     1\n",
       "2     2     2"
      ]
     },
     "execution_count": 98,
     "metadata": {},
     "output_type": "execute_result"
    }
   ],
   "source": [
    "import pandas as pd\n",
    "\n",
    "dfEmpty = pd.DataFrame()\n",
    "df = pd.DataFrame({'col1':[0, 1, 2], 'col2':[0, 1, 2]})\n",
    "dfEmpty = dfEmpty.append(df)\n",
    "dfEmpty"
   ]
  },
  {
   "cell_type": "markdown",
   "metadata": {},
   "source": [
    "__Question 115:__<br>\n",
    "Write a pandas program to count the number of columns of a DataFrame?\n",
    "\n",
    "Sample Output-<br>\n",
    "Original DataFrame<br>\n",
    "col1 col2 col3<br>\n",
    "0 1 4 7<br>\n",
    "1 2 5 8<br>\n",
    "2 3 6 12<br>\n",
    "3 4 9 1<br>\n",
    "4 7 5 11<br>\n",
    "Number of columns- 3"
   ]
  },
  {
   "cell_type": "markdown",
   "metadata": {},
   "source": [
    "__Solution:__"
   ]
  },
  {
   "cell_type": "code",
   "execution_count": 102,
   "metadata": {},
   "outputs": [
    {
     "name": "stdout",
     "output_type": "stream",
     "text": [
      "Number of columns- 3\n"
     ]
    }
   ],
   "source": [
    "import pandas as pd\n",
    "\n",
    "df = pd.DataFrame({'col1':[1, 2, 3, 4, 7], 'col2':[4, 5, 6, 9, 5], 'col3':[7, 8, 12, 1, 11]})\n",
    "print(\"Number of columns-\", len(df.columns.values))"
   ]
  },
  {
   "cell_type": "markdown",
   "metadata": {},
   "source": [
    "__Question 116:__<br>\n",
    "Write a Pandas program to remove the last n rows of a given DataFrame ?\n",
    "\n",
    "Sample Output:<br>\n",
    "Original DataFrame<br>\n",
    "col1 col2 col3<br>\n",
    "0 1 4 7<br>\n",
    "1 2 5 5<br>\n",
    "2 3 6 8<br>\n",
    "3 4 9 12<br>\n",
    "4 7 5 1<br>\n",
    "5 11 0 11<br>\n",
    "After removing last 3 rows of the said DataFrame-<br>\n",
    "col1 col2 col3<br>\n",
    "0 1 4 7<br>\n",
    "1 2 5 5<br>\n",
    "2 3 6 8"
   ]
  },
  {
   "cell_type": "markdown",
   "metadata": {},
   "source": [
    "__Solution:__"
   ]
  },
  {
   "cell_type": "code",
   "execution_count": 131,
   "metadata": {},
   "outputs": [
    {
     "name": "stdout",
     "output_type": "stream",
     "text": [
      "How many rows would you like to delete from the end of DataFrame?: 2\n"
     ]
    },
    {
     "data": {
      "text/html": [
       "<div>\n",
       "<style scoped>\n",
       "    .dataframe tbody tr th:only-of-type {\n",
       "        vertical-align: middle;\n",
       "    }\n",
       "\n",
       "    .dataframe tbody tr th {\n",
       "        vertical-align: top;\n",
       "    }\n",
       "\n",
       "    .dataframe thead th {\n",
       "        text-align: right;\n",
       "    }\n",
       "</style>\n",
       "<table border=\"1\" class=\"dataframe\">\n",
       "  <thead>\n",
       "    <tr style=\"text-align: right;\">\n",
       "      <th></th>\n",
       "      <th>col1</th>\n",
       "      <th>col2</th>\n",
       "      <th>col3</th>\n",
       "    </tr>\n",
       "  </thead>\n",
       "  <tbody>\n",
       "    <tr>\n",
       "      <th>0</th>\n",
       "      <td>1</td>\n",
       "      <td>4</td>\n",
       "      <td>7</td>\n",
       "    </tr>\n",
       "    <tr>\n",
       "      <th>1</th>\n",
       "      <td>2</td>\n",
       "      <td>5</td>\n",
       "      <td>5</td>\n",
       "    </tr>\n",
       "    <tr>\n",
       "      <th>2</th>\n",
       "      <td>3</td>\n",
       "      <td>6</td>\n",
       "      <td>8</td>\n",
       "    </tr>\n",
       "    <tr>\n",
       "      <th>3</th>\n",
       "      <td>4</td>\n",
       "      <td>9</td>\n",
       "      <td>12</td>\n",
       "    </tr>\n",
       "  </tbody>\n",
       "</table>\n",
       "</div>"
      ],
      "text/plain": [
       "   col1  col2  col3\n",
       "0     1     4     7\n",
       "1     2     5     5\n",
       "2     3     6     8\n",
       "3     4     9    12"
      ]
     },
     "execution_count": 131,
     "metadata": {},
     "output_type": "execute_result"
    }
   ],
   "source": [
    "import pandas as pd\n",
    "\n",
    "df = pd.DataFrame({'col1':[1, 2, 3, 4, 7, 11], 'col2':[4, 5, 6, 9, 5, 0], 'col3':[7, 5, 8, 12, 1, 11]})\n",
    "n = int(input(\"How many rows would you like to delete from the end of DataFrame?: \"))\n",
    "\n",
    "df.drop(range(len(df)-n,len(df)), axis = 0, inplace = True)\n",
    "df"
   ]
  },
  {
   "cell_type": "markdown",
   "metadata": {},
   "source": [
    "__Question 117:__<br>\n",
    "Write a Pandas program to import excel data (coalpublic2013.xlsx ) into a Pandas data frame."
   ]
  },
  {
   "cell_type": "markdown",
   "metadata": {},
   "source": [
    "__Solution:__"
   ]
  },
  {
   "cell_type": "code",
   "execution_count": 107,
   "metadata": {},
   "outputs": [
    {
     "data": {
      "text/html": [
       "<div>\n",
       "<style scoped>\n",
       "    .dataframe tbody tr th:only-of-type {\n",
       "        vertical-align: middle;\n",
       "    }\n",
       "\n",
       "    .dataframe tbody tr th {\n",
       "        vertical-align: top;\n",
       "    }\n",
       "\n",
       "    .dataframe thead th {\n",
       "        text-align: right;\n",
       "    }\n",
       "</style>\n",
       "<table border=\"1\" class=\"dataframe\">\n",
       "  <thead>\n",
       "    <tr style=\"text-align: right;\">\n",
       "      <th></th>\n",
       "      <th>Year</th>\n",
       "      <th>MSHA ID</th>\n",
       "      <th>Mine Name</th>\n",
       "      <th>Mine State</th>\n",
       "      <th>Mine County</th>\n",
       "      <th>Mine Status</th>\n",
       "      <th>Mine Type</th>\n",
       "      <th>Company Type</th>\n",
       "      <th>Operation Type</th>\n",
       "      <th>Operating Company</th>\n",
       "      <th>Operating Company Address</th>\n",
       "      <th>Union Code</th>\n",
       "      <th>Coal Supply Region</th>\n",
       "      <th>Production (short tons)</th>\n",
       "      <th>Average Employees</th>\n",
       "      <th>Labor Hours</th>\n",
       "    </tr>\n",
       "  </thead>\n",
       "  <tbody>\n",
       "    <tr>\n",
       "      <th>0</th>\n",
       "      <td>2013</td>\n",
       "      <td>103381</td>\n",
       "      <td>Tacoa Highwall Miner</td>\n",
       "      <td>Alabama</td>\n",
       "      <td>Bibb</td>\n",
       "      <td>Active, men working, not producing</td>\n",
       "      <td>Surface</td>\n",
       "      <td>Indepedent Producer Operator</td>\n",
       "      <td>Mine only</td>\n",
       "      <td>Jesse Creek Mining, Llc</td>\n",
       "      <td>1615 Kent Dairy Rd, Alabaster, AL 35007</td>\n",
       "      <td></td>\n",
       "      <td>Appalachia Southern</td>\n",
       "      <td>56004</td>\n",
       "      <td>10</td>\n",
       "      <td>22392</td>\n",
       "    </tr>\n",
       "    <tr>\n",
       "      <th>1</th>\n",
       "      <td>2013</td>\n",
       "      <td>103404</td>\n",
       "      <td>Reid School Mine</td>\n",
       "      <td>Alabama</td>\n",
       "      <td>Blount</td>\n",
       "      <td>Permanently abandoned</td>\n",
       "      <td>Surface</td>\n",
       "      <td>Indepedent Producer Operator</td>\n",
       "      <td>Mine only</td>\n",
       "      <td>Taft Coal Sales &amp; Associates,</td>\n",
       "      <td>3000 Riverchase Galleria Ste 1, Birmingham, AL...</td>\n",
       "      <td>UNIT</td>\n",
       "      <td>Appalachia Southern</td>\n",
       "      <td>28807</td>\n",
       "      <td>18</td>\n",
       "      <td>28447</td>\n",
       "    </tr>\n",
       "    <tr>\n",
       "      <th>2</th>\n",
       "      <td>2013</td>\n",
       "      <td>100759</td>\n",
       "      <td>North River #1 Underground Min</td>\n",
       "      <td>Alabama</td>\n",
       "      <td>Fayette</td>\n",
       "      <td>Active, men working, not producing</td>\n",
       "      <td>Underground</td>\n",
       "      <td>Indepedent Producer Operator</td>\n",
       "      <td>Mine and Preparation Plant</td>\n",
       "      <td>Jim Walter Resources Inc</td>\n",
       "      <td>3114 County Rd 63 S, Berry, AL 35546</td>\n",
       "      <td>UNIT</td>\n",
       "      <td>Appalachia Southern</td>\n",
       "      <td>1440115</td>\n",
       "      <td>183</td>\n",
       "      <td>474784</td>\n",
       "    </tr>\n",
       "    <tr>\n",
       "      <th>3</th>\n",
       "      <td>2013</td>\n",
       "      <td>103246</td>\n",
       "      <td>Bear Creek</td>\n",
       "      <td>Alabama</td>\n",
       "      <td>Franklin</td>\n",
       "      <td>Active</td>\n",
       "      <td>Surface</td>\n",
       "      <td>Indepedent Producer Operator</td>\n",
       "      <td>Mine only</td>\n",
       "      <td>Birmingham Coal &amp; Coke Co., In</td>\n",
       "      <td>912 Edenton Street, Birmingham, AL 35242</td>\n",
       "      <td></td>\n",
       "      <td>Appalachia Southern</td>\n",
       "      <td>87587</td>\n",
       "      <td>13</td>\n",
       "      <td>29193</td>\n",
       "    </tr>\n",
       "    <tr>\n",
       "      <th>4</th>\n",
       "      <td>2013</td>\n",
       "      <td>103451</td>\n",
       "      <td>Knight Mine</td>\n",
       "      <td>Alabama</td>\n",
       "      <td>Franklin</td>\n",
       "      <td>Active</td>\n",
       "      <td>Surface</td>\n",
       "      <td>Indepedent Producer Operator</td>\n",
       "      <td>Mine only</td>\n",
       "      <td>Birmingham Coal &amp; Coke Co., In</td>\n",
       "      <td>P.O. Box 354, Lynn, AL 35242</td>\n",
       "      <td></td>\n",
       "      <td>Appalachia Southern</td>\n",
       "      <td>147499</td>\n",
       "      <td>27</td>\n",
       "      <td>46393</td>\n",
       "    </tr>\n",
       "  </tbody>\n",
       "</table>\n",
       "</div>"
      ],
      "text/plain": [
       "   Year  MSHA ID                       Mine Name Mine State Mine County  \\\n",
       "0  2013   103381            Tacoa Highwall Miner    Alabama        Bibb   \n",
       "1  2013   103404                Reid School Mine    Alabama      Blount   \n",
       "2  2013   100759  North River #1 Underground Min    Alabama     Fayette   \n",
       "3  2013   103246                      Bear Creek    Alabama    Franklin   \n",
       "4  2013   103451                     Knight Mine    Alabama    Franklin   \n",
       "\n",
       "                          Mine Status    Mine Type  \\\n",
       "0  Active, men working, not producing      Surface   \n",
       "1               Permanently abandoned      Surface   \n",
       "2  Active, men working, not producing  Underground   \n",
       "3                              Active      Surface   \n",
       "4                              Active      Surface   \n",
       "\n",
       "                   Company Type              Operation Type  \\\n",
       "0  Indepedent Producer Operator                   Mine only   \n",
       "1  Indepedent Producer Operator                   Mine only   \n",
       "2  Indepedent Producer Operator  Mine and Preparation Plant   \n",
       "3  Indepedent Producer Operator                   Mine only   \n",
       "4  Indepedent Producer Operator                   Mine only   \n",
       "\n",
       "                Operating Company  \\\n",
       "0         Jesse Creek Mining, Llc   \n",
       "1   Taft Coal Sales & Associates,   \n",
       "2        Jim Walter Resources Inc   \n",
       "3  Birmingham Coal & Coke Co., In   \n",
       "4  Birmingham Coal & Coke Co., In   \n",
       "\n",
       "                           Operating Company Address Union Code  \\\n",
       "0            1615 Kent Dairy Rd, Alabaster, AL 35007              \n",
       "1  3000 Riverchase Galleria Ste 1, Birmingham, AL...       UNIT   \n",
       "2               3114 County Rd 63 S, Berry, AL 35546       UNIT   \n",
       "3           912 Edenton Street, Birmingham, AL 35242              \n",
       "4                       P.O. Box 354, Lynn, AL 35242              \n",
       "\n",
       "    Coal Supply Region  Production (short tons)  Average Employees  \\\n",
       "0  Appalachia Southern                    56004                 10   \n",
       "1  Appalachia Southern                    28807                 18   \n",
       "2  Appalachia Southern                  1440115                183   \n",
       "3  Appalachia Southern                    87587                 13   \n",
       "4  Appalachia Southern                   147499                 27   \n",
       "\n",
       "   Labor Hours  \n",
       "0        22392  \n",
       "1        28447  \n",
       "2       474784  \n",
       "3        29193  \n",
       "4        46393  "
      ]
     },
     "execution_count": 107,
     "metadata": {},
     "output_type": "execute_result"
    }
   ],
   "source": [
    "import pandas as pd\n",
    "import string as str\n",
    "\n",
    "df = pd.read_excel('coalpublic2013.xls', skiprows=[0,1,2])\n",
    "df.head()"
   ]
  },
  {
   "cell_type": "markdown",
   "metadata": {},
   "source": [
    "__Question 118:__<br>\n",
    "Write a Pandas program to import excel data (coalpublic2013.xlsx ) into a data frame and find details where \"Mine Name\" starts with \"P."
   ]
  },
  {
   "cell_type": "markdown",
   "metadata": {},
   "source": [
    "__Solution:__"
   ]
  },
  {
   "cell_type": "code",
   "execution_count": 189,
   "metadata": {},
   "outputs": [
    {
     "name": "stdout",
     "output_type": "stream",
     "text": [
      "Name of mine: P-2\n",
      "     Year  MSHA ID Mine Name       Mine State Mine County Mine Status  \\\n",
      "351  2013  1514324       P-2  Kentucky (East)      Martin      Active   \n",
      "\n",
      "       Mine Type          Company Type     Operation Type  \\\n",
      "351  Underground  Operating Subsidiary  Preparation Plant   \n",
      "\n",
      "              Operating Company             Operating Company Address  \\\n",
      "351  Genesis Coal Services, Llc  9462 Meathouse Rd, Pilgrim, KY 41250   \n",
      "\n",
      "    Union Code  Coal Supply Region  Production (short tons)  \\\n",
      "351             Appalachia Central                        0   \n",
      "\n",
      "     Average Employees  Labor Hours  \n",
      "351                 20        40453  \n",
      "\n",
      "\n",
      "\n",
      "Name of mine: P.Ridge Mine-South Pit\n",
      "     Year  MSHA ID               Mine Name       Mine State Mine County  \\\n",
      "377  2013  1519683  P.Ridge Mine-South Pit  Kentucky (West)        Ohio   \n",
      "\n",
      "    Mine Status Mine Type                  Company Type Operation Type  \\\n",
      "377      Active   Surface  Indepedent Producer Operator      Mine only   \n",
      "\n",
      "                  Operating Company        Operating Company Address  \\\n",
      "377  Western Kentucky Minerals, Inc  P.O. Box 155, Philpot, KY 42366   \n",
      "\n",
      "    Union Code Coal Supply Region  Production (short tons)  Average Employees  \\\n",
      "377                Illinois Basin                    26300                  5   \n",
      "\n",
      "     Labor Hours  \n",
      "377         2932  \n",
      "\n",
      "\n",
      "\n",
      "Name of mine: P8 North\n",
      "     Year  MSHA ID Mine Name Mine State Mine County Mine Status    Mine Type  \\\n",
      "595  2013  3402080  P8 North   Oklahoma    Le Flore      Active  Underground   \n",
      "\n",
      "                     Company Type Operation Type  \\\n",
      "595  Indepedent Producer Operator      Mine only   \n",
      "\n",
      "                  Operating Company    Operating Company Address Union Code  \\\n",
      "595  South Central Coal Company, In  P.O. Box 6, Spiro, OK 74959              \n",
      "\n",
      "    Coal Supply Region  Production (short tons)  Average Employees  \\\n",
      "595           Interior                   441894                 73   \n",
      "\n",
      "     Labor Hours  \n",
      "595       199065  \n",
      "\n",
      "\n",
      "\n",
      "Name of mine: Pads Branch Washer\n",
      "     Year  MSHA ID           Mine Name       Mine State Mine County  \\\n",
      "408  2013  1519656  Pads Branch Washer  Kentucky (East)       Perry   \n",
      "\n",
      "                            Mine Status Mine Type  \\\n",
      "408  Active, men working, not producing   Surface   \n",
      "\n",
      "                     Company Type     Operation Type       Operating Company  \\\n",
      "408  Indepedent Producer Operator  Preparation Plant  Pine Branch Mining Llc   \n",
      "\n",
      "                             Operating Company Address Union Code  \\\n",
      "408  3228 Summit Square Place, Suit, Lexington, KY ...              \n",
      "\n",
      "     Coal Supply Region  Production (short tons)  Average Employees  \\\n",
      "408  Appalachia Central                        0                  7   \n",
      "\n",
      "     Labor Hours  \n",
      "408        14996  \n",
      "\n",
      "\n",
      "\n",
      "Name of mine: Panther Mine No. 1\n",
      "     Year  MSHA ID           Mine Name       Mine State Mine County  \\\n",
      "230  2013  1518198  Panther Mine No. 1  Kentucky (East)      Harlan   \n",
      "\n",
      "                            Mine Status    Mine Type  \\\n",
      "230  Active, men working, not producing  Underground   \n",
      "\n",
      "                     Company Type Operation Type            Operating Company  \\\n",
      "230  Indepedent Producer Operator      Mine only  North Fork Coal Corporation   \n",
      "\n",
      "                 Operating Company Address Union Code  Coal Supply Region  \\\n",
      "230  5703 Crutchfield Dr, Norton, VA 24273             Appalachia Central   \n",
      "\n",
      "     Production (short tons)  Average Employees  Labor Hours  \n",
      "230                     5742                 23        11260  \n",
      "\n",
      "\n",
      "\n",
      "Name of mine: Paradise #9\n",
      "     Year  MSHA ID    Mine Name       Mine State Mine County Mine Status  \\\n",
      "362  2013  1517741  Paradise #9  Kentucky (West)  Muhlenberg      Active   \n",
      "\n",
      "       Mine Type                  Company Type              Operation Type  \\\n",
      "362  Underground  Indepedent Producer Operator  Mine and Preparation Plant   \n",
      "\n",
      "             Operating Company                Operating Company Address  \\\n",
      "362  Kenamerican Resources Inc  297a State Route 2551, Bremen, KY 42325   \n",
      "\n",
      "    Union Code Coal Supply Region  Production (short tons)  Average Employees  \\\n",
      "362                Illinois Basin                  2418902                271   \n",
      "\n",
      "     Labor Hours  \n",
      "362       697868  \n",
      "\n",
      "\n",
      "\n",
      "Name of mine: Paradise Bank\n",
      "      Year  MSHA ID      Mine Name       Mine State     Mine County  \\\n",
      "1437  2013  3610027  Paradise Bank  Refuse Recovery  Northumberland   \n",
      "\n",
      "                  Mine Status Mine Type                  Company Type  \\\n",
      "1437  New, under construction    Refuse  Indepedent Producer Operator   \n",
      "\n",
      "     Operation Type               Operating Company  \\\n",
      "1437      Mine only  D Molesevich & Sons Constructi   \n",
      "\n",
      "               Operating Company Address Union Code   Coal Supply Region  \\\n",
      "1437  P.O. Box 121, Mt. Carmel, PA 17851             Appalachia Northern   \n",
      "\n",
      "      Production (short tons)  Average Employees  Labor Hours  \n",
      "1437                       52                  1           53  \n",
      "\n",
      "\n",
      "\n",
      "Name of mine: Pardee Plant/Loadout\n",
      "      Year  MSHA ID             Mine Name Mine State Mine County Mine Status  \\\n",
      "1036  2013  4405014  Pardee Plant/Loadout   Virginia        Wise      Active   \n",
      "\n",
      "        Mine Type          Company Type     Operation Type  \\\n",
      "1036  Underground  Operating Subsidiary  Preparation Plant   \n",
      "\n",
      "             Operating Company           Operating Company Address  \\\n",
      "1036  Cumberland River Coal Co  P.O. Box 109, Appalachia, VA 24216   \n",
      "\n",
      "                        Union Code  Coal Supply Region  \\\n",
      "1036  Scotia Employees Association  Appalachia Central   \n",
      "\n",
      "      Production (short tons)  Average Employees  Labor Hours  \n",
      "1036                        0                 44       109872  \n",
      "\n",
      "\n",
      "\n",
      "Name of mine: Park Mine Coal Company\n",
      "      Year  MSHA ID               Mine Name       Mine State Mine County  \\\n",
      "1438  2013  3609304  Park Mine Coal Company  Refuse Recovery  Schuylkill   \n",
      "\n",
      "     Mine Status Mine Type                  Company Type Operation Type  \\\n",
      "1438      Active    Refuse  Indepedent Producer Operator      Mine only   \n",
      "\n",
      "           Operating Company                   Operating Company Address  \\\n",
      "1438  Park Mine Coal Company  294 Pine Creek Drive, Orwigsburg, PA 17961   \n",
      "\n",
      "     Union Code   Coal Supply Region  Production (short tons)  \\\n",
      "1438             Appalachia Northern                    12403   \n",
      "\n",
      "      Average Employees  Labor Hours  \n",
      "1438                  7        17777  \n",
      "\n",
      "\n",
      "\n",
      "Name of mine: Parkway Mine\n",
      "     Year  MSHA ID     Mine Name       Mine State Mine County Mine Status  \\\n",
      "366  2013  1519358  Parkway Mine  Kentucky (West)  Muhlenberg      Active   \n",
      "\n",
      "       Mine Type                  Company Type Operation Type  \\\n",
      "366  Underground  Indepedent Producer Operator      Mine only   \n",
      "\n",
      "                Operating Company               Operating Company Address  \\\n",
      "366  Armstrong Coal Company, Inc.  407 Brown Road, Madisonville, KY 42431   \n",
      "\n",
      "    Union Code Coal Supply Region  Production (short tons)  Average Employees  \\\n",
      "366                Illinois Basin                  1347372                168   \n",
      "\n",
      "     Labor Hours  \n",
      "366       398460  \n",
      "\n",
      "\n",
      "\n",
      "Name of mine: Parkway Mine Surface Facilitie\n",
      "     Year  MSHA ID                       Mine Name       Mine State  \\\n",
      "365  2013  1519356  Parkway Mine Surface Facilitie  Kentucky (West)   \n",
      "\n",
      "    Mine County Mine Status    Mine Type                  Company Type  \\\n",
      "365  Muhlenberg      Active  Underground  Indepedent Producer Operator   \n",
      "\n",
      "        Operation Type             Operating Company  \\\n",
      "365  Preparation Plant  Armstrong Coal Company, Inc.   \n",
      "\n",
      "                 Operating Company Address Union Code Coal Supply Region  \\\n",
      "365  407 Brown Rd., Madisonville, KY 42431                Illinois Basin   \n",
      "\n",
      "     Production (short tons)  Average Employees  Labor Hours  \n",
      "365                        0                 23        43068  \n",
      "\n",
      "\n",
      "\n",
      "Name of mine: Parkwood Mine\n",
      "     Year  MSHA ID      Mine Name                 Mine State Mine County  \\\n",
      "607  2013  3608785  Parkwood Mine  Pennsylvania (Bituminous)   Armstrong   \n",
      "\n",
      "    Mine Status    Mine Type                  Company Type Operation Type  \\\n",
      "607      Active  Underground  Indepedent Producer Operator      Mine only   \n",
      "\n",
      "          Operating Company                Operating Company Address  \\\n",
      "607  Rosebud Mining Company  301 Market Street, Kittanning, PA 16201   \n",
      "\n",
      "    Union Code   Coal Supply Region  Production (short tons)  \\\n",
      "607             Appalachia Northern                   197848   \n",
      "\n",
      "     Average Employees  Labor Hours  \n",
      "607                 28        66105  \n",
      "\n",
      "\n",
      "\n",
      "Name of mine: Pathfork\n",
      "     Year  MSHA ID Mine Name       Mine State Mine County  \\\n",
      "249  2013  1519549  Pathfork  Kentucky (East)      Harlan   \n",
      "\n",
      "                            Mine Status Mine Type  \\\n",
      "249  Active, men working, not producing   Surface   \n",
      "\n",
      "                     Company Type Operation Type  \\\n",
      "249  Indepedent Producer Operator      Mine only   \n",
      "\n",
      "                 Operating Company          Operating Company Address  \\\n",
      "249  Nally & Hamilton Enterprises,  P.O. Box 157, Bardstown, KY 40004   \n",
      "\n",
      "    Union Code  Coal Supply Region  Production (short tons)  \\\n",
      "249             Appalachia Central                    12308   \n",
      "\n",
      "     Average Employees  Labor Hours  \n",
      "249                 16        32479  \n",
      "\n",
      "\n",
      "\n",
      "Name of mine: Patriot Surface\n",
      "     Year  MSHA ID        Mine Name       Mine State Mine County  \\\n",
      "254  2013  1516231  Patriot Surface  Kentucky (West)   Henderson   \n",
      "\n",
      "                            Mine Status Mine Type  \\\n",
      "254  Active, men working, not producing   Surface   \n",
      "\n",
      "                     Company Type Operation Type        Operating Company  \\\n",
      "254  Indepedent Producer Operator      Mine only  Grand Eagle Mining, Llc   \n",
      "\n",
      "             Operating Company Address Union Code Coal Supply Region  \\\n",
      "254  P.O. Box 275, Henderson, KY 42419                Illinois Basin   \n",
      "\n",
      "     Production (short tons)  Average Employees  Labor Hours  \n",
      "254                    13663                 11        21107  \n",
      "\n",
      "\n",
      "\n",
      "Name of mine: Pattiki\n",
      "    Year  MSHA ID Mine Name Mine State Mine County Mine Status    Mine Type  \\\n",
      "94  2013  1103058   Pattiki   Illinois       White      Active  Underground   \n",
      "\n",
      "            Company Type              Operation Type       Operating Company  \\\n",
      "94  Operating Subsidiary  Mine and Preparation Plant  White County Coal, Llc   \n",
      "\n",
      "        Operating Company Address Union Code Coal Supply Region  \\\n",
      "94  P.O. Box 457, Carmi, IL 62821                Illinois Basin   \n",
      "\n",
      "    Production (short tons)  Average Employees  Labor Hours  \n",
      "94                  2596801                322       805720  \n",
      "\n",
      "\n",
      "\n",
      "Name of mine: Paw Paw Mine\n",
      "     Year  MSHA ID     Mine Name Mine State Mine County Mine Status  \\\n",
      "970  2013  4406685  Paw Paw Mine   Virginia    Buchanan      Active   \n",
      "\n",
      "       Mine Type          Company Type Operation Type  \\\n",
      "970  Underground  Operating Subsidiary      Mine only   \n",
      "\n",
      "            Operating Company         Operating Company Address Union Code  \\\n",
      "970  Banner Blue Coal Company  P.O. Box 458, Big Rock, VA 24603              \n",
      "\n",
      "     Coal Supply Region  Production (short tons)  Average Employees  \\\n",
      "970  Appalachia Central                    94269                 35   \n",
      "\n",
      "     Labor Hours  \n",
      "970        81706  \n",
      "\n",
      "\n",
      "\n",
      "Name of mine: Pax Load Out\n",
      "      Year  MSHA ID     Mine Name                Mine State Mine County  \\\n",
      "1127  2013  4609114  Pax Load Out  West Virginia (Southern)     Fayette   \n",
      "1128  2013  4609114  Pax Load Out  West Virginia (Southern)     Fayette   \n",
      "\n",
      "     Mine Status    Mine Type          Company Type     Operation Type  \\\n",
      "1127      Active      Surface  Operating Subsidiary  Preparation Plant   \n",
      "1128      Active  Underground  Operating Subsidiary  Preparation Plant   \n",
      "\n",
      "              Operating Company   Operating Company Address Union Code  \\\n",
      "1127  Simmons Fork Mining, Inc.  P.O. Box 69, Pax, WV 25904              \n",
      "1128  Simmons Fork Mining, Inc.  P.O. Box 69, Pax, WV 25904              \n",
      "\n",
      "      Coal Supply Region  Production (short tons)  Average Employees  \\\n",
      "1127  Appalachia Central                        0                  3   \n",
      "1128  Appalachia Central                        0                  2   \n",
      "\n",
      "      Labor Hours  \n",
      "1127         6646  \n",
      "1128         6645  \n",
      "\n",
      "\n",
      "\n",
      "Name of mine: Peach Mt. Strip\n",
      "     Year  MSHA ID        Mine Name                 Mine State Mine County  \\\n",
      "816  2013  3605396  Peach Mt. Strip  Pennsylvania (Anthracite)  Schuylkill   \n",
      "\n",
      "    Mine Status Mine Type                  Company Type Operation Type  \\\n",
      "816      Active   Surface  Indepedent Producer Operator      Mine only   \n",
      "\n",
      "          Operating Company            Operating Company Address Union Code  \\\n",
      "816  Reading Anthracite Co.  P.O. Box 1200, Pottsville, PA 17901              \n",
      "\n",
      "      Coal Supply Region  Production (short tons)  Average Employees  \\\n",
      "816  Appalachia Northern                     8073                  2   \n",
      "\n",
      "     Labor Hours  \n",
      "816         7015  \n",
      "\n",
      "\n",
      "\n",
      "Name of mine: Peach Orchard Prep Plant & Ld\n",
      "      Year  MSHA ID                      Mine Name                Mine State  \\\n",
      "1113  2013  4608376  Peach Orchard Prep Plant & Ld  West Virginia (Southern)   \n",
      "1114  2013  4608376  Peach Orchard Prep Plant & Ld  West Virginia (Southern)   \n",
      "\n",
      "     Mine County                         Mine Status    Mine Type  \\\n",
      "1113        Clay  Active, men working, not producing      Surface   \n",
      "1114        Clay  Active, men working, not producing  Underground   \n",
      "\n",
      "              Company Type     Operation Type          Operating Company  \\\n",
      "1113  Operating Subsidiary  Preparation Plant  Fola Coal Company, L.L.C.   \n",
      "1114  Operating Subsidiary  Preparation Plant  Fola Coal Company, L.L.C.   \n",
      "\n",
      "             Operating Company Address Union Code  Coal Supply Region  \\\n",
      "1113  P.O. Box 180, Bickmore, WV 25019             Appalachia Central   \n",
      "1114  P.O. Box 180, Bickmore, WV 25019             Appalachia Central   \n",
      "\n",
      "      Production (short tons)  Average Employees  Labor Hours  \n",
      "1113                        0                  0          446  \n",
      "1114                        0                  8        10696  \n",
      "\n",
      "\n",
      "\n",
      "Name of mine: Peerless Rachel Mine\n",
      "      Year  MSHA ID             Mine Name                Mine State  \\\n",
      "1108  2013  4609258  Peerless Rachel Mine  West Virginia (Southern)   \n",
      "\n",
      "     Mine County Mine Status    Mine Type                  Company Type  \\\n",
      "1108       Boone      Active  Underground  Indepedent Producer Operator   \n",
      "\n",
      "     Operation Type         Operating Company  \\\n",
      "1108      Mine only  Emerald Processing, Llc.   \n",
      "\n",
      "            Operating Company Address Union Code  Coal Supply Region  \\\n",
      "1108  P.O. Box 189, Comfort, WV 25049             Appalachia Central   \n",
      "\n",
      "      Production (short tons)  Average Employees  Labor Hours  \n",
      "1108                   752283                116       286703  \n",
      "\n",
      "\n",
      "\n",
      "Name of mine: Pegs Branch #2\n",
      "     Year  MSHA ID       Mine Name       Mine State Mine County Mine Status  \\\n",
      "482  2013  1519711  Pegs Branch #2  Kentucky (East)        Pike      Active   \n",
      "\n",
      "    Mine Type                  Company Type Operation Type  \\\n",
      "482   Surface  Indepedent Producer Operator      Mine only   \n",
      "\n",
      "                  Operating Company        Operating Company Address  \\\n",
      "482  Mountain Reclamation And Const  P.O. Box 1091, Phelps, KY 41553   \n",
      "\n",
      "    Union Code  Coal Supply Region  Production (short tons)  \\\n",
      "482             Appalachia Central                     3966   \n",
      "\n",
      "     Average Employees  Labor Hours  \n",
      "482                  6         3678  \n",
      "\n",
      "\n",
      "\n",
      "Name of mine: Penfield Mine\n",
      "     Year  MSHA ID      Mine Name                 Mine State Mine County  \\\n",
      "677  2013  3609355  Penfield Mine  Pennsylvania (Bituminous)  Clearfield   \n",
      "\n",
      "    Mine Status    Mine Type                  Company Type Operation Type  \\\n",
      "677      Active  Underground  Indepedent Producer Operator      Mine only   \n",
      "\n",
      "          Operating Company                Operating Company Address  \\\n",
      "677  Rosebud Mining Company  301 Market Street, Kittanning, PA 16201   \n",
      "\n",
      "    Union Code   Coal Supply Region  Production (short tons)  \\\n",
      "677             Appalachia Northern                   468434   \n",
      "\n",
      "     Average Employees  Labor Hours  \n",
      "677                 48       114300  \n",
      "\n",
      "\n",
      "\n",
      "Name of mine: Penny #1\n",
      "    Year  MSHA ID Mine Name Mine State Mine County         Mine Status  \\\n",
      "50  2013   301569  Penny #1   Arkansas   Sebastian  Temporarily closed   \n",
      "\n",
      "   Mine Type                  Company Type Operation Type  \\\n",
      "50   Surface  Indepedent Producer Operator      Mine only   \n",
      "\n",
      "       Operating Company          Operating Company Address Union Code  \\\n",
      "50  Comer Mining Company  P.O. Box 986, Greenwood, AR 72936              \n",
      "\n",
      "   Coal Supply Region  Production (short tons)  Average Employees  Labor Hours  \n",
      "50           Interior                     3973                  2         2790  \n",
      "\n",
      "\n",
      "\n",
      "Name of mine: Persimmon #1\n",
      "     Year  MSHA ID     Mine Name       Mine State Mine County Mine Status  \\\n",
      "468  2013  1519396  Persimmon #1  Kentucky (East)        Pike      Active   \n",
      "\n",
      "    Mine Type          Company Type Operation Type         Operating Company  \\\n",
      "468   Surface  Operating Subsidiary      Mine only  Clintwood Elkhorn Mining   \n",
      "\n",
      "                           Operating Company Address Union Code  \\\n",
      "468  23956 State  Highway 194e, Feds Creek, KY 41524              \n",
      "\n",
      "     Coal Supply Region  Production (short tons)  Average Employees  \\\n",
      "468  Appalachia Central                    48246                  8   \n",
      "\n",
      "     Labor Hours  \n",
      "468        13901  \n",
      "\n",
      "\n",
      "\n",
      "Name of mine: Pevler Plant\n",
      "     Year  MSHA ID     Mine Name       Mine State Mine County Mine Status  \\\n",
      "349  2013  1506268  Pevler Plant  Kentucky (East)      Martin      Active   \n",
      "350  2013  1506268  Pevler Plant  Kentucky (East)      Martin      Active   \n",
      "\n",
      "       Mine Type Company Type     Operation Type        Operating Company  \\\n",
      "349      Surface   Contractor  Preparation Plant  Pinnacle Processing Inc   \n",
      "350  Underground   Contractor  Preparation Plant  Pinnacle Processing Inc   \n",
      "\n",
      "          Operating Company Address Union Code  Coal Supply Region  \\\n",
      "349  P.O. Box 399, Lovely, KY 41231             Appalachia Central   \n",
      "350  P.O. Box 399, Lovely, KY 41231             Appalachia Central   \n",
      "\n",
      "     Production (short tons)  Average Employees  Labor Hours  \n",
      "349                        0                 14        32743  \n",
      "350                        0                 68       159862  \n",
      "\n",
      "\n",
      "\n",
      "Name of mine: Phelps Coal Tipple (T-2)\n",
      "     Year  MSHA ID                 Mine Name       Mine State Mine County  \\\n",
      "418  2013  1513193  Phelps Coal Tipple (T-2)  Kentucky (East)        Pike   \n",
      "\n",
      "    Mine Status Mine Type                  Company Type     Operation Type  \\\n",
      "418      Active   Surface  Indepedent Producer Operator  Preparation Plant   \n",
      "\n",
      "         Operating Company          Operating Company Address Union Code  \\\n",
      "418  Revelation Energy Llc  P.O. Box 249, Stanville, KY 41659              \n",
      "\n",
      "     Coal Supply Region  Production (short tons)  Average Employees  \\\n",
      "418  Appalachia Central                        0                 10   \n",
      "\n",
      "     Labor Hours  \n",
      "418        29520  \n",
      "\n",
      "\n",
      "\n",
      "Name of mine: Phoenix\n",
      "      Year  MSHA ID Mine Name       Mine State Mine County Mine Status  \\\n",
      "1440  2013  3609405   Phoenix  Refuse Recovery  Washington      Active   \n",
      "\n",
      "     Mine Type                  Company Type              Operation Type  \\\n",
      "1440    Refuse  Indepedent Producer Operator  Mine and Preparation Plant   \n",
      "\n",
      "     Operating Company                 Operating Company Address Union Code  \\\n",
      "1440     Boca Coal Inc  5312 Thoms Run Rd, Bridgeville, PA 15017              \n",
      "\n",
      "       Coal Supply Region  Production (short tons)  Average Employees  \\\n",
      "1440  Appalachia Northern                     4473                  5   \n",
      "\n",
      "      Labor Hours  \n",
      "1440         5670  \n",
      "\n",
      "\n",
      "\n",
      "Name of mine: Phoenix No 3\n",
      "     Year  MSHA ID     Mine Name Mine State Mine County  \\\n",
      "590  2013  3401343  Phoenix No 3   Oklahoma       Craig   \n",
      "\n",
      "               Mine Status Mine Type                  Company Type  \\\n",
      "590  Permanently abandoned   Surface  Indepedent Producer Operator   \n",
      "\n",
      "    Operation Type       Operating Company      Operating Company Address  \\\n",
      "590      Mine only  Phoenix Mining Company  P.O. Box 475, Keota, OK 74941   \n",
      "\n",
      "    Union Code Coal Supply Region  Production (short tons)  Average Employees  \\\n",
      "590                      Interior                    28441                 10   \n",
      "\n",
      "     Labor Hours  \n",
      "590        21486  \n",
      "\n",
      "\n",
      "\n",
      "Name of mine: Piedmont Mine\n",
      "      Year  MSHA ID      Mine Name                Mine State Mine County  \\\n",
      "1274  2013  4609196  Piedmont Mine  West Virginia (Northern)     Mineral   \n",
      "\n",
      "                Mine Status Mine Type                  Company Type  \\\n",
      "1274  Permanently abandoned   Surface  Indepedent Producer Operator   \n",
      "\n",
      "     Operation Type   Operating Company  \\\n",
      "1274      Mine only  Duckworth Coal Inc   \n",
      "\n",
      "                           Operating Company Address Union Code  \\\n",
      "1274  19709 Winner View Terrace, Frostburg, MD 21532              \n",
      "\n",
      "       Coal Supply Region  Production (short tons)  Average Employees  \\\n",
      "1274  Appalachia Northern                    48130                  5   \n",
      "\n",
      "      Labor Hours  \n",
      "1274        12785  \n",
      "\n",
      "\n",
      "\n",
      "Name of mine: Pine Branch 1\n",
      "      Year  MSHA ID      Mine Name Mine State Mine County Mine Status  \\\n",
      "1067  2013  4407224  Pine Branch 1   Virginia        Wise      Active   \n",
      "\n",
      "        Mine Type                  Company Type Operation Type  \\\n",
      "1067  Underground  Indepedent Producer Operator      Mine only   \n",
      "\n",
      "                 Operating Company           Operating Company Address  \\\n",
      "1067  Cumberland River Coal Co Inc  P.O. Box 109, Appalachia, VA 24216   \n",
      "\n",
      "                        Union Code  Coal Supply Region  \\\n",
      "1067  Scotia Employees Association  Appalachia Central   \n",
      "\n",
      "      Production (short tons)  Average Employees  Labor Hours  \n",
      "1067                   379177                 82       202136  \n",
      "\n",
      "\n",
      "\n",
      "Name of mine: Piney Woods Preparation Plant\n",
      "    Year  MSHA ID                      Mine Name Mine State Mine County  \\\n",
      "18  2013   102976  Piney Woods Preparation Plant    Alabama      Shelby   \n",
      "19  2013   102976  Piney Woods Preparation Plant    Alabama      Shelby   \n",
      "\n",
      "   Mine Status    Mine Type                  Company Type     Operation Type  \\\n",
      "18      Active      Surface  Indepedent Producer Operator  Preparation Plant   \n",
      "19      Active  Underground  Indepedent Producer Operator  Preparation Plant   \n",
      "\n",
      "          Operating Company                Operating Company Address  \\\n",
      "18  Jesse Creek Mining, Llc  1615 Kent Dairy Rd, Alabaster, AL 35007   \n",
      "19  Jesse Creek Mining, Llc  1615 Kent Dairy Rd, Alabaster, AL 35007   \n",
      "\n",
      "   Union Code   Coal Supply Region  Production (short tons)  \\\n",
      "18             Appalachia Southern                        0   \n",
      "19             Appalachia Southern                        0   \n",
      "\n",
      "    Average Employees  Labor Hours  \n",
      "18                  5        14828  \n",
      "19                  9        23193  \n",
      "\n",
      "\n",
      "\n",
      "Name of mine: Pinnacle Mine\n",
      "      Year  MSHA ID      Mine Name                Mine State Mine County  \\\n",
      "1387  2013  4601816  Pinnacle Mine  West Virginia (Southern)     Wyoming   \n",
      "\n",
      "     Mine Status    Mine Type          Company Type Operation Type  \\\n",
      "1387      Active  Underground  Operating Subsidiary      Mine only   \n",
      "\n",
      "                Operating Company          Operating Company Address  \\\n",
      "1387  Pinnacle Mining Company Llc  P.O. Box 338, Pineville, WV 24874   \n",
      "\n",
      "     Union Code  Coal Supply Region  Production (short tons)  \\\n",
      "1387       UNIT  Appalachia Central                  2807071   \n",
      "\n",
      "      Average Employees  Labor Hours  \n",
      "1387                493      1190318  \n",
      "\n",
      "\n",
      "\n",
      "Name of mine: Pinnacle Preparation Plant\n",
      "      Year  MSHA ID                   Mine Name                Mine State  \\\n",
      "1389  2013  4605868  Pinnacle Preparation Plant  West Virginia (Southern)   \n",
      "\n",
      "     Mine County Mine Status    Mine Type          Company Type  \\\n",
      "1389     Wyoming      Active  Underground  Operating Subsidiary   \n",
      "\n",
      "         Operation Type            Operating Company  \\\n",
      "1389  Preparation Plant  Pinnacle Mining Company Llc   \n",
      "\n",
      "              Operating Company Address Union Code  Coal Supply Region  \\\n",
      "1389  P.O. Box 338, Pineville, WV 24874       UNIT  Appalachia Central   \n",
      "\n",
      "      Production (short tons)  Average Employees  Labor Hours  \n"
     ]
    },
    {
     "name": "stdout",
     "output_type": "stream",
     "text": [
      "1389                        0                 47       147518  \n",
      "\n",
      "\n",
      "\n",
      "Name of mine: Placer Processing Plant #1\n",
      "     Year  MSHA ID                   Mine Name       Mine State Mine County  \\\n",
      "159  2013  1508166  Placer Processing Plant #1  Kentucky (East)        Boyd   \n",
      "160  2013  1508166  Placer Processing Plant #1  Kentucky (East)        Boyd   \n",
      "\n",
      "    Mine Status    Mine Type          Company Type     Operation Type  \\\n",
      "159      Active      Surface  Operating Subsidiary  Preparation Plant   \n",
      "160      Active  Underground  Operating Subsidiary  Preparation Plant   \n",
      "\n",
      "    Operating Company               Operating Company Address Union Code  \\\n",
      "159   Coal Equity Inc  13125 Us Rt 23, Catlettsburg, KY 41129              \n",
      "160   Coal Equity Inc  13125 Us Rt 23, Catlettsburg, KY 41129              \n",
      "\n",
      "     Coal Supply Region  Production (short tons)  Average Employees  \\\n",
      "159  Appalachia Central                        0                  2   \n",
      "160  Appalachia Central                        0                  4   \n",
      "\n",
      "     Labor Hours  \n",
      "159         3485  \n",
      "160         8132  \n",
      "\n",
      "\n",
      "\n",
      "Name of mine: Plant No 1\n",
      "      Year  MSHA ID   Mine Name Mine State Mine County Mine Status  \\\n",
      "1031  2013  4403088  Plant No 1   Virginia        Wise      Active   \n",
      "\n",
      "        Mine Type          Company Type     Operation Type  \\\n",
      "1031  Underground  Operating Subsidiary  Preparation Plant   \n",
      "\n",
      "                   Operating Company  \\\n",
      "1031  Pigeon Creek Processing Corpor   \n",
      "\n",
      "                      Operating Company Address Union Code  \\\n",
      "1031  633 Callahan Avenue, Appalachia, VA 24216              \n",
      "\n",
      "      Coal Supply Region  Production (short tons)  Average Employees  \\\n",
      "1031  Appalachia Central                        0                 30   \n",
      "\n",
      "      Labor Hours  \n",
      "1031        70841  \n",
      "\n",
      "\n",
      "\n",
      "Name of mine: Plant No. 1\n",
      "     Year  MSHA ID    Mine Name       Mine State Mine County Mine Status  \\\n",
      "415  2013  1511162  Plant No. 1  Kentucky (East)        Pike      Active   \n",
      "416  2013  1511162  Plant No. 1  Kentucky (East)        Pike      Active   \n",
      "\n",
      "       Mine Type                  Company Type     Operation Type  \\\n",
      "415      Surface  Indepedent Producer Operator  Preparation Plant   \n",
      "416  Underground  Indepedent Producer Operator  Preparation Plant   \n",
      "\n",
      "         Operating Company                          Operating Company Address  \\\n",
      "415  High Ridge Mining Llc  108 Trivette Drive, Suite 210, Pikeville, KY 4...   \n",
      "416  High Ridge Mining Llc  108 Trivette Drive, Suite 210, Pikeville, KY 4...   \n",
      "\n",
      "    Union Code  Coal Supply Region  Production (short tons)  \\\n",
      "415             Appalachia Central                        0   \n",
      "416             Appalachia Central                        0   \n",
      "\n",
      "     Average Employees  Labor Hours  \n",
      "415                  4         4733  \n",
      "416                  3         4733  \n",
      "\n",
      "\n",
      "\n",
      "Name of mine: Pleasant Hill Mine\n",
      "      Year  MSHA ID           Mine Name                Mine State Mine County  \\\n",
      "1364  2013  4608194  Pleasant Hill Mine  West Virginia (Northern)      Upshur   \n",
      "\n",
      "     Mine Status    Mine Type                  Company Type Operation Type  \\\n",
      "1364      Active  Underground  Indepedent Producer Operator      Mine only   \n",
      "\n",
      "             Operating Company  \\\n",
      "1364  Carter Roag Coal Company   \n",
      "\n",
      "                              Operating Company Address Union Code  \\\n",
      "1364  1023 Lanham Cemetary Road, Tallmansville, WV 2...              \n",
      "\n",
      "       Coal Supply Region  Production (short tons)  Average Employees  \\\n",
      "1364  Appalachia Northern                   555882                134   \n",
      "\n",
      "      Labor Hours  \n",
      "1364       273518  \n",
      "\n",
      "\n",
      "\n",
      "Name of mine: Pocahontas Highwall Mines\n",
      "      Year  MSHA ID                  Mine Name                Mine State  \\\n",
      "1351  2013  4609096  Pocahontas Highwall Mines  West Virginia (Southern)   \n",
      "\n",
      "     Mine County                         Mine Status Mine Type  \\\n",
      "1351     Raleigh  Active, men working, not producing   Surface   \n",
      "\n",
      "              Company Type Operation Type             Operating Company  \\\n",
      "1351  Operating Subsidiary      Mine only  Pocahontas Coal Company, Llc   \n",
      "\n",
      "                     Operating Company Address Union Code  Coal Supply Region  \\\n",
      "1351  109 Appalachian Drive, Beckley, WV 25801             Appalachia Central   \n",
      "\n",
      "      Production (short tons)  Average Employees  Labor Hours  \n",
      "1351                   335298                 39       145436  \n",
      "\n",
      "\n",
      "\n",
      "Name of mine: Pocahontas Mine\n",
      "      Year  MSHA ID        Mine Name                Mine State Mine County  \\\n",
      "1139  2013  4609154  Pocahontas Mine  West Virginia (Southern)  Greenbrier   \n",
      "\n",
      "                             Mine Status    Mine Type          Company Type  \\\n",
      "1139  Active, men working, not producing  Underground  Operating Subsidiary   \n",
      "\n",
      "     Operation Type        Operating Company        Operating Company Address  \\\n",
      "1139      Mine only  White Buck Coal Company  P.O. Box 190, Leivasy, WV 26676   \n",
      "\n",
      "     Union Code  Coal Supply Region  Production (short tons)  \\\n",
      "1139             Appalachia Central                   218846   \n",
      "\n",
      "      Average Employees  Labor Hours  \n",
      "1139                 65       157433  \n",
      "\n",
      "\n",
      "\n",
      "Name of mine: Pond Creek Mine No. 1\n",
      "      Year  MSHA ID              Mine Name                Mine State  \\\n",
      "1292  2013  4608715  Pond Creek Mine No. 1  West Virginia (Southern)   \n",
      "\n",
      "     Mine County                         Mine Status    Mine Type  \\\n",
      "1292       Mingo  Active, men working, not producing  Underground   \n",
      "\n",
      "              Company Type Operation Type          Operating Company  \\\n",
      "1292  Operating Subsidiary      Mine only  Glen Alum Operations, Llc   \n",
      "\n",
      "                Operating Company Address Union Code  Coal Supply Region  \\\n",
      "1292  P.O. Box 110, Wharncliffe, WV 25651             Appalachia Central   \n",
      "\n",
      "      Production (short tons)  Average Employees  Labor Hours  \n",
      "1292                    61522                 27        65335  \n",
      "\n",
      "\n",
      "\n",
      "Name of mine: Poplar Ridge No 1 Deep Mine\n",
      "      Year  MSHA ID                    Mine Name                Mine State  \\\n",
      "1382  2013  4608885  Poplar Ridge No 1 Deep Mine  West Virginia (Northern)   \n",
      "\n",
      "     Mine County Mine Status    Mine Type          Company Type  \\\n",
      "1382     Webster      Active  Underground  Operating Subsidiary   \n",
      "\n",
      "     Operation Type              Operating Company  \\\n",
      "1382      Mine only  Brooks Run Mining Company Llc   \n",
      "\n",
      "                   Operating Company Address Union Code   Coal Supply Region  \\\n",
      "1382  25 Little Birch Road, Sutton, WV 26601             Appalachia Northern   \n",
      "\n",
      "      Production (short tons)  Average Employees  Labor Hours  \n",
      "1382                   651273                 82       178520  \n",
      "\n",
      "\n",
      "\n",
      "Name of mine: Poplar Springs\n",
      "    Year  MSHA ID       Mine Name Mine State Mine County Mine Status  \\\n",
      "46  2013   103321  Poplar Springs    Alabama     Winston      Active   \n",
      "\n",
      "   Mine Type                  Company Type Operation Type  \\\n",
      "46   Surface  Indepedent Producer Operator      Mine only   \n",
      "\n",
      "      Operating Company        Operating Company Address Union Code  \\\n",
      "46  Reed Minerals, Inc.  P.O. Box 2420, Jasper, AL 35502              \n",
      "\n",
      "     Coal Supply Region  Production (short tons)  Average Employees  \\\n",
      "46  Appalachia Southern                   189370                 41   \n",
      "\n",
      "    Labor Hours  \n",
      "46        76366  \n",
      "\n",
      "\n",
      "\n",
      "Name of mine: Portage Plant\n",
      "     Year  MSHA ID      Mine Name                 Mine State Mine County  \\\n",
      "632  2013  3609246  Portage Plant  Pennsylvania (Bituminous)     Cambria   \n",
      "633  2013  3609246  Portage Plant  Pennsylvania (Bituminous)     Cambria   \n",
      "\n",
      "    Mine Status    Mine Type          Company Type     Operation Type  \\\n",
      "632      Active      Surface  Operating Subsidiary  Preparation Plant   \n",
      "633      Active  Underground  Operating Subsidiary  Preparation Plant   \n",
      "\n",
      "             Operating Company            Operating Company Address  \\\n",
      "632  Amfire Mining Company Llc  One Energy Place, Latrobe, PA 15650   \n",
      "633  Amfire Mining Company Llc  One Energy Place, Latrobe, PA 15650   \n",
      "\n",
      "    Union Code   Coal Supply Region  Production (short tons)  \\\n",
      "632             Appalachia Northern                        0   \n",
      "633             Appalachia Northern                        0   \n",
      "\n",
      "     Average Employees  Labor Hours  \n",
      "632                  6        12591  \n",
      "633                 23        50365  \n",
      "\n",
      "\n",
      "\n",
      "Name of mine: Poundmill Mine No 90\n",
      "     Year  MSHA ID             Mine Name       Mine State Mine County  \\\n",
      "406  2013  1519598  Poundmill Mine No 90  Kentucky (East)       Perry   \n",
      "\n",
      "    Mine Status    Mine Type                  Company Type Operation Type  \\\n",
      "406      Active  Underground  Indepedent Producer Operator      Mine only   \n",
      "\n",
      "             Operating Company     Operating Company Address Union Code  \\\n",
      "406  Blue Diamond Coal Company  P.O. Box 309, Jeff, KY 41751              \n",
      "\n",
      "     Coal Supply Region  Production (short tons)  Average Employees  \\\n",
      "406  Appalachia Central                   298440                 42   \n",
      "\n",
      "     Labor Hours  \n",
      "406        85253  \n",
      "\n",
      "\n",
      "\n",
      "Name of mine: Powellton #1 Mine\n",
      "      Year  MSHA ID          Mine Name                Mine State Mine County  \\\n",
      "1209  2013  4609217  Powellton #1 Mine  West Virginia (Southern)       Logan   \n",
      "\n",
      "     Mine Status    Mine Type          Company Type  \\\n",
      "1209      Active  Underground  Operating Subsidiary   \n",
      "\n",
      "                  Operation Type              Operating Company  \\\n",
      "1209  Mine and Preparation Plant  Cliffs Logan County Coal, Llc   \n",
      "\n",
      "        Operating Company Address Union Code  Coal Supply Region  \\\n",
      "1209  P.O. Box 446, Man, WV 25635             Appalachia Central   \n",
      "\n",
      "      Production (short tons)  Average Employees  Labor Hours  \n",
      "1209                   832397                189       485112  \n",
      "\n",
      "\n",
      "\n",
      "Name of mine: Power Fuel Blending Terminal\n",
      "      Year  MSHA ID                     Mine Name Mine State Mine County  \\\n",
      "1074  2013  4407303  Power Fuel Blending Terminal   Virginia        Wise   \n",
      "1075  2013  4407303  Power Fuel Blending Terminal   Virginia        Wise   \n",
      "\n",
      "     Mine Status    Mine Type                  Company Type  \\\n",
      "1074      Active      Surface  Indepedent Producer Operator   \n",
      "1075      Active  Underground  Indepedent Producer Operator   \n",
      "\n",
      "         Operation Type Operating Company  \\\n",
      "1074  Preparation Plant  Power Fuels, Llc   \n",
      "1075  Preparation Plant  Power Fuels, Llc   \n",
      "\n",
      "                       Operating Company Address Union Code  \\\n",
      "1074  3630 Russel Creek Road, St. Paul, VA 24283              \n",
      "1075  3630 Russel Creek Road, St. Paul, VA 24283              \n",
      "\n",
      "      Coal Supply Region  Production (short tons)  Average Employees  \\\n",
      "1074  Appalachia Central                        0                  7   \n",
      "1075  Appalachia Central                        0                  7   \n",
      "\n",
      "      Labor Hours  \n",
      "1074        14437  \n",
      "1075        14436  \n",
      "\n",
      "\n",
      "\n",
      "Name of mine: Power Mountain Processing\n",
      "      Year  MSHA ID                  Mine Name                Mine State  \\\n",
      "1321  2013  4606880  Power Mountain Processing  West Virginia (Southern)   \n",
      "1322  2013  4606880  Power Mountain Processing  West Virginia (Southern)   \n",
      "\n",
      "     Mine County Mine Status    Mine Type          Company Type  \\\n",
      "1321    Nicholas      Active      Surface  Operating Subsidiary   \n",
      "1322    Nicholas      Active  Underground  Operating Subsidiary   \n",
      "\n",
      "         Operation Type            Operating Company  \\\n",
      "1321  Preparation Plant  Power Mountain Coal Company   \n",
      "1322  Preparation Plant  Power Mountain Coal Company   \n",
      "\n",
      "                 Operating Company Address                      Union Code  \\\n",
      "1321  P.O. Box 707, Summersville, WV 26651  United Mine Workers of America   \n",
      "1322  P.O. Box 707, Summersville, WV 26651  United Mine Workers of America   \n",
      "\n",
      "      Coal Supply Region  Production (short tons)  Average Employees  \\\n",
      "1321  Appalachia Central                        0                  2   \n",
      "1322  Appalachia Central                        0                 20   \n",
      "\n",
      "      Labor Hours  \n",
      "1321         4550  \n",
      "1322        46008  \n",
      "\n",
      "\n",
      "\n",
      "Name of mine: Powhatan Mine\n",
      "    Year  MSHA ID      Mine Name Mine State Mine County Mine Status Mine Type  \\\n",
      "13  2013   103332  Powhatan Mine    Alabama   Jefferson      Active   Surface   \n",
      "\n",
      "                    Company Type Operation Type Operating Company  \\\n",
      "13  Indepedent Producer Operator      Mine only    Rac Mining Llc   \n",
      "\n",
      "       Operating Company Address Union Code   Coal Supply Region  \\\n",
      "13  P.O. Box 354, Lynn, AL 35575             Appalachia Southern   \n",
      "\n",
      "    Production (short tons)  Average Employees  Labor Hours  \n",
      "13                   140521                 27        61394  \n",
      "\n",
      "\n",
      "\n",
      "Name of mine: Powhatan No. 6 Mine\n",
      "     Year  MSHA ID            Mine Name Mine State Mine County Mine Status  \\\n",
      "549  2013  3301159  Powhatan No. 6 Mine       Ohio     Belmont      Active   \n",
      "\n",
      "       Mine Type          Company Type              Operation Type  \\\n",
      "549  Underground  Operating Subsidiary  Mine and Preparation Plant   \n",
      "\n",
      "                Operating Company  \\\n",
      "549  The Ohio Valley Coal Company   \n",
      "\n",
      "                        Operating Company Address Union Code  \\\n",
      "549  46226 National Road, St. Clairsvil, OH 43950       UNIT   \n",
      "\n",
      "      Coal Supply Region  Production (short tons)  Average Employees  \\\n",
      "549  Appalachia Northern                  5550146                651   \n",
      "\n",
      "     Labor Hours  \n",
      "549      1479867  \n",
      "\n",
      "\n",
      "\n",
      "Name of mine: Prairie Eagle\n",
      "    Year  MSHA ID      Mine Name Mine State Mine County Mine Status  \\\n",
      "73  2013  1103143  Prairie Eagle   Illinois       Perry      Active   \n",
      "74  2013  1103143  Prairie Eagle   Illinois       Perry      Active   \n",
      "\n",
      "      Mine Type                  Company Type              Operation Type  \\\n",
      "73      Surface  Indepedent Producer Operator  Mine and Preparation Plant   \n",
      "74  Underground  Indepedent Producer Operator  Mine and Preparation Plant   \n",
      "\n",
      "        Operating Company               Operating Company Address Union Code  \\\n",
      "73  Knight Hawk Coal, Llc  500 Cutler-Trico Road, Percy, IL 62272              \n",
      "74  Knight Hawk Coal, Llc  500 Cutler-Trico Road, Percy, IL 62272              \n",
      "\n",
      "   Coal Supply Region  Production (short tons)  Average Employees  Labor Hours  \n",
      "73     Illinois Basin                   158575                 20        52614  \n",
      "74     Illinois Basin                        0                 18        38430  \n",
      "\n",
      "\n",
      "\n",
      "Name of mine: Prairie Eagle South Undergroun\n",
      "    Year  MSHA ID                       Mine Name Mine State Mine County  \\\n",
      "76  2013  1103205  Prairie Eagle South Undergroun   Illinois       Perry   \n",
      "\n",
      "              Mine Status    Mine Type                  Company Type  \\\n",
      "76  Permanently abandoned  Underground  Indepedent Producer Operator   \n",
      "\n",
      "   Operation Type     Operating Company  \\\n",
      "76      Mine only  Knight Hawk Coal Llc   \n",
      "\n",
      "                 Operating Company Address Union Code Coal Supply Region  \\\n",
      "76  500 Cutler-Trico Road, Percy, IL 62272                Illinois Basin   \n",
      "\n",
      "    Production (short tons)  Average Employees  Labor Hours  \n",
      "76                   491476                 45        65811  \n",
      "\n",
      "\n",
      "\n",
      "Name of mine: Prairie Eagle-Underground\n",
      "    Year  MSHA ID                  Mine Name Mine State Mine County  \\\n",
      "75  2013  1103147  Prairie Eagle-Underground   Illinois       Perry   \n",
      "\n",
      "   Mine Status    Mine Type                  Company Type Operation Type  \\\n",
      "75      Active  Underground  Indepedent Producer Operator      Mine only   \n",
      "\n",
      "        Operating Company             Operating Company Address Union Code  \\\n",
      "75  Knight Hawk Coal, Llc  500 Cutler-Trico Rd, Percy, IL 62272              \n",
      "\n",
      "   Coal Supply Region  Production (short tons)  Average Employees  Labor Hours  \n",
      "75     Illinois Basin                  2274984                169       376225  \n",
      "\n",
      "\n",
      "\n",
      "Name of mine: Premium Coal Highwall Miner\n",
      "     Year  MSHA ID                    Mine Name Mine State Mine County  \\\n",
      "917  2013  4003376  Premium Coal Highwall Miner  Tennessee    Anderson   \n",
      "\n",
      "            Mine Status Mine Type                  Company Type  \\\n",
      "917  Temporarily closed   Surface  Indepedent Producer Operator   \n",
      "\n",
      "    Operation Type           Operating Company  \\\n",
      "917      Mine only  Premium Coal Company, Inc.   \n",
      "\n",
      "                Operating Company Address Union Code  Coal Supply Region  \\\n",
      "917  5957 Windswept Blvd., Wise, VA 24293             Appalachia Central   \n",
      "\n",
      "     Production (short tons)  Average Employees  Labor Hours  \n",
      "917                    18250                  3         2227  \n",
      "\n",
      "\n",
      "\n",
      "Name of mine: Premium Fine Coal Inc\n",
      "     Year  MSHA ID              Mine Name                 Mine State  \\\n",
      "815  2013  3603287  Premium Fine Coal Inc  Pennsylvania (Anthracite)   \n",
      "\n",
      "    Mine County                         Mine Status Mine Type  \\\n",
      "815  Schuylkill  Active, men working, not producing   Surface   \n",
      "\n",
      "                     Company Type     Operation Type      Operating Company  \\\n",
      "815  Indepedent Producer Operator  Preparation Plant  Premium Fine Coal Inc   \n",
      "\n",
      "                             Operating Company Address Union Code  \\\n",
      "815  1271 Clamtown Road, P.O. Box 2, Tamaqua, PA 18252              \n",
      "\n",
      "      Coal Supply Region  Production (short tons)  Average Employees  \\\n",
      "815  Appalachia Northern                        0                  8   \n",
      "\n",
      "     Labor Hours  \n",
      "815        15740  \n",
      "\n",
      "\n",
      "\n",
      "Name of mine: Prep Plant # 1\n",
      "     Year  MSHA ID       Mine Name       Mine State Mine County Mine Status  \\\n",
      "262  2013  1517059  Prep Plant # 1  Kentucky (East)     Johnson      Active   \n",
      "263  2013  1517059  Prep Plant # 1  Kentucky (East)     Johnson      Active   \n",
      "\n",
      "       Mine Type                  Company Type     Operation Type  \\\n",
      "262      Surface  Indepedent Producer Operator  Preparation Plant   \n",
      "263  Underground  Indepedent Producer Operator  Preparation Plant   \n",
      "\n",
      "             Operating Company       Operating Company Address Union Code  \\\n",
      "262  Beech Fork Processing Inc  P.O. Box 190, Lovely, KY 41231              \n",
      "263  Beech Fork Processing Inc  P.O. Box 190, Lovely, KY 41231              \n",
      "\n",
      "     Coal Supply Region  Production (short tons)  Average Employees  \\\n",
      "262  Appalachia Central                        0                  8   \n",
      "263  Appalachia Central                        0                  7   \n",
      "\n",
      "     Labor Hours  \n",
      "262        22664  \n",
      "263        17808  \n",
      "\n",
      "\n",
      "\n",
      "Name of mine: Prep Plant #2\n",
      "      Year  MSHA ID      Mine Name       Mine State Mine County  \\\n",
      "352   2013  1517954  Prep Plant #2  Kentucky (East)      Martin   \n",
      "353   2013  1517954  Prep Plant #2  Kentucky (East)      Martin   \n",
      "1034  2013  4404534  Prep Plant #2         Virginia        Wise   \n",
      "1035  2013  4404534  Prep Plant #2         Virginia        Wise   \n",
      "\n",
      "             Mine Status    Mine Type                  Company Type  \\\n",
      "352               Active      Surface  Indepedent Producer Operator   \n",
      "353               Active  Underground  Indepedent Producer Operator   \n",
      "1034  Temporarily closed      Surface  Indepedent Producer Operator   \n",
      "1035  Temporarily closed  Underground  Indepedent Producer Operator   \n",
      "\n",
      "         Operation Type          Operating Company  \\\n",
      "352   Preparation Plant  Beech Fork Processing Inc   \n",
      "353   Preparation Plant  Beech Fork Processing Inc   \n",
      "1034  Preparation Plant       A&g Coal Corporation   \n",
      "1035  Preparation Plant       A&g Coal Corporation   \n",
      "\n",
      "                 Operating Company Address Union Code  Coal Supply Region  \\\n",
      "352         P.O. Box 190, Lovely, KY 41231             Appalachia Central   \n",
      "353         P.O. Box 190, Lovely, KY 41231             Appalachia Central   \n",
      "1034  5957 Windswept Blvd., Wise, VA 24293             Appalachia Central   \n",
      "1035  5957 Windswept Blvd., Wise, VA 24293             Appalachia Central   \n",
      "\n",
      "      Production (short tons)  Average Employees  Labor Hours  \n",
      "352                         0                 16        39751  \n",
      "353                         0                 16        38192  \n",
      "1034                        0                  1         2201  \n",
      "1035                        0                 12        19810  \n",
      "\n",
      "\n",
      "\n",
      "Name of mine: Preparation Plant\n",
      "     Year  MSHA ID          Mine Name       Mine State Mine County  \\\n",
      "80   2013  1102546  Preparation Plant         Illinois    Randolph   \n",
      "138  2013  1510212  Preparation Plant  Kentucky (East)        Bell   \n",
      "347  2013  1505106  Preparation Plant  Kentucky (East)      Martin   \n",
      "348  2013  1505106  Preparation Plant  Kentucky (East)      Martin   \n",
      "381  2013  1505485  Preparation Plant  Kentucky (East)       Perry   \n",
      "382  2013  1505485  Preparation Plant  Kentucky (East)       Perry   \n",
      "427  2013  1517733  Preparation Plant  Kentucky (East)        Pike   \n",
      "\n",
      "                            Mine Status    Mine Type  \\\n",
      "80                               Active  Underground   \n",
      "138                              Active  Underground   \n",
      "347  Active, men working, not producing      Surface   \n",
      "348  Active, men working, not producing  Underground   \n",
      "381                              Active      Surface   \n",
      "382                              Active  Underground   \n",
      "427                              Active  Underground   \n",
      "\n",
      "                     Company Type     Operation Type  \\\n",
      "80   Indepedent Producer Operator  Preparation Plant   \n",
      "138          Operating Subsidiary  Preparation Plant   \n",
      "347          Operating Subsidiary  Preparation Plant   \n",
      "348          Operating Subsidiary  Preparation Plant   \n",
      "381                    Contractor  Preparation Plant   \n",
      "382                    Contractor  Preparation Plant   \n",
      "427          Operating Subsidiary  Preparation Plant   \n",
      "\n",
      "                 Operating Company  \\\n",
      "80     Peabody Midwest Mining, Llc   \n",
      "138   Bell County Coal Corporation   \n",
      "347        Martin County Coal Corp   \n",
      "348        Martin County Coal Corp   \n",
      "381  Perry County Coal Corporation   \n",
      "382  Perry County Coal Corporation   \n",
      "427                  Mc Mining Llc   \n",
      "\n",
      "                           Operating Company Address Union Code  \\\n",
      "80              P.O. Box 397, Coulterville, IL 62237              \n",
      "138  6340 West Cumberland Ave, Middlesboro, KY 40965              \n",
      "347   3185 Middle Fork Wolf Creek Ro, Inez, KY 41224              \n",
      "348   3185 Middle Fork Wolf Creek Ro, Inez, KY 41224              \n",
      "381              1845 S. Ky Hwy 15, Hazard, KY 41701              \n",
      "382              1845 S. Ky Hwy 15, Hazard, KY 41701              \n",
      "427             9462 Meathouse Rd, Pilgrim, KY 41250              \n",
      "\n",
      "     Coal Supply Region  Production (short tons)  Average Employees  \\\n",
      "80       Illinois Basin                        0                 29   \n",
      "138  Appalachia Central                        0                 16   \n",
      "347  Appalachia Central                        0                 11   \n",
      "348  Appalachia Central                        0                 12   \n",
      "381  Appalachia Central                        0                 22   \n",
      "382  Appalachia Central                        0                 61   \n",
      "427  Appalachia Central                        0                 24   \n",
      "\n",
      "     Labor Hours  \n",
      "80         67372  \n",
      "138        27630  \n",
      "347        25352  \n",
      "348        25353  \n",
      "381        54091  \n",
      "382       146247  \n",
      "427        52734  \n",
      "\n",
      "\n",
      "\n",
      "Name of mine: Preparation Plant No 1\n",
      "      Year  MSHA ID               Mine Name                Mine State  \\\n",
      "1314  2013  4605995  Preparation Plant No 1  West Virginia (Northern)   \n",
      "1424  2013  4605995  Preparation Plant No 1           Refuse Recovery   \n",
      "\n",
      "     Mine County Mine Status    Mine Type          Company Type  \\\n",
      "1314  Monongalia      Active  Underground  Operating Subsidiary   \n",
      "1424  Monongalia      Active       Refuse  Operating Subsidiary   \n",
      "\n",
      "                  Operation Type Operating Company  \\\n",
      "1314  Mine and Preparation Plant       Coresco Llc   \n",
      "1424  Mine and Preparation Plant       Coresco Llc   \n",
      "\n",
      "                     Operating Company Address Union Code  \\\n",
      "1314  308 Dents Run Road, Morgantown, WV 26501              \n",
      "1424  308 Dents Run Road, Morgantown, WV 26501              \n",
      "\n",
      "       Coal Supply Region  Production (short tons)  Average Employees  \\\n",
      "1314  Appalachia Northern                        0                 38   \n",
      "1424  Appalachia Northern                    89504                  8   \n",
      "\n",
      "      Labor Hours  \n",
      "1314        77065  \n",
      "1424        19863  \n",
      "\n",
      "\n",
      "\n",
      "Name of mine: Prime No. 1 Mine\n",
      "      Year  MSHA ID         Mine Name                Mine State Mine County  \\\n",
      "1312  2013  4604387  Prime No. 1 Mine  West Virginia (Northern)  Monongalia   \n",
      "\n",
      "     Mine Status    Mine Type          Company Type Operation Type  \\\n",
      "1312      Active  Underground  Operating Subsidiary      Mine only   \n",
      "\n",
      "            Operating Company                 Operating Company Address  \\\n",
      "1312  Dana Mining Company Llc  308 Dents Run Road, Morgantown, WV 26501   \n",
      "\n",
      "     Union Code   Coal Supply Region  Production (short tons)  \\\n",
      "1312             Appalachia Northern                  1223827   \n",
      "\n",
      "      Average Employees  Labor Hours  \n",
      "1312                186       437444  \n",
      "\n",
      "\n",
      "\n",
      "Name of mine: Primrose Operation\n",
      "     Year  MSHA ID           Mine Name                 Mine State Mine County  \\\n",
      "862  2013  3609401  Primrose Operation  Pennsylvania (Anthracite)  Schuylkill   \n",
      "\n",
      "    Mine Status Mine Type                  Company Type Operation Type  \\\n",
      "862      Active   Surface  Indepedent Producer Operator      Mine only   \n",
      "\n",
      "      Operating Company                      Operating Company Address  \\\n",
      "862  Blaschak Coal Corp  Route 54, P.O. Box 12, Mahanoy City, PA 17948   \n",
      "\n",
      "                         Union Code   Coal Supply Region  \\\n",
      "862  United Mine Workers of America  Appalachia Northern   \n",
      "\n",
      "     Production (short tons)  Average Employees  Labor Hours  \n",
      "862                   112042                 34        61595  \n",
      "\n",
      "\n",
      "\n",
      "Name of mine: Primrose Slope\n",
      "     Year  MSHA ID       Mine Name                 Mine State Mine County  \\\n",
      "839  2013  3608346  Primrose Slope  Pennsylvania (Anthracite)  Schuylkill   \n",
      "\n",
      "    Mine Status    Mine Type                  Company Type Operation Type  \\\n",
      "839      Active  Underground  Indepedent Producer Operator      Mine only   \n",
      "\n",
      "         Operating Company           Operating Company Address Union Code  \\\n",
      "839  Carline Coal Co. Inc.  P.O. Box 188, Sacramento, PA 17968              \n",
      "\n",
      "      Coal Supply Region  Production (short tons)  Average Employees  \\\n",
      "839  Appalachia Northern                    13127                 11   \n",
      "\n",
      "     Labor Hours  \n",
      "839        20180  \n",
      "\n",
      "\n",
      "\n",
      "Name of mine: Process Energy\n",
      "     Year  MSHA ID       Mine Name       Mine State Mine County Mine Status  \\\n",
      "455  2013  1519097  Process Energy  Kentucky (East)        Pike      Active   \n",
      "\n",
      "       Mine Type          Company Type Operation Type  \\\n",
      "455  Underground  Operating Subsidiary      Mine only   \n",
      "\n",
      "             Operating Company       Operating Company Address Union Code  \\\n",
      "455  Sidney Coal Company, Inc.  P.O. Box 299, Sidney, KY 41564              \n",
      "\n",
      "     Coal Supply Region  Production (short tons)  Average Employees  \\\n",
      "455  Appalachia Central                   766591                133   \n",
      "\n",
      "     Labor Hours  \n",
      "455       302630  \n",
      "\n",
      "\n",
      "\n",
      "Name of mine: Prosperity Mine\n",
      "     Year  MSHA ID        Mine Name Mine State Mine County Mine Status  \\\n",
      "119  2013  1202249  Prosperity Mine    Indiana        Pike      Active   \n",
      "\n",
      "       Mine Type          Company Type              Operation Type  \\\n",
      "119  Underground  Operating Subsidiary  Mine and Preparation Plant   \n",
      "\n",
      "        Operating Company                 Operating Company Address  \\\n",
      "119  Five Star Mining Inc  6594 W State Rd 56, Petersburg, IN 47567   \n",
      "\n",
      "    Union Code Coal Supply Region  Production (short tons)  Average Employees  \\\n",
      "119                Illinois Basin                  1795632                375   \n",
      "\n",
      "     Labor Hours  \n",
      "119      1006312  \n",
      "\n",
      "\n",
      "\n"
     ]
    }
   ],
   "source": [
    "import pandas as pd\n",
    "import string as str\n",
    "\n",
    "df = pd.read_excel('coalpublic2013.xls', skiprows=[0,1,2])\n",
    "\n",
    "\n",
    "\n",
    "for mineName, dfMines in df.loc[df['Mine Name'].str.get(0) == 'P'].groupby('Mine Name'):\n",
    "    print(\"Name of mine:\", mineName)\n",
    "    print(dfMines)\n",
    "    print(\"\\n\\n\")\n",
    "\n"
   ]
  },
  {
   "cell_type": "markdown",
   "metadata": {},
   "source": [
    "__Question 119:__<br>\n",
    "Write a Pandas program to import excel data (employee.xlsx ) into a Pandas dataframe and find the list of employees where hire_date> 01-01-07.\n"
   ]
  },
  {
   "cell_type": "markdown",
   "metadata": {},
   "source": [
    "__Solution:__"
   ]
  },
  {
   "cell_type": "code",
   "execution_count": 203,
   "metadata": {},
   "outputs": [
    {
     "data": {
      "text/html": [
       "<div>\n",
       "<style scoped>\n",
       "    .dataframe tbody tr th:only-of-type {\n",
       "        vertical-align: middle;\n",
       "    }\n",
       "\n",
       "    .dataframe tbody tr th {\n",
       "        vertical-align: top;\n",
       "    }\n",
       "\n",
       "    .dataframe thead th {\n",
       "        text-align: right;\n",
       "    }\n",
       "</style>\n",
       "<table border=\"1\" class=\"dataframe\">\n",
       "  <thead>\n",
       "    <tr style=\"text-align: right;\">\n",
       "      <th></th>\n",
       "      <th>index</th>\n",
       "      <th>emp_id</th>\n",
       "      <th>first_name</th>\n",
       "      <th>last_name</th>\n",
       "      <th>hire_date</th>\n",
       "    </tr>\n",
       "  </thead>\n",
       "  <tbody>\n",
       "    <tr>\n",
       "      <th>4</th>\n",
       "      <td>4</td>\n",
       "      <td>104</td>\n",
       "      <td>Bruce</td>\n",
       "      <td>Ernst</td>\n",
       "      <td>2007-05-21</td>\n",
       "    </tr>\n",
       "    <tr>\n",
       "      <th>7</th>\n",
       "      <td>7</td>\n",
       "      <td>107</td>\n",
       "      <td>Diana</td>\n",
       "      <td>Lorentz</td>\n",
       "      <td>2007-02-07</td>\n",
       "    </tr>\n",
       "    <tr>\n",
       "      <th>13</th>\n",
       "      <td>13</td>\n",
       "      <td>113</td>\n",
       "      <td>Luis</td>\n",
       "      <td>Popp</td>\n",
       "      <td>2007-12-07</td>\n",
       "    </tr>\n",
       "    <tr>\n",
       "      <th>19</th>\n",
       "      <td>19</td>\n",
       "      <td>119</td>\n",
       "      <td>Karen</td>\n",
       "      <td>Colmenares</td>\n",
       "      <td>2007-08-10</td>\n",
       "    </tr>\n",
       "    <tr>\n",
       "      <th>24</th>\n",
       "      <td>4</td>\n",
       "      <td>124</td>\n",
       "      <td>Kevin</td>\n",
       "      <td>Mourgos</td>\n",
       "      <td>2007-11-16</td>\n",
       "    </tr>\n",
       "    <tr>\n",
       "      <th>27</th>\n",
       "      <td>7</td>\n",
       "      <td>127</td>\n",
       "      <td>James</td>\n",
       "      <td>Landry</td>\n",
       "      <td>2007-01-14</td>\n",
       "    </tr>\n",
       "    <tr>\n",
       "      <th>28</th>\n",
       "      <td>8</td>\n",
       "      <td>128</td>\n",
       "      <td>Steven</td>\n",
       "      <td>Markle</td>\n",
       "      <td>2008-03-08</td>\n",
       "    </tr>\n",
       "    <tr>\n",
       "      <th>29</th>\n",
       "      <td>9</td>\n",
       "      <td>129</td>\n",
       "      <td>Laura</td>\n",
       "      <td>Bissot</td>\n",
       "      <td>2008-08-20</td>\n",
       "    </tr>\n",
       "    <tr>\n",
       "      <th>32</th>\n",
       "      <td>12</td>\n",
       "      <td>132</td>\n",
       "      <td>TJ</td>\n",
       "      <td>Olson</td>\n",
       "      <td>2007-04-10</td>\n",
       "    </tr>\n",
       "    <tr>\n",
       "      <th>35</th>\n",
       "      <td>15</td>\n",
       "      <td>135</td>\n",
       "      <td>Ki</td>\n",
       "      <td>Gee</td>\n",
       "      <td>2007-12-12</td>\n",
       "    </tr>\n",
       "    <tr>\n",
       "      <th>36</th>\n",
       "      <td>16</td>\n",
       "      <td>136</td>\n",
       "      <td>Hazel</td>\n",
       "      <td>Philtanker</td>\n",
       "      <td>2008-02-06</td>\n",
       "    </tr>\n",
       "    <tr>\n",
       "      <th>46</th>\n",
       "      <td>7</td>\n",
       "      <td>148</td>\n",
       "      <td>Gerald</td>\n",
       "      <td>Cambrault</td>\n",
       "      <td>2007-10-15</td>\n",
       "    </tr>\n",
       "    <tr>\n",
       "      <th>47</th>\n",
       "      <td>8</td>\n",
       "      <td>149</td>\n",
       "      <td>Eleni</td>\n",
       "      <td>Zlotkey</td>\n",
       "      <td>2008-01-29</td>\n",
       "    </tr>\n",
       "  </tbody>\n",
       "</table>\n",
       "</div>"
      ],
      "text/plain": [
       "    index emp_id first_name   last_name  hire_date\n",
       "4       4    104      Bruce       Ernst 2007-05-21\n",
       "7       7    107      Diana     Lorentz 2007-02-07\n",
       "13     13    113       Luis        Popp 2007-12-07\n",
       "19     19    119      Karen  Colmenares 2007-08-10\n",
       "24      4    124      Kevin     Mourgos 2007-11-16\n",
       "27      7    127      James      Landry 2007-01-14\n",
       "28      8    128     Steven      Markle 2008-03-08\n",
       "29      9    129      Laura      Bissot 2008-08-20\n",
       "32     12    132         TJ       Olson 2007-04-10\n",
       "35     15    135         Ki         Gee 2007-12-12\n",
       "36     16    136      Hazel  Philtanker 2008-02-06\n",
       "46      7    148     Gerald   Cambrault 2007-10-15\n",
       "47      8    149      Eleni     Zlotkey 2008-01-29"
      ]
     },
     "execution_count": 203,
     "metadata": {},
     "output_type": "execute_result"
    }
   ],
   "source": [
    "import pandas as pd\n",
    "\n",
    "sheets = ['Sheet1', 'Sheet2', 'Sheet3']\n",
    "\n",
    "dfMain = pd.DataFrame(columns = ['emp_id', 'first_name', 'last_name', 'hire_date'])\n",
    "\n",
    "for sheet in sheets:\n",
    "    df = pd.read_excel('employee.xlsx', sheet_name = sheet)\n",
    "    dfMain = pd.concat([dfMain, df])\n",
    "\n",
    "dfMain.reset_index(inplace = True)\n",
    "\n",
    "dfMain.loc[dfMain['hire_date'] > '2007-01-01']"
   ]
  },
  {
   "cell_type": "markdown",
   "metadata": {},
   "source": [
    "__Question 120:__<br>\n",
    "Write a Pandas program to import excel data (employee.xlsx ) into a Pandas dataframe and find a list of the employees of a specified year"
   ]
  },
  {
   "cell_type": "markdown",
   "metadata": {},
   "source": [
    "__Solution:__"
   ]
  },
  {
   "cell_type": "code",
   "execution_count": 115,
   "metadata": {},
   "outputs": [
    {
     "name": "stdout",
     "output_type": "stream",
     "text": [
      "Which year hire date to consider for filtering employees?: 2007\n"
     ]
    },
    {
     "data": {
      "text/html": [
       "<div>\n",
       "<style scoped>\n",
       "    .dataframe tbody tr th:only-of-type {\n",
       "        vertical-align: middle;\n",
       "    }\n",
       "\n",
       "    .dataframe tbody tr th {\n",
       "        vertical-align: top;\n",
       "    }\n",
       "\n",
       "    .dataframe thead th {\n",
       "        text-align: right;\n",
       "    }\n",
       "</style>\n",
       "<table border=\"1\" class=\"dataframe\">\n",
       "  <thead>\n",
       "    <tr style=\"text-align: right;\">\n",
       "      <th></th>\n",
       "      <th>emp_id</th>\n",
       "      <th>first_name</th>\n",
       "      <th>last_name</th>\n",
       "      <th>hire_date</th>\n",
       "      <th>Year</th>\n",
       "    </tr>\n",
       "  </thead>\n",
       "  <tbody>\n",
       "    <tr>\n",
       "      <th>4</th>\n",
       "      <td>104</td>\n",
       "      <td>Bruce</td>\n",
       "      <td>Ernst</td>\n",
       "      <td>2007-05-21</td>\n",
       "      <td>2007</td>\n",
       "    </tr>\n",
       "    <tr>\n",
       "      <th>7</th>\n",
       "      <td>107</td>\n",
       "      <td>Diana</td>\n",
       "      <td>Lorentz</td>\n",
       "      <td>2007-02-07</td>\n",
       "      <td>2007</td>\n",
       "    </tr>\n",
       "    <tr>\n",
       "      <th>13</th>\n",
       "      <td>113</td>\n",
       "      <td>Luis</td>\n",
       "      <td>Popp</td>\n",
       "      <td>2007-12-07</td>\n",
       "      <td>2007</td>\n",
       "    </tr>\n",
       "    <tr>\n",
       "      <th>19</th>\n",
       "      <td>119</td>\n",
       "      <td>Karen</td>\n",
       "      <td>Colmenares</td>\n",
       "      <td>2007-08-10</td>\n",
       "      <td>2007</td>\n",
       "    </tr>\n",
       "    <tr>\n",
       "      <th>24</th>\n",
       "      <td>124</td>\n",
       "      <td>Kevin</td>\n",
       "      <td>Mourgos</td>\n",
       "      <td>2007-11-16</td>\n",
       "      <td>2007</td>\n",
       "    </tr>\n",
       "    <tr>\n",
       "      <th>27</th>\n",
       "      <td>127</td>\n",
       "      <td>James</td>\n",
       "      <td>Landry</td>\n",
       "      <td>2007-01-14</td>\n",
       "      <td>2007</td>\n",
       "    </tr>\n",
       "    <tr>\n",
       "      <th>32</th>\n",
       "      <td>132</td>\n",
       "      <td>TJ</td>\n",
       "      <td>Olson</td>\n",
       "      <td>2007-04-10</td>\n",
       "      <td>2007</td>\n",
       "    </tr>\n",
       "    <tr>\n",
       "      <th>35</th>\n",
       "      <td>135</td>\n",
       "      <td>Ki</td>\n",
       "      <td>Gee</td>\n",
       "      <td>2007-12-12</td>\n",
       "      <td>2007</td>\n",
       "    </tr>\n",
       "    <tr>\n",
       "      <th>46</th>\n",
       "      <td>148</td>\n",
       "      <td>Gerald</td>\n",
       "      <td>Cambrault</td>\n",
       "      <td>2007-10-15</td>\n",
       "      <td>2007</td>\n",
       "    </tr>\n",
       "  </tbody>\n",
       "</table>\n",
       "</div>"
      ],
      "text/plain": [
       "   emp_id first_name   last_name  hire_date  Year\n",
       "4     104      Bruce       Ernst 2007-05-21  2007\n",
       "7     107      Diana     Lorentz 2007-02-07  2007\n",
       "13    113       Luis        Popp 2007-12-07  2007\n",
       "19    119      Karen  Colmenares 2007-08-10  2007\n",
       "24    124      Kevin     Mourgos 2007-11-16  2007\n",
       "27    127      James      Landry 2007-01-14  2007\n",
       "32    132         TJ       Olson 2007-04-10  2007\n",
       "35    135         Ki         Gee 2007-12-12  2007\n",
       "46    148     Gerald   Cambrault 2007-10-15  2007"
      ]
     },
     "execution_count": 115,
     "metadata": {},
     "output_type": "execute_result"
    }
   ],
   "source": [
    "import pandas as pd\n",
    "\n",
    "sheets = ['Sheet1', 'Sheet2', 'Sheet3']\n",
    "\n",
    "dfMain = pd.DataFrame(columns = ['emp_id', 'first_name', 'last_name', 'hire_date'])\n",
    "\n",
    "for sheet in sheets:\n",
    "    df = pd.read_excel('employee.xlsx', sheet_name = sheet)\n",
    "    dfMain = pd.concat([dfMain, df])\n",
    "    \n",
    "dfMain.reset_index(inplace = True, drop = True)\n",
    "\n",
    "#dfMain['Year'].year\n",
    "    \n",
    "dfMain['Year'] = [x.year for x in dfMain['hire_date']]\n",
    "\n",
    "inputYear = int(input(\"Which year hire date to consider for filtering employees?: \"))\n",
    "\n",
    "dfMain.loc[dfMain['Year'] == inputYear]"
   ]
  },
  {
   "cell_type": "markdown",
   "metadata": {},
   "source": [
    "__Question 121:__<br>\n",
    "Write a pandas program to import three datasheets from a given excel data (coalpublic2013.xlsx ) in to a single dataframe.\n",
    "\n",
    "Note: Structure of three datasheets are same."
   ]
  },
  {
   "cell_type": "markdown",
   "metadata": {},
   "source": [
    "__Solution:__"
   ]
  },
  {
   "cell_type": "code",
   "execution_count": 225,
   "metadata": {},
   "outputs": [
    {
     "data": {
      "text/html": [
       "<div>\n",
       "<style scoped>\n",
       "    .dataframe tbody tr th:only-of-type {\n",
       "        vertical-align: middle;\n",
       "    }\n",
       "\n",
       "    .dataframe tbody tr th {\n",
       "        vertical-align: top;\n",
       "    }\n",
       "\n",
       "    .dataframe thead th {\n",
       "        text-align: right;\n",
       "    }\n",
       "</style>\n",
       "<table border=\"1\" class=\"dataframe\">\n",
       "  <thead>\n",
       "    <tr style=\"text-align: right;\">\n",
       "      <th></th>\n",
       "      <th>emp_id</th>\n",
       "      <th>first_name</th>\n",
       "      <th>last_name</th>\n",
       "      <th>hire_date</th>\n",
       "    </tr>\n",
       "  </thead>\n",
       "  <tbody>\n",
       "    <tr>\n",
       "      <th>0</th>\n",
       "      <td>100</td>\n",
       "      <td>Steven</td>\n",
       "      <td>King</td>\n",
       "      <td>2003-06-17</td>\n",
       "    </tr>\n",
       "    <tr>\n",
       "      <th>1</th>\n",
       "      <td>101</td>\n",
       "      <td>Neena</td>\n",
       "      <td>Kochhar</td>\n",
       "      <td>2005-09-21</td>\n",
       "    </tr>\n",
       "    <tr>\n",
       "      <th>2</th>\n",
       "      <td>102</td>\n",
       "      <td>Lex De</td>\n",
       "      <td>Haan</td>\n",
       "      <td>2001-01-13</td>\n",
       "    </tr>\n",
       "    <tr>\n",
       "      <th>3</th>\n",
       "      <td>103</td>\n",
       "      <td>Alexander</td>\n",
       "      <td>Hunold</td>\n",
       "      <td>2006-01-03</td>\n",
       "    </tr>\n",
       "    <tr>\n",
       "      <th>4</th>\n",
       "      <td>104</td>\n",
       "      <td>Bruce</td>\n",
       "      <td>Ernst</td>\n",
       "      <td>2007-05-21</td>\n",
       "    </tr>\n",
       "    <tr>\n",
       "      <th>5</th>\n",
       "      <td>105</td>\n",
       "      <td>David</td>\n",
       "      <td>Austin</td>\n",
       "      <td>2005-06-25</td>\n",
       "    </tr>\n",
       "    <tr>\n",
       "      <th>6</th>\n",
       "      <td>106</td>\n",
       "      <td>Valli</td>\n",
       "      <td>Pataballa</td>\n",
       "      <td>2006-02-05</td>\n",
       "    </tr>\n",
       "    <tr>\n",
       "      <th>7</th>\n",
       "      <td>107</td>\n",
       "      <td>Diana</td>\n",
       "      <td>Lorentz</td>\n",
       "      <td>2007-02-07</td>\n",
       "    </tr>\n",
       "    <tr>\n",
       "      <th>8</th>\n",
       "      <td>108</td>\n",
       "      <td>Nancy</td>\n",
       "      <td>Greenberg</td>\n",
       "      <td>2002-08-17</td>\n",
       "    </tr>\n",
       "    <tr>\n",
       "      <th>9</th>\n",
       "      <td>109</td>\n",
       "      <td>Daniel</td>\n",
       "      <td>Faviet</td>\n",
       "      <td>2002-08-16</td>\n",
       "    </tr>\n",
       "    <tr>\n",
       "      <th>10</th>\n",
       "      <td>110</td>\n",
       "      <td>John</td>\n",
       "      <td>Chen</td>\n",
       "      <td>2005-09-28</td>\n",
       "    </tr>\n",
       "    <tr>\n",
       "      <th>11</th>\n",
       "      <td>111</td>\n",
       "      <td>Ismael</td>\n",
       "      <td>Sciarra</td>\n",
       "      <td>2005-09-30</td>\n",
       "    </tr>\n",
       "    <tr>\n",
       "      <th>12</th>\n",
       "      <td>112</td>\n",
       "      <td>Jose Manuel</td>\n",
       "      <td>Urman</td>\n",
       "      <td>2006-03-07</td>\n",
       "    </tr>\n",
       "    <tr>\n",
       "      <th>13</th>\n",
       "      <td>113</td>\n",
       "      <td>Luis</td>\n",
       "      <td>Popp</td>\n",
       "      <td>2007-12-07</td>\n",
       "    </tr>\n",
       "    <tr>\n",
       "      <th>14</th>\n",
       "      <td>114</td>\n",
       "      <td>Den</td>\n",
       "      <td>Raphaely</td>\n",
       "      <td>2002-12-07</td>\n",
       "    </tr>\n",
       "    <tr>\n",
       "      <th>15</th>\n",
       "      <td>115</td>\n",
       "      <td>Alexander</td>\n",
       "      <td>Khoo</td>\n",
       "      <td>2003-05-18</td>\n",
       "    </tr>\n",
       "    <tr>\n",
       "      <th>16</th>\n",
       "      <td>116</td>\n",
       "      <td>Shelli</td>\n",
       "      <td>Baida</td>\n",
       "      <td>2005-12-24</td>\n",
       "    </tr>\n",
       "    <tr>\n",
       "      <th>17</th>\n",
       "      <td>117</td>\n",
       "      <td>Sigal</td>\n",
       "      <td>Tobias</td>\n",
       "      <td>2005-07-24</td>\n",
       "    </tr>\n",
       "    <tr>\n",
       "      <th>18</th>\n",
       "      <td>118</td>\n",
       "      <td>Guy</td>\n",
       "      <td>Himuro</td>\n",
       "      <td>2006-11-15</td>\n",
       "    </tr>\n",
       "    <tr>\n",
       "      <th>19</th>\n",
       "      <td>119</td>\n",
       "      <td>Karen</td>\n",
       "      <td>Colmenares</td>\n",
       "      <td>2007-08-10</td>\n",
       "    </tr>\n",
       "    <tr>\n",
       "      <th>20</th>\n",
       "      <td>120</td>\n",
       "      <td>Matthew</td>\n",
       "      <td>Weiss</td>\n",
       "      <td>2004-07-18</td>\n",
       "    </tr>\n",
       "    <tr>\n",
       "      <th>21</th>\n",
       "      <td>121</td>\n",
       "      <td>Adam</td>\n",
       "      <td>Fripp</td>\n",
       "      <td>2005-04-10</td>\n",
       "    </tr>\n",
       "    <tr>\n",
       "      <th>22</th>\n",
       "      <td>122</td>\n",
       "      <td>Payam</td>\n",
       "      <td>Kaufling</td>\n",
       "      <td>2003-05-01</td>\n",
       "    </tr>\n",
       "    <tr>\n",
       "      <th>23</th>\n",
       "      <td>123</td>\n",
       "      <td>Shanta</td>\n",
       "      <td>Vollman</td>\n",
       "      <td>2005-10-10</td>\n",
       "    </tr>\n",
       "    <tr>\n",
       "      <th>24</th>\n",
       "      <td>124</td>\n",
       "      <td>Kevin</td>\n",
       "      <td>Mourgos</td>\n",
       "      <td>2007-11-16</td>\n",
       "    </tr>\n",
       "    <tr>\n",
       "      <th>25</th>\n",
       "      <td>125</td>\n",
       "      <td>Julia</td>\n",
       "      <td>Nayer</td>\n",
       "      <td>2005-07-16</td>\n",
       "    </tr>\n",
       "    <tr>\n",
       "      <th>26</th>\n",
       "      <td>126</td>\n",
       "      <td>Irene</td>\n",
       "      <td>Mikkilineni</td>\n",
       "      <td>2006-09-28</td>\n",
       "    </tr>\n",
       "    <tr>\n",
       "      <th>27</th>\n",
       "      <td>127</td>\n",
       "      <td>James</td>\n",
       "      <td>Landry</td>\n",
       "      <td>2007-01-14</td>\n",
       "    </tr>\n",
       "    <tr>\n",
       "      <th>28</th>\n",
       "      <td>128</td>\n",
       "      <td>Steven</td>\n",
       "      <td>Markle</td>\n",
       "      <td>2008-03-08</td>\n",
       "    </tr>\n",
       "    <tr>\n",
       "      <th>29</th>\n",
       "      <td>129</td>\n",
       "      <td>Laura</td>\n",
       "      <td>Bissot</td>\n",
       "      <td>2008-08-20</td>\n",
       "    </tr>\n",
       "    <tr>\n",
       "      <th>30</th>\n",
       "      <td>130</td>\n",
       "      <td>Mozhe</td>\n",
       "      <td>Atkinson</td>\n",
       "      <td>2005-10-30</td>\n",
       "    </tr>\n",
       "    <tr>\n",
       "      <th>31</th>\n",
       "      <td>131</td>\n",
       "      <td>James</td>\n",
       "      <td>Marlow</td>\n",
       "      <td>2005-02-16</td>\n",
       "    </tr>\n",
       "    <tr>\n",
       "      <th>32</th>\n",
       "      <td>132</td>\n",
       "      <td>TJ</td>\n",
       "      <td>Olson</td>\n",
       "      <td>2007-04-10</td>\n",
       "    </tr>\n",
       "    <tr>\n",
       "      <th>33</th>\n",
       "      <td>133</td>\n",
       "      <td>Jason</td>\n",
       "      <td>Mallin</td>\n",
       "      <td>2004-06-14</td>\n",
       "    </tr>\n",
       "    <tr>\n",
       "      <th>34</th>\n",
       "      <td>134</td>\n",
       "      <td>Michael</td>\n",
       "      <td>Rogers</td>\n",
       "      <td>2006-08-26</td>\n",
       "    </tr>\n",
       "    <tr>\n",
       "      <th>35</th>\n",
       "      <td>135</td>\n",
       "      <td>Ki</td>\n",
       "      <td>Gee</td>\n",
       "      <td>2007-12-12</td>\n",
       "    </tr>\n",
       "    <tr>\n",
       "      <th>36</th>\n",
       "      <td>136</td>\n",
       "      <td>Hazel</td>\n",
       "      <td>Philtanker</td>\n",
       "      <td>2008-02-06</td>\n",
       "    </tr>\n",
       "    <tr>\n",
       "      <th>37</th>\n",
       "      <td>137</td>\n",
       "      <td>Renske</td>\n",
       "      <td>Ladwig</td>\n",
       "      <td>2003-07-14</td>\n",
       "    </tr>\n",
       "    <tr>\n",
       "      <th>38</th>\n",
       "      <td>138</td>\n",
       "      <td>Stephen</td>\n",
       "      <td>Stiles</td>\n",
       "      <td>2005-10-26</td>\n",
       "    </tr>\n",
       "    <tr>\n",
       "      <th>39</th>\n",
       "      <td>141</td>\n",
       "      <td>Trenna</td>\n",
       "      <td>Rajs</td>\n",
       "      <td>2003-10-17</td>\n",
       "    </tr>\n",
       "    <tr>\n",
       "      <th>40</th>\n",
       "      <td>142</td>\n",
       "      <td>Curtis</td>\n",
       "      <td>Davies</td>\n",
       "      <td>2005-01-29</td>\n",
       "    </tr>\n",
       "    <tr>\n",
       "      <th>41</th>\n",
       "      <td>143</td>\n",
       "      <td>Randall</td>\n",
       "      <td>Matos</td>\n",
       "      <td>2006-03-15</td>\n",
       "    </tr>\n",
       "    <tr>\n",
       "      <th>42</th>\n",
       "      <td>144</td>\n",
       "      <td>Peter</td>\n",
       "      <td>Vargas</td>\n",
       "      <td>2006-07-09</td>\n",
       "    </tr>\n",
       "    <tr>\n",
       "      <th>43</th>\n",
       "      <td>145</td>\n",
       "      <td>John</td>\n",
       "      <td>Russel</td>\n",
       "      <td>2004-10-01</td>\n",
       "    </tr>\n",
       "    <tr>\n",
       "      <th>44</th>\n",
       "      <td>146</td>\n",
       "      <td>Karen</td>\n",
       "      <td>Partners</td>\n",
       "      <td>2005-01-05</td>\n",
       "    </tr>\n",
       "    <tr>\n",
       "      <th>45</th>\n",
       "      <td>147</td>\n",
       "      <td>Alberto</td>\n",
       "      <td>Errazuriz</td>\n",
       "      <td>2005-03-10</td>\n",
       "    </tr>\n",
       "    <tr>\n",
       "      <th>46</th>\n",
       "      <td>148</td>\n",
       "      <td>Gerald</td>\n",
       "      <td>Cambrault</td>\n",
       "      <td>2007-10-15</td>\n",
       "    </tr>\n",
       "    <tr>\n",
       "      <th>47</th>\n",
       "      <td>149</td>\n",
       "      <td>Eleni</td>\n",
       "      <td>Zlotkey</td>\n",
       "      <td>2008-01-29</td>\n",
       "    </tr>\n",
       "  </tbody>\n",
       "</table>\n",
       "</div>"
      ],
      "text/plain": [
       "   emp_id   first_name    last_name  hire_date\n",
       "0     100       Steven         King 2003-06-17\n",
       "1     101        Neena      Kochhar 2005-09-21\n",
       "2     102       Lex De         Haan 2001-01-13\n",
       "3     103    Alexander       Hunold 2006-01-03\n",
       "4     104        Bruce        Ernst 2007-05-21\n",
       "5     105        David       Austin 2005-06-25\n",
       "6     106        Valli    Pataballa 2006-02-05\n",
       "7     107        Diana      Lorentz 2007-02-07\n",
       "8     108        Nancy    Greenberg 2002-08-17\n",
       "9     109       Daniel       Faviet 2002-08-16\n",
       "10    110         John         Chen 2005-09-28\n",
       "11    111       Ismael      Sciarra 2005-09-30\n",
       "12    112  Jose Manuel        Urman 2006-03-07\n",
       "13    113         Luis         Popp 2007-12-07\n",
       "14    114          Den     Raphaely 2002-12-07\n",
       "15    115    Alexander         Khoo 2003-05-18\n",
       "16    116       Shelli        Baida 2005-12-24\n",
       "17    117        Sigal       Tobias 2005-07-24\n",
       "18    118          Guy       Himuro 2006-11-15\n",
       "19    119        Karen   Colmenares 2007-08-10\n",
       "20    120      Matthew        Weiss 2004-07-18\n",
       "21    121         Adam        Fripp 2005-04-10\n",
       "22    122        Payam     Kaufling 2003-05-01\n",
       "23    123       Shanta      Vollman 2005-10-10\n",
       "24    124        Kevin      Mourgos 2007-11-16\n",
       "25    125        Julia        Nayer 2005-07-16\n",
       "26    126        Irene  Mikkilineni 2006-09-28\n",
       "27    127        James       Landry 2007-01-14\n",
       "28    128       Steven       Markle 2008-03-08\n",
       "29    129        Laura       Bissot 2008-08-20\n",
       "30    130        Mozhe     Atkinson 2005-10-30\n",
       "31    131        James       Marlow 2005-02-16\n",
       "32    132           TJ        Olson 2007-04-10\n",
       "33    133        Jason       Mallin 2004-06-14\n",
       "34    134      Michael       Rogers 2006-08-26\n",
       "35    135           Ki          Gee 2007-12-12\n",
       "36    136        Hazel   Philtanker 2008-02-06\n",
       "37    137       Renske       Ladwig 2003-07-14\n",
       "38    138      Stephen       Stiles 2005-10-26\n",
       "39    141       Trenna         Rajs 2003-10-17\n",
       "40    142       Curtis       Davies 2005-01-29\n",
       "41    143      Randall        Matos 2006-03-15\n",
       "42    144        Peter       Vargas 2006-07-09\n",
       "43    145         John       Russel 2004-10-01\n",
       "44    146        Karen     Partners 2005-01-05\n",
       "45    147      Alberto    Errazuriz 2005-03-10\n",
       "46    148       Gerald    Cambrault 2007-10-15\n",
       "47    149        Eleni      Zlotkey 2008-01-29"
      ]
     },
     "execution_count": 225,
     "metadata": {},
     "output_type": "execute_result"
    }
   ],
   "source": [
    "#the coalpublic2013.xlsx excel sheet that I found online does not have three sheets \n",
    "#so used the employee.xlsx instead\n",
    "import pandas as pd\n",
    "\n",
    "sheets = ['Sheet1', 'Sheet2', 'Sheet3']\n",
    "\n",
    "dfMain = pd.DataFrame(columns = ['emp_id', 'first_name', 'last_name', 'hire_date'])\n",
    "\n",
    "for sheet in sheets:\n",
    "    df = pd.read_excel('employee.xlsx', sheet_name = sheet)\n",
    "    dfMain = pd.concat([dfMain, df])\n",
    "dfMain.reset_index(inplace = True, drop = True)\n",
    "dfMain\n"
   ]
  },
  {
   "cell_type": "markdown",
   "metadata": {},
   "source": [
    "__Question 122:__<br>\n",
    "Write a pandas program to import three datasheets from a given excel data (employee.xlsx ) into a single data frame and export the result into new Excel file.\n",
    "\n",
    "Note: Structure of three datasheets are same."
   ]
  },
  {
   "cell_type": "markdown",
   "metadata": {},
   "source": [
    "__Solution:__"
   ]
  },
  {
   "cell_type": "code",
   "execution_count": 224,
   "metadata": {},
   "outputs": [],
   "source": [
    "import pandas as pd\n",
    "\n",
    "sheets = ['Sheet1', 'Sheet2', 'Sheet3']\n",
    "\n",
    "dfMain = pd.DataFrame(columns = ['emp_id', 'first_name', 'last_name', 'hire_date'])\n",
    "\n",
    "for sheet in sheets:\n",
    "    df = pd.read_excel('employee.xlsx', sheet_name = sheet)\n",
    "    dfMain = pd.concat([dfMain, df])\n",
    "dfMain.reset_index(inplace = True, drop = True)\n",
    "dfMain.to_excel('employeeSingleSheet.xlsx')"
   ]
  },
  {
   "cell_type": "markdown",
   "metadata": {},
   "source": [
    "__Question 123:__<br>\n",
    "Write a pandas program to create the Pivot table with multiple indexes from the data set of the titanic.csv."
   ]
  },
  {
   "cell_type": "markdown",
   "metadata": {},
   "source": [
    "__Solution:__"
   ]
  },
  {
   "cell_type": "code",
   "execution_count": 30,
   "metadata": {},
   "outputs": [
    {
     "data": {
      "text/html": [
       "<div>\n",
       "<style scoped>\n",
       "    .dataframe tbody tr th:only-of-type {\n",
       "        vertical-align: middle;\n",
       "    }\n",
       "\n",
       "    .dataframe tbody tr th {\n",
       "        vertical-align: top;\n",
       "    }\n",
       "\n",
       "    .dataframe thead th {\n",
       "        text-align: right;\n",
       "    }\n",
       "</style>\n",
       "<table border=\"1\" class=\"dataframe\">\n",
       "  <thead>\n",
       "    <tr style=\"text-align: right;\">\n",
       "      <th></th>\n",
       "      <th></th>\n",
       "      <th>Age</th>\n",
       "      <th>Fare</th>\n",
       "    </tr>\n",
       "    <tr>\n",
       "      <th>Sex</th>\n",
       "      <th>Survived</th>\n",
       "      <th></th>\n",
       "      <th></th>\n",
       "    </tr>\n",
       "  </thead>\n",
       "  <tbody>\n",
       "    <tr>\n",
       "      <th rowspan=\"2\" valign=\"top\">female</th>\n",
       "      <th>0</th>\n",
       "      <td>20.633333</td>\n",
       "      <td>18.883331</td>\n",
       "    </tr>\n",
       "    <tr>\n",
       "      <th>1</th>\n",
       "      <td>26.265625</td>\n",
       "      <td>32.291563</td>\n",
       "    </tr>\n",
       "    <tr>\n",
       "      <th rowspan=\"2\" valign=\"top\">male</th>\n",
       "      <th>0</th>\n",
       "      <td>31.228571</td>\n",
       "      <td>28.831587</td>\n",
       "    </tr>\n",
       "    <tr>\n",
       "      <th>1</th>\n",
       "      <td>23.314444</td>\n",
       "      <td>22.270236</td>\n",
       "    </tr>\n",
       "  </tbody>\n",
       "</table>\n",
       "</div>"
      ],
      "text/plain": [
       "                       Age       Fare\n",
       "Sex    Survived                      \n",
       "female 0         20.633333  18.883331\n",
       "       1         26.265625  32.291563\n",
       "male   0         31.228571  28.831587\n",
       "       1         23.314444  22.270236"
      ]
     },
     "execution_count": 30,
     "metadata": {},
     "output_type": "execute_result"
    }
   ],
   "source": [
    "import pandas as pd\n",
    "import numpy as np\n",
    "\n",
    "df = pd.read_csv('titanic.csv')\n",
    "df.head()\n",
    "\n",
    "pt = pd.pivot_table(df, index = ['Sex', 'Survived'], aggfunc = np.mean, values = ['Age', 'Fare'], fill_value = 0)\n",
    "pt"
   ]
  },
  {
   "cell_type": "markdown",
   "metadata": {},
   "source": [
    "__Question 124:__<br>\n",
    "Write a Pandas program to create the Pivot table and find survival rate by gender?\n"
   ]
  },
  {
   "cell_type": "markdown",
   "metadata": {},
   "source": [
    "__Solution:__"
   ]
  },
  {
   "cell_type": "code",
   "execution_count": 38,
   "metadata": {},
   "outputs": [
    {
     "data": {
      "text/html": [
       "<div>\n",
       "<style scoped>\n",
       "    .dataframe tbody tr th:only-of-type {\n",
       "        vertical-align: middle;\n",
       "    }\n",
       "\n",
       "    .dataframe tbody tr th {\n",
       "        vertical-align: top;\n",
       "    }\n",
       "\n",
       "    .dataframe thead tr th {\n",
       "        text-align: left;\n",
       "    }\n",
       "\n",
       "    .dataframe thead tr:last-of-type th {\n",
       "        text-align: right;\n",
       "    }\n",
       "</style>\n",
       "<table border=\"1\" class=\"dataframe\">\n",
       "  <thead>\n",
       "    <tr>\n",
       "      <th></th>\n",
       "      <th colspan=\"3\" halign=\"left\">Survived</th>\n",
       "    </tr>\n",
       "    <tr>\n",
       "      <th>Pclass</th>\n",
       "      <th>1</th>\n",
       "      <th>2</th>\n",
       "      <th>3</th>\n",
       "    </tr>\n",
       "    <tr>\n",
       "      <th>Sex</th>\n",
       "      <th></th>\n",
       "      <th></th>\n",
       "      <th></th>\n",
       "    </tr>\n",
       "  </thead>\n",
       "  <tbody>\n",
       "    <tr>\n",
       "      <th>female</th>\n",
       "      <td>1.000000</td>\n",
       "      <td>0.916667</td>\n",
       "      <td>0.571429</td>\n",
       "    </tr>\n",
       "    <tr>\n",
       "      <th>male</th>\n",
       "      <td>0.142857</td>\n",
       "      <td>0.166667</td>\n",
       "      <td>0.131148</td>\n",
       "    </tr>\n",
       "  </tbody>\n",
       "</table>\n",
       "</div>"
      ],
      "text/plain": [
       "        Survived                    \n",
       "Pclass         1         2         3\n",
       "Sex                                 \n",
       "female  1.000000  0.916667  0.571429\n",
       "male    0.142857  0.166667  0.131148"
      ]
     },
     "execution_count": 38,
     "metadata": {},
     "output_type": "execute_result"
    }
   ],
   "source": [
    "import pandas as pd\n",
    "import numpy as np\n",
    "\n",
    "df = pd.read_csv('titanic.csv')\n",
    "\n",
    "pt = pd.pivot_table(df, index = ['Sex'], values = ['Survived'], columns = ['Pclass'])\n",
    "\n",
    "pt\n",
    "#printing survival rate by class as well rather than just gender"
   ]
  },
  {
   "cell_type": "markdown",
   "metadata": {},
   "source": [
    "__Question 125:__<br>\n",
    "Write a pandas program to make partition each of the passengers into 4 categories based on their age.\n",
    "\n",
    "Note: Age categories- (0, 10), (10, 30), (30, 60), (60, 80)"
   ]
  },
  {
   "cell_type": "markdown",
   "metadata": {},
   "source": [
    "__Solution:__"
   ]
  },
  {
   "cell_type": "code",
   "execution_count": 63,
   "metadata": {},
   "outputs": [
    {
     "name": "stdout",
     "output_type": "stream",
     "text": [
      "Age group:  (0, 10]\n",
      "    PassengerId  Survived  Pclass                                      Name  \\\n",
      "7             8         0       3            Palsson, Master. Gosta Leonard   \n",
      "10           11         1       3           Sandstrom, Miss. Marguerite Rut   \n",
      "16           17         0       3                      Rice, Master. Eugene   \n",
      "24           25         0       3             Palsson, Miss. Torborg Danira   \n",
      "43           44         1       2  Laroche, Miss. Simonne Marie Anne Andree   \n",
      "\n",
      "       Sex  Age  SibSp  Parch         Ticket     Fare Cabin Embarked  \n",
      "7     male  2.0      3      1         349909  21.0750   NaN        S  \n",
      "10  female  4.0      1      1        PP 9549  16.7000    G6        S  \n",
      "16    male  2.0      4      1         382652  29.1250   NaN        Q  \n",
      "24  female  8.0      3      1         349909  21.0750   NaN        S  \n",
      "43  female  3.0      1      2  SC/Paris 2123  41.5792   NaN        C  \n",
      "\n",
      "\n",
      "\n",
      "\n",
      "Age group:  (10, 30]\n",
      "    PassengerId  Survived  Pclass  \\\n",
      "0             1         0       3   \n",
      "2             3         1       3   \n",
      "8             9         1       3   \n",
      "9            10         1       2   \n",
      "12           13         0       3   \n",
      "\n",
      "                                                 Name     Sex   Age  SibSp  \\\n",
      "0                             Braund, Mr. Owen Harris    male  22.0      1   \n",
      "2                              Heikkinen, Miss. Laina  female  26.0      0   \n",
      "8   Johnson, Mrs. Oscar W (Elisabeth Vilhelmina Berg)  female  27.0      0   \n",
      "9                 Nasser, Mrs. Nicholas (Adele Achem)  female  14.0      1   \n",
      "12                     Saundercock, Mr. William Henry    male  20.0      0   \n",
      "\n",
      "    Parch            Ticket     Fare Cabin Embarked  \n",
      "0       0         A/5 21171   7.2500   NaN        S  \n",
      "2       0  STON/O2. 3101282   7.9250   NaN        S  \n",
      "8       2            347742  11.1333   NaN        S  \n",
      "9       0            237736  30.0708   NaN        C  \n",
      "12      0         A/5. 2151   8.0500   NaN        S  \n",
      "\n",
      "\n",
      "\n",
      "\n",
      "Age group:  (30, 60]\n",
      "    PassengerId  Survived  Pclass  \\\n",
      "1             2         1       1   \n",
      "3             4         1       1   \n",
      "4             5         0       3   \n",
      "6             7         0       1   \n",
      "11           12         1       1   \n",
      "\n",
      "                                                 Name     Sex   Age  SibSp  \\\n",
      "1   Cumings, Mrs. John Bradley (Florence Briggs Th...  female  38.0      1   \n",
      "3        Futrelle, Mrs. Jacques Heath (Lily May Peel)  female  35.0      1   \n",
      "4                            Allen, Mr. William Henry    male  35.0      0   \n",
      "6                             McCarthy, Mr. Timothy J    male  54.0      0   \n",
      "11                           Bonnell, Miss. Elizabeth  female  58.0      0   \n",
      "\n",
      "    Parch    Ticket     Fare Cabin Embarked  \n",
      "1       0  PC 17599  71.2833   C85        C  \n",
      "3       0    113803  53.1000  C123        S  \n",
      "4       0    373450   8.0500   NaN        S  \n",
      "6       0     17463  51.8625   E46        S  \n",
      "11      0    113783  26.5500  C103        S  \n",
      "\n",
      "\n",
      "\n",
      "\n",
      "Age group:  (60, 80]\n",
      "     PassengerId  Survived  Pclass                            Name   Sex  \\\n",
      "33            34         0       2           Wheadon, Mr. Edward H  male   \n",
      "54            55         0       1  Ostby, Mr. Engelhart Cornelius  male   \n",
      "96            97         0       1       Goldschmidt, Mr. George B  male   \n",
      "116          117         0       3            Connors, Mr. Patrick  male   \n",
      "\n",
      "      Age  SibSp  Parch      Ticket     Fare Cabin Embarked  \n",
      "33   66.0      0      0  C.A. 24579  10.5000   NaN        S  \n",
      "54   65.0      0      1      113509  61.9792   B30        C  \n",
      "96   71.0      0      0    PC 17754  34.6542    A5        C  \n",
      "116  70.5      0      0      370369   7.7500   NaN        Q  \n",
      "\n",
      "\n",
      "\n",
      "\n"
     ]
    }
   ],
   "source": [
    "import pandas as pd\n",
    "import numpy as np\n",
    "\n",
    "df = pd.read_csv('titanic.csv')\n",
    "\n",
    "\n",
    "age = pd.cut(df['Age'], [0, 10, 30, 60, 80])\n",
    "df.groupby(age)\n",
    "\n",
    "for age, frame in df.groupby(age):\n",
    "    print(\"Age group: \",age)\n",
    "    print(frame.head())\n",
    "    print('\\n\\n\\n')\n",
    "\n",
    "\n",
    "\n"
   ]
  },
  {
   "cell_type": "markdown",
   "metadata": {},
   "source": [
    "__Question 126:__<br>\n",
    "Write a pandas program to create the Pivot table and find survival rate by the gender, age of the different categories of various classes."
   ]
  },
  {
   "cell_type": "markdown",
   "metadata": {},
   "source": [
    "__Solution:__"
   ]
  },
  {
   "cell_type": "code",
   "execution_count": 110,
   "metadata": {},
   "outputs": [
    {
     "data": {
      "text/html": [
       "<div>\n",
       "<style scoped>\n",
       "    .dataframe tbody tr th:only-of-type {\n",
       "        vertical-align: middle;\n",
       "    }\n",
       "\n",
       "    .dataframe tbody tr th {\n",
       "        vertical-align: top;\n",
       "    }\n",
       "\n",
       "    .dataframe thead tr th {\n",
       "        text-align: left;\n",
       "    }\n",
       "\n",
       "    .dataframe thead tr:last-of-type th {\n",
       "        text-align: right;\n",
       "    }\n",
       "</style>\n",
       "<table border=\"1\" class=\"dataframe\">\n",
       "  <thead>\n",
       "    <tr>\n",
       "      <th></th>\n",
       "      <th></th>\n",
       "      <th colspan=\"3\" halign=\"left\">Survived</th>\n",
       "    </tr>\n",
       "    <tr>\n",
       "      <th></th>\n",
       "      <th>Pclass</th>\n",
       "      <th>1</th>\n",
       "      <th>2</th>\n",
       "      <th>3</th>\n",
       "    </tr>\n",
       "    <tr>\n",
       "      <th>Sex</th>\n",
       "      <th>Age</th>\n",
       "      <th></th>\n",
       "      <th></th>\n",
       "      <th></th>\n",
       "    </tr>\n",
       "  </thead>\n",
       "  <tbody>\n",
       "    <tr>\n",
       "      <th rowspan=\"3\" valign=\"top\">female</th>\n",
       "      <th>(0, 10]</th>\n",
       "      <td>0.00</td>\n",
       "      <td>1.000000</td>\n",
       "      <td>0.250000</td>\n",
       "    </tr>\n",
       "    <tr>\n",
       "      <th>(10, 30]</th>\n",
       "      <td>1.00</td>\n",
       "      <td>0.857143</td>\n",
       "      <td>0.555556</td>\n",
       "    </tr>\n",
       "    <tr>\n",
       "      <th>(30, 60]</th>\n",
       "      <td>1.00</td>\n",
       "      <td>1.000000</td>\n",
       "      <td>0.400000</td>\n",
       "    </tr>\n",
       "    <tr>\n",
       "      <th rowspan=\"4\" valign=\"top\">male</th>\n",
       "      <th>(0, 10]</th>\n",
       "      <td>0.00</td>\n",
       "      <td>1.000000</td>\n",
       "      <td>0.000000</td>\n",
       "    </tr>\n",
       "    <tr>\n",
       "      <th>(10, 30]</th>\n",
       "      <td>0.25</td>\n",
       "      <td>0.000000</td>\n",
       "      <td>0.148148</td>\n",
       "    </tr>\n",
       "    <tr>\n",
       "      <th>(30, 60]</th>\n",
       "      <td>0.00</td>\n",
       "      <td>0.125000</td>\n",
       "      <td>0.090909</td>\n",
       "    </tr>\n",
       "    <tr>\n",
       "      <th>(60, 80]</th>\n",
       "      <td>0.00</td>\n",
       "      <td>0.000000</td>\n",
       "      <td>0.000000</td>\n",
       "    </tr>\n",
       "  </tbody>\n",
       "</table>\n",
       "</div>"
      ],
      "text/plain": [
       "                Survived                    \n",
       "Pclass                 1         2         3\n",
       "Sex    Age                                  \n",
       "female (0, 10]      0.00  1.000000  0.250000\n",
       "       (10, 30]     1.00  0.857143  0.555556\n",
       "       (30, 60]     1.00  1.000000  0.400000\n",
       "male   (0, 10]      0.00  1.000000  0.000000\n",
       "       (10, 30]     0.25  0.000000  0.148148\n",
       "       (30, 60]     0.00  0.125000  0.090909\n",
       "       (60, 80]     0.00  0.000000  0.000000"
      ]
     },
     "execution_count": 110,
     "metadata": {},
     "output_type": "execute_result"
    }
   ],
   "source": [
    "import pandas as pd\n",
    "import numpy as np\n",
    "\n",
    "df = pd.read_csv('titanic.csv')\n",
    "\n",
    "age = pd.cut(df['Age'], [0, 10, 30, 60, 80])\n",
    "pt = pd.pivot_table(df, index = ['Sex', age], values = ['Survived'], columns = ['Pclass'], fill_value = 0)\n",
    "pt"
   ]
  },
  {
   "cell_type": "markdown",
   "metadata": {},
   "source": [
    "__Question 127:__<br>\n",
    "Write a pandas program to create the Pivot table and calculate number of women and men were in a particular cabin class."
   ]
  },
  {
   "cell_type": "markdown",
   "metadata": {},
   "source": [
    "__Solution:__"
   ]
  },
  {
   "cell_type": "code",
   "execution_count": 87,
   "metadata": {},
   "outputs": [
    {
     "data": {
      "text/html": [
       "<div>\n",
       "<style scoped>\n",
       "    .dataframe tbody tr th:only-of-type {\n",
       "        vertical-align: middle;\n",
       "    }\n",
       "\n",
       "    .dataframe tbody tr th {\n",
       "        vertical-align: top;\n",
       "    }\n",
       "\n",
       "    .dataframe thead tr th {\n",
       "        text-align: left;\n",
       "    }\n",
       "\n",
       "    .dataframe thead tr:last-of-type th {\n",
       "        text-align: right;\n",
       "    }\n",
       "</style>\n",
       "<table border=\"1\" class=\"dataframe\">\n",
       "  <thead>\n",
       "    <tr>\n",
       "      <th></th>\n",
       "      <th colspan=\"3\" halign=\"left\">PassengerId</th>\n",
       "    </tr>\n",
       "    <tr>\n",
       "      <th>Pclass</th>\n",
       "      <th>1</th>\n",
       "      <th>2</th>\n",
       "      <th>3</th>\n",
       "    </tr>\n",
       "    <tr>\n",
       "      <th>Sex</th>\n",
       "      <th></th>\n",
       "      <th></th>\n",
       "      <th></th>\n",
       "    </tr>\n",
       "  </thead>\n",
       "  <tbody>\n",
       "    <tr>\n",
       "      <th>female</th>\n",
       "      <td>9</td>\n",
       "      <td>12</td>\n",
       "      <td>35</td>\n",
       "    </tr>\n",
       "    <tr>\n",
       "      <th>male</th>\n",
       "      <td>21</td>\n",
       "      <td>18</td>\n",
       "      <td>61</td>\n",
       "    </tr>\n",
       "  </tbody>\n",
       "</table>\n",
       "</div>"
      ],
      "text/plain": [
       "       PassengerId        \n",
       "Pclass           1   2   3\n",
       "Sex                       \n",
       "female           9  12  35\n",
       "male            21  18  61"
      ]
     },
     "execution_count": 87,
     "metadata": {},
     "output_type": "execute_result"
    }
   ],
   "source": [
    "import pandas as pd\n",
    "import numpy as np\n",
    "\n",
    "df = pd.read_csv('titanic.csv')\n",
    "\n",
    "pt = pd.pivot_table(df, index = ['Sex'], values = ['PassengerId'], columns = ['Pclass'], aggfunc = len)\n",
    "pt"
   ]
  },
  {
   "cell_type": "markdown",
   "metadata": {},
   "source": [
    "__Question 128:__<br>\n",
    "Write a pandas program to create the Pivot table and separate the gender according to whether they travelled alone or not to get the probability of survival"
   ]
  },
  {
   "cell_type": "markdown",
   "metadata": {},
   "source": [
    "__Solution:__"
   ]
  },
  {
   "cell_type": "code",
   "execution_count": 85,
   "metadata": {},
   "outputs": [
    {
     "data": {
      "text/html": [
       "<div>\n",
       "<style scoped>\n",
       "    .dataframe tbody tr th:only-of-type {\n",
       "        vertical-align: middle;\n",
       "    }\n",
       "\n",
       "    .dataframe tbody tr th {\n",
       "        vertical-align: top;\n",
       "    }\n",
       "\n",
       "    .dataframe thead th {\n",
       "        text-align: right;\n",
       "    }\n",
       "</style>\n",
       "<table border=\"1\" class=\"dataframe\">\n",
       "  <thead>\n",
       "    <tr style=\"text-align: right;\">\n",
       "      <th></th>\n",
       "      <th></th>\n",
       "      <th>Survived</th>\n",
       "    </tr>\n",
       "    <tr>\n",
       "      <th>Sex</th>\n",
       "      <th>Age</th>\n",
       "      <th></th>\n",
       "    </tr>\n",
       "  </thead>\n",
       "  <tbody>\n",
       "    <tr>\n",
       "      <th rowspan=\"3\" valign=\"top\">female</th>\n",
       "      <th>(0, 10]</th>\n",
       "      <td>0.500000</td>\n",
       "    </tr>\n",
       "    <tr>\n",
       "      <th>(10, 30]</th>\n",
       "      <td>0.678571</td>\n",
       "    </tr>\n",
       "    <tr>\n",
       "      <th>(30, 60]</th>\n",
       "      <td>0.769231</td>\n",
       "    </tr>\n",
       "    <tr>\n",
       "      <th rowspan=\"4\" valign=\"top\">male</th>\n",
       "      <th>(0, 10]</th>\n",
       "      <td>0.200000</td>\n",
       "    </tr>\n",
       "    <tr>\n",
       "      <th>(10, 30]</th>\n",
       "      <td>0.142857</td>\n",
       "    </tr>\n",
       "    <tr>\n",
       "      <th>(30, 60]</th>\n",
       "      <td>0.071429</td>\n",
       "    </tr>\n",
       "    <tr>\n",
       "      <th>(60, 80]</th>\n",
       "      <td>0.000000</td>\n",
       "    </tr>\n",
       "  </tbody>\n",
       "</table>\n",
       "</div>"
      ],
      "text/plain": [
       "                 Survived\n",
       "Sex    Age               \n",
       "female (0, 10]   0.500000\n",
       "       (10, 30]  0.678571\n",
       "       (30, 60]  0.769231\n",
       "male   (0, 10]   0.200000\n",
       "       (10, 30]  0.142857\n",
       "       (30, 60]  0.071429\n",
       "       (60, 80]  0.000000"
      ]
     },
     "execution_count": 85,
     "metadata": {},
     "output_type": "execute_result"
    }
   ],
   "source": [
    "import pandas as pd\n",
    "import numpy as np\n",
    "\n",
    "df = pd.read_csv('titanic.csv')\n",
    "age = pd.cut(df['Age'], [0, 10, 30, 60, 80])\n",
    "pt = pd.pivot_table(df, index = ['Sex', age], values = 'Survived')\n",
    "pt\n",
    "\n",
    "#as the dataset I have does nt have data related to person travelling alone or not,\n",
    "#I have rather considered binning by age"
   ]
  },
  {
   "cell_type": "markdown",
   "metadata": {},
   "source": [
    "__Question 129:__<br>\n",
    "Write a pandas program to create the Pivot table and find the probability of survival by class, gender, solo boarding, and the port of embarkation."
   ]
  },
  {
   "cell_type": "markdown",
   "metadata": {},
   "source": [
    "__Solution:__"
   ]
  },
  {
   "cell_type": "code",
   "execution_count": 88,
   "metadata": {
    "scrolled": false
   },
   "outputs": [
    {
     "data": {
      "text/html": [
       "<div>\n",
       "<style scoped>\n",
       "    .dataframe tbody tr th:only-of-type {\n",
       "        vertical-align: middle;\n",
       "    }\n",
       "\n",
       "    .dataframe tbody tr th {\n",
       "        vertical-align: top;\n",
       "    }\n",
       "\n",
       "    .dataframe thead th {\n",
       "        text-align: right;\n",
       "    }\n",
       "</style>\n",
       "<table border=\"1\" class=\"dataframe\">\n",
       "  <thead>\n",
       "    <tr style=\"text-align: right;\">\n",
       "      <th></th>\n",
       "      <th></th>\n",
       "      <th></th>\n",
       "      <th>Survived</th>\n",
       "    </tr>\n",
       "    <tr>\n",
       "      <th>Sex</th>\n",
       "      <th>Pclass</th>\n",
       "      <th>Age</th>\n",
       "      <th></th>\n",
       "    </tr>\n",
       "  </thead>\n",
       "  <tbody>\n",
       "    <tr>\n",
       "      <th rowspan=\"8\" valign=\"top\">female</th>\n",
       "      <th rowspan=\"2\" valign=\"top\">1</th>\n",
       "      <th>(10, 30]</th>\n",
       "      <td>1.000000</td>\n",
       "    </tr>\n",
       "    <tr>\n",
       "      <th>(30, 60]</th>\n",
       "      <td>1.000000</td>\n",
       "    </tr>\n",
       "    <tr>\n",
       "      <th rowspan=\"3\" valign=\"top\">2</th>\n",
       "      <th>(0, 10]</th>\n",
       "      <td>1.000000</td>\n",
       "    </tr>\n",
       "    <tr>\n",
       "      <th>(10, 30]</th>\n",
       "      <td>0.857143</td>\n",
       "    </tr>\n",
       "    <tr>\n",
       "      <th>(30, 60]</th>\n",
       "      <td>1.000000</td>\n",
       "    </tr>\n",
       "    <tr>\n",
       "      <th rowspan=\"3\" valign=\"top\">3</th>\n",
       "      <th>(0, 10]</th>\n",
       "      <td>0.250000</td>\n",
       "    </tr>\n",
       "    <tr>\n",
       "      <th>(10, 30]</th>\n",
       "      <td>0.555556</td>\n",
       "    </tr>\n",
       "    <tr>\n",
       "      <th>(30, 60]</th>\n",
       "      <td>0.400000</td>\n",
       "    </tr>\n",
       "    <tr>\n",
       "      <th rowspan=\"11\" valign=\"top\">male</th>\n",
       "      <th rowspan=\"3\" valign=\"top\">1</th>\n",
       "      <th>(10, 30]</th>\n",
       "      <td>0.250000</td>\n",
       "    </tr>\n",
       "    <tr>\n",
       "      <th>(30, 60]</th>\n",
       "      <td>0.000000</td>\n",
       "    </tr>\n",
       "    <tr>\n",
       "      <th>(60, 80]</th>\n",
       "      <td>0.000000</td>\n",
       "    </tr>\n",
       "    <tr>\n",
       "      <th rowspan=\"4\" valign=\"top\">2</th>\n",
       "      <th>(0, 10]</th>\n",
       "      <td>1.000000</td>\n",
       "    </tr>\n",
       "    <tr>\n",
       "      <th>(10, 30]</th>\n",
       "      <td>0.000000</td>\n",
       "    </tr>\n",
       "    <tr>\n",
       "      <th>(30, 60]</th>\n",
       "      <td>0.125000</td>\n",
       "    </tr>\n",
       "    <tr>\n",
       "      <th>(60, 80]</th>\n",
       "      <td>0.000000</td>\n",
       "    </tr>\n",
       "    <tr>\n",
       "      <th rowspan=\"4\" valign=\"top\">3</th>\n",
       "      <th>(0, 10]</th>\n",
       "      <td>0.000000</td>\n",
       "    </tr>\n",
       "    <tr>\n",
       "      <th>(10, 30]</th>\n",
       "      <td>0.148148</td>\n",
       "    </tr>\n",
       "    <tr>\n",
       "      <th>(30, 60]</th>\n",
       "      <td>0.090909</td>\n",
       "    </tr>\n",
       "    <tr>\n",
       "      <th>(60, 80]</th>\n",
       "      <td>0.000000</td>\n",
       "    </tr>\n",
       "  </tbody>\n",
       "</table>\n",
       "</div>"
      ],
      "text/plain": [
       "                        Survived\n",
       "Sex    Pclass Age               \n",
       "female 1      (10, 30]  1.000000\n",
       "              (30, 60]  1.000000\n",
       "       2      (0, 10]   1.000000\n",
       "              (10, 30]  0.857143\n",
       "              (30, 60]  1.000000\n",
       "       3      (0, 10]   0.250000\n",
       "              (10, 30]  0.555556\n",
       "              (30, 60]  0.400000\n",
       "male   1      (10, 30]  0.250000\n",
       "              (30, 60]  0.000000\n",
       "              (60, 80]  0.000000\n",
       "       2      (0, 10]   1.000000\n",
       "              (10, 30]  0.000000\n",
       "              (30, 60]  0.125000\n",
       "              (60, 80]  0.000000\n",
       "       3      (0, 10]   0.000000\n",
       "              (10, 30]  0.148148\n",
       "              (30, 60]  0.090909\n",
       "              (60, 80]  0.000000"
      ]
     },
     "execution_count": 88,
     "metadata": {},
     "output_type": "execute_result"
    }
   ],
   "source": [
    "import pandas as pd\n",
    "import numpy as np\n",
    "\n",
    "df = pd.read_csv('titanic.csv')\n",
    "age = pd.cut(df['Age'], [0, 10, 30, 60, 80])\n",
    "pt = pd.pivot_table(df, index = ['Sex', 'Pclass', age], values = ['Survived'])\n",
    "\n",
    "pt\n",
    "\n",
    "#as solo boarding data is not available, I have considered binned ages again"
   ]
  },
  {
   "cell_type": "markdown",
   "metadata": {},
   "source": [
    "__Question 130:__<br>\n",
    "Write a pandas program to get current date, oldest date and number of days between Current date and the oldest date of Ufo dataset."
   ]
  },
  {
   "cell_type": "markdown",
   "metadata": {},
   "source": [
    "__Solution:__"
   ]
  },
  {
   "cell_type": "code",
   "execution_count": 105,
   "metadata": {},
   "outputs": [
    {
     "name": "stdout",
     "output_type": "stream",
     "text": [
      "\n",
      "Current date:\n",
      "2000-12-31 23:59:00\n",
      "\n",
      "Oldest date:\n",
      "1930-06-01 22:00:00\n",
      "\n",
      "Number of days between Current date and oldest date:\n",
      "25781\n"
     ]
    }
   ],
   "source": [
    "import pandas as pd\n",
    "import numpy as np\n",
    "\n",
    "df = pd.read_csv('uforeports.csv')\n",
    "df['Time'] = df['Time'].astype('datetime64[ns]')\n",
    "print(\"\\nCurrent date:\")\n",
    "print(df['Time'].max())\n",
    "print(\"\\nOldest date:\")\n",
    "print(df['Time'].min())\n",
    "print(\"\\nNumber of days between Current date and oldest date:\")\n",
    "print((df['Time'].max() - df['Time'].min()).days)\n"
   ]
  },
  {
   "cell_type": "markdown",
   "metadata": {},
   "source": [
    "__Question 131:__<br>\n",
    "Write a pandas program to get all sighting days of the unidentified flying object (ufo) between 1950-10-10 and 1960-10- 10."
   ]
  },
  {
   "cell_type": "markdown",
   "metadata": {},
   "source": [
    "__Solution:__"
   ]
  },
  {
   "cell_type": "code",
   "execution_count": 132,
   "metadata": {},
   "outputs": [
    {
     "data": {
      "text/html": [
       "<div>\n",
       "<style scoped>\n",
       "    .dataframe tbody tr th:only-of-type {\n",
       "        vertical-align: middle;\n",
       "    }\n",
       "\n",
       "    .dataframe tbody tr th {\n",
       "        vertical-align: top;\n",
       "    }\n",
       "\n",
       "    .dataframe thead th {\n",
       "        text-align: right;\n",
       "    }\n",
       "</style>\n",
       "<table border=\"1\" class=\"dataframe\">\n",
       "  <thead>\n",
       "    <tr style=\"text-align: right;\">\n",
       "      <th></th>\n",
       "      <th>City</th>\n",
       "      <th>Colors Reported</th>\n",
       "      <th>Shape Reported</th>\n",
       "      <th>State</th>\n",
       "      <th>Time</th>\n",
       "    </tr>\n",
       "  </thead>\n",
       "  <tbody>\n",
       "    <tr>\n",
       "      <th>147</th>\n",
       "      <td>Sandy Hook</td>\n",
       "      <td>NaN</td>\n",
       "      <td>TRIANGLE</td>\n",
       "      <td>NJ</td>\n",
       "      <td>1950-10-15 15:00:00</td>\n",
       "    </tr>\n",
       "    <tr>\n",
       "      <th>148</th>\n",
       "      <td>Half Moon Bay</td>\n",
       "      <td>NaN</td>\n",
       "      <td>OTHER</td>\n",
       "      <td>CA</td>\n",
       "      <td>1950-12-12 22:00:00</td>\n",
       "    </tr>\n",
       "    <tr>\n",
       "      <th>149</th>\n",
       "      <td>Palm Springs</td>\n",
       "      <td>NaN</td>\n",
       "      <td>CIGAR</td>\n",
       "      <td>CA</td>\n",
       "      <td>1951-01-20 04:30:00</td>\n",
       "    </tr>\n",
       "    <tr>\n",
       "      <th>150</th>\n",
       "      <td>Thompsonville</td>\n",
       "      <td>NaN</td>\n",
       "      <td>DISK</td>\n",
       "      <td>CT</td>\n",
       "      <td>1951-02-03 22:00:00</td>\n",
       "    </tr>\n",
       "    <tr>\n",
       "      <th>151</th>\n",
       "      <td>Los Angeles</td>\n",
       "      <td>NaN</td>\n",
       "      <td>DISK</td>\n",
       "      <td>CA</td>\n",
       "      <td>1951-02-15 11:00:00</td>\n",
       "    </tr>\n",
       "    <tr>\n",
       "      <th>152</th>\n",
       "      <td>Irving</td>\n",
       "      <td>BLUE</td>\n",
       "      <td>DISK</td>\n",
       "      <td>KS</td>\n",
       "      <td>1951-04-15 00:30:00</td>\n",
       "    </tr>\n",
       "    <tr>\n",
       "      <th>153</th>\n",
       "      <td>Fort Sill</td>\n",
       "      <td>NaN</td>\n",
       "      <td>OVAL</td>\n",
       "      <td>OK</td>\n",
       "      <td>1951-05-15 03:00:00</td>\n",
       "    </tr>\n",
       "    <tr>\n",
       "      <th>154</th>\n",
       "      <td>Oklahoma</td>\n",
       "      <td>NaN</td>\n",
       "      <td>CIGAR</td>\n",
       "      <td>OK</td>\n",
       "      <td>1951-06-01 19:00:00</td>\n",
       "    </tr>\n",
       "    <tr>\n",
       "      <th>155</th>\n",
       "      <td>Jasper</td>\n",
       "      <td>NaN</td>\n",
       "      <td>OVAL</td>\n",
       "      <td>NC</td>\n",
       "      <td>1951-06-03 13:00:00</td>\n",
       "    </tr>\n",
       "    <tr>\n",
       "      <th>156</th>\n",
       "      <td>Mount Pinos</td>\n",
       "      <td>NaN</td>\n",
       "      <td>DISK</td>\n",
       "      <td>CA</td>\n",
       "      <td>1951-06-06 02:00:00</td>\n",
       "    </tr>\n",
       "    <tr>\n",
       "      <th>157</th>\n",
       "      <td>Greenville</td>\n",
       "      <td>GREEN</td>\n",
       "      <td>DISK</td>\n",
       "      <td>MS</td>\n",
       "      <td>1951-06-15 20:30:00</td>\n",
       "    </tr>\n",
       "    <tr>\n",
       "      <th>158</th>\n",
       "      <td>Jackson Heights</td>\n",
       "      <td>NaN</td>\n",
       "      <td>DISK</td>\n",
       "      <td>NY</td>\n",
       "      <td>1951-06-30 07:00:00</td>\n",
       "    </tr>\n",
       "    <tr>\n",
       "      <th>159</th>\n",
       "      <td>Birmingham</td>\n",
       "      <td>NaN</td>\n",
       "      <td>NaN</td>\n",
       "      <td>AL</td>\n",
       "      <td>1951-06-30 19:00:00</td>\n",
       "    </tr>\n",
       "    <tr>\n",
       "      <th>160</th>\n",
       "      <td>Otis Orchards</td>\n",
       "      <td>NaN</td>\n",
       "      <td>DISK</td>\n",
       "      <td>WA</td>\n",
       "      <td>1951-07-01 03:00:00</td>\n",
       "    </tr>\n",
       "    <tr>\n",
       "      <th>161</th>\n",
       "      <td>Atlanta</td>\n",
       "      <td>NaN</td>\n",
       "      <td>NaN</td>\n",
       "      <td>GA</td>\n",
       "      <td>1951-07-01 14:00:00</td>\n",
       "    </tr>\n",
       "    <tr>\n",
       "      <th>162</th>\n",
       "      <td>Calaveras County</td>\n",
       "      <td>NaN</td>\n",
       "      <td>DISK</td>\n",
       "      <td>CA</td>\n",
       "      <td>1951-07-03 03:00:00</td>\n",
       "    </tr>\n",
       "    <tr>\n",
       "      <th>163</th>\n",
       "      <td>Green River</td>\n",
       "      <td>GREEN</td>\n",
       "      <td>SPHERE</td>\n",
       "      <td>WY</td>\n",
       "      <td>1951-07-03 12:00:00</td>\n",
       "    </tr>\n",
       "    <tr>\n",
       "      <th>164</th>\n",
       "      <td>Provo</td>\n",
       "      <td>BLUE</td>\n",
       "      <td>DISK</td>\n",
       "      <td>UT</td>\n",
       "      <td>1951-07-10 23:30:00</td>\n",
       "    </tr>\n",
       "    <tr>\n",
       "      <th>165</th>\n",
       "      <td>Spokane Valley</td>\n",
       "      <td>NaN</td>\n",
       "      <td>SPHERE</td>\n",
       "      <td>WA</td>\n",
       "      <td>1951-07-15 14:00:00</td>\n",
       "    </tr>\n",
       "    <tr>\n",
       "      <th>166</th>\n",
       "      <td>Sunland</td>\n",
       "      <td>NaN</td>\n",
       "      <td>CIRCLE</td>\n",
       "      <td>CA</td>\n",
       "      <td>1951-08-10 01:00:00</td>\n",
       "    </tr>\n",
       "    <tr>\n",
       "      <th>167</th>\n",
       "      <td>Altoona</td>\n",
       "      <td>NaN</td>\n",
       "      <td>DISK</td>\n",
       "      <td>PA</td>\n",
       "      <td>1951-08-15 13:00:00</td>\n",
       "    </tr>\n",
       "    <tr>\n",
       "      <th>168</th>\n",
       "      <td>Jacksonville</td>\n",
       "      <td>NaN</td>\n",
       "      <td>DISK</td>\n",
       "      <td>FL</td>\n",
       "      <td>1951-10-15 20:00:00</td>\n",
       "    </tr>\n",
       "    <tr>\n",
       "      <th>169</th>\n",
       "      <td>Holloman AFB</td>\n",
       "      <td>NaN</td>\n",
       "      <td>CIRCLE</td>\n",
       "      <td>NM</td>\n",
       "      <td>1951-11-15 06:00:00</td>\n",
       "    </tr>\n",
       "    <tr>\n",
       "      <th>170</th>\n",
       "      <td>Salt Lake City</td>\n",
       "      <td>NaN</td>\n",
       "      <td>NaN</td>\n",
       "      <td>UT</td>\n",
       "      <td>1952-01-01 00:00:00</td>\n",
       "    </tr>\n",
       "    <tr>\n",
       "      <th>171</th>\n",
       "      <td>Binghamton</td>\n",
       "      <td>NaN</td>\n",
       "      <td>DISK</td>\n",
       "      <td>NY</td>\n",
       "      <td>1952-02-10 21:00:00</td>\n",
       "    </tr>\n",
       "    <tr>\n",
       "      <th>172</th>\n",
       "      <td>Nellis AFB</td>\n",
       "      <td>NaN</td>\n",
       "      <td>DISK</td>\n",
       "      <td>NV</td>\n",
       "      <td>1952-02-17 18:00:00</td>\n",
       "    </tr>\n",
       "    <tr>\n",
       "      <th>173</th>\n",
       "      <td>Chicago</td>\n",
       "      <td>NaN</td>\n",
       "      <td>DISK</td>\n",
       "      <td>IL</td>\n",
       "      <td>1952-04-15 13:00:00</td>\n",
       "    </tr>\n",
       "    <tr>\n",
       "      <th>174</th>\n",
       "      <td>Greenville</td>\n",
       "      <td>ORANGE</td>\n",
       "      <td>TRIANGLE</td>\n",
       "      <td>TX</td>\n",
       "      <td>1952-04-15 16:00:00</td>\n",
       "    </tr>\n",
       "    <tr>\n",
       "      <th>175</th>\n",
       "      <td>Pittsburgh</td>\n",
       "      <td>NaN</td>\n",
       "      <td>CYLINDER</td>\n",
       "      <td>PA</td>\n",
       "      <td>1952-05-15 10:15:00</td>\n",
       "    </tr>\n",
       "    <tr>\n",
       "      <th>176</th>\n",
       "      <td>Allyn</td>\n",
       "      <td>NaN</td>\n",
       "      <td>DISK</td>\n",
       "      <td>WA</td>\n",
       "      <td>1952-05-15 20:00:00</td>\n",
       "    </tr>\n",
       "    <tr>\n",
       "      <th>...</th>\n",
       "      <td>...</td>\n",
       "      <td>...</td>\n",
       "      <td>...</td>\n",
       "      <td>...</td>\n",
       "      <td>...</td>\n",
       "    </tr>\n",
       "    <tr>\n",
       "      <th>612</th>\n",
       "      <td>Portland</td>\n",
       "      <td>NaN</td>\n",
       "      <td>DISK</td>\n",
       "      <td>OR</td>\n",
       "      <td>1960-06-30 20:30:00</td>\n",
       "    </tr>\n",
       "    <tr>\n",
       "      <th>613</th>\n",
       "      <td>NaN</td>\n",
       "      <td>NaN</td>\n",
       "      <td>DISK</td>\n",
       "      <td>NV</td>\n",
       "      <td>1960-07-01 12:00:00</td>\n",
       "    </tr>\n",
       "    <tr>\n",
       "      <th>614</th>\n",
       "      <td>Stevens</td>\n",
       "      <td>NaN</td>\n",
       "      <td>OTHER</td>\n",
       "      <td>MN</td>\n",
       "      <td>1960-07-01 12:00:00</td>\n",
       "    </tr>\n",
       "    <tr>\n",
       "      <th>615</th>\n",
       "      <td>Portland</td>\n",
       "      <td>NaN</td>\n",
       "      <td>NaN</td>\n",
       "      <td>OR</td>\n",
       "      <td>1960-07-01 20:00:00</td>\n",
       "    </tr>\n",
       "    <tr>\n",
       "      <th>616</th>\n",
       "      <td>New Berlin</td>\n",
       "      <td>NaN</td>\n",
       "      <td>CIRCLE</td>\n",
       "      <td>WI</td>\n",
       "      <td>1960-07-04 21:30:00</td>\n",
       "    </tr>\n",
       "    <tr>\n",
       "      <th>617</th>\n",
       "      <td>Springdale</td>\n",
       "      <td>NaN</td>\n",
       "      <td>FORMATION</td>\n",
       "      <td>AR</td>\n",
       "      <td>1960-07-07 22:00:00</td>\n",
       "    </tr>\n",
       "    <tr>\n",
       "      <th>618</th>\n",
       "      <td>La Verne</td>\n",
       "      <td>ORANGE YELLOW</td>\n",
       "      <td>CIRCLE</td>\n",
       "      <td>CA</td>\n",
       "      <td>1960-07-15 01:00:00</td>\n",
       "    </tr>\n",
       "    <tr>\n",
       "      <th>619</th>\n",
       "      <td>Pacific Coast Highway</td>\n",
       "      <td>NaN</td>\n",
       "      <td>NaN</td>\n",
       "      <td>CA</td>\n",
       "      <td>1960-07-15 10:00:00</td>\n",
       "    </tr>\n",
       "    <tr>\n",
       "      <th>620</th>\n",
       "      <td>Goldsboro</td>\n",
       "      <td>NaN</td>\n",
       "      <td>SPHERE</td>\n",
       "      <td>NC</td>\n",
       "      <td>1960-07-15 16:00:00</td>\n",
       "    </tr>\n",
       "    <tr>\n",
       "      <th>621</th>\n",
       "      <td>Amarillo</td>\n",
       "      <td>NaN</td>\n",
       "      <td>DIAMOND</td>\n",
       "      <td>TX</td>\n",
       "      <td>1960-07-15 21:00:00</td>\n",
       "    </tr>\n",
       "    <tr>\n",
       "      <th>622</th>\n",
       "      <td>Upland</td>\n",
       "      <td>NaN</td>\n",
       "      <td>CIRCLE</td>\n",
       "      <td>CA</td>\n",
       "      <td>1960-07-30 21:00:00</td>\n",
       "    </tr>\n",
       "    <tr>\n",
       "      <th>623</th>\n",
       "      <td>Allentown</td>\n",
       "      <td>NaN</td>\n",
       "      <td>CYLINDER</td>\n",
       "      <td>PA</td>\n",
       "      <td>1960-08-01 12:00:00</td>\n",
       "    </tr>\n",
       "    <tr>\n",
       "      <th>624</th>\n",
       "      <td>Taftville</td>\n",
       "      <td>NaN</td>\n",
       "      <td>DISK</td>\n",
       "      <td>CT</td>\n",
       "      <td>1960-08-01 15:00:00</td>\n",
       "    </tr>\n",
       "    <tr>\n",
       "      <th>625</th>\n",
       "      <td>Boston</td>\n",
       "      <td>NaN</td>\n",
       "      <td>DISK</td>\n",
       "      <td>MA</td>\n",
       "      <td>1960-08-01 18:00:00</td>\n",
       "    </tr>\n",
       "    <tr>\n",
       "      <th>626</th>\n",
       "      <td>Carteret</td>\n",
       "      <td>NaN</td>\n",
       "      <td>CIGAR</td>\n",
       "      <td>NJ</td>\n",
       "      <td>1960-08-01 18:00:00</td>\n",
       "    </tr>\n",
       "    <tr>\n",
       "      <th>627</th>\n",
       "      <td>Crystal</td>\n",
       "      <td>NaN</td>\n",
       "      <td>CIRCLE</td>\n",
       "      <td>WI</td>\n",
       "      <td>1960-08-01 23:00:00</td>\n",
       "    </tr>\n",
       "    <tr>\n",
       "      <th>628</th>\n",
       "      <td>Cherokee</td>\n",
       "      <td>NaN</td>\n",
       "      <td>FIREBALL</td>\n",
       "      <td>NC</td>\n",
       "      <td>1960-08-02 23:00:00</td>\n",
       "    </tr>\n",
       "    <tr>\n",
       "      <th>629</th>\n",
       "      <td>Belmont</td>\n",
       "      <td>NaN</td>\n",
       "      <td>CIRCLE</td>\n",
       "      <td>NY</td>\n",
       "      <td>1960-08-10 01:00:00</td>\n",
       "    </tr>\n",
       "    <tr>\n",
       "      <th>630</th>\n",
       "      <td>Watchung</td>\n",
       "      <td>RED</td>\n",
       "      <td>CIGAR</td>\n",
       "      <td>NJ</td>\n",
       "      <td>1960-08-10 18:00:00</td>\n",
       "    </tr>\n",
       "    <tr>\n",
       "      <th>631</th>\n",
       "      <td>Cottonwood</td>\n",
       "      <td>NaN</td>\n",
       "      <td>NaN</td>\n",
       "      <td>WA</td>\n",
       "      <td>1960-08-13 19:00:00</td>\n",
       "    </tr>\n",
       "    <tr>\n",
       "      <th>632</th>\n",
       "      <td>Saugus</td>\n",
       "      <td>NaN</td>\n",
       "      <td>CIRCLE</td>\n",
       "      <td>MA</td>\n",
       "      <td>1960-08-15 15:00:00</td>\n",
       "    </tr>\n",
       "    <tr>\n",
       "      <th>633</th>\n",
       "      <td>Framingham</td>\n",
       "      <td>NaN</td>\n",
       "      <td>OVAL</td>\n",
       "      <td>MA</td>\n",
       "      <td>1960-08-15 16:00:00</td>\n",
       "    </tr>\n",
       "    <tr>\n",
       "      <th>634</th>\n",
       "      <td>Long Beach</td>\n",
       "      <td>NaN</td>\n",
       "      <td>OTHER</td>\n",
       "      <td>CA</td>\n",
       "      <td>1960-08-17 21:10:00</td>\n",
       "    </tr>\n",
       "    <tr>\n",
       "      <th>635</th>\n",
       "      <td>Pittsburgh</td>\n",
       "      <td>NaN</td>\n",
       "      <td>SPHERE</td>\n",
       "      <td>PA</td>\n",
       "      <td>1960-08-20 21:30:00</td>\n",
       "    </tr>\n",
       "    <tr>\n",
       "      <th>636</th>\n",
       "      <td>Dickinson</td>\n",
       "      <td>NaN</td>\n",
       "      <td>CIRCLE</td>\n",
       "      <td>ND</td>\n",
       "      <td>1960-08-28 21:00:00</td>\n",
       "    </tr>\n",
       "    <tr>\n",
       "      <th>637</th>\n",
       "      <td>Buffalo</td>\n",
       "      <td>NaN</td>\n",
       "      <td>OVAL</td>\n",
       "      <td>NY</td>\n",
       "      <td>1960-09-05 21:00:00</td>\n",
       "    </tr>\n",
       "    <tr>\n",
       "      <th>638</th>\n",
       "      <td>Wichita</td>\n",
       "      <td>NaN</td>\n",
       "      <td>OVAL</td>\n",
       "      <td>KS</td>\n",
       "      <td>1960-09-10 10:00:00</td>\n",
       "    </tr>\n",
       "    <tr>\n",
       "      <th>639</th>\n",
       "      <td>Kingsport</td>\n",
       "      <td>ORANGE</td>\n",
       "      <td>CIRCLE</td>\n",
       "      <td>TN</td>\n",
       "      <td>1960-09-15 19:00:00</td>\n",
       "    </tr>\n",
       "    <tr>\n",
       "      <th>640</th>\n",
       "      <td>Seattle</td>\n",
       "      <td>NaN</td>\n",
       "      <td>DISK</td>\n",
       "      <td>WA</td>\n",
       "      <td>1960-09-15 20:30:00</td>\n",
       "    </tr>\n",
       "    <tr>\n",
       "      <th>641</th>\n",
       "      <td>Susanville</td>\n",
       "      <td>NaN</td>\n",
       "      <td>NaN</td>\n",
       "      <td>CA</td>\n",
       "      <td>1960-09-15 21:00:00</td>\n",
       "    </tr>\n",
       "  </tbody>\n",
       "</table>\n",
       "<p>495 rows × 5 columns</p>\n",
       "</div>"
      ],
      "text/plain": [
       "                      City Colors Reported Shape Reported State  \\\n",
       "147             Sandy Hook             NaN       TRIANGLE    NJ   \n",
       "148          Half Moon Bay             NaN          OTHER    CA   \n",
       "149           Palm Springs             NaN          CIGAR    CA   \n",
       "150          Thompsonville             NaN           DISK    CT   \n",
       "151            Los Angeles             NaN           DISK    CA   \n",
       "152                 Irving            BLUE           DISK    KS   \n",
       "153              Fort Sill             NaN           OVAL    OK   \n",
       "154               Oklahoma             NaN          CIGAR    OK   \n",
       "155                 Jasper             NaN           OVAL    NC   \n",
       "156            Mount Pinos             NaN           DISK    CA   \n",
       "157             Greenville           GREEN           DISK    MS   \n",
       "158        Jackson Heights             NaN           DISK    NY   \n",
       "159             Birmingham             NaN            NaN    AL   \n",
       "160          Otis Orchards             NaN           DISK    WA   \n",
       "161                Atlanta             NaN            NaN    GA   \n",
       "162       Calaveras County             NaN           DISK    CA   \n",
       "163            Green River           GREEN         SPHERE    WY   \n",
       "164                  Provo            BLUE           DISK    UT   \n",
       "165         Spokane Valley             NaN         SPHERE    WA   \n",
       "166                Sunland             NaN         CIRCLE    CA   \n",
       "167                Altoona             NaN           DISK    PA   \n",
       "168           Jacksonville             NaN           DISK    FL   \n",
       "169           Holloman AFB             NaN         CIRCLE    NM   \n",
       "170         Salt Lake City             NaN            NaN    UT   \n",
       "171             Binghamton             NaN           DISK    NY   \n",
       "172             Nellis AFB             NaN           DISK    NV   \n",
       "173                Chicago             NaN           DISK    IL   \n",
       "174             Greenville          ORANGE       TRIANGLE    TX   \n",
       "175             Pittsburgh             NaN       CYLINDER    PA   \n",
       "176                  Allyn             NaN           DISK    WA   \n",
       "..                     ...             ...            ...   ...   \n",
       "612               Portland             NaN           DISK    OR   \n",
       "613                    NaN             NaN           DISK    NV   \n",
       "614                Stevens             NaN          OTHER    MN   \n",
       "615               Portland             NaN            NaN    OR   \n",
       "616             New Berlin             NaN         CIRCLE    WI   \n",
       "617             Springdale             NaN      FORMATION    AR   \n",
       "618               La Verne   ORANGE YELLOW         CIRCLE    CA   \n",
       "619  Pacific Coast Highway             NaN            NaN    CA   \n",
       "620              Goldsboro             NaN         SPHERE    NC   \n",
       "621               Amarillo             NaN        DIAMOND    TX   \n",
       "622                 Upland             NaN         CIRCLE    CA   \n",
       "623              Allentown             NaN       CYLINDER    PA   \n",
       "624              Taftville             NaN           DISK    CT   \n",
       "625                 Boston             NaN           DISK    MA   \n",
       "626               Carteret             NaN          CIGAR    NJ   \n",
       "627                Crystal             NaN         CIRCLE    WI   \n",
       "628               Cherokee             NaN       FIREBALL    NC   \n",
       "629                Belmont             NaN         CIRCLE    NY   \n",
       "630               Watchung             RED          CIGAR    NJ   \n",
       "631             Cottonwood             NaN            NaN    WA   \n",
       "632                 Saugus             NaN         CIRCLE    MA   \n",
       "633             Framingham             NaN           OVAL    MA   \n",
       "634             Long Beach             NaN          OTHER    CA   \n",
       "635             Pittsburgh             NaN         SPHERE    PA   \n",
       "636              Dickinson             NaN         CIRCLE    ND   \n",
       "637                Buffalo             NaN           OVAL    NY   \n",
       "638                Wichita             NaN           OVAL    KS   \n",
       "639              Kingsport          ORANGE         CIRCLE    TN   \n",
       "640                Seattle             NaN           DISK    WA   \n",
       "641             Susanville             NaN            NaN    CA   \n",
       "\n",
       "                   Time  \n",
       "147 1950-10-15 15:00:00  \n",
       "148 1950-12-12 22:00:00  \n",
       "149 1951-01-20 04:30:00  \n",
       "150 1951-02-03 22:00:00  \n",
       "151 1951-02-15 11:00:00  \n",
       "152 1951-04-15 00:30:00  \n",
       "153 1951-05-15 03:00:00  \n",
       "154 1951-06-01 19:00:00  \n",
       "155 1951-06-03 13:00:00  \n",
       "156 1951-06-06 02:00:00  \n",
       "157 1951-06-15 20:30:00  \n",
       "158 1951-06-30 07:00:00  \n",
       "159 1951-06-30 19:00:00  \n",
       "160 1951-07-01 03:00:00  \n",
       "161 1951-07-01 14:00:00  \n",
       "162 1951-07-03 03:00:00  \n",
       "163 1951-07-03 12:00:00  \n",
       "164 1951-07-10 23:30:00  \n",
       "165 1951-07-15 14:00:00  \n",
       "166 1951-08-10 01:00:00  \n",
       "167 1951-08-15 13:00:00  \n",
       "168 1951-10-15 20:00:00  \n",
       "169 1951-11-15 06:00:00  \n",
       "170 1952-01-01 00:00:00  \n",
       "171 1952-02-10 21:00:00  \n",
       "172 1952-02-17 18:00:00  \n",
       "173 1952-04-15 13:00:00  \n",
       "174 1952-04-15 16:00:00  \n",
       "175 1952-05-15 10:15:00  \n",
       "176 1952-05-15 20:00:00  \n",
       "..                  ...  \n",
       "612 1960-06-30 20:30:00  \n",
       "613 1960-07-01 12:00:00  \n",
       "614 1960-07-01 12:00:00  \n",
       "615 1960-07-01 20:00:00  \n",
       "616 1960-07-04 21:30:00  \n",
       "617 1960-07-07 22:00:00  \n",
       "618 1960-07-15 01:00:00  \n",
       "619 1960-07-15 10:00:00  \n",
       "620 1960-07-15 16:00:00  \n",
       "621 1960-07-15 21:00:00  \n",
       "622 1960-07-30 21:00:00  \n",
       "623 1960-08-01 12:00:00  \n",
       "624 1960-08-01 15:00:00  \n",
       "625 1960-08-01 18:00:00  \n",
       "626 1960-08-01 18:00:00  \n",
       "627 1960-08-01 23:00:00  \n",
       "628 1960-08-02 23:00:00  \n",
       "629 1960-08-10 01:00:00  \n",
       "630 1960-08-10 18:00:00  \n",
       "631 1960-08-13 19:00:00  \n",
       "632 1960-08-15 15:00:00  \n",
       "633 1960-08-15 16:00:00  \n",
       "634 1960-08-17 21:10:00  \n",
       "635 1960-08-20 21:30:00  \n",
       "636 1960-08-28 21:00:00  \n",
       "637 1960-09-05 21:00:00  \n",
       "638 1960-09-10 10:00:00  \n",
       "639 1960-09-15 19:00:00  \n",
       "640 1960-09-15 20:30:00  \n",
       "641 1960-09-15 21:00:00  \n",
       "\n",
       "[495 rows x 5 columns]"
      ]
     },
     "execution_count": 132,
     "metadata": {},
     "output_type": "execute_result"
    }
   ],
   "source": [
    "import pandas as pd\n",
    "import numpy as np\n",
    "\n",
    "df = pd.read_csv('uforeports.csv')\n",
    "df['Time'] = df['Time'].astype('datetime64')\n",
    "\n",
    "df.loc[(df['Time'] > '1950-10-10') & (df['Time'] < '1960-10-10')]"
   ]
  },
  {
   "cell_type": "markdown",
   "metadata": {},
   "source": [
    "__Question 132:__<br>\n",
    "Write a Pandas program to extract the year, month, day, hour,  minute, second, and weekday from unidentified flying object (UFO) reporting date."
   ]
  },
  {
   "cell_type": "markdown",
   "metadata": {},
   "source": [
    "__Solution:__"
   ]
  },
  {
   "cell_type": "code",
   "execution_count": 155,
   "metadata": {},
   "outputs": [
    {
     "data": {
      "text/html": [
       "<div>\n",
       "<style scoped>\n",
       "    .dataframe tbody tr th:only-of-type {\n",
       "        vertical-align: middle;\n",
       "    }\n",
       "\n",
       "    .dataframe tbody tr th {\n",
       "        vertical-align: top;\n",
       "    }\n",
       "\n",
       "    .dataframe thead th {\n",
       "        text-align: right;\n",
       "    }\n",
       "</style>\n",
       "<table border=\"1\" class=\"dataframe\">\n",
       "  <thead>\n",
       "    <tr style=\"text-align: right;\">\n",
       "      <th></th>\n",
       "      <th>Time</th>\n",
       "      <th>Year</th>\n",
       "      <th>Month</th>\n",
       "      <th>Day</th>\n",
       "      <th>Hour</th>\n",
       "      <th>Minute</th>\n",
       "      <th>Second</th>\n",
       "      <th>Day Name</th>\n",
       "    </tr>\n",
       "  </thead>\n",
       "  <tbody>\n",
       "    <tr>\n",
       "      <th>0</th>\n",
       "      <td>1930-06-01 22:00:00</td>\n",
       "      <td>1930</td>\n",
       "      <td>6</td>\n",
       "      <td>1</td>\n",
       "      <td>22</td>\n",
       "      <td>0</td>\n",
       "      <td>0</td>\n",
       "      <td>Sunday</td>\n",
       "    </tr>\n",
       "    <tr>\n",
       "      <th>1</th>\n",
       "      <td>1930-06-30 20:00:00</td>\n",
       "      <td>1930</td>\n",
       "      <td>6</td>\n",
       "      <td>30</td>\n",
       "      <td>20</td>\n",
       "      <td>0</td>\n",
       "      <td>0</td>\n",
       "      <td>Monday</td>\n",
       "    </tr>\n",
       "    <tr>\n",
       "      <th>2</th>\n",
       "      <td>1931-02-15 14:00:00</td>\n",
       "      <td>1931</td>\n",
       "      <td>2</td>\n",
       "      <td>15</td>\n",
       "      <td>14</td>\n",
       "      <td>0</td>\n",
       "      <td>0</td>\n",
       "      <td>Sunday</td>\n",
       "    </tr>\n",
       "    <tr>\n",
       "      <th>3</th>\n",
       "      <td>1931-06-01 13:00:00</td>\n",
       "      <td>1931</td>\n",
       "      <td>6</td>\n",
       "      <td>1</td>\n",
       "      <td>13</td>\n",
       "      <td>0</td>\n",
       "      <td>0</td>\n",
       "      <td>Monday</td>\n",
       "    </tr>\n",
       "    <tr>\n",
       "      <th>4</th>\n",
       "      <td>1933-04-18 19:00:00</td>\n",
       "      <td>1933</td>\n",
       "      <td>4</td>\n",
       "      <td>18</td>\n",
       "      <td>19</td>\n",
       "      <td>0</td>\n",
       "      <td>0</td>\n",
       "      <td>Tuesday</td>\n",
       "    </tr>\n",
       "  </tbody>\n",
       "</table>\n",
       "</div>"
      ],
      "text/plain": [
       "                 Time  Year  Month  Day  Hour  Minute  Second Day Name\n",
       "0 1930-06-01 22:00:00  1930      6    1    22       0       0   Sunday\n",
       "1 1930-06-30 20:00:00  1930      6   30    20       0       0   Monday\n",
       "2 1931-02-15 14:00:00  1931      2   15    14       0       0   Sunday\n",
       "3 1931-06-01 13:00:00  1931      6    1    13       0       0   Monday\n",
       "4 1933-04-18 19:00:00  1933      4   18    19       0       0  Tuesday"
      ]
     },
     "execution_count": 155,
     "metadata": {},
     "output_type": "execute_result"
    }
   ],
   "source": [
    "import pandas as pd\n",
    "import numpy as np\n",
    "\n",
    "df = pd.read_csv('uforeports.csv')\n",
    "df['Time'] = df['Time'].astype('datetime64')\n",
    "\n",
    "nDf = pd.DataFrame(df['Time'], columns = ['Time'])\n",
    "nDf['Year'] = df['Time'].dt.year\n",
    "nDf['Month'] = df['Time'].dt.month\n",
    "nDf['Day'] = df['Time'].dt.day\n",
    "nDf['Hour'] = df['Time'].dt.hour\n",
    "nDf['Minute'] = df['Time'].dt.minute\n",
    "nDf['Second'] = df['Time'].dt.second\n",
    "nDf['Day Name'] = df['Time'].dt.weekday_name\n",
    "nDf.head()\n",
    "    "
   ]
  },
  {
   "cell_type": "markdown",
   "metadata": {},
   "source": [
    "__Question 133:__<br>\n",
    "Write a pandas program to count year-country wise frequency of reporting dates of the unidentified flying object(UFO)."
   ]
  },
  {
   "cell_type": "markdown",
   "metadata": {},
   "source": [
    "__Solution:__"
   ]
  },
  {
   "cell_type": "code",
   "execution_count": 1,
   "metadata": {},
   "outputs": [
    {
     "data": {
      "text/plain": [
       "Year  City                    \n",
       "1930  Ithaca                      1\n",
       "      Willingboro                 1\n",
       "1931  Abilene                     1\n",
       "      Holyoke                     1\n",
       "1933  New York Worlds Fair        1\n",
       "1934  Valley City                 1\n",
       "1935  Crater Lake                 1\n",
       "1936  Alma                        1\n",
       "      Eklutna                     1\n",
       "1937  Fontana                     1\n",
       "      Hubbard                     1\n",
       "1939  Belton                      1\n",
       "      Keokuk                      1\n",
       "      Waterloo                    1\n",
       "1941  Forest Home                 1\n",
       "      Ludington                   1\n",
       "1942  Hapeville                   1\n",
       "      Los Angeles                 1\n",
       "      Oneida                      1\n",
       "1943  Bering Sea                  1\n",
       "      Nebraska                    1\n",
       "      Owensboro                   1\n",
       "1944  Clovis                      1\n",
       "      Ft. Duschene                1\n",
       "      Los Alamos                  1\n",
       "      North Tampa                 1\n",
       "      San Diego                   1\n",
       "      South Kingstown             1\n",
       "      Wilderness                  2\n",
       "1945  Dallas                      1\n",
       "                                 ..\n",
       "2000  Wisconsin Dells             1\n",
       "      Wister                      1\n",
       "      Wittmann                    1\n",
       "      Wood Dale                   1\n",
       "      Woodburn                    1\n",
       "      Woodbury                    1\n",
       "      Woodinville                 2\n",
       "      Woodland                    5\n",
       "      Woodstock                   1\n",
       "      Worcester County            1\n",
       "      Wrightsville                1\n",
       "      Yakima                      1\n",
       "      Yamhill                     1\n",
       "      Yampa                       1\n",
       "      Ybor                        1\n",
       "      Yelm                        1\n",
       "      Yorba Linda                 1\n",
       "      York                        1\n",
       "      Yosemite                    1\n",
       "      Young City                  1\n",
       "      Youngsville                 1\n",
       "      Yreka                       1\n",
       "      Yucaipa                     1\n",
       "      Yucca Valley                1\n",
       "      Yuma                        3\n",
       "      Zortman                     1\n",
       "      Zumbrota                    1\n",
       "      n45 27.944   w088 23.691    1\n",
       "      na                          1\n",
       "      no data                     1\n",
       "Name: Time, Length: 13746, dtype: int64"
      ]
     },
     "execution_count": 1,
     "metadata": {},
     "output_type": "execute_result"
    }
   ],
   "source": [
    "import pandas as pd\n",
    "\n",
    "df = pd.read_csv('uforeports.csv')\n",
    "df['Time'] = df['Time'].astype('datetime64')\n",
    "df['Year'] = df['Time'].dt.year\n",
    "\n",
    "df.groupby(['Year', 'City']).count()['Time']"
   ]
  },
  {
   "cell_type": "markdown",
   "metadata": {},
   "source": [
    "__Question 134:__<br>\n",
    "Write a pandas program to get the difference (in days) between documented date and reporting date of unidentified flying object (UFO)."
   ]
  },
  {
   "cell_type": "markdown",
   "metadata": {},
   "source": [
    "__Solution:__"
   ]
  },
  {
   "cell_type": "code",
   "execution_count": 89,
   "metadata": {},
   "outputs": [
    {
     "data": {
      "text/html": [
       "<div>\n",
       "<style scoped>\n",
       "    .dataframe tbody tr th:only-of-type {\n",
       "        vertical-align: middle;\n",
       "    }\n",
       "\n",
       "    .dataframe tbody tr th {\n",
       "        vertical-align: top;\n",
       "    }\n",
       "\n",
       "    .dataframe thead th {\n",
       "        text-align: right;\n",
       "    }\n",
       "</style>\n",
       "<table border=\"1\" class=\"dataframe\">\n",
       "  <thead>\n",
       "    <tr style=\"text-align: right;\">\n",
       "      <th></th>\n",
       "      <th>City</th>\n",
       "      <th>Colors Reported</th>\n",
       "      <th>Shape Reported</th>\n",
       "      <th>State</th>\n",
       "      <th>Time</th>\n",
       "    </tr>\n",
       "  </thead>\n",
       "  <tbody>\n",
       "    <tr>\n",
       "      <th>0</th>\n",
       "      <td>Ithaca</td>\n",
       "      <td>NaN</td>\n",
       "      <td>TRIANGLE</td>\n",
       "      <td>NY</td>\n",
       "      <td>6/1/1930 22:00</td>\n",
       "    </tr>\n",
       "    <tr>\n",
       "      <th>1</th>\n",
       "      <td>Willingboro</td>\n",
       "      <td>NaN</td>\n",
       "      <td>OTHER</td>\n",
       "      <td>NJ</td>\n",
       "      <td>6/30/1930 20:00</td>\n",
       "    </tr>\n",
       "    <tr>\n",
       "      <th>2</th>\n",
       "      <td>Holyoke</td>\n",
       "      <td>NaN</td>\n",
       "      <td>OVAL</td>\n",
       "      <td>CO</td>\n",
       "      <td>2/15/1931 14:00</td>\n",
       "    </tr>\n",
       "    <tr>\n",
       "      <th>3</th>\n",
       "      <td>Abilene</td>\n",
       "      <td>NaN</td>\n",
       "      <td>DISK</td>\n",
       "      <td>KS</td>\n",
       "      <td>6/1/1931 13:00</td>\n",
       "    </tr>\n",
       "    <tr>\n",
       "      <th>4</th>\n",
       "      <td>New York Worlds Fair</td>\n",
       "      <td>NaN</td>\n",
       "      <td>LIGHT</td>\n",
       "      <td>NY</td>\n",
       "      <td>4/18/1933 19:00</td>\n",
       "    </tr>\n",
       "  </tbody>\n",
       "</table>\n",
       "</div>"
      ],
      "text/plain": [
       "                   City Colors Reported Shape Reported State             Time\n",
       "0                Ithaca             NaN       TRIANGLE    NY   6/1/1930 22:00\n",
       "1           Willingboro             NaN          OTHER    NJ  6/30/1930 20:00\n",
       "2               Holyoke             NaN           OVAL    CO  2/15/1931 14:00\n",
       "3               Abilene             NaN           DISK    KS   6/1/1931 13:00\n",
       "4  New York Worlds Fair             NaN          LIGHT    NY  4/18/1933 19:00"
      ]
     },
     "execution_count": 89,
     "metadata": {},
     "output_type": "execute_result"
    }
   ],
   "source": [
    "#reporting date and documented date not available seaprately in dataset"
   ]
  },
  {
   "cell_type": "markdown",
   "metadata": {},
   "source": [
    "__Question 135:__<br>\n",
    "Write a pandas program to generate sequences of fixed- frequency dates and time spans."
   ]
  },
  {
   "cell_type": "markdown",
   "metadata": {},
   "source": [
    "__Solution:__"
   ]
  },
  {
   "cell_type": "code",
   "execution_count": null,
   "metadata": {},
   "outputs": [],
   "source": []
  },
  {
   "cell_type": "markdown",
   "metadata": {},
   "source": [
    "__Question 136:__<br>\n",
    "Write a pandas program to manipulate and convert date times with timezone information."
   ]
  },
  {
   "cell_type": "markdown",
   "metadata": {},
   "source": [
    "__Solution:__"
   ]
  },
  {
   "cell_type": "code",
   "execution_count": null,
   "metadata": {},
   "outputs": [],
   "source": []
  },
  {
   "cell_type": "markdown",
   "metadata": {},
   "source": [
    "__Question 137:__<br>\n",
    "Write a pandas program to create the graphical analysis of UFO (unidentified flying object) Sightings year."
   ]
  },
  {
   "cell_type": "markdown",
   "metadata": {},
   "source": [
    "__Solution:__"
   ]
  },
  {
   "cell_type": "code",
   "execution_count": 95,
   "metadata": {},
   "outputs": [
    {
     "data": {
      "text/plain": [
       "<matplotlib.axes._subplots.AxesSubplot at 0x1257dbdd8>"
      ]
     },
     "execution_count": 95,
     "metadata": {},
     "output_type": "execute_result"
    },
    {
     "data": {
      "image/png": "[encoded data removed]",
      "text/plain": [
       "<Figure size 432x288 with 1 Axes>"
      ]
     },
     "metadata": {
      "needs_background": "light"
     },
     "output_type": "display_data"
    }
   ],
   "source": [
    "import pandas as pd\n",
    "\n",
    "df = pd.read_csv('uforeports.csv')\n",
    "df['Time'] = df['Time'].astype('datetime64')\n",
    "df['Year'] = df['Time'].dt.year\n",
    "\n",
    "df.groupby(['Year']).count()['Time'].plot()"
   ]
  },
  {
   "cell_type": "markdown",
   "metadata": {},
   "source": [
    "__Question 138:__<br>\n",
    "Write a pandas program to create a comparison of the top 10 years in which the (UFO) was sighted VS each Month."
   ]
  },
  {
   "cell_type": "markdown",
   "metadata": {},
   "source": [
    "__Solution:__"
   ]
  },
  {
   "cell_type": "code",
   "execution_count": 184,
   "metadata": {},
   "outputs": [
    {
     "data": {
      "text/html": [
       "<div>\n",
       "<style scoped>\n",
       "    .dataframe tbody tr th:only-of-type {\n",
       "        vertical-align: middle;\n",
       "    }\n",
       "\n",
       "    .dataframe tbody tr th {\n",
       "        vertical-align: top;\n",
       "    }\n",
       "\n",
       "    .dataframe thead tr th {\n",
       "        text-align: left;\n",
       "    }\n",
       "\n",
       "    .dataframe thead tr:last-of-type th {\n",
       "        text-align: right;\n",
       "    }\n",
       "</style>\n",
       "<table border=\"1\" class=\"dataframe\">\n",
       "  <thead>\n",
       "    <tr>\n",
       "      <th></th>\n",
       "      <th colspan=\"12\" halign=\"left\">Time</th>\n",
       "    </tr>\n",
       "    <tr>\n",
       "      <th>Month</th>\n",
       "      <th>1</th>\n",
       "      <th>2</th>\n",
       "      <th>3</th>\n",
       "      <th>4</th>\n",
       "      <th>5</th>\n",
       "      <th>6</th>\n",
       "      <th>7</th>\n",
       "      <th>8</th>\n",
       "      <th>9</th>\n",
       "      <th>10</th>\n",
       "      <th>11</th>\n",
       "      <th>12</th>\n",
       "    </tr>\n",
       "    <tr>\n",
       "      <th>Year</th>\n",
       "      <th></th>\n",
       "      <th></th>\n",
       "      <th></th>\n",
       "      <th></th>\n",
       "      <th></th>\n",
       "      <th></th>\n",
       "      <th></th>\n",
       "      <th></th>\n",
       "      <th></th>\n",
       "      <th></th>\n",
       "      <th></th>\n",
       "      <th></th>\n",
       "    </tr>\n",
       "  </thead>\n",
       "  <tbody>\n",
       "    <tr>\n",
       "      <th>1975.0</th>\n",
       "      <td>13</td>\n",
       "      <td>3</td>\n",
       "      <td>8</td>\n",
       "      <td>15</td>\n",
       "      <td>13</td>\n",
       "      <td>88</td>\n",
       "      <td>47</td>\n",
       "      <td>40</td>\n",
       "      <td>21</td>\n",
       "      <td>31</td>\n",
       "      <td>19</td>\n",
       "      <td>14</td>\n",
       "    </tr>\n",
       "    <tr>\n",
       "      <th>1978.0</th>\n",
       "      <td>14</td>\n",
       "      <td>8</td>\n",
       "      <td>12</td>\n",
       "      <td>12</td>\n",
       "      <td>12</td>\n",
       "      <td>70</td>\n",
       "      <td>74</td>\n",
       "      <td>50</td>\n",
       "      <td>18</td>\n",
       "      <td>25</td>\n",
       "      <td>19</td>\n",
       "      <td>12</td>\n",
       "    </tr>\n",
       "    <tr>\n",
       "      <th>1993.0</th>\n",
       "      <td>12</td>\n",
       "      <td>12</td>\n",
       "      <td>14</td>\n",
       "      <td>12</td>\n",
       "      <td>26</td>\n",
       "      <td>76</td>\n",
       "      <td>38</td>\n",
       "      <td>37</td>\n",
       "      <td>19</td>\n",
       "      <td>18</td>\n",
       "      <td>14</td>\n",
       "      <td>14</td>\n",
       "    </tr>\n",
       "    <tr>\n",
       "      <th>1994.0</th>\n",
       "      <td>17</td>\n",
       "      <td>8</td>\n",
       "      <td>18</td>\n",
       "      <td>28</td>\n",
       "      <td>26</td>\n",
       "      <td>69</td>\n",
       "      <td>47</td>\n",
       "      <td>53</td>\n",
       "      <td>29</td>\n",
       "      <td>54</td>\n",
       "      <td>25</td>\n",
       "      <td>32</td>\n",
       "    </tr>\n",
       "    <tr>\n",
       "      <th>1995.0</th>\n",
       "      <td>90</td>\n",
       "      <td>113</td>\n",
       "      <td>120</td>\n",
       "      <td>88</td>\n",
       "      <td>98</td>\n",
       "      <td>152</td>\n",
       "      <td>121</td>\n",
       "      <td>181</td>\n",
       "      <td>120</td>\n",
       "      <td>95</td>\n",
       "      <td>116</td>\n",
       "      <td>50</td>\n",
       "    </tr>\n",
       "    <tr>\n",
       "      <th>1996.0</th>\n",
       "      <td>53</td>\n",
       "      <td>66</td>\n",
       "      <td>60</td>\n",
       "      <td>91</td>\n",
       "      <td>74</td>\n",
       "      <td>117</td>\n",
       "      <td>63</td>\n",
       "      <td>66</td>\n",
       "      <td>54</td>\n",
       "      <td>54</td>\n",
       "      <td>78</td>\n",
       "      <td>75</td>\n",
       "    </tr>\n",
       "    <tr>\n",
       "      <th>1997.0</th>\n",
       "      <td>46</td>\n",
       "      <td>38</td>\n",
       "      <td>174</td>\n",
       "      <td>86</td>\n",
       "      <td>93</td>\n",
       "      <td>170</td>\n",
       "      <td>199</td>\n",
       "      <td>99</td>\n",
       "      <td>49</td>\n",
       "      <td>105</td>\n",
       "      <td>113</td>\n",
       "      <td>65</td>\n",
       "    </tr>\n",
       "    <tr>\n",
       "      <th>1998.0</th>\n",
       "      <td>75</td>\n",
       "      <td>74</td>\n",
       "      <td>130</td>\n",
       "      <td>112</td>\n",
       "      <td>95</td>\n",
       "      <td>178</td>\n",
       "      <td>156</td>\n",
       "      <td>144</td>\n",
       "      <td>215</td>\n",
       "      <td>205</td>\n",
       "      <td>189</td>\n",
       "      <td>170</td>\n",
       "    </tr>\n",
       "    <tr>\n",
       "      <th>1999.0</th>\n",
       "      <td>126</td>\n",
       "      <td>157</td>\n",
       "      <td>149</td>\n",
       "      <td>139</td>\n",
       "      <td>171</td>\n",
       "      <td>236</td>\n",
       "      <td>262</td>\n",
       "      <td>274</td>\n",
       "      <td>362</td>\n",
       "      <td>285</td>\n",
       "      <td>418</td>\n",
       "      <td>195</td>\n",
       "    </tr>\n",
       "    <tr>\n",
       "      <th>2000.0</th>\n",
       "      <td>198</td>\n",
       "      <td>178</td>\n",
       "      <td>202</td>\n",
       "      <td>171</td>\n",
       "      <td>154</td>\n",
       "      <td>233</td>\n",
       "      <td>322</td>\n",
       "      <td>250</td>\n",
       "      <td>257</td>\n",
       "      <td>278</td>\n",
       "      <td>200</td>\n",
       "      <td>192</td>\n",
       "    </tr>\n",
       "  </tbody>\n",
       "</table>\n",
       "</div>"
      ],
      "text/plain": [
       "       Time                                                       \n",
       "Month    1    2    3    4    5    6    7    8    9    10   11   12\n",
       "Year                                                              \n",
       "1975.0   13    3    8   15   13   88   47   40   21   31   19   14\n",
       "1978.0   14    8   12   12   12   70   74   50   18   25   19   12\n",
       "1993.0   12   12   14   12   26   76   38   37   19   18   14   14\n",
       "1994.0   17    8   18   28   26   69   47   53   29   54   25   32\n",
       "1995.0   90  113  120   88   98  152  121  181  120   95  116   50\n",
       "1996.0   53   66   60   91   74  117   63   66   54   54   78   75\n",
       "1997.0   46   38  174   86   93  170  199   99   49  105  113   65\n",
       "1998.0   75   74  130  112   95  178  156  144  215  205  189  170\n",
       "1999.0  126  157  149  139  171  236  262  274  362  285  418  195\n",
       "2000.0  198  178  202  171  154  233  322  250  257  278  200  192"
      ]
     },
     "execution_count": 184,
     "metadata": {},
     "output_type": "execute_result"
    }
   ],
   "source": [
    "import pandas as pd\n",
    "\n",
    "df = pd.read_csv('uforeports.csv')\n",
    "df['Time'] = df['Time'].astype('datetime64')\n",
    "df['Year'] = df['Time'].dt.year\n",
    "df['Month'] = df['Time'].dt.month\n",
    "df.groupby(['Year']).count()['Month'].nlargest(10).index\n",
    "\n",
    "topYears = df['Year'].value_counts().nlargest(10).index\n",
    "def checkTopYears(year):\n",
    "    if year in topYears:\n",
    "        return year\n",
    "\n",
    "pt = pd.pivot_table(df, index = df['Year'].apply(checkTopYears), columns = ['Month'], values = ['Time'], aggfunc = 'count')\n",
    "\n",
    "pt"
   ]
  },
  {
   "cell_type": "markdown",
   "metadata": {},
   "source": [
    "__Question 139:__<br>\n",
    "Write a pandas program to create a heatmap (rectangular data as a colour-encoded matrix) for comparison of top 10 years in which (UFO ) was sighted VS each Month."
   ]
  },
  {
   "cell_type": "markdown",
   "metadata": {},
   "source": [
    "__Solution:__"
   ]
  },
  {
   "cell_type": "code",
   "execution_count": 208,
   "metadata": {},
   "outputs": [
    {
     "data": {
      "text/plain": [
       "[Text(0.5, 15.0, 'Month')]"
      ]
     },
     "execution_count": 208,
     "metadata": {},
     "output_type": "execute_result"
    },
    {
     "data": {
      "image/png": "[encoded data removed]",
      "text/plain": [
       "<Figure size 432x288 with 2 Axes>"
      ]
     },
     "metadata": {
      "needs_background": "light"
     },
     "output_type": "display_data"
    }
   ],
   "source": [
    "import pandas as pd\n",
    "import seaborn as sns\n",
    "\n",
    "df = pd.read_csv('uforeports.csv')\n",
    "df['Time'] = df['Time'].astype('datetime64')\n",
    "df['Year'] = df['Time'].dt.year\n",
    "df['Month'] = df['Time'].dt.month\n",
    "df.groupby(['Year']).count()['Month'].nlargest(10).index\n",
    "\n",
    "topYears = df['Year'].value_counts().nlargest(10).index\n",
    "def checkTopYears(year):\n",
    "    if year in topYears:\n",
    "        return year\n",
    "\n",
    "pt = pd.pivot_table(df, index = df['Year'].apply(checkTopYears), columns = ['Month'], values = ['Time'], aggfunc = 'count')\n",
    "\n",
    "ax = sns.heatmap(pt, cmap = sns.color_palette(\"BuGn_r\"), xticklabels = range(1,13))\n",
    "ax.set(xlabel = 'Month')\n",
    "\n"
   ]
  },
  {
   "cell_type": "markdown",
   "metadata": {},
   "source": [
    "__Question 140:__<br>\n",
    "Write a pandas program to create a Timewheel of Hour VS Year comparison of the top 10 years in which the (UFO) was sighted.\n"
   ]
  },
  {
   "cell_type": "markdown",
   "metadata": {},
   "source": [
    "__Solution:__"
   ]
  },
  {
   "cell_type": "code",
   "execution_count": null,
   "metadata": {},
   "outputs": [],
   "source": []
  },
  {
   "cell_type": "markdown",
   "metadata": {},
   "source": [
    "__Question 141:__<br>\n",
    "Write a python program to draw the line using given axis values with the suitable label in the x-axis, y-axis, and a title.\n",
    "\n",
    "The code snippet gives the output shown in the screenshot:\n",
    "![image](https://imgbbb.com/images/2019/12/18/Screenshot-2019-12-18-at-1.35.17-PM.png)"
   ]
  },
  {
   "cell_type": "markdown",
   "metadata": {},
   "source": [
    "__Solution:__"
   ]
  },
  {
   "cell_type": "code",
   "execution_count": 229,
   "metadata": {},
   "outputs": [
    {
     "data": {
      "text/plain": [
       "Text(0, 0.5, 'y - axis')"
      ]
     },
     "execution_count": 229,
     "metadata": {},
     "output_type": "execute_result"
    },
    {
     "data": {
      "image/png": "[encoded data removed]",
      "text/plain": [
       "<Figure size 432x288 with 1 Axes>"
      ]
     },
     "metadata": {
      "needs_background": "light"
     },
     "output_type": "display_data"
    }
   ],
   "source": [
    "import matplotlib.pyplot as plt\n",
    "\n",
    "X = [1, 2, 3]\n",
    "Y = [2, 4, 0]\n",
    "\n",
    "plt.plot(X, Y)\n",
    "plt.title('Sample graph!')\n",
    "plt.xlabel('x - axis')\n",
    "plt.ylabel('y - axis')\n",
    "\n",
    "\n"
   ]
  },
  {
   "cell_type": "markdown",
   "metadata": {},
   "source": [
    "__Question 142:__<br>\n",
    "Write a python program to draw the line charts of the financial data of the Alphabet Inc., between October 3 2016 to October 7 2016.<br>\n",
    "Sample Financial data (fdata.csv)-<br>\n",
    "Date,Open,High,Low,Close<br>\n",
    "10-03-16, 774.25,776.065002,769.5,772.559998<br>\n",
    "10-04-16, 776.030029, 778.710022,772.890015,776.429993<br>\n",
    "10-05-16, 779.309998, 782.070007,775.650024,776.469971<br>\n",
    "10-06-16, 779 , 780.47998,775.539978,776.859985<br>\n",
    "10-07-16, 779.659973, 779.659973 , 770.75 , 775.080017<br>\n",
    "\n",
    "The code snippet gives the output shown in the screenshot:<br>\n",
    "![image](https://imgbbb.com/images/2019/12/18/Screenshot-2019-12-18-at-1.38.17-PM.png)"
   ]
  },
  {
   "cell_type": "markdown",
   "metadata": {},
   "source": [
    "__Solution:__"
   ]
  },
  {
   "cell_type": "code",
   "execution_count": 6,
   "metadata": {},
   "outputs": [
    {
     "data": {
      "text/plain": [
       "<matplotlib.axes._subplots.AxesSubplot at 0x11ed315f8>"
      ]
     },
     "execution_count": 6,
     "metadata": {},
     "output_type": "execute_result"
    },
    {
     "data": {
      "image/png": "[encoded data removed]",
      "text/plain": [
       "<Figure size 432x288 with 1 Axes>"
      ]
     },
     "metadata": {
      "needs_background": "light"
     },
     "output_type": "display_data"
    }
   ],
   "source": [
    "import pandas as pd\n",
    "\n",
    "data = [[774.25,776.065002,769.5,772.559998], [776.030029, 778.710022,772.890015,776.429993], [779.309998, 782.070007,775.650024,776.469971], [779 , 780.47998,775.539978,776.859985], [779.659973, 779.659973 , 770.75 , 775.080017]]\n",
    "df = pd.DataFrame(data, index = pd.date_range('2010-10-03', periods = 5), columns = ['Open', 'High', 'Low', 'Close'])\n",
    "\n",
    "df.plot()\n",
    "\n"
   ]
  },
  {
   "cell_type": "markdown",
   "metadata": {},
   "source": [
    "__Question 143:__<br>\n",
    "Write a Python program to plot two or more lines on same plot with the suitable legends of each line.\n",
    "\n",
    "The code snippet gives the output shown in the screenshot:\n",
    "![image](https://imgbbb.com/images/2019/12/18/Screenshot-2019-12-18-at-1.39.41-PM.png)"
   ]
  },
  {
   "cell_type": "markdown",
   "metadata": {},
   "source": [
    "__Solution:__"
   ]
  },
  {
   "cell_type": "code",
   "execution_count": 17,
   "metadata": {},
   "outputs": [
    {
     "data": {
      "text/plain": [
       "[<matplotlib.lines.Line2D at 0x11f796c88>]"
      ]
     },
     "execution_count": 17,
     "metadata": {},
     "output_type": "execute_result"
    },
    {
     "data": {
      "image/png": "[encoded data removed]",
      "text/plain": [
       "<Figure size 432x288 with 1 Axes>"
      ]
     },
     "metadata": {
      "needs_background": "light"
     },
     "output_type": "display_data"
    }
   ],
   "source": [
    "import pandas as pd\n",
    "import matplotlib.pyplot as plt\n",
    "\n",
    "x1 = [10, 20, 30]\n",
    "y1 = [20, 40, 0]\n",
    "x2 = [10, 20, 30]\n",
    "y2 = [40, 0, 30]\n",
    "\n",
    "plt.plot(x1, y1, label = \"line 1\")\n",
    "plt.plot(x2, y2, label = \"line 2\")"
   ]
  },
  {
   "cell_type": "markdown",
   "metadata": {},
   "source": [
    "__Question 144:__<br>\n",
    "Write a python programming to display a bar chart of the popularity of programming languages.\n",
    "\n",
    "Sample data:<br>\n",
    "programming languages- Java, Python, PHP, JavaScript, C#, C++<br>\n",
    "Popularity- 22.2, 17.6, 8.8, 8, 7.7 , 6.7<br>\n",
    "\n",
    "The code snippet gives the output shown in the screenshot:\n",
    "![image](https://imgbbb.com/images/2019/12/18/Screenshot-2019-12-18-at-1.41.05-PM.png)"
   ]
  },
  {
   "cell_type": "markdown",
   "metadata": {},
   "source": [
    "__Solution:__"
   ]
  },
  {
   "cell_type": "code",
   "execution_count": 21,
   "metadata": {},
   "outputs": [
    {
     "data": {
      "text/plain": [
       "<BarContainer object of 6 artists>"
      ]
     },
     "execution_count": 21,
     "metadata": {},
     "output_type": "execute_result"
    },
    {
     "data": {
      "image/png": "[encoded data removed]",
      "text/plain": [
       "<Figure size 432x288 with 1 Axes>"
      ]
     },
     "metadata": {
      "needs_background": "light"
     },
     "output_type": "display_data"
    }
   ],
   "source": [
    "import matplotlib.pyplot as plt\n",
    "\n",
    "x = ['Java', 'Python', 'PHP', 'JavaScript', 'C#', 'C++']\n",
    "y = [22.2, 17.6, 8.8, 8, 7.7, 6.7]\n",
    "\n",
    "plt.bar(x = x, height = y)"
   ]
  },
  {
   "cell_type": "markdown",
   "metadata": {},
   "source": [
    "__Question 145:__<br>\n",
    "Write a python programming to display a horizontal bar chart of the popularity of programming languages.\n",
    "\n",
    "Sample data:<br>\n",
    "programming languages- Java, Python, PHP, JavaScript, C#, C++<br>\n",
    "Popularity- 22.2, 17.6, 8.8, 8, 7.7 , 6.7<br>\n",
    "\n",
    "The code snippet gives the output shown in the screenshot:\n",
    "![image](https://imgbbb.com/images/2019/12/18/Screenshot-2019-12-18-at-1.42.30-PM.png)"
   ]
  },
  {
   "cell_type": "markdown",
   "metadata": {},
   "source": [
    "__Solution:__"
   ]
  },
  {
   "cell_type": "code",
   "execution_count": 34,
   "metadata": {},
   "outputs": [
    {
     "data": {
      "image/png": "[encoded data removed]",
      "text/plain": [
       "<Figure size 432x288 with 1 Axes>"
      ]
     },
     "metadata": {
      "needs_background": "light"
     },
     "output_type": "display_data"
    }
   ],
   "source": [
    "import matplotlib.pyplot as plt\n",
    "\n",
    "x = ['Java', 'Python', 'PHP', 'JavaScript', 'C#', 'C++']\n",
    "y = [22.2, 17.6, 8.8, 8, 7.7, 6.7]\n",
    "x_pos = [i for i, _ in enumerate(x)]\n",
    "plt.barh(y = x, width = y, color = 'green')\n",
    "\n",
    "x_pos = [i for i, _ in enumerate(x)]\n",
    "plt.yticks(x_pos, x)\n",
    "plt.minorticks_on()\n",
    "plt.grid(which='major', linestyle='-', linewidth='0.5', color='red')\n",
    "plt.grid(which='minor', linestyle=':', linewidth='0.5', color='black')\n"
   ]
  },
  {
   "cell_type": "markdown",
   "metadata": {},
   "source": [
    "__Question 146:__<br>\n",
    "Write a python programming to display a bar chart of the Popularity of programming languages. Increase bottom margin.\n",
    "\n",
    "Sample data:<br>\n",
    "programming languages: Java, Python, PHP, JavaScript, C#, C++<br>\n",
    "Popularity: 22.2, 17.6, 8.8, 8, 7.7 , 6.7<br>\n",
    " \n",
    "The code snippet gives the output shown in the screenshot:<br>\n",
    "![image](https://imgbbb.com/images/2019/12/18/Screenshot-2019-12-18-at-1.43.50-PM.png) "
   ]
  },
  {
   "cell_type": "markdown",
   "metadata": {},
   "source": [
    "__Solution:__"
   ]
  },
  {
   "cell_type": "code",
   "execution_count": 44,
   "metadata": {},
   "outputs": [
    {
     "data": {
      "image/png": "[encoded data removed]",
      "text/plain": [
       "<Figure size 432x288 with 1 Axes>"
      ]
     },
     "metadata": {
      "needs_background": "light"
     },
     "output_type": "display_data"
    }
   ],
   "source": [
    "import matplotlib.pyplot as plt\n",
    "\n",
    "x = ['Java', 'Python', 'PHP', 'JavaScript', 'C#', 'C++']\n",
    "y = [22.2, 17.6, 8.8, 8, 7.7, 6.7]\n",
    "\n",
    "plt.bar(x = x, height = y)\n",
    "plt.subplots_adjust(bottom=0.4, top=0.8)\n",
    "\n",
    "plt.minorticks_on()\n",
    "plt.grid(which='major', linestyle='-', linewidth='0.5', color='red')\n",
    "plt.grid(which='minor', linestyle=':', linewidth='0.5', color='black')\n",
    "\n"
   ]
  },
  {
   "cell_type": "markdown",
   "metadata": {},
   "source": [
    "__Question 147:__<br>\n",
    "Write a python program to create the bar plot from a DataFrame.\n",
    "\n",
    "a b c d e<br>\n",
    "2 4, 8, 5, 7, 6<br>\n",
    "4 2, 3, 4, 2, 6<br>\n",
    "6 4, 7, 4, 7, 8<br>\n",
    "8 2, 6, 4, 8, 6<br>\n",
    "10 2, 4, 3, 3, 2<br>\n",
    " \n",
    "The code snippet gives the output shown in the following screenshot:\n",
    "![image](https://imgbbb.com/images/2019/12/18/Screenshot-2019-12-18-at-1.46.16-PM.png)"
   ]
  },
  {
   "cell_type": "markdown",
   "metadata": {},
   "source": [
    "__Solution:__"
   ]
  },
  {
   "cell_type": "code",
   "execution_count": 52,
   "metadata": {},
   "outputs": [
    {
     "data": {
      "image/png": "[encoded data removed]",
      "text/plain": [
       "<Figure size 432x288 with 1 Axes>"
      ]
     },
     "metadata": {
      "needs_background": "light"
     },
     "output_type": "display_data"
    }
   ],
   "source": [
    "import pandas as pd\n",
    "import matplotlib.pyplot as plt\n",
    "\n",
    "data = [[4, 8, 5, 7, 6], [2, 3, 4, 2, 6], [4, 7, 4, 7, 8], [2, 6, 4, 8, 6], [2, 4, 3, 3, 2]]\n",
    "columns = ['a', 'b', 'c', 'd', 'e']\n",
    "indexes = [2, 4, 6, 8, 10]\n",
    "\n",
    "df = pd.DataFrame(data, columns = columns, index = indexes)\n",
    "\n",
    "df.plot.bar()\n",
    "plt.minorticks_on()\n",
    "plt.grid(which='major', linestyle='-', linewidth='0.5', color='green')\n",
    "plt.grid(which='minor', linestyle=':', linewidth='0.5', color='black')"
   ]
  },
  {
   "cell_type": "markdown",
   "metadata": {},
   "source": [
    "__Question 148:__<br>\n",
    "Write a python program to draw the scatter plot comparing two subject marks of Mathematics and Science. Use marks of 10 students.\n",
    "\n",
    "Sample data:\n",
    "\n",
    "Test Data-<br>\n",
    "math_marks = [88, 92 , 80, 89, 100, 80, 60, 100, 80, 34] <br>\n",
    "science_marks = [35, 79, 79 , 48, 100, 88, 32, 45, 20, 30] <br>\n",
    "marks_range = [10, 20, 30, 40, 50, 60, 70, 80, 90, 100]<br>\n",
    "\n",
    "![image](https://imgbbb.com/images/2019/12/18/Screenshot-2019-12-18-at-1.48.15-PM.png)"
   ]
  },
  {
   "cell_type": "markdown",
   "metadata": {},
   "source": [
    "__Solution:__"
   ]
  },
  {
   "cell_type": "code",
   "execution_count": 68,
   "metadata": {},
   "outputs": [
    {
     "data": {
      "text/plain": [
       "Text(0, 0.5, 'Marks Scored')"
      ]
     },
     "execution_count": 68,
     "metadata": {},
     "output_type": "execute_result"
    },
    {
     "data": {
      "image/png": "[encoded data removed]",
      "text/plain": [
       "<Figure size 432x288 with 1 Axes>"
      ]
     },
     "metadata": {
      "needs_background": "light"
     },
     "output_type": "display_data"
    }
   ],
   "source": [
    "import matplotlib.pyplot as plt\n",
    "\n",
    "math_marks = [88, 92 , 80, 89, 100, 80, 60, 100, 80, 34] \n",
    "science_marks = [35, 79, 79 , 48, 100, 88, 32, 45, 20, 30] \n",
    "marks_range = [10, 20, 30, 40, 50, 60, 70, 80, 90, 100]\n",
    "\n",
    "plt.scatter(marks_range, math_marks, label='Math marks')\n",
    "plt.scatter(marks_range, science_marks, label='Science marks')\n",
    "plt.legend()\n",
    "#or plt.legend(['Math marks', 'Science marks'], loc='upper right')\n",
    "\n",
    "plt.title('Scatter Plot')\n",
    "plt.xlabel('Marks Range')\n",
    "plt.ylabel('Marks Scored')"
   ]
  },
  {
   "cell_type": "markdown",
   "metadata": {},
   "source": [
    "__Question 149:__<br>\n",
    "Write a python program to draw the scatter plot for three different groups comparing weights and heights.\n",
    "\n",
    "The output shown in the screenshot:\n",
    "![image](https://imgbbb.com/images/2019/12/18/Screenshot-2019-12-18-at-1.52.59-PM.png)"
   ]
  },
  {
   "cell_type": "markdown",
   "metadata": {},
   "source": [
    "__Solution:__"
   ]
  },
  {
   "cell_type": "code",
   "execution_count": 78,
   "metadata": {},
   "outputs": [
    {
     "data": {
      "text/plain": [
       "Text(0.5, 1.0, 'Group wise weight vs height scatter plot')"
      ]
     },
     "execution_count": 78,
     "metadata": {},
     "output_type": "execute_result"
    },
    {
     "data": {
      "image/png": "[encoded data removed]",
      "text/plain": [
       "<Figure size 432x288 with 1 Axes>"
      ]
     },
     "metadata": {
      "needs_background": "light"
     },
     "output_type": "display_data"
    }
   ],
   "source": [
    "import matplotlib.pyplot as plt\n",
    "\n",
    "weight1=[67,57.2,59.6,59.64,55.8,61.2,60.45,61,56.23,56]\n",
    "height1=[101.7,197.6,98.3,125.1,113.7,157.7,136,148.9,125.3,114.9] \n",
    "weight2=[61.9,64,62.1,64.2,62.3,65.4,62.4,61.4,62.5,63.6]\n",
    "height2=[152.8,155.3,135.1,125.2,151.3,135,182.2,195.9,165.1,125.1] \n",
    "weight3=[68.2,67.2,68.4,68.7,71,71.3,70.8,70,71.1,71.7]\n",
    "height3=[165.8,170.9,192.8,135.4,161.4,136.1,167.1,235.1,181.1,177.3]\n",
    "\n",
    "plt.scatter(weight1, height1)\n",
    "plt.scatter(weight2, height2)\n",
    "plt.scatter(weight3, height3)\n",
    "\n",
    "plt.legend([1, 2, 3])\n",
    "plt.xlabel('weight')\n",
    "plt.ylabel('height')\n",
    "plt.title('Group wise weight vs height scatter plot')\n",
    "\n"
   ]
  },
  {
   "cell_type": "markdown",
   "metadata": {},
   "source": [
    "__Question 150:__<br>\n",
    "Write a python program to draw a scatter plot to find sea-level rise in past 100 years.\n",
    "\n",
    "The output shown in the screenshot:\n",
    "![image](https://imgbbb.com/images/2019/12/18/Screenshot-2019-12-18-at-1.53.53-PM.png)"
   ]
  },
  {
   "cell_type": "markdown",
   "metadata": {},
   "source": [
    "__Solution:__"
   ]
  },
  {
   "cell_type": "code",
   "execution_count": 109,
   "metadata": {},
   "outputs": [
    {
     "data": {
      "text/plain": [
       "Text(0.5, 1.0, 'Rise in sea level')"
      ]
     },
     "execution_count": 109,
     "metadata": {},
     "output_type": "execute_result"
    },
    {
     "data": {
      "image/png": "[encoded data removed]",
      "text/plain": [
       "<Figure size 432x288 with 1 Axes>"
      ]
     },
     "metadata": {
      "needs_background": "light"
     },
     "output_type": "display_data"
    }
   ],
   "source": [
    "import pandas as pd\n",
    "import matplotlib.pyplot as plt\n",
    "\n",
    "df = pd.read_csv('test.csv')\n",
    "del df[' temp']\n",
    "df.index.name = 'year'\n",
    "df.reset_index(inplace = True)\n",
    "\n",
    "df.plot(x = 'year', y = 'CSIRO_sea_level', kind= 'scatter')\n",
    "plt.ylabel('Sea Level (inches)')\n",
    "plt.title('Rise in sea level')"
   ]
  }
 ],
 "metadata": {
  "kernelspec": {
   "display_name": "Python 3",
   "language": "python",
   "name": "python3"
  },
  "language_info": {
   "codemirror_mode": {
    "name": "ipython",
    "version": 3
   },
   "file_extension": ".py",
   "mimetype": "text/x-python",
   "name": "python",
   "nbconvert_exporter": "python",
   "pygments_lexer": "ipython3",
   "version": "3.7.3"
  }
 },
 "nbformat": 4,
 "nbformat_minor": 2
}
