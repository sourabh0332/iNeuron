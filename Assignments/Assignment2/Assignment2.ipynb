{
 "cells": [
  {
   "cell_type": "markdown",
   "metadata": {},
   "source": [
    "# Assignment 2\n",
    "\n",
    "Due date: 22nd December 2019"
   ]
  },
  {
   "cell_type": "markdown",
   "metadata": {},
   "source": [
    "### Task 1"
   ]
  },
  {
   "cell_type": "markdown",
   "metadata": {},
   "source": [
    "Question 1.1:<br>\n",
    "Write a Python Program to implement your own myreduce() function which works exactly like Python's built-in function reduce()"
   ]
  },
  {
   "cell_type": "markdown",
   "metadata": {},
   "source": [
    "Solution:"
   ]
  },
  {
   "cell_type": "code",
   "execution_count": 6,
   "metadata": {},
   "outputs": [
    {
     "name": "stdout",
     "output_type": "stream",
     "text": [
      "8\n"
     ]
    }
   ],
   "source": [
    "def myreduce(func, list1):\n",
    "    \"\"\"\n",
    "    Alternate implementation of in-built function reduce()\n",
    "    \n",
    "    Arguments:\n",
    "    func - a function, either in-built or user defined\n",
    "    list1 - an iterable \n",
    "    \n",
    "    Output: \n",
    "    result of the reduce function implemented on list input\n",
    "    \"\"\"\n",
    "    result = list1[0]\n",
    "    for element in list1[1:]:\n",
    "        result = func(result, element)\n",
    "    return result\n",
    "    \n",
    "list1 = [1,2,3,8,6,5,7,0]\n",
    "func = max\n",
    "\n",
    "\n",
    "print(myreduce(func, list1))"
   ]
  },
  {
   "cell_type": "markdown",
   "metadata": {},
   "source": [
    "Question 1.2:<br>\n",
    "Write a Python program to implement your own myfilter() function which works exactly like Python's built-in function filter()"
   ]
  },
  {
   "cell_type": "markdown",
   "metadata": {},
   "source": [
    "Solution:"
   ]
  },
  {
   "cell_type": "code",
   "execution_count": 5,
   "metadata": {},
   "outputs": [
    {
     "name": "stdout",
     "output_type": "stream",
     "text": [
      "[0, 2, 4, 6, 8, 10, 12, 14, 16, 18]\n"
     ]
    }
   ],
   "source": [
    "def myfilter(func, list1):\n",
    "    \"\"\"\n",
    "    Alternate implementation of in-built function filter()\n",
    "    \n",
    "    Arguments:\n",
    "    func - a function, either in-built or user defined\n",
    "    list1 - an iterable \n",
    "    \n",
    "    Output: \n",
    "    result of the filter function implemented on list input\n",
    "    \"\"\"\n",
    "    result = []\n",
    "    for element in list1:\n",
    "        if func(element):\n",
    "            result.append(element)\n",
    "    return result\n",
    "\n",
    "func = lambda x: x%2 == 0\n",
    "list1 = range(20)\n",
    "\n",
    "print(myfilter(func, list1))"
   ]
  },
  {
   "cell_type": "markdown",
   "metadata": {},
   "source": [
    "Question 2:<br>\n",
    "Implement List comprehensions to produce the following lists. Write List comprehensions to produce the following Lists\n",
    "\n",
    "['A', 'C', 'A', 'D', 'G', 'I', ’L’, ‘ D’]<br>\n",
    "['x', 'xx', 'xxx', 'xxxx', 'y', 'yy', 'yyy', 'yyyy', 'z', 'zz', 'zzz', 'zzzz']<br>\n",
    "['x', 'y', 'z', 'xx', 'yy', 'zz', 'xx', 'yy', 'zz', 'xxxx', 'yyyy', 'zzzz']<br>\n",
    "[[2], [3], [4], [3], [4], [5], [4], [5], [6]]<br>\n",
    "[[2, 3, 4, 5], [3, 4, 5, 6], [4, 5, 6, 7], [5, 6, 7, 8]]<br>\n",
    "[(1, 1), (2, 1), (3, 1), (1, 2), (2, 2), (3, 2), (1, 3), (2, 3), (3, 3)]\n"
   ]
  },
  {
   "cell_type": "markdown",
   "metadata": {},
   "source": [
    "Solution:"
   ]
  },
  {
   "cell_type": "code",
   "execution_count": 32,
   "metadata": {},
   "outputs": [
    {
     "name": "stdout",
     "output_type": "stream",
     "text": [
      "['A', 'C', 'A', 'D', 'G', 'I', 'L', 'D']\n",
      "['x', 'xx', 'xxx', 'xxxx', 'y', 'yy', 'yyy', 'yyyy', 'z', 'zz', 'zzz', 'zzzz']\n",
      "['x', 'y', 'z', 'xx', 'yy', 'zz', 'xxx', 'yyy', 'zzz', 'xxxx', 'yyyy', 'zzzz']\n",
      "[[2], [3], [4], [3], [4], [5], [4], [5], [6]]\n",
      "[[2, 3, 4, 5], [3, 4, 5, 6], [4, 5, 6, 7], [5, 6, 7, 8]]\n",
      "[(1, 1), (2, 1), (3, 1), (1, 2), (2, 2), (3, 2), (1, 3), (2, 3), (3, 3)]\n"
     ]
    }
   ],
   "source": [
    "inputText = \"ACADGILD\"\n",
    "list1 = [x for x in inputText]\n",
    "print(list1)\n",
    "inputText = 'xyz'\n",
    "list2 = [x*i for x in inputText for i in range(1,5) ]\n",
    "print(list2)\n",
    "inputText = 'xyz'\n",
    "list3 = [x*i for i in range(1,5) for x in inputText]\n",
    "print(list3)\n",
    "list4 =[[x+i] for x in range(1,4) for i in range(1,4)]\n",
    "print(list4)\n",
    "list5 = [[x,x+1,x+2,x+3] for x in range(2,6)]\n",
    "print(list5)\n",
    "list6 = [(x,y) for y in range(1,4) for x in range(1,4)]\n",
    "print(list6)"
   ]
  },
  {
   "cell_type": "markdown",
   "metadata": {},
   "source": [
    "Question 3:<br>\n",
    "Implement a function longestWord() that takes a list of words and returns the longest one."
   ]
  },
  {
   "cell_type": "markdown",
   "metadata": {},
   "source": [
    "Solution:"
   ]
  },
  {
   "cell_type": "code",
   "execution_count": 9,
   "metadata": {},
   "outputs": [
    {
     "name": "stdout",
     "output_type": "stream",
     "text": [
      "The longest words of entered string is/are: opportunity\n"
     ]
    }
   ],
   "source": [
    "#various use cases considered here are\n",
    "#1. stripping each word in entered string of any punctuations so that it only calculates word lenghts\n",
    "#2. using a dict to store words of a certain lenght as a list in key:value pair where key is word length\n",
    "#3. Outputting all words of the maximum lenght in the entered string\n",
    "\n",
    "import string\n",
    "\n",
    "def longestWord(userInput):\n",
    "    \"\"\"\n",
    "    A function to find and return longest word/words in the input string\n",
    "    \n",
    "    Arguments:\n",
    "    userInput - A string of any length\n",
    "    \n",
    "    Output:\n",
    "    A list of words of maximum length\n",
    "    \"\"\"\n",
    "\n",
    "    userInput = userInput.split()\n",
    "    dictLengths = {}\n",
    "    for word in userInput:\n",
    "        word = word.rstrip(string.punctuation) #stripping punctuations from each word before counting length\n",
    "        if dictLengths.get(len(word), 0) == 0:\n",
    "            dictLengths[len(word)] = [word]\n",
    "        else:\n",
    "            dictLengths[len(word)].append(word)\n",
    "    return dictLengths[max(dictLengths.keys())]\n",
    "\n",
    "userInput = \"In a deeply personal, honest, and candid interview, Mr. Ratan Tata reveals what defines him as a person; his dreams for an equal opportunity India; and his advice for the young generation of aspiring Indians who look up to the Chairman Emeritus of Tata Sons and Chairman of the Tata Trusts.\"\n",
    "#userInput = \"I have a lovely song in my laptop that plays all the while.\"\n",
    "print(\"The longest words of entered string is/are:\",*longestWord(userInput), sep = \" \")\n",
    "\n"
   ]
  },
  {
   "cell_type": "markdown",
   "metadata": {},
   "source": [
    "### Task 2"
   ]
  },
  {
   "cell_type": "markdown",
   "metadata": {},
   "source": [
    "Question 1.1:<br>\n",
    "Write a Python Program(with class concepts) to find the area of the triangle using the below formula.\n",
    "\n",
    "area = (s*(s-a)*(s-b)*(s-c)) * * 0.5\n",
    "\n",
    "Function to take the length of the sides of triangle from user should be defined in the parent class and function to calculate the area should be defined in subclass."
   ]
  },
  {
   "cell_type": "markdown",
   "metadata": {},
   "source": [
    "Solution:"
   ]
  },
  {
   "cell_type": "code",
   "execution_count": 8,
   "metadata": {},
   "outputs": [
    {
     "name": "stdout",
     "output_type": "stream",
     "text": [
      "Area of the triangle with sides 3, 4 and 5 is: 6.0\n"
     ]
    }
   ],
   "source": [
    "#defined getter and setter methods for class variables\n",
    "#autocomputes area and assigns it to class variable\n",
    "#use getter method to call area\n",
    "\n",
    "class Triangle(object):\n",
    "    \"\"\"\n",
    "    A class of object type triangle\n",
    "    \n",
    "    Class variables:\n",
    "    a, b, c - sides of the trianle\n",
    "    area - area of the triangle with sides a, b and c\n",
    "    \"\"\"\n",
    "    def __init__(self, a, b, c):\n",
    "        \"\"\"\n",
    "        Initialising values of a, b, and c for object and pre-computing area of the triangle\n",
    "        \"\"\"\n",
    "        self.a = a\n",
    "        self.b = b\n",
    "        self.c = c\n",
    "        self.area = Triangle.findArea(self)\n",
    "    \n",
    "    def getA(self):\n",
    "        \"\"\"\n",
    "        Getter method for class variable a\n",
    "        \"\"\"\n",
    "        return self.a\n",
    "    \n",
    "    def getB(self):\n",
    "        \"\"\"\n",
    "        Getter method for class variable b\n",
    "        \"\"\"\n",
    "        return self.b\n",
    "    \n",
    "    def getC(self):\n",
    "        \"\"\"\n",
    "        Getter method for class variable c\n",
    "        \"\"\"\n",
    "        return self.c\n",
    "    \n",
    "    def getArea(self):\n",
    "        \"\"\"\n",
    "        Getter method for class variable area\n",
    "        \"\"\"\n",
    "        return self.area\n",
    "    \n",
    "    def setA(self, a):\n",
    "        \"\"\"\n",
    "        Setter method for class variable a\n",
    "        \"\"\"\n",
    "        self.a = a\n",
    "        \n",
    "    def setB(self, b):\n",
    "        \"\"\"\n",
    "        Setter method for class variable a\n",
    "        \"\"\"\n",
    "        self.b = b\n",
    "        \n",
    "    def setC(self, c):\n",
    "        \"\"\"\n",
    "        Setter method for class variable a\n",
    "        \"\"\"\n",
    "        self.c = c\n",
    "        \n",
    "    def findArea(self):\n",
    "        \"\"\"\n",
    "        Metod to calculate area of the triangle\n",
    "        \n",
    "        Arguments:\n",
    "        None. Automatically retrieves class variables a, b and c.\n",
    "        \n",
    "        Output:\n",
    "        Area of the triangle with sides a, b and c.\n",
    "        \"\"\"\n",
    "        s = (self.getA() + self.getB() + self.getC())/2\n",
    "        return  (s*(s-a)*(s-b)*(s-c)) ** 0.5\n",
    "        \n",
    "\n",
    "a = 3\n",
    "b = 4\n",
    "c = 5\n",
    "\n",
    "triangle1 = Triangle(a,b,c)\n",
    "print(f\"Area of the triangle with sides {a}, {b} and {c} is:\",triangle1.getArea())\n",
    "\n"
   ]
  },
  {
   "cell_type": "markdown",
   "metadata": {},
   "source": [
    "Question 1.2:<br>\n",
    "Write a function filter_long_words() that takes a list of words and an integer n and returns the list of words that are longer than n."
   ]
  },
  {
   "cell_type": "markdown",
   "metadata": {},
   "source": [
    "Solution:"
   ]
  },
  {
   "cell_type": "code",
   "execution_count": 10,
   "metadata": {},
   "outputs": [
    {
     "name": "stdout",
     "output_type": "stream",
     "text": [
      "Words greater than length 4 are:\n",
      "\n",
      "deeply, personal, honest, candid, interview, Ratan, reveals, defines, person, dreams, equal, opportunity, India, advice, young, generation, aspiring, Indians, Chairman, Emeritus, Chairman, Trusts."
     ]
    }
   ],
   "source": [
    "#strip all punctuations before computing word length and output words greater than certain length\n",
    "\n",
    "import string\n",
    "\n",
    "def filter_long_words(userInput, n):\n",
    "    \"\"\"\n",
    "    Method to filter out words with length small than a user defined length\n",
    "    \n",
    "    Arguments:\n",
    "    userInput - A user defined string\n",
    "    n - Words of length less than or equal to n are filtered out\n",
    "    \n",
    "    Output:\n",
    "    Comma separated list of words of lenght greater than n.\n",
    "    \"\"\"\n",
    "    outWords = []\n",
    "    for word in userInput.split():\n",
    "        word = word.rstrip(string.punctuation)\n",
    "        if len(word) > n:\n",
    "            outWords.append(word)\n",
    "    return outWords\n",
    "\n",
    "userInput = \"In a deeply personal, honest, and candid interview, Mr. Ratan Tata reveals what defines him as a person; his dreams for an equal opportunity India; and his advice for the young generation of aspiring Indians who look up to the Chairman Emeritus of Tata Sons and Chairman of the Tata Trusts.\"\n",
    "n = 4\n",
    "print(f\"Words greater than length {n} are:\\n\")\n",
    "print(*filter_long_words(userInput, n), sep=\", \", end =\".\")"
   ]
  },
  {
   "cell_type": "markdown",
   "metadata": {},
   "source": [
    "Question 2.1:<br>\n",
    "Write a Python program using function concept that maps list of words into a list of integers\n",
    "representing the lengths of the corresponding words​.\n",
    "\n",
    "Hint: ​If a list [ ab,cde,erty] is passed on to the python function output should come as [2,3,4] \n",
    "\n",
    "Here 2,3 and 4 are the lengths of the words in the list."
   ]
  },
  {
   "cell_type": "markdown",
   "metadata": {},
   "source": [
    "Solution:"
   ]
  },
  {
   "cell_type": "code",
   "execution_count": 11,
   "metadata": {},
   "outputs": [
    {
     "name": "stdout",
     "output_type": "stream",
     "text": [
      "[2, 3, 4]\n"
     ]
    }
   ],
   "source": [
    "def wordLength(userList):\n",
    "    \"\"\"\n",
    "    Method to find lengths of words in a list\n",
    "    \n",
    "    Arguments:\n",
    "    userList - A user defined list of any lenght\n",
    "    \n",
    "    Output:\n",
    "    A list with length of each word in user entered list\n",
    "    \"\"\"\n",
    "    return list(map(len, userInput))\n",
    "\n",
    "userInput = [\"ab\", \"cde\", \"erty\"]\n",
    "\n",
    "print(wordLength(userInput))"
   ]
  },
  {
   "cell_type": "markdown",
   "metadata": {},
   "source": [
    "Question 2.2:<br>\n",
    "Write a Python function which takes a character (i.e. a string of length 1) and returns True if it is a vowel, False otherwise.\n",
    "\n",
    "__NOTE: The solution shared through Github should contain the sourcecode used and the screenshot of the output.__"
   ]
  },
  {
   "cell_type": "markdown",
   "metadata": {},
   "source": [
    "Solution:"
   ]
  },
  {
   "cell_type": "code",
   "execution_count": 12,
   "metadata": {},
   "outputs": [
    {
     "name": "stdout",
     "output_type": "stream",
     "text": [
      "Enter a character: e\n",
      "True\n"
     ]
    }
   ],
   "source": [
    "#using exception handling to ensure the program accepts only a single character input\n",
    "#any deviation in entered input will raise an error\n",
    "\n",
    "def isVowel(character):\n",
    "    \"\"\"\n",
    "    A method that checks if the user input is a valid character and if it is a vowel\n",
    "    \n",
    "    Argument:\n",
    "    character: any user input\n",
    "    \n",
    "    Output:\n",
    "    A boolean value representing if the character is a vowel or not\n",
    "    Raises exception of the user input is not a single character\n",
    "    \"\"\"\n",
    "    vowels = \"aeiou\"\n",
    "\n",
    "    try:\n",
    "        userInput = character\n",
    "        if len(userInput) > 1 or not userInput.isalpha():\n",
    "            raise\n",
    "        if userInput.lower() in vowels:\n",
    "            return True\n",
    "        else:\n",
    "            return False\n",
    "    except:\n",
    "        return f\"{userInput} is not a single character, please try again.\"\n",
    "    \n",
    "print(isVowel(input(\"Enter a character: \")))\n"
   ]
  }
 ],
 "metadata": {
  "kernelspec": {
   "display_name": "Python 3",
   "language": "python",
   "name": "python3"
  },
  "language_info": {
   "codemirror_mode": {
    "name": "ipython",
    "version": 3
   },
   "file_extension": ".py",
   "mimetype": "text/x-python",
   "name": "python",
   "nbconvert_exporter": "python",
   "pygments_lexer": "ipython3",
   "version": "3.7.3"
  }
 },
 "nbformat": 4,
 "nbformat_minor": 2
}
