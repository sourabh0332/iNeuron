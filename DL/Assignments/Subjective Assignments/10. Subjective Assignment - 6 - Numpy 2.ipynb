{
 "cells": [
  {
   "cell_type": "markdown",
   "metadata": {},
   "source": [
    "# Assignment"
   ]
  },
  {
   "cell_type": "markdown",
   "metadata": {},
   "source": [
    "Q1. Write the NumPy program to create an array of ones and an array\n",
    "of zeros?\n",
    "\n",
    "    Expected OutputCreate an array of zeros\n",
    "    Default type is float\n",
    "    [[ 0. 0.]]\n",
    "    Type changes to int\n",
    "    [[0 0]]\n",
    "    Create an array of ones\n",
    "    Default type is float\n",
    "    [[ 1. 1.]]\n",
    "    Type changes to int\n",
    "    [[1 1]]"
   ]
  },
  {
   "cell_type": "code",
   "execution_count": 8,
   "metadata": {},
   "outputs": [
    {
     "name": "stdout",
     "output_type": "stream",
     "text": [
      "[[1 1]]\n",
      "[[0 0]]\n"
     ]
    }
   ],
   "source": [
    "import numpy as np\n",
    "\n",
    "ones = np.ones((1,2))\n",
    "zeros = np.zeros((1,2))\n",
    "print(ones.astype(int))\n",
    "print(zeros.astype(int))"
   ]
  },
  {
   "cell_type": "markdown",
   "metadata": {},
   "source": [
    "Q2. Write the NumPy program to change the dimension of an array?\n",
    "\n",
    "    Expected Output6 rows and 0 columns\n",
    "    (6,)\n",
    "    (3, 3) -> 3 rows and 3 columns\n",
    "    [[1 2 3]\n",
    "    [4 5 6]\n",
    "    [7 8 9]]\n",
    "    Change array shape to (3, 3) -> 3 rows and 3 columns\n",
    "    [[1 2 3]\n",
    "    [4 5 6]\n",
    "    [7 8 9]]"
   ]
  },
  {
   "cell_type": "code",
   "execution_count": 12,
   "metadata": {},
   "outputs": [
    {
     "name": "stdout",
     "output_type": "stream",
     "text": [
      "Initial array [1 2 3 4 5 6 7 8 9]\n",
      "Reshaping array to 3x3 [[1 2 3]\n",
      " [4 5 6]\n",
      " [7 8 9]]\n"
     ]
    }
   ],
   "source": [
    "import numpy as np\n",
    "\n",
    "print('Initial array', arr)\n",
    "arr = np.arange(1, 10)\n",
    "print('Reshaping array to 3x3', arr.reshape((3,3)))"
   ]
  },
  {
   "cell_type": "markdown",
   "metadata": {},
   "source": [
    "Q3. Write the NumPy program to create a new shape to an array\n",
    "without changing its data ?\n",
    "\n",
    "    Reshape 3x2-\n",
    "    [[1 2]\n",
    "    [3 4]\n",
    "    [5 6]]\n",
    "    Reshape 2x3-\n",
    "    [[1 2 3]\n",
    "    [4 5 6]]"
   ]
  },
  {
   "cell_type": "code",
   "execution_count": 15,
   "metadata": {},
   "outputs": [
    {
     "name": "stdout",
     "output_type": "stream",
     "text": [
      "[[1 2]\n",
      " [3 4]\n",
      " [5 6]]\n",
      "[[1 2 3]\n",
      " [4 5 6]]\n"
     ]
    }
   ],
   "source": [
    "import numpy as np\n",
    "\n",
    "arr = np.arange(1,7)\n",
    "print(arr.reshape(3,2))\n",
    "print(arr.reshape(2,3))"
   ]
  },
  {
   "cell_type": "markdown",
   "metadata": {},
   "source": [
    "Q4. Write the NumPy program to create a new array of 3*5, filled with\n",
    "2?\n",
    "\n",
    "    Expected Output-\n",
    "    [[2 2 2 2 2]\n",
    "    [2 2 2 2 2]\n",
    "    [2 2 2 2 2]]"
   ]
  },
  {
   "cell_type": "code",
   "execution_count": 17,
   "metadata": {},
   "outputs": [
    {
     "data": {
      "text/plain": [
       "array([[2, 2, 2, 2, 2],\n",
       "       [2, 2, 2, 2, 2],\n",
       "       [2, 2, 2, 2, 2]])"
      ]
     },
     "execution_count": 17,
     "metadata": {},
     "output_type": "execute_result"
    }
   ],
   "source": [
    "import numpy as np\n",
    "\n",
    "arr = np.full((3,5),2)\n",
    "arr"
   ]
  },
  {
   "cell_type": "markdown",
   "metadata": {},
   "source": [
    "Q5. Write the NumPy program to create a 3-D array with ones on a\n",
    "diagonal and zeros elsewhere?\n",
    "\n",
    "    Expected Output-\n",
    "    [[ 1. 0. 0.]\n",
    "    [ 0. 1. 0.]\n",
    "    [ 0. 0. 1.]]"
   ]
  },
  {
   "cell_type": "code",
   "execution_count": 18,
   "metadata": {},
   "outputs": [
    {
     "data": {
      "text/plain": [
       "array([[1., 0., 0.],\n",
       "       [0., 1., 0.],\n",
       "       [0., 0., 1.]])"
      ]
     },
     "execution_count": 18,
     "metadata": {},
     "output_type": "execute_result"
    }
   ],
   "source": [
    "import numpy as np\n",
    "\n",
    "arr = np.eye(3,3)\n",
    "arr"
   ]
  },
  {
   "cell_type": "markdown",
   "metadata": {},
   "source": [
    "Q6. Write the NumPy program to split an array of 14 elements into the\n",
    "3 arrays and each of which has 2, 4, and 8 elements in original\n",
    "order?\n",
    "\n",
    "    Expected OutputOriginal array- [ 1 2 3 4 5 6 7 8 9 10 11 12 13 14]\n",
    "    After splitting-\n",
    "    [array([1, 2]), array([3, 4, 5, 6]), array([ 7, 8, 9, 10, 11, 12, 13, 14])]"
   ]
  },
  {
   "cell_type": "code",
   "execution_count": 21,
   "metadata": {},
   "outputs": [
    {
     "data": {
      "text/plain": [
       "[array([1, 2]), array([3, 4, 5, 6]), array([ 7,  8,  9, 10, 11, 12, 13, 14])]"
      ]
     },
     "execution_count": 21,
     "metadata": {},
     "output_type": "execute_result"
    }
   ],
   "source": [
    "import numpy as np\n",
    "\n",
    "arr = np.arange(1,15)\n",
    "np.split(arr,[2, 6])"
   ]
  },
  {
   "cell_type": "markdown",
   "metadata": {},
   "source": [
    "Q7. Write the NumPy program to split of an array of shape 4x4 it into\n",
    "two arrays along the second axis ?\n",
    "\n",
    "    Sample array -\n",
    "    [[ 0 1 2 3]\n",
    "    [ 4 5 6 7]\n",
    "    [ 8 9 10 11]\n",
    "    [12 13 14 15]]\n",
    "    Expected Output-\n",
    "    [array([[ 0, 1],\n",
    "    [ 4, 5],\n",
    "    [ 8, 9],\n",
    "    [12, 13]]), array([[ 2, 3],\n",
    "    [ 6, 7],\n",
    "    [10, 11],\n",
    "    [14, 15]]), array([], shape=(4, 0), dtype=int64)]"
   ]
  },
  {
   "cell_type": "code",
   "execution_count": 25,
   "metadata": {},
   "outputs": [
    {
     "data": {
      "text/plain": [
       "[array([[ 0,  1],\n",
       "        [ 4,  5],\n",
       "        [ 8,  9],\n",
       "        [12, 13]]), array([[ 2,  3],\n",
       "        [ 6,  7],\n",
       "        [10, 11],\n",
       "        [14, 15]])]"
      ]
     },
     "execution_count": 25,
     "metadata": {},
     "output_type": "execute_result"
    }
   ],
   "source": [
    "import numpy as np\n",
    "\n",
    "arr = np.arange(16).reshape(4,4)\n",
    "np.split(arr, [2], axis = 1)"
   ]
  },
  {
   "cell_type": "markdown",
   "metadata": {},
   "source": [
    "Q8. Write the NumPy program to create a 5x5 matrix with row values\n",
    "ranging from 0 to 4?\n",
    "\n",
    "    Original array-\n",
    "    [[ 0. 0. 0. 0. 0.]\n",
    "    [ 0. 0. 0. 0. 0.]\n",
    "    [ 0. 0. 0. 0. 0.]\n",
    "    [ 0. 0. 0. 0. 0.]\n",
    "    [ 0. 0. 0. 0. 0.]]\n",
    "    Row values ranging from 0 to 4.\n",
    "    [[ 0. 1. 2. 3. 4.]\n",
    "    [ 0. 1. 2. 3. 4.]\n",
    "    [ 0. 1. 2. 3. 4.]\n",
    "    [ 0. 1. 2. 3. 4.]\n",
    "    [ 0. 1. 2. 3. 4.]]"
   ]
  },
  {
   "cell_type": "code",
   "execution_count": 28,
   "metadata": {},
   "outputs": [
    {
     "data": {
      "text/plain": [
       "array([[0., 1., 2., 3., 4.],\n",
       "       [0., 1., 2., 3., 4.],\n",
       "       [0., 1., 2., 3., 4.],\n",
       "       [0., 1., 2., 3., 4.],\n",
       "       [0., 1., 2., 3., 4.]])"
      ]
     },
     "execution_count": 28,
     "metadata": {},
     "output_type": "execute_result"
    }
   ],
   "source": [
    "import numpy as np\n",
    "\n",
    "arr = np.zeros((5,5)) + np.arange(5)\n",
    "arr"
   ]
  },
  {
   "cell_type": "markdown",
   "metadata": {},
   "source": [
    "Q9. Write the NumPy program to create an array of zeros and three\n",
    "column types (integer, float, character)?\n",
    "\n",
    "    Expected Output-\n",
    "    [(1, 2., b'Albert Einstein') (2, 2., b'Edmond Halley')\n",
    "    (3, 3., b'Gertrude B. Elion')]"
   ]
  },
  {
   "cell_type": "code",
   "execution_count": 34,
   "metadata": {},
   "outputs": [
    {
     "data": {
      "text/plain": [
       "array([(1, 2., b'Albert Einstein'), (2, 2., b'Edmond Halley'),\n",
       "       (3, 3., b'Gertrude B. Elion')],\n",
       "      dtype=[('f0', '<i4'), ('f1', '<f4'), ('f2', 'S40')])"
      ]
     },
     "execution_count": 34,
     "metadata": {},
     "output_type": "execute_result"
    }
   ],
   "source": [
    "import numpy as np\n",
    "\n",
    "arr = np.empty((3,), dtype=('i4,f4,a40'))\n",
    "data = [(1, 2., \"Albert Einstein\"), (2, 2., \"Edmond Halley\"), (3, 3., \"Gertrude B. Elion\")]\n",
    "arr[:] = data\n",
    "arr"
   ]
  },
  {
   "cell_type": "markdown",
   "metadata": {},
   "source": [
    "Q10. Write the NumPy program to remove the negative values in the\n",
    "numpy array with 0?\n",
    "\n",
    "    Expected OutputOriginal array:\n",
    "    [-1 -4 0 2 3 4 5 -6]\n",
    "    Replace the negative values of the said array with 0-\n",
    "    [0 0 0 2 3 4 5 0]"
   ]
  },
  {
   "cell_type": "code",
   "execution_count": 39,
   "metadata": {},
   "outputs": [
    {
     "data": {
      "text/plain": [
       "array([0, 0, 0, 2, 3, 4, 5, 0])"
      ]
     },
     "execution_count": 39,
     "metadata": {},
     "output_type": "execute_result"
    }
   ],
   "source": [
    "import numpy as np\n",
    "\n",
    "arr = np.array([-1, -4, 0, 2, 3, 4, 5, -6])\n",
    "arr[arr < 0] = 0\n",
    "arr"
   ]
  },
  {
   "cell_type": "markdown",
   "metadata": {},
   "source": [
    "Q11. Write the NumPy program to compute the histogram of a set of\n",
    "data?"
   ]
  },
  {
   "cell_type": "code",
   "execution_count": 41,
   "metadata": {},
   "outputs": [
    {
     "data": {
      "text/plain": [
       "(array([0., 2., 1., 0.]), array([0, 1, 2, 3, 5]), <a list of 4 Patch objects>)"
      ]
     },
     "execution_count": 41,
     "metadata": {},
     "output_type": "execute_result"
    },
    {
     "data": {
      "image/png": "[encoded data removed]",
      "text/plain": [
       "<Figure size 432x288 with 1 Axes>"
      ]
     },
     "metadata": {
      "needs_background": "light"
     },
     "output_type": "display_data"
    }
   ],
   "source": [
    "import numpy as np    \n",
    "import matplotlib.pyplot as plt\n",
    "\n",
    "plt.hist([1, 2, 1], bins=[0, 1, 2, 3, 5])\n"
   ]
  },
  {
   "cell_type": "markdown",
   "metadata": {},
   "source": [
    "Q12. Write the NumPy program to compute the line graph of a set of\n",
    "data?"
   ]
  },
  {
   "cell_type": "code",
   "execution_count": 64,
   "metadata": {},
   "outputs": [
    {
     "data": {
      "text/plain": [
       "[<matplotlib.lines.Line2D at 0x11a44b9b0>]"
      ]
     },
     "execution_count": 64,
     "metadata": {},
     "output_type": "execute_result"
    },
    {
     "data": {
      "image/png": "[encoded data removed]",
      "text/plain": [
       "<Figure size 432x288 with 1 Axes>"
      ]
     },
     "metadata": {
      "needs_background": "light"
     },
     "output_type": "display_data"
    }
   ],
   "source": [
    "import numpy as np    \n",
    "import matplotlib.pyplot as plt\n",
    "\n",
    "arr = np.random.randint(1, 50, 10)\n",
    "y, x = np.histogram(arr, bins=np.arange(51))\n",
    "fig, ax = plt.subplots()\n",
    "ax.plot(x[1:], y)\n"
   ]
  },
  {
   "cell_type": "markdown",
   "metadata": {},
   "source": [
    "Q13. Write the NumPy program to extracts all the elements from second\n",
    "row from given (4x4) array?\n",
    "    \n",
    "    Sample OutputOriginal array-\n",
    "    [[ 0 1 2 3]\n",
    "    [ 4 5 6 7]\n",
    "    [ 8 9 10 11]\n",
    "    [12 13 14 15]]\n",
    "    Extracted data- Second row\n",
    "    [4 5 6 7]"
   ]
  },
  {
   "cell_type": "code",
   "execution_count": 67,
   "metadata": {},
   "outputs": [
    {
     "data": {
      "text/plain": [
       "array([4, 5, 6, 7])"
      ]
     },
     "execution_count": 67,
     "metadata": {},
     "output_type": "execute_result"
    }
   ],
   "source": [
    "import numpy as np\n",
    "\n",
    "arr = np.arange(16).reshape((4,4))\n",
    "arr[1]"
   ]
  },
  {
   "cell_type": "markdown",
   "metadata": {},
   "source": [
    "Q14. Write the NumPy program to extract first element of the second\n",
    "row and fourth element of fourth row from a given (4x4) array?\n",
    "\n",
    "    Sample OutputOriginal array-\n",
    "    [[ 0 1 2 3]\n",
    "    [ 4 5 6 7]\n",
    "    [ 8 9 10 11]\n",
    "    [12 13 14 15]]\n",
    "    Extracted data- First element of the second row and fourth element of fourth row\n",
    "    [ 4 15]\n"
   ]
  },
  {
   "cell_type": "code",
   "execution_count": 69,
   "metadata": {},
   "outputs": [
    {
     "data": {
      "text/plain": [
       "array([ 4, 15])"
      ]
     },
     "execution_count": 69,
     "metadata": {},
     "output_type": "execute_result"
    }
   ],
   "source": [
    "import numpy as np\n",
    "\n",
    "arr = np.arange(16).reshape((4,4))\n",
    "arr[[1,-1],[0,-1]]"
   ]
  },
  {
   "cell_type": "markdown",
   "metadata": {},
   "source": [
    "Q15. Write the NumPy program to add two arrays A and B of sizes (3,3)\n",
    "and (,3)?\n",
    "\n",
    "    Sample OutputOriginal arrayArray-1\n",
    "    [[1 1 1]\n",
    "    [1 1 1]\n",
    "    [1 1 1]]\n",
    "    Array-2\n",
    "    [0 1 2]\n",
    "    A + B:\n",
    "    [[1 2 3]\n",
    "    [1 2 3]\n",
    "    [1 2 3]]"
   ]
  },
  {
   "cell_type": "code",
   "execution_count": 72,
   "metadata": {},
   "outputs": [
    {
     "name": "stdout",
     "output_type": "stream",
     "text": [
      "original\n",
      " [[1. 1. 1.]\n",
      " [1. 1. 1.]\n",
      " [1. 1. 1.]]\n",
      "Adding\n",
      " [0 1 2]\n",
      "Final\n",
      " [[1. 2. 3.]\n",
      " [1. 2. 3.]\n",
      " [1. 2. 3.]]\n"
     ]
    }
   ],
   "source": [
    "import numpy as np\n",
    "\n",
    "arr = np.ones((3,3))\n",
    "print('original\\n',arr)\n",
    "add = np.arange(3)\n",
    "print('Adding\\n',add)\n",
    "print('Final\\n',arr+add)"
   ]
  },
  {
   "cell_type": "markdown",
   "metadata": {},
   "source": [
    "Q16. Write the NumPy program to copy data from a given array to\n",
    "another array?\n",
    "\n",
    "    Sample OutputOriginal array-\n",
    "    [24 27 30 29 18 14]\n",
    "    Copy of the said array-\n",
    "    [24 27 30 29 18 14]"
   ]
  },
  {
   "cell_type": "code",
   "execution_count": 74,
   "metadata": {},
   "outputs": [
    {
     "data": {
      "text/plain": [
       "array([24, 27, 30, 29, 18, 14])"
      ]
     },
     "execution_count": 74,
     "metadata": {},
     "output_type": "execute_result"
    }
   ],
   "source": [
    "import numpy as np\n",
    "\n",
    "arr = np.array([24, 27, 30, 29, 18, 14])\n",
    "arrC = arr.copy()\n",
    "arrC"
   ]
  },
  {
   "cell_type": "markdown",
   "metadata": {},
   "source": [
    "Q17. Write the NumPy program to calculate the sum of all columns of\n",
    "the 2D numpy array?\n",
    "    \n",
    "    Sample OutputOriginal array-\n",
    "    [[ 0 1 2 3 4 5 6 7 8]\n",
    "    [ 9 10 11 12 13 14 15 16 17]\n",
    "    [18 19 20 21 22 23 24 25 26]\n",
    "    [27 28 29 30 31 32 33 34 35]]\n",
    "    Sum of all columns-\n",
    "    [54 58 62 66 70 74 78 82 86]"
   ]
  },
  {
   "cell_type": "code",
   "execution_count": 77,
   "metadata": {},
   "outputs": [
    {
     "data": {
      "text/plain": [
       "array([54, 58, 62, 66, 70, 74, 78, 82, 86])"
      ]
     },
     "execution_count": 77,
     "metadata": {},
     "output_type": "execute_result"
    }
   ],
   "source": [
    "import numpy as np\n",
    "\n",
    "arr = np.arange(36).reshape(4,-1)\n",
    "arr.sum(axis = 0)"
   ]
  },
  {
   "cell_type": "markdown",
   "metadata": {},
   "source": [
    "Q18. Write the NumPy program to calculate averages without NaNs\n",
    "along the given array?\n",
    "    \n",
    "    Sample OutputOriginal array-\n",
    "    [[10. 20. 30.]\n",
    "    [40. 50. nan]\n",
    "    [nan 6. nan]\n",
    "    [nan nan nan]]\n",
    "    Averages without NaNs along the said array-\n",
    "    [20. 45. 6. nan]"
   ]
  },
  {
   "cell_type": "code",
   "execution_count": 92,
   "metadata": {},
   "outputs": [
    {
     "data": {
      "text/plain": [
       "array([20., 45.,  6., nan])"
      ]
     },
     "execution_count": 92,
     "metadata": {},
     "output_type": "execute_result"
    }
   ],
   "source": [
    "import numpy as np\n",
    "\n",
    "arr = np.array([[10, 20, 30], [40, 50, np.nan], [np.nan, 6, np.nan], [np.nan, np.nan, np.nan]])\n",
    "temp = np.ma.masked_array(arr,np.isnan(arr))\n",
    "result = np.mean(temp, axis=1)\n",
    "result.filled(np.nan)\n"
   ]
  },
  {
   "cell_type": "markdown",
   "metadata": {},
   "source": [
    "## Great Job!"
   ]
  }
 ],
 "metadata": {
  "kernelspec": {
   "display_name": "Python 3",
   "language": "python",
   "name": "python3"
  },
  "language_info": {
   "codemirror_mode": {
    "name": "ipython",
    "version": 3
   },
   "file_extension": ".py",
   "mimetype": "text/x-python",
   "name": "python",
   "nbconvert_exporter": "python",
   "pygments_lexer": "ipython3",
   "version": "3.7.3"
  }
 },
 "nbformat": 4,
 "nbformat_minor": 2
}
