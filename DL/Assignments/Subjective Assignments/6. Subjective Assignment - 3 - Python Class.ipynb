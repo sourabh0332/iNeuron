{
 "cells": [
  {
   "cell_type": "markdown",
   "metadata": {},
   "source": [
    "# Assignment"
   ]
  },
  {
   "cell_type": "markdown",
   "metadata": {},
   "source": [
    "Q1. Write the Python class to convert an integer to a roman numeral?"
   ]
  },
  {
   "cell_type": "code",
   "execution_count": 18,
   "metadata": {},
   "outputs": [
    {
     "name": "stdout",
     "output_type": "stream",
     "text": [
      "Integer value 145 in roman numeral format is CXLV\n"
     ]
    }
   ],
   "source": [
    "class IntToRoman(object):\n",
    "    def __init__(self, num):\n",
    "        self.num = num\n",
    "        self.roman = IntToRoman.getRoman(self)\n",
    "        \n",
    "    def getRoman(self):\n",
    "        return self.roman\n",
    "    \n",
    "    def getNum(self):\n",
    "        return self.num\n",
    "    \n",
    "    def getRoman(self):\n",
    "        symbols = [\"M\", \"CM\", \"D\", \"CD\", \"C\", \"XC\",\"L\", \"XL\", \"X\", \"IX\", \"V\", \"IV\", \"I\"]\n",
    "        numbers = [1000, 900, 500, 400, 100, 90, 50, 40, 10, 9, 5, 4, 1]\n",
    "        toConvert = IntToRoman.getNum(self)\n",
    "        roman = ''\n",
    "        \n",
    "        for i in range(len(numbers)):\n",
    "            while toConvert//numbers[i] != 0:\n",
    "                #print(toConvert, numbers[i], i, toConvert//numbers[i])\n",
    "                roman = roman+(symbols[i]*(toConvert//numbers[i]))\n",
    "                toConvert = toConvert%numbers[i]\n",
    "                #print(roman, toConvert)    \n",
    "        return roman\n",
    "\n",
    "roman1 = IntToRoman(145)                \n",
    "print(f'Integer value {roman1.getNum()} in roman numeral format is {roman1.getRoman()}')"
   ]
  },
  {
   "cell_type": "markdown",
   "metadata": {},
   "source": [
    "Q2 Write the Python class to convert a Roman numeral to an integer?\n"
   ]
  },
  {
   "cell_type": "code",
   "execution_count": 22,
   "metadata": {},
   "outputs": [
    {
     "name": "stdout",
     "output_type": "stream",
     "text": [
      "Roman numeral CXLV in integer format is 145\n"
     ]
    }
   ],
   "source": [
    "class IntToRoman(object):\n",
    "    def __init__(self, roman):\n",
    "        self.roman = roman\n",
    "        self.num = IntToRoman.getNum(self)\n",
    "        \n",
    "    def getRoman(self):\n",
    "        return self.roman\n",
    "    \n",
    "    def getNum(self):\n",
    "        return self.num\n",
    "    \n",
    "    def getNum(self):\n",
    "        symbols = [\"M\", \"CM\", \"D\", \"CD\", \"C\", \"XC\",\"L\", \"XL\", \"X\", \"IX\", \"V\", \"IV\", \"I\"]\n",
    "        numbers = [1000, 900, 500, 400, 100, 90, 50, 40, 10, 9, 5, 4, 1]\n",
    "        toConvert = IntToRoman.getRoman(self)\n",
    "        num = 0\n",
    "        i = 0\n",
    "        \n",
    "        while len(toConvert) > 0:\n",
    "            if toConvert[0] == symbols[i]:\n",
    "                num += numbers[i]\n",
    "                toConvert = toConvert[1:]\n",
    "            elif toConvert[0:2] == symbols[i]:\n",
    "                num += numbers[i]\n",
    "                toConvert = toConvert[2:]\n",
    "            i += 1\n",
    "        return num\n",
    "\n",
    "roman1 = IntToRoman('CXLV')                \n",
    "print(f'Roman numeral {roman1.getRoman()} in integer format is {roman1.getNum()}')"
   ]
  },
  {
   "cell_type": "markdown",
   "metadata": {},
   "source": [
    "Q3. Write the Python class to find the validity of the string of the\n",
    "parentheses, '(', ')', '{', '}', '[' and '] and the brackets must be closed\n",
    "in the correct order, example - \"()\" and \"()[]{}\" are valid but \"[)\",\n",
    "\"({[)]\" and \"{{{\" are invalid.\n"
   ]
  },
  {
   "cell_type": "code",
   "execution_count": 28,
   "metadata": {},
   "outputs": [
    {
     "name": "stdout",
     "output_type": "stream",
     "text": [
      "[[[1,2,3], [4,5,6]], [6,5,4]] is a valid string\n",
      "[[[1,2,3], [4,5,6]], [6,5,4] is an invalid string\n",
      "{1,2,3,4,5} is a valid string\n",
      "{1,2,3,4,5 is an invalid string\n",
      "[[[{]}]] is an invalid string\n"
     ]
    }
   ],
   "source": [
    "class StringValidation(object):\n",
    "    \"\"\"\n",
    "    A class of object type StringValidation\n",
    "    \n",
    "    Class variables:\n",
    "    string - a string of any length \n",
    "    isValid - a variable that stores information if the string variable is of valid format or not\n",
    "    \"\"\"\n",
    "    def __init__(self, string):\n",
    "        \"\"\"\n",
    "        A method to initialise string variable of class object and pre-compute if the string is a valid one.\n",
    "        \"\"\"\n",
    "        self.string = string\n",
    "        self.isValid = StringValidation.findValidity(self)\n",
    "\n",
    "    def findValidity(self):\n",
    "        \"\"\"\n",
    "        A method to validate brackets order and count\n",
    "    \n",
    "        Arguments:\n",
    "        A string of any length\n",
    "    \n",
    "        Output:\n",
    "        Returns a \"Valid string\" if the order and count of brackets and order is valid else \"Invalid string\"\n",
    "        \"\"\"\n",
    "        userString = self.string\n",
    "    \n",
    "        openSequence = \"\"\n",
    "        opens = \"[{(\"\n",
    "        closes = \"]})\"\n",
    "        dictBrackets = {\"{\":\"}\", \"[\":\"]\", \"(\":\")\"}\n",
    "    \n",
    "        for alphabet in userString:\n",
    "            if alphabet in opens:\n",
    "                openSequence += alphabet\n",
    "            if alphabet in closes:\n",
    "                if dictBrackets[openSequence[-1]] != alphabet:\n",
    "                    return f\"{userString} is an invalid string\"\n",
    "                else:\n",
    "                    openSequence = openSequence[:-1]\n",
    "        if openSequence == \"\":\n",
    "            return f\"{userString} is a valid string\"\n",
    "        return f\"{userString} is an invalid string\"\n",
    "\n",
    "                \n",
    "\n",
    "userString1 = StringValidation(\"[[[1,2,3], [4,5,6]], [6,5,4]]\")\n",
    "userString2 = StringValidation(\"[[[1,2,3], [4,5,6]], [6,5,4]\")\n",
    "userString3 = StringValidation(\"{1,2,3,4,5}\")\n",
    "userString4 = StringValidation(\"{1,2,3,4,5\")\n",
    "userString5 = StringValidation(\"[[[{]}]]\")\n",
    "\n",
    "print(userString1.isValid)\n",
    "print(userString2.isValid)\n",
    "print(userString3.isValid)\n",
    "print(userString4.isValid)\n",
    "print(userString5.isValid)\n",
    "\n"
   ]
  },
  {
   "cell_type": "markdown",
   "metadata": {},
   "source": [
    "Q4. Write the Python class to get all possible unique subsets from a set\n",
    "of distinct integers?\n",
    "\n",
    "    Input - [4, 5, 6]\n",
    "    Output - [[], [6], [5], [5, 6], [4], [4, 6], [4, 5], [4, 5, 6]]"
   ]
  },
  {
   "cell_type": "code",
   "execution_count": 29,
   "metadata": {},
   "outputs": [
    {
     "name": "stdout",
     "output_type": "stream",
     "text": [
      "[[], [4], [5], [6], [4, 5], [4, 6], [5, 6], [4, 5, 6]]\n"
     ]
    }
   ],
   "source": [
    "from itertools import combinations\n",
    "\n",
    "class Subsets(object):\n",
    "    \"\"\"\n",
    "    A class of object type Subsets\n",
    "    \n",
    "    Class variables:\n",
    "    list - a list of any length \n",
    "    \"\"\"\n",
    "    def __init__(self, userList):\n",
    "        \"\"\"\n",
    "        A method to initialise list variable of class object.\n",
    "        \"\"\"\n",
    "        self.list = userList\n",
    "        \n",
    "    def getList(self):\n",
    "        \"\"\"\n",
    "        A method that returns the list variable\n",
    "        \"\"\"\n",
    "        return self.list\n",
    "    \n",
    "    def computeSubsets(self):\n",
    "        \"\"\"\n",
    "        A method that computes all possible subsets of a given list\n",
    "        \n",
    "        Arguments:\n",
    "        None passed to function\n",
    "        \n",
    "        Output:\n",
    "        A list of all possible subsets of list variable of class object\n",
    "        \"\"\"\n",
    "        userList = self.getList()\n",
    "        subsets = []\n",
    "        for i in range(len(userList)+1):\n",
    "            for list1 in list(map(list,combinations(userList,i))):\n",
    "                subsets.append(list1)\n",
    "        return subsets\n",
    "    \n",
    "list1 = Subsets([4, 5, 6])\n",
    "\n",
    "print(list1.computeSubsets())"
   ]
  },
  {
   "cell_type": "markdown",
   "metadata": {},
   "source": [
    "Q5. Write the Python class to find a pair of elements (indices of the two\n",
    "numbers) from a given array whose sum equals the specific target\n",
    "number?\n",
    "\n",
    "    Input: numbers- [10,20,10,40,50,60,70], target=50\n",
    "    Output- 3, 4"
   ]
  },
  {
   "cell_type": "code",
   "execution_count": 30,
   "metadata": {},
   "outputs": [
    {
     "name": "stdout",
     "output_type": "stream",
     "text": [
      "Pairs of index numbers in [10, 10, 20, 40, 40, 50, 60, 70] that add up to 50 is [[0, 4], [1, 3]]\n"
     ]
    }
   ],
   "source": [
    "class SumPairs(object):\n",
    "    \"\"\"\n",
    "    A class of object type SumPairs\n",
    "    \n",
    "    Class variables:\n",
    "    list - a list of any length \n",
    "    \"\"\"\n",
    "    def __init__(self, userList):\n",
    "        \"\"\"\n",
    "        A method to initialise list variable of class object.\n",
    "        \"\"\"\n",
    "        self.list = userList\n",
    "        \n",
    "    def getList(self):\n",
    "        \"\"\"\n",
    "        A method that returns the list variable\n",
    "        \"\"\"\n",
    "        return self.list\n",
    "        \n",
    "    def findPairs(self, target):\n",
    "        \"\"\"\n",
    "        A method to find indexes of pairs of numbers that add up to a set target\n",
    "        \n",
    "        Arguments:\n",
    "        target - a target number to use so that a pair of numbers from list add up to this target number\n",
    "        \n",
    "        Output:\n",
    "        pairs of indexes of numbers in list variable\n",
    "        \"\"\"\n",
    "        userList = SumPairs.getList(self)\n",
    "        target = target\n",
    "        userList = sorted(userList)\n",
    "        results = []\n",
    "        found = False\n",
    "        taken = []\n",
    "        \n",
    "        for i in range(len(userList)-1,-1,-1):\n",
    "            for j in range(0, i):\n",
    "                if userList[i] > target:\n",
    "                    break\n",
    "                if userList[i] + userList[j] == target and i not in taken and j not in taken:\n",
    "                    results.append([j,i])\n",
    "                    taken.append(i)\n",
    "                    taken.append(j)\n",
    "                    found = True\n",
    "                    break\n",
    "            if found:\n",
    "                found = False\n",
    "        return results\n",
    "                \n",
    "list1 = SumPairs([10, 20, 10, 40, 50, 60, 40, 70])\n",
    "target = 50\n",
    "print(f\"Pairs of index numbers in {sorted(list1.getList())} that add up to {target} is {list1.findPairs(target)}\")\n",
    "\n"
   ]
  },
  {
   "cell_type": "markdown",
   "metadata": {},
   "source": [
    "Q6. Write the Python class to find the three elements that sum to zero\n",
    "from the set of n real numbers?\n",
    "\n",
    "    Input array- [-25, -10, -7, -3, 2, 4, 8, 10]\n",
    "    Output - [[-10, 2, 8], [-7, -3, 10]]\n"
   ]
  },
  {
   "cell_type": "code",
   "execution_count": 31,
   "metadata": {},
   "outputs": [
    {
     "name": "stdout",
     "output_type": "stream",
     "text": [
      "[[-10, 2, 8], [10, -7, -3]]\n"
     ]
    }
   ],
   "source": [
    "class Triples(object):\n",
    "    \"\"\"\n",
    "    A class of object type Triples\n",
    "    \n",
    "    Class variables:\n",
    "    list - a list of any length \n",
    "    \"\"\"\n",
    "    def __init__(self, userList):\n",
    "        \"\"\"\n",
    "        A method to initialise list variable of class object.\n",
    "        \"\"\"\n",
    "        self.list = userList\n",
    "        \n",
    "    def getList(self):\n",
    "        \"\"\"\n",
    "        A method that returns the list variable\n",
    "        \"\"\"\n",
    "        return self.list\n",
    "        \n",
    "    def findTriples(self):\n",
    "        \"\"\"\n",
    "        A method to find three numbers that add up to 0.\n",
    "        \n",
    "        Arguments:\n",
    "        None\n",
    "        \n",
    "        Output:\n",
    "        A list of various lists of three numbers that each add up to 0\n",
    "        \"\"\"\n",
    "        userList = Triples.getList(self)\n",
    "        userListN = sorted([x for x in userList if x<0])\n",
    "        userList0 = [x for x in userList if x == 0]\n",
    "        userListP = sorted([x for x in userList if x>0])\n",
    "        pairs = []\n",
    "        removeNegatives = []\n",
    "        removePositives = []\n",
    "        \n",
    "        for element in userListN:\n",
    "            if len(userList0) > 0:\n",
    "                try:\n",
    "                    loc2 = userListP.index(abs(element))\n",
    "                    pairs.append([element, userListP[loc2], 0])\n",
    "                    userListP.remove(userListP[loc2])\n",
    "                    userList0.remove(0) \n",
    "                except:\n",
    "                    pass\n",
    "            else:\n",
    "                for positive in userListP:\n",
    "                    try:\n",
    "                        loc3 = userListP.index(abs(element+positive))\n",
    "                        pairs.append([element, positive, userListP[loc3]])\n",
    "                        userListP.remove(userListP[loc3])\n",
    "                        userListP.remove(positive)\n",
    "                        removeNegatives.append(element)\n",
    "                    except:\n",
    "                        pass\n",
    "        for negative in removeNegatives:\n",
    "            userListN.remove(negative)\n",
    "        for element in userListP:\n",
    "            for negative in userListN:\n",
    "                try:\n",
    "                    if (element + negative) > 0:\n",
    "                        loc3 = userListN.index(-(element+negative))\n",
    "                        pairs.append([element, negative, userListN[loc3]])\n",
    "                        userListN.remove(userListN[loc3])\n",
    "                        userListN.remove(negative)\n",
    "                        removePositives.append(element)\n",
    "                except:\n",
    "                    pass\n",
    "        for positive in removePositives:\n",
    "            userListP.remove(positive)   \n",
    "        return pairs\n",
    "    \n",
    "list1 = Triples([-25, -10, -7, -3, 2, 4, 8, 10])\n",
    "print(list1.findTriples())\n",
    "        \n",
    "\n"
   ]
  },
  {
   "cell_type": "markdown",
   "metadata": {},
   "source": [
    "Q7. Write the Python class to implement pow(x, n)?"
   ]
  },
  {
   "cell_type": "code",
   "execution_count": 32,
   "metadata": {},
   "outputs": [
    {
     "name": "stdout",
     "output_type": "stream",
     "text": [
      "81\n"
     ]
    }
   ],
   "source": [
    "class Power(object):\n",
    "    \"\"\"\n",
    "    A class of object type Power\n",
    "    \"\"\"\n",
    "   \n",
    "    def pow(self, x, n):\n",
    "        \"\"\"\n",
    "        A method that returns x^n \n",
    "        \"\"\"\n",
    "        return x**n\n",
    "    \n",
    "num1 = Power()\n",
    "print(num1.pow(3,4))"
   ]
  },
  {
   "cell_type": "markdown",
   "metadata": {},
   "source": [
    "Q8. Write the Python class which has two methods get_String and\n",
    "print_String. get_String accept the string from the user and \n",
    "print_String print the string in upper case."
   ]
  },
  {
   "cell_type": "code",
   "execution_count": 33,
   "metadata": {},
   "outputs": [
    {
     "name": "stdout",
     "output_type": "stream",
     "text": [
      "Enter a string: Raghu Chandra Prodduturi\n"
     ]
    },
    {
     "data": {
      "text/plain": [
       "'Raghu Chandra Prodduturi'"
      ]
     },
     "execution_count": 33,
     "metadata": {},
     "output_type": "execute_result"
    }
   ],
   "source": [
    "class String(object):\n",
    "    def __init__(self):\n",
    "        self.string = \"\"\n",
    "   \n",
    "    def get_String(self):\n",
    "        self.string = input(\"Enter a string: \")\n",
    "    \n",
    "    def print_String(self):\n",
    "        return self.string\n",
    "    \n",
    "s = String()\n",
    "\n",
    "s.get_String()\n",
    "s.print_String()\n",
    "        "
   ]
  },
  {
   "cell_type": "markdown",
   "metadata": {},
   "source": [
    "Q9. Write the Python class named Rectangle constructed by a length\n",
    "and width and the method which will compute the area of the\n",
    "rectangle?"
   ]
  },
  {
   "cell_type": "code",
   "execution_count": 34,
   "metadata": {},
   "outputs": [
    {
     "name": "stdout",
     "output_type": "stream",
     "text": [
      "Area of the rectangle with width 4 and length 3 is: 12\n"
     ]
    }
   ],
   "source": [
    "class Rectangle(object):\n",
    "    \"\"\"\n",
    "    A class of object type rectangle\n",
    "    \n",
    "    Class variables:\n",
    "    l - length of rectangle\n",
    "    w - width of rectangle\n",
    "    area - area of the rectangle c\n",
    "    \"\"\"\n",
    "    def __init__(self, l, w):\n",
    "        \"\"\"\n",
    "        Initialising values of length and width for object and pre-computing area of the rectangle\n",
    "        \"\"\"\n",
    "        self.length = l\n",
    "        self.width = w\n",
    "        self.area = Rectangle.findArea(self)\n",
    "    \n",
    "    def getWidth(self):\n",
    "        \"\"\"\n",
    "        Getter method for class variable width\n",
    "        \"\"\"\n",
    "        return self.width\n",
    "    \n",
    "    def getLength(self):\n",
    "        \"\"\"\n",
    "        Getter method for class variable length\n",
    "        \"\"\"\n",
    "        return self.length\n",
    "    \n",
    "    def getArea(self):\n",
    "        \"\"\"\n",
    "        Getter method for class variable area\n",
    "        \"\"\"\n",
    "        return self.area\n",
    "    \n",
    "    def setWidth(self, w):\n",
    "        \"\"\"\n",
    "        Setter method for class variable a\n",
    "        \"\"\"\n",
    "        self.width = w\n",
    "        \n",
    "    def setLength(self, l):\n",
    "        \"\"\"\n",
    "        Setter method for class variable a\n",
    "        \"\"\"\n",
    "        self.length = l\n",
    "        \n",
    "    def findArea(self):\n",
    "        \"\"\"\n",
    "        Metod to calculate area of the rectangle\n",
    "        \n",
    "        Arguments:\n",
    "        None. Automatically retrieves class variables width and length\n",
    "        \n",
    "        Output:\n",
    "        Area of the rectangle\n",
    "        \"\"\"\n",
    "        return self.getWidth()*self.getLength()\n",
    "        \n",
    "\n",
    "l = 3\n",
    "w = 4\n",
    "\n",
    "rectangle1 = Rectangle(l,w)\n",
    "print(f\"Area of the rectangle with width {w} and length {l} is:\",rectangle1.getArea())\n",
    "\n",
    "\n",
    "\n"
   ]
  },
  {
   "cell_type": "markdown",
   "metadata": {},
   "source": [
    "Q10. Write the Python class named Circle constructed by the radius\n",
    "and two methods which will compute the area and perimeter of\n",
    "the circle?"
   ]
  },
  {
   "cell_type": "code",
   "execution_count": 35,
   "metadata": {},
   "outputs": [
    {
     "name": "stdout",
     "output_type": "stream",
     "text": [
      "For a circle with radis 3, area is 28.27 and perimter is 18.85\n"
     ]
    }
   ],
   "source": [
    "import math\n",
    "\n",
    "class Circle(object):\n",
    "    \"\"\"\n",
    "    A class of object type circle\n",
    "    \n",
    "    Class variables:\n",
    "    r - radius of circle\n",
    "    \"\"\"\n",
    "    def __init__(self, r):\n",
    "        \"\"\"\n",
    "        Initialising values of radius for object and pre-computing area and perimeter of the circle\n",
    "        \"\"\"\n",
    "        self.radius = r\n",
    "        self.area = Circle.findArea(self)\n",
    "        self.perimeter = Circle.findPerimeter(self)\n",
    "    \n",
    "    def getRadius(self):\n",
    "        \"\"\"\n",
    "        Getter method for class variable radius\n",
    "        \"\"\"\n",
    "        return self.radius\n",
    "    \n",
    "    def getArea(self):\n",
    "        \"\"\"\n",
    "        Getter method for class variable area\n",
    "        \"\"\"\n",
    "        return self.area\n",
    "    \n",
    "    def getPerimeter(self):\n",
    "        \"\"\"\n",
    "        Getter method for class variable perimeter\n",
    "        \"\"\"\n",
    "        return self.perimeter\n",
    "    \n",
    "    def setWidth(self, r):\n",
    "        \"\"\"\n",
    "        Setter method for class variable r\n",
    "        \"\"\"\n",
    "        self.radius = r\n",
    "        \n",
    "    def findArea(self):\n",
    "        \"\"\"\n",
    "        Metod to calculate area of the circle\n",
    "        \n",
    "        Arguments:\n",
    "        None. Automatically retrieves class variables radius\n",
    "        \n",
    "        Output:\n",
    "        Area of the circle\n",
    "        \"\"\"\n",
    "        r = self.getRadius()\n",
    "        return round(math.pi*r*r,2)\n",
    "    \n",
    "    def findPerimeter(self):\n",
    "        \"\"\"\n",
    "        Metod to calculate perimeter of the circle\n",
    "        \n",
    "        Arguments:\n",
    "        None. Automatically retrieves class variables radius\n",
    "        \n",
    "        Output:\n",
    "        Perimeter of the circle\n",
    "        \"\"\"\n",
    "        return round(2*math.pi*r,2)\n",
    "        \n",
    "\n",
    "r = 3\n",
    "\n",
    "circle1 = Circle(r)\n",
    "print(f\"For a circle with radis {r}, area is {circle1.getArea()} and perimter is {circle1.getPerimeter()}\")\n",
    "\n"
   ]
  },
  {
   "cell_type": "markdown",
   "metadata": {},
   "source": [
    "Q11. Write the Python program to get the class name of an instance in\n",
    "Python?"
   ]
  },
  {
   "cell_type": "code",
   "execution_count": 36,
   "metadata": {},
   "outputs": [
    {
     "name": "stdout",
     "output_type": "stream",
     "text": [
      "Triangle\n",
      "Circle\n"
     ]
    }
   ],
   "source": [
    "class Triangle(object):\n",
    "    \"\"\"\n",
    "    A class of object type Triangle\n",
    "    \n",
    "    Class variables:\n",
    "    a - side of the equilateral triangle\n",
    "    \"\"\"\n",
    "    def __init__(self, a):\n",
    "        \"\"\"\n",
    "        Initialising values side of triangle a\n",
    "        \"\"\"\n",
    "        self.a = a\n",
    "    \n",
    "    def __str__(self):\n",
    "        \"\"\"\n",
    "        An inbuilt string method to edit class definition displayed to user\n",
    "        \"\"\"\n",
    "        return self.__class__.__name__\n",
    "    \n",
    "class Circle(object):\n",
    "    \"\"\"\n",
    "    A class of object type Circle\n",
    "    \n",
    "    Class variables:\n",
    "    r - radius of circle\n",
    "    \"\"\"\n",
    "    def __init__(self, r):\n",
    "        \"\"\"\n",
    "        Initialising values radius of circle, r\n",
    "        \"\"\"\n",
    "        self.r = r\n",
    "\n",
    "def type(object):\n",
    "    \"\"\"\n",
    "    A method overriding type method of Python to print class name \n",
    "    \"\"\"\n",
    "    return object.__class__.__name__\n",
    "\n",
    "#Implementation type 1\n",
    "triangle1 = Triangle(2)\n",
    "print(triangle1)\n",
    "\n",
    "#Implementation type 2\n",
    "circle1 = Circle(4)\n",
    "print(type(circle1))"
   ]
  },
  {
   "cell_type": "markdown",
   "metadata": {},
   "source": [
    "Q12. Write the Python program to count the number of students of\n",
    "individual class?\n",
    "\n",
    "    Sample dataclasses = (\n",
    "    ('V', 1),\n",
    "    ('VI', 1),\n",
    "    ('V', 2),\n",
    "    ('VI', 2),\n",
    "    ('VI', 3),\n",
    "    ('VII', 1),\n",
    "    )\n",
    "    Expected OutputCounter({'VI': 3, 'V': 2, 'VII': 1})"
   ]
  },
  {
   "cell_type": "code",
   "execution_count": 37,
   "metadata": {},
   "outputs": [
    {
     "name": "stdout",
     "output_type": "stream",
     "text": [
      "Counter({'VI': 3, 'V': 2, 'VII': 1})\n"
     ]
    }
   ],
   "source": [
    "from collections import Counter\n",
    "classes = (('V', 1), ('VI', 1), ('V', 2), ('VI', 2), ('VI', 3), ('VII', 1))\n",
    "classesCounter = Counter([x[0] for x in classes])\n",
    "\n",
    "print(classesCounter)"
   ]
  },
  {
   "cell_type": "markdown",
   "metadata": {},
   "source": [
    "## Great Job!"
   ]
  }
 ],
 "metadata": {
  "kernelspec": {
   "display_name": "Python 3",
   "language": "python",
   "name": "python3"
  },
  "language_info": {
   "codemirror_mode": {
    "name": "ipython",
    "version": 3
   },
   "file_extension": ".py",
   "mimetype": "text/x-python",
   "name": "python",
   "nbconvert_exporter": "python",
   "pygments_lexer": "ipython3",
   "version": "3.7.3"
  }
 },
 "nbformat": 4,
 "nbformat_minor": 2
}
