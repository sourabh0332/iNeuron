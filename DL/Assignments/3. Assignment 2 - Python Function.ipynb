{
 "cells": [
  {
   "cell_type": "markdown",
   "metadata": {},
   "source": [
    "## Problem Statement"
   ]
  },
  {
   "cell_type": "markdown",
   "metadata": {},
   "source": [
    "Q.1 Write a Python Program to implement your own myreduce() function which works exactly like\n",
    "Python's built-in function reduce()\n"
   ]
  },
  {
   "cell_type": "code",
   "execution_count": 5,
   "metadata": {},
   "outputs": [
    {
     "data": {
      "text/plain": [
       "7"
      ]
     },
     "execution_count": 5,
     "metadata": {},
     "output_type": "execute_result"
    }
   ],
   "source": [
    "def myreduce(func, arg):\n",
    "    result = arg[0]\n",
    "    for element in arg:\n",
    "        result = func(result, element)\n",
    "    return result\n",
    "\n",
    "list1 = [3, 5, 7, 3, 2]\n",
    "func = max\n",
    "\n",
    "myreduce(func, list1)"
   ]
  },
  {
   "cell_type": "markdown",
   "metadata": {},
   "source": [
    "Q.2 Write a Python program to implement your own myfilter() function which works exactly like\n",
    "Python's built-in function filter()"
   ]
  },
  {
   "cell_type": "code",
   "execution_count": 11,
   "metadata": {},
   "outputs": [
    {
     "name": "stdout",
     "output_type": "stream",
     "text": [
      "[0, 2, 4, 6, 8, 10, 12, 14, 16, 18]\n"
     ]
    }
   ],
   "source": [
    "def myfilter(func, list1):\n",
    "    result = []\n",
    "    for element in list1:\n",
    "        if func(element):\n",
    "            result.append(element)\n",
    "    return result\n",
    "\n",
    "func = lambda x: x%2 == 0\n",
    "list1 = range(20)\n",
    "\n",
    "print(myfilter(func, list1))"
   ]
  },
  {
   "cell_type": "markdown",
   "metadata": {},
   "source": [
    "Q.3 Implement List comprehensions to produce the following lists.\n",
    "   Write List comprehensions to produce the following Lists\n",
    "   \n",
    "    ['A', 'C', 'A', 'D', 'G', 'I', ’L’, ‘ D’]\n",
    "   \n",
    "    ['x', 'xx', 'xxx', 'xxxx', 'y', 'yy', 'yyy', 'yyyy', 'z', 'zz', 'zzz', 'zzzz']\n",
    "\n",
    "    ['x', 'y', 'z', 'xx', 'yy', 'zz', 'xx', 'yy', 'zz', 'xxxx', 'yyyy', 'zzzz']\n",
    "    \n",
    "    [[2], [3], [4], [3], [4], [5], [4], [5], [6]]\n",
    "\n",
    "    [[2, 3, 4, 5], [3, 4, 5, 6], [4, 5, 6, 7], [5, 6, 7, 8]]\n",
    "\n",
    "    [(1, 1), (2, 1), (3, 1), (1, 2), (2, 2), (3, 2), (1, 3), (2, 3), (3, 3)]"
   ]
  },
  {
   "cell_type": "code",
   "execution_count": 26,
   "metadata": {},
   "outputs": [
    {
     "name": "stdout",
     "output_type": "stream",
     "text": [
      "['A', 'C', 'A', 'D', 'G', 'I', 'L', 'D']\n",
      "['x', 'xx', 'xxx', 'y', 'yy', 'yyy', 'z', 'zz', 'zzz']\n",
      "['x', 'y', 'z', 'xx', 'yy', 'zz', 'xxxx', 'yyyy', 'zzzz']\n",
      "[[2], [3], [4], [3], [4], [5], [4], [5], [6]]\n",
      "[[2, 3, 4, 5], [3, 4, 5, 6], [4, 5, 6, 7], [5, 6, 7, 8]]\n",
      "[(1, 1), (2, 1), (3, 1), (1, 2), (2, 2), (3, 2), (1, 3), (2, 3), (3, 3)]\n"
     ]
    }
   ],
   "source": [
    "uString = 'ACADGILD'\n",
    "print(list(uString))\n",
    "print([x*y for x in 'xyz' for y in range(1,4)])\n",
    "print([y*(2**x) for x in range(3) for y in 'xyz'])\n",
    "print([[x+y] for x in range(2, 5) for y in range(3)])\n",
    "print([list(range(x, x+4)) for x in range(2,6)])\n",
    "print([(x, y) for y in range(1, 4) for x in range(1, 4)])"
   ]
  },
  {
   "cell_type": "markdown",
   "metadata": {},
   "source": [
    "Q.4 Implement a function longestWord() that takes a list of words and returns the longest one."
   ]
  },
  {
   "cell_type": "code",
   "execution_count": 34,
   "metadata": {},
   "outputs": [
    {
     "name": "stdout",
     "output_type": "stream",
     "text": [
      "The longest words of entered string is/are: opportunity\n"
     ]
    }
   ],
   "source": [
    "import string\n",
    "def longestWord(uString):\n",
    "    wordLen = {}\n",
    "    for word in uString.split():\n",
    "        word = word.rstrip(string.punctuation).lower()\n",
    "        if wordLen.get(len(word), 0) == 0:\n",
    "            wordLen[len(word)] = [word]\n",
    "        else:\n",
    "            wordLen[len(word)].append(word)\n",
    "    return wordLen[max(wordLen.keys())]\n",
    "userInput = \"In a deeply personal, honest, and candid interview, Mr. Ratan Tata reveals what defines him as a person; his dreams for an equal opportunity India; and his advice for the young generation of aspiring Indians who look up to the Chairman Emeritus of Tata Sons and Chairman of the Tata Trusts.\"\n",
    "print(\"The longest words of entered string is/are:\",*longestWord(userInput), sep = \" \")\n",
    "\n"
   ]
  },
  {
   "cell_type": "markdown",
   "metadata": {},
   "source": [
    "Q.5 Write a Python Program(with class concepts) to find the area of the triangle using the below\n",
    "formula.\n",
    "\n",
    "area = (s*(s-a)*(s-b)*(s-c)) ** 0.5\n",
    "\n",
    "Function to take the length of the sides of triangle from user should be defined in the parent\n",
    "class and function to calculate the area should be defined in subclass."
   ]
  },
  {
   "cell_type": "code",
   "execution_count": 45,
   "metadata": {},
   "outputs": [
    {
     "name": "stdout",
     "output_type": "stream",
     "text": [
      "Area of the triangle with sides 3, 4 and 5 is: 6.0\n"
     ]
    }
   ],
   "source": [
    "\n",
    "class Triangle(object):\n",
    "    def __init__(self, a, b, c):\n",
    "        self.a = a\n",
    "        self.b = b\n",
    "        self.c = c\n",
    "        self.s = (a + b + c)/2\n",
    "        self.area = Triangle.getArea(self)\n",
    "    \n",
    "    def getArea(self):\n",
    "        return (self.s*(self.s-self.a)*(self.s-self.b)*(self.s-self.c)) ** 0.5\n",
    "\n",
    "a = 3\n",
    "b = 4\n",
    "c = 5\n",
    "\n",
    "triangle1 = Triangle(a,b,c)\n",
    "print(f\"Area of the triangle with sides {a}, {b} and {c} is:\",triangle1.getArea())"
   ]
  },
  {
   "cell_type": "markdown",
   "metadata": {},
   "source": [
    "Q.6 Write a function filter_long_words() that takes a list of words and an integer n and returns the list\n",
    "of words that are longer than n."
   ]
  },
  {
   "cell_type": "code",
   "execution_count": 47,
   "metadata": {},
   "outputs": [
    {
     "name": "stdout",
     "output_type": "stream",
     "text": [
      "chandra\n",
      "prodduturi\n"
     ]
    }
   ],
   "source": [
    "import string\n",
    "\n",
    "def filter_long_words(uString, n):\n",
    "    for word in uString.split():\n",
    "        word = word.rstrip(string.punctuation).lower()\n",
    "        if len(word) > n:\n",
    "            print(word)\n",
    "\n",
    "uString = 'Raghu Chandra Prodduturi'\n",
    "n = 6\n",
    "filter_long_words(uString, n)"
   ]
  },
  {
   "cell_type": "markdown",
   "metadata": {},
   "source": [
    "Q.7 Write a Python program using function concept that maps list of words into a list of integers\n",
    "representing the lengths of the corresponding words.\n",
    "    \n",
    "    Hint: If a list [ ab,cde,erty] is passed on to the python function output should come as [2,3,4]\n",
    "    Here 2,3 and 4 are the lengths of the words in the list."
   ]
  },
  {
   "cell_type": "code",
   "execution_count": 57,
   "metadata": {},
   "outputs": [
    {
     "data": {
      "text/plain": [
       "[2, 3, 4]"
      ]
     },
     "execution_count": 57,
     "metadata": {},
     "output_type": "execute_result"
    }
   ],
   "source": [
    "import string\n",
    "def lenWords(uList):\n",
    "    return [len(x.rstrip(string.punctuation)) for x in uList]\n",
    "\n",
    "uList = ['ab', 'cde', 'erty'] \n",
    "lenWords(uList)"
   ]
  },
  {
   "cell_type": "markdown",
   "metadata": {},
   "source": [
    "Q.8 Write a Python function which takes a character (i.e. a string of length 1) and returns True if it is\n",
    "a vowel, False otherwise."
   ]
  },
  {
   "cell_type": "code",
   "execution_count": 64,
   "metadata": {},
   "outputs": [
    {
     "name": "stdout",
     "output_type": "stream",
     "text": [
      "False\n",
      "True\n",
      "True\n"
     ]
    }
   ],
   "source": [
    "def isVowel(alpha):\n",
    "    vowels = 'aeiou'\n",
    "    return True if alpha.lower() in vowels else False\n",
    "\n",
    "print(isVowel('B'))\n",
    "print(isVowel('A'))\n",
    "print(isVowel('e'))"
   ]
  }
 ],
 "metadata": {
  "kernelspec": {
   "display_name": "Python 3",
   "language": "python",
   "name": "python3"
  },
  "language_info": {
   "codemirror_mode": {
    "name": "ipython",
    "version": 3
   },
   "file_extension": ".py",
   "mimetype": "text/x-python",
   "name": "python",
   "nbconvert_exporter": "python",
   "pygments_lexer": "ipython3",
   "version": "3.7.3"
  }
 },
 "nbformat": 4,
 "nbformat_minor": 2
}
