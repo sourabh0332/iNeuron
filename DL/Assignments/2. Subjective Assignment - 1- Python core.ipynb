{
 "cells": [
  {
   "cell_type": "markdown",
   "metadata": {},
   "source": [
    "Q1. Write a Python program to get the string from the given string where\n",
    "all the occurrence of its first char has been changed to '$,' except first\n",
    "char itself?\n",
    "\n",
    "    Sample String: 'prospect'\n",
    "    Expected Result : 'pros$ect'\n"
   ]
  },
  {
   "cell_type": "code",
   "execution_count": 6,
   "metadata": {},
   "outputs": [
    {
     "name": "stdout",
     "output_type": "stream",
     "text": [
      "Enter a string to change p to $: prospect\n"
     ]
    },
    {
     "data": {
      "text/plain": [
       "'pros$ect'"
      ]
     },
     "execution_count": 6,
     "metadata": {},
     "output_type": "execute_result"
    }
   ],
   "source": [
    "uString = input('Enter a string to change p to $: ')\n",
    "loc = uString[1:].find('p')+1\n",
    "uString[0]+uString[1:loc]+'$'+uString[loc+1:]"
   ]
  },
  {
   "cell_type": "markdown",
   "metadata": {},
   "source": [
    "Q2. Write a Python program to get the single string from the two given\n",
    "strings, and separated by the space and swap the first two characters of\n",
    "each string?\n",
    "\n",
    "    Sample String : 'abc', 'xyz'.\n",
    "    Expected Result: 'xyc abz'"
   ]
  },
  {
   "cell_type": "code",
   "execution_count": 7,
   "metadata": {},
   "outputs": [
    {
     "name": "stdout",
     "output_type": "stream",
     "text": [
      "Enter string 1: abc\n",
      "Enter string 2: xyz\n"
     ]
    },
    {
     "data": {
      "text/plain": [
       "'xyc abz'"
      ]
     },
     "execution_count": 7,
     "metadata": {},
     "output_type": "execute_result"
    }
   ],
   "source": [
    "str1 = input('Enter string 1: ')\n",
    "str2 = input('Enter string 2: ')\n",
    "str2[0:2]+str1[2:]+' '+str1[0:2]+str2[2:]"
   ]
  },
  {
   "cell_type": "markdown",
   "metadata": {},
   "source": [
    "Q3. Write the Python program to add 'ing' at the end of the given string\n",
    "(length of the string should be at least 3). If given string already ends\n",
    "with 'ing,' then add 'ly' instead. If string length of the given string is less\n",
    "than 3, leave it unchanged?\n",
    "\n",
    "\n",
    "    Sample string: ' abc '\n",
    "    Expected result: ' abcing '\n",
    "    Sample string: ' string '\n",
    "    Expected result: ' stringly '\n"
   ]
  },
  {
   "cell_type": "code",
   "execution_count": 12,
   "metadata": {},
   "outputs": [
    {
     "name": "stdout",
     "output_type": "stream",
     "text": [
      "Enter a string: string\n",
      "stringly\n"
     ]
    }
   ],
   "source": [
    "uString = input('Enter a string: ')\n",
    "lenStr = len(uString)\n",
    "\n",
    "if lenStr < 3:\n",
    "    print(uString)\n",
    "if lenStr >= 3:\n",
    "    if uString[lenStr-3:] == 'ing':\n",
    "        print(uString+'ly')\n",
    "    else:\n",
    "        print(uString+'ing')"
   ]
  },
  {
   "cell_type": "markdown",
   "metadata": {},
   "source": [
    "Q4. Write the Python program to find the first appearance of the\n",
    "substring 'not' and 'poor' from the given string, if 'not' follows the 'poor',\n",
    "replace the whole 'not'...' poor' substring with 'good'.Return the resulting\n",
    "string.\n",
    "\n",
    "    Sample string: 'The lyrics are not that poor!'\n",
    "    \n",
    "    Expected Result: 'The lyrics are good!'\n"
   ]
  },
  {
   "cell_type": "code",
   "execution_count": 28,
   "metadata": {},
   "outputs": [
    {
     "name": "stdout",
     "output_type": "stream",
     "text": [
      "Enter a string: The lyrics are not that poor!\n",
      "The lyrics are good \n"
     ]
    }
   ],
   "source": [
    "import string\n",
    "notPos = 0\n",
    "poorPos = 0\n",
    "uString = input('Enter a string: ').split(' ')\n",
    "\n",
    "for index, word in enumerate(uString):\n",
    "    word = word.rstrip(string.punctuation)\n",
    "    if word == 'not':\n",
    "        notPos = index\n",
    "    if word == 'poor':\n",
    "        poorPos = index\n",
    "    if poorPos > notPos:\n",
    "        uString = uString[:notPos]+['good ']+uString[poorPos+1:]\n",
    "        break\n",
    "print(*uString)"
   ]
  },
  {
   "cell_type": "markdown",
   "metadata": {},
   "source": [
    "Q5. Write the Python program to remove the characters which have odd\n",
    "index values of a given string."
   ]
  },
  {
   "cell_type": "code",
   "execution_count": 31,
   "metadata": {},
   "outputs": [
    {
     "name": "stdout",
     "output_type": "stream",
     "text": [
      "Enter a string: raghu chandra\n",
      "ah hnr"
     ]
    }
   ],
   "source": [
    "uString = input('Enter a string: ')\n",
    "for i in range(len(uString)):\n",
    "    if i%2 != 0:\n",
    "        print(uString[i], end = '')"
   ]
  },
  {
   "cell_type": "markdown",
   "metadata": {},
   "source": [
    "Q6. Write the python program to print the following floating numbers up\n",
    "to 2 decimal places?"
   ]
  },
  {
   "cell_type": "code",
   "execution_count": 12,
   "metadata": {},
   "outputs": [
    {
     "name": "stdout",
     "output_type": "stream",
     "text": [
      "1.25\n"
     ]
    }
   ],
   "source": [
    "a = 1.24533\n",
    "\n",
    "print(\"%.2f\"%a)"
   ]
  },
  {
   "cell_type": "markdown",
   "metadata": {},
   "source": [
    "Q7. Write the Python program to format a number with a percentage?"
   ]
  },
  {
   "cell_type": "code",
   "execution_count": 15,
   "metadata": {},
   "outputs": [
    {
     "name": "stdout",
     "output_type": "stream",
     "text": [
      "45.00%\n"
     ]
    }
   ],
   "source": [
    "a = 0.45\n",
    "\n",
    "print(\"{:.2%}\".format(a))"
   ]
  },
  {
   "cell_type": "markdown",
   "metadata": {},
   "source": [
    "Q8. Write the Python program to count occurrences of a substring in a\n",
    "String?"
   ]
  },
  {
   "cell_type": "code",
   "execution_count": 18,
   "metadata": {},
   "outputs": [
    {
     "name": "stdout",
     "output_type": "stream",
     "text": [
      "Search substring: Ra\n",
      "Number of times Ra appears in Raghu Chandra Prodduturi Raghu is 2\n"
     ]
    }
   ],
   "source": [
    "uString = 'Raghu Chandra Prodduturi Raghu'\n",
    "subString = input('Search substring: ')\n",
    "\n",
    "print(f'Number of times {subString} appears in {uString} is {uString.count(subString)}')"
   ]
  },
  {
   "cell_type": "markdown",
   "metadata": {},
   "source": [
    "Q9. Write the Python program to count repeated characters in a string.\n",
    "\n",
    "    Sample string: ' thequickbrownjumpsoverthelazydog '\n",
    "    \n",
    "    Expected output:\n",
    "    o 3\n",
    "    e 3\n",
    "    u 2\n",
    "    h 2\n",
    "    r 2\n",
    "    t 2"
   ]
  },
  {
   "cell_type": "code",
   "execution_count": 31,
   "metadata": {},
   "outputs": [
    {
     "name": "stdout",
     "output_type": "stream",
     "text": [
      "e 3\n",
      "o 3\n",
      "t 2\n",
      "h 2\n",
      "u 2\n",
      "r 2\n"
     ]
    }
   ],
   "source": [
    "from collections import Counter\n",
    "uString = 'thequickbrownjumpsoverthelazydog'\n",
    "for key, value in sorted(Counter(uString).items(), key = lambda x: x[1], reverse = True):\n",
    "    if value > 1:\n",
    "        print(key, value)"
   ]
  },
  {
   "cell_type": "markdown",
   "metadata": {},
   "source": [
    "Q10. Write the Python program to print the square and cube symbol in\n",
    "the area of a rectangle and volume of a cylinder?\n",
    "\n",
    "    Sample output\n",
    "    The area of the rectangle is 1256.66cm2\n",
    "    The volume of the cylinder is 1254.725cm3\n"
   ]
  },
  {
   "cell_type": "code",
   "execution_count": 45,
   "metadata": {},
   "outputs": [
    {
     "name": "stdout",
     "output_type": "stream",
     "text": [
      "Enter side size: 4\n",
      "The area of the rectangle is 16.00cm2\n",
      "The volume of the cylinder is 201.06cm2\n"
     ]
    }
   ],
   "source": [
    "import math\n",
    "side = int(input('Enter side size: '))\n",
    "\n",
    "print('The area of the rectangle is %.2f'%(side**2)+'cm2')\n",
    "print('The volume of the cylinder is %.2f'%(math.pi*side*side**2)+'cm2')"
   ]
  },
  {
   "cell_type": "markdown",
   "metadata": {},
   "source": [
    "Q11. Write the Python program to check if a string contains all letters of\n",
    "the alphabet?"
   ]
  },
  {
   "cell_type": "code",
   "execution_count": 50,
   "metadata": {},
   "outputs": [
    {
     "name": "stdout",
     "output_type": "stream",
     "text": [
      "success\n"
     ]
    }
   ],
   "source": [
    "import string\n",
    "\n",
    "uString = 'the quick brown fox jumps over the lazy dog'\n",
    "alphas = string.ascii_lowercase\n",
    "passed = True\n",
    "\n",
    "for alpha in alphas:\n",
    "    if alpha not in uString:\n",
    "        passed = False\n",
    "        break\n",
    "if passed:\n",
    "    print(\"success\")\n",
    "else:\n",
    "    print('failed')"
   ]
  },
  {
   "cell_type": "markdown",
   "metadata": {},
   "source": [
    "Q12. Write the Python program to find the second most repeated word\n",
    "in a given string?"
   ]
  },
  {
   "cell_type": "code",
   "execution_count": 78,
   "metadata": {},
   "outputs": [
    {
     "name": "stdout",
     "output_type": "stream",
     "text": [
      "this, case\n"
     ]
    }
   ],
   "source": [
    "import string\n",
    "uString = 'This is a test case to test the list of second most repeated words in this string test case'\n",
    "#uString = 'Machine learning tasks are classified into several broad categories. In supervised learning, the algorithm builds a mathematical model from a set of data that contains both the inputs and the desired outputs. For example, if the task were determining whether an image contained a certain object, the training data for a supervised learning algorithm would include images with and without that object (the input), and each image would have a label (the output) designating whether it contained the object. In special cases, the input may be only partially available, or restricted to special feedback.[clarification needed] Semi-supervised learning algorithms develop mathematical models from incomplete training data, where a portion of the sample input doesn\\'t have labels. Classification algorithms and regression algorithms are types of supervised learning. Classification algorithms are used when the outputs are restricted to a limited set of values. For a classification algorithm that filters emails, the input would be an incoming email, and the output would be the name of the folder in which to file the email. For an algorithm that identifies spam emails, the output would be the prediction of either \"spam\" or \"not spam\", represented by the Boolean values true and false. Regression algorithms are named for their continuous outputs, meaning they may have any value within a range. Examples of a continuous value are the temperature, length, or price of an object. In unsupervised learning, the algorithm builds a mathematical model from a set of data that contains only inputs and no desired output labels. Unsupervised learning algorithms are used to find structure in the data, like grouping or clustering of data points. Unsupervised learning can discover patterns in the data, and can group the inputs into categories, as in feature learning. Dimensionality reduction is the process of reducing the number of \"features\", or inputs, in a set of data. Active learning algorithms access the desired outputs (training labels) for a limited set of inputs based on a budget and optimize the choice of inputs for which it will acquire training labels. When used interactively, these can be presented to a human user for labeling. Reinforcement learning algorithms are given feedback in the form of positive or negative reinforcement in a dynamic environment and are used in autonomous vehicles or in learning to play a game against a human opponent.[2]:3 Other specialized algorithms in machine learning include topic modeling, where the computer program is given a set of natural language documents and finds other documents that cover similar topics. Machine learning algorithms can be used to find the unobservable probability density function in density estimation problems. Meta learning algorithms learn their own inductive bias based on previous experience. In developmental robotics, robot learning algorithms generate their own sequences of learning experiences, also known as a curriculum, to cumulatively acquire new skills through self-guided exploration and social interaction with humans. These robots use guidance mechanisms such as active learning, maturation, motor synergies, and imitation.[clarification needed]'\n",
    "wordKey = {}\n",
    "countKey = {}\n",
    "\n",
    "for word in uString.split():\n",
    "    word = word.rstrip(string.punctuation).lower()\n",
    "    if wordKey.get(word, 0) == 0:\n",
    "        wordKey[word] = 1\n",
    "        if countKey.get(1, 0) == 0:\n",
    "            countKey[1] = [word]\n",
    "        else:\n",
    "            countKey[1].append(word)\n",
    "    else:\n",
    "        wordKey[word] += 1\n",
    "        if countKey.get(wordKey[word], 0) == 0:\n",
    "            countKey[wordKey[word]] = [word]\n",
    "            countKey[wordKey[word]-1].remove(word)\n",
    "        else:\n",
    "            countKey[wordKey[word]].append(word)\n",
    "            countKey[wordKey[word]-1].remove(word)\n",
    "\n",
    "counts = sorted(set(wordKey.values()), reverse = True)[1]\n",
    "print(*countKey[counts], sep = ', ')\n"
   ]
  },
  {
   "cell_type": "markdown",
   "metadata": {},
   "source": [
    "Q13. Write the Python program to find the minimum window in the given\n",
    "string, which will contains all the characters of another given\n",
    "strings?\n",
    "\n",
    "    Example 1\n",
    "    Input : string1 = \" PRWSOERIUSFK \"\n",
    "    string2 = \" OSU \"\n",
    "    Output: Minimum window is \"OERIUS\""
   ]
  },
  {
   "cell_type": "code",
   "execution_count": 107,
   "metadata": {},
   "outputs": [
    {
     "name": "stdout",
     "output_type": "stream",
     "text": [
      "Minimum window is: SOERIU\n"
     ]
    }
   ],
   "source": [
    "from collections import Counter\n",
    " \n",
    "string1 = 'PRWSOERIUSFK'\n",
    "string2 = 'OSU'\n",
    "searchLen = len(string2)\n",
    "found = False\n",
    "\n",
    "while not found and searchLen < 7:\n",
    "    for i in range(len(string1)-searchLen+1):\n",
    "        found = True\n",
    "        minString = string1[i:i+searchLen]\n",
    "        for alpha in string2:\n",
    "            if alpha not in minString:\n",
    "                found = False\n",
    "        if found:\n",
    "            print('Minimum window is:', minString)\n",
    "            break\n",
    "    searchLen += 1\n"
   ]
  },
  {
   "cell_type": "markdown",
   "metadata": {},
   "source": [
    "Q14. Write the Python program to count number of substrings from a\n",
    "given string of lowercase alphabets with exactly k distinct (given)\n",
    "characters?\n",
    "\n",
    "    Input a string (lowercase alphabets): wolf\n",
    "    Input k: 4\n",
    "    Number of substrings with exactly 4 distinct characters: 1"
   ]
  },
  {
   "cell_type": "code",
   "execution_count": 113,
   "metadata": {},
   "outputs": [
    {
     "name": "stdout",
     "output_type": "stream",
     "text": [
      "This, tested, this, case, "
     ]
    }
   ],
   "source": [
    "uString = 'This is a test string that can be tested for this case'\n",
    "k = 4\n",
    "for word in uString.split():\n",
    "    if len(set(word)) == k:\n",
    "        print(word, end = ', ')"
   ]
  },
  {
   "cell_type": "markdown",
   "metadata": {},
   "source": [
    "Q15. Write the Python program to count number of substrings with same\n",
    "first and last characters of the given string?\n",
    "\n",
    "    Input a string: abcd\n",
    "    4\n"
   ]
  },
  {
   "cell_type": "code",
   "execution_count": 115,
   "metadata": {},
   "outputs": [
    {
     "name": "stdout",
     "output_type": "stream",
     "text": [
      "test, that, "
     ]
    }
   ],
   "source": [
    "import string\n",
    "uString = 'This is a test string that can be tested for this case'\n",
    "givenString = 'test'\n",
    "for word in uString.split():\n",
    "    word = word.rstrip(string.punctuation)\n",
    "    if word[0] == givenString[0] and word[-1] == givenString[-1]:\n",
    "        print(word, end = ', ')"
   ]
  }
 ],
 "metadata": {
  "kernelspec": {
   "display_name": "Python 3",
   "language": "python",
   "name": "python3"
  },
  "language_info": {
   "codemirror_mode": {
    "name": "ipython",
    "version": 3
   },
   "file_extension": ".py",
   "mimetype": "text/x-python",
   "name": "python",
   "nbconvert_exporter": "python",
   "pygments_lexer": "ipython3",
   "version": "3.7.3"
  }
 },
 "nbformat": 4,
 "nbformat_minor": 2
}
